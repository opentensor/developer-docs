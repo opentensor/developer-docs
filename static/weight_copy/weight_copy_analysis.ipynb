{
 "cells": [
  {
   "cell_type": "code",
   "execution_count": 1,
   "metadata": {},
   "outputs": [],
   "source": [
    "import torch\n",
    "import pickle\n",
    "import pandas as pd\n",
    "from experiment_setup import ExperimentSetup\n",
    "import plotly.express as px\n",
    "\n",
    "setup = ExperimentSetup()\n",
    "setup.netuids = list(setup.netuids)\n",
    "setup.netuids.remove(11)\n",
    "setup.netuids.remove(25)"
   ]
  },
  {
   "cell_type": "code",
   "execution_count": 2,
   "metadata": {},
   "outputs": [
    {
     "name": "stdout",
     "output_type": "stream",
     "text": [
      "\u001b[34m2024-05-29 14:55:38.153\u001b[0m | \u001b[1m      INFO      \u001b[0m | You are connecting to finney network with endpoint wss://entrypoint-finney.opentensor.ai:443.\n",
      "\u001b[34m2024-05-29 14:55:38.153\u001b[0m | \u001b[33m\u001b[1m    WARNING     \u001b[0m | We strongly encourage running a local subtensor node whenever possible. This increases decentralization and resilience of the network.\n",
      "\u001b[34m2024-05-29 14:55:38.154\u001b[0m | \u001b[33m\u001b[1m    WARNING     \u001b[0m | In a future release, local subtensor will become the default endpoint. To get ahead of this change, please run a local subtensor node and point to it.\n",
      "\u001b[34m2024-05-29 14:55:38.508\u001b[0m | \u001b[1m      INFO      \u001b[0m | Connected to finney network and wss://entrypoint-finney.opentensor.ai:443.\n"
     ]
    }
   ],
   "source": [
    "import bittensor as bt\n",
    "\n",
    "sub = bt.subtensor()\n",
    "\n",
    "immunity_periods = {}\n",
    "for netuid in setup.netuids:\n",
    "    ip = sub.query_subtensor(\n",
    "        name = 'ImmunityPeriod',\n",
    "        params = [netuid],\n",
    "    ).value\n",
    "    immunity_periods[netuid] = ip "
   ]
  },
  {
   "cell_type": "code",
   "execution_count": 20,
   "metadata": {},
   "outputs": [],
   "source": [
    "div_losts = {}\n",
    "yuma_results = {}\n",
    "validator_trusts = {}\n",
    "\n",
    "for netuid in setup.netuids:\n",
    "    div_losts[netuid] = {}\n",
    "    yuma_results[netuid] = {}\n",
    "    validator_trusts[netuid] = {}\n",
    "    \n",
    "    for conceal_period in setup.conceal_periods:\n",
    "        with open(f\"{setup.result_path}/yuma_result_netuid{netuid}_conceal{conceal_period}.pkl\", 'rb') as handle:\n",
    "            _yuma_results = pickle.load(handle)\n",
    "\n",
    "\n",
    "        dividend = [\n",
    "            (s[\"validator_reward_normalized\"] / s[\"stake\"]).tolist()\n",
    "            for idx, s in _yuma_results.items()\n",
    "        ]\n",
    "\n",
    "        dividend_df = pd.DataFrame(\n",
    "            dividend,\n",
    "            columns=[f\"v{i}\" for i in range(len(dividend[0]) - 1 )] + [\"v_bad\"],\n",
    "            index = _yuma_results.keys()\n",
    "        )\n",
    "        \n",
    "        div_last = dividend_df.iloc[-1]\n",
    "        div_lost = div_last[-1] / div_last[:-1].median()\n",
    "\n",
    "        div_losts[netuid][conceal_period] = div_lost\n",
    "        yuma_results[netuid][conceal_period] = _yuma_results\n",
    "\n",
    "        v_trust = [\n",
    "            s['validator_trust'].median()\n",
    "            for idx, s in _yuma_results.items()\n",
    "        ]\n",
    "\n",
    "        validator_trusts[netuid][conceal_period] = sum(v_trust) / len(v_trust)\n",
    "\n",
    "        # print(\n",
    "        #     f\"netuid: {netuid}\",\n",
    "        #     f\"| conceal period (number of tempos): {conceal_period}\",\n",
    "        #     f\"| conceal period(hours): {conceal_period * setup.tempo / 300:.2f}\",\n",
    "        #     f\"| lost in dividend: {div_lost:.3f}\"\n",
    "        # )\n",
    "\n",
    "div_losts = pd.DataFrame(div_losts, dtype='float64')\n",
    "div_losts.index = div_losts.index.map(lambda x : 360 * x)\n",
    "validator_trusts = pd.DataFrame(validator_trusts, dtype='float64')\n",
    "validator_trusts.index = validator_trusts.index.map(lambda x : 360 * x)"
   ]
  },
  {
   "cell_type": "code",
   "execution_count": 37,
   "metadata": {},
   "outputs": [
    {
     "data": {
      "text/html": [
       "<div>\n",
       "<style scoped>\n",
       "    .dataframe tbody tr th:only-of-type {\n",
       "        vertical-align: middle;\n",
       "    }\n",
       "\n",
       "    .dataframe tbody tr th {\n",
       "        vertical-align: top;\n",
       "    }\n",
       "\n",
       "    .dataframe thead th {\n",
       "        text-align: right;\n",
       "    }\n",
       "</style>\n",
       "<table border=\"1\" class=\"dataframe\">\n",
       "  <thead>\n",
       "    <tr style=\"text-align: right;\">\n",
       "      <th></th>\n",
       "      <th>commit_reveal_weight_interval</th>\n",
       "      <th># 0f tempos</th>\n",
       "      <th>hours</th>\n",
       "      <th>immunity_period</th>\n",
       "    </tr>\n",
       "    <tr>\n",
       "      <th>netuid</th>\n",
       "      <th></th>\n",
       "      <th></th>\n",
       "      <th></th>\n",
       "      <th></th>\n",
       "    </tr>\n",
       "  </thead>\n",
       "  <tbody>\n",
       "    <tr>\n",
       "      <th>16</th>\n",
       "      <td>360</td>\n",
       "      <td>1</td>\n",
       "      <td>1.2</td>\n",
       "      <td>14400</td>\n",
       "    </tr>\n",
       "    <tr>\n",
       "      <th>2</th>\n",
       "      <td>360</td>\n",
       "      <td>1</td>\n",
       "      <td>1.2</td>\n",
       "      <td>5000</td>\n",
       "    </tr>\n",
       "    <tr>\n",
       "      <th>31</th>\n",
       "      <td>360</td>\n",
       "      <td>1</td>\n",
       "      <td>1.2</td>\n",
       "      <td>7200</td>\n",
       "    </tr>\n",
       "    <tr>\n",
       "      <th>12</th>\n",
       "      <td>360</td>\n",
       "      <td>1</td>\n",
       "      <td>1.2</td>\n",
       "      <td>2440</td>\n",
       "    </tr>\n",
       "    <tr>\n",
       "      <th>10</th>\n",
       "      <td>360</td>\n",
       "      <td>1</td>\n",
       "      <td>1.2</td>\n",
       "      <td>5000</td>\n",
       "    </tr>\n",
       "    <tr>\n",
       "      <th>7</th>\n",
       "      <td>1080</td>\n",
       "      <td>3</td>\n",
       "      <td>3.6</td>\n",
       "      <td>10800</td>\n",
       "    </tr>\n",
       "    <tr>\n",
       "      <th>32</th>\n",
       "      <td>1080</td>\n",
       "      <td>3</td>\n",
       "      <td>3.6</td>\n",
       "      <td>7200</td>\n",
       "    </tr>\n",
       "    <tr>\n",
       "      <th>17</th>\n",
       "      <td>1800</td>\n",
       "      <td>5</td>\n",
       "      <td>6.0</td>\n",
       "      <td>5000</td>\n",
       "    </tr>\n",
       "    <tr>\n",
       "      <th>4</th>\n",
       "      <td>2520</td>\n",
       "      <td>7</td>\n",
       "      <td>8.4</td>\n",
       "      <td>5000</td>\n",
       "    </tr>\n",
       "    <tr>\n",
       "      <th>23</th>\n",
       "      <td>2520</td>\n",
       "      <td>7</td>\n",
       "      <td>8.4</td>\n",
       "      <td>5000</td>\n",
       "    </tr>\n",
       "    <tr>\n",
       "      <th>24</th>\n",
       "      <td>2520</td>\n",
       "      <td>7</td>\n",
       "      <td>8.4</td>\n",
       "      <td>5000</td>\n",
       "    </tr>\n",
       "    <tr>\n",
       "      <th>8</th>\n",
       "      <td>3240</td>\n",
       "      <td>9</td>\n",
       "      <td>10.8</td>\n",
       "      <td>65535</td>\n",
       "    </tr>\n",
       "    <tr>\n",
       "      <th>19</th>\n",
       "      <td>3240</td>\n",
       "      <td>9</td>\n",
       "      <td>10.8</td>\n",
       "      <td>7000</td>\n",
       "    </tr>\n",
       "    <tr>\n",
       "      <th>27</th>\n",
       "      <td>3240</td>\n",
       "      <td>9</td>\n",
       "      <td>10.8</td>\n",
       "      <td>9000</td>\n",
       "    </tr>\n",
       "    <tr>\n",
       "      <th>30</th>\n",
       "      <td>3960</td>\n",
       "      <td>11</td>\n",
       "      <td>13.2</td>\n",
       "      <td>10000</td>\n",
       "    </tr>\n",
       "    <tr>\n",
       "      <th>15</th>\n",
       "      <td>3960</td>\n",
       "      <td>11</td>\n",
       "      <td>13.2</td>\n",
       "      <td>6000</td>\n",
       "    </tr>\n",
       "    <tr>\n",
       "      <th>14</th>\n",
       "      <td>4680</td>\n",
       "      <td>13</td>\n",
       "      <td>15.6</td>\n",
       "      <td>5000</td>\n",
       "    </tr>\n",
       "    <tr>\n",
       "      <th>22</th>\n",
       "      <td>4680</td>\n",
       "      <td>13</td>\n",
       "      <td>15.6</td>\n",
       "      <td>7200</td>\n",
       "    </tr>\n",
       "    <tr>\n",
       "      <th>3</th>\n",
       "      <td>6840</td>\n",
       "      <td>19</td>\n",
       "      <td>22.8</td>\n",
       "      <td>5000</td>\n",
       "    </tr>\n",
       "    <tr>\n",
       "      <th>18</th>\n",
       "      <td>6840</td>\n",
       "      <td>19</td>\n",
       "      <td>22.8</td>\n",
       "      <td>5000</td>\n",
       "    </tr>\n",
       "    <tr>\n",
       "      <th>29</th>\n",
       "      <td>7560</td>\n",
       "      <td>21</td>\n",
       "      <td>25.2</td>\n",
       "      <td>7200</td>\n",
       "    </tr>\n",
       "    <tr>\n",
       "      <th>28</th>\n",
       "      <td>7560</td>\n",
       "      <td>21</td>\n",
       "      <td>25.2</td>\n",
       "      <td>10800</td>\n",
       "    </tr>\n",
       "    <tr>\n",
       "      <th>26</th>\n",
       "      <td>7560</td>\n",
       "      <td>21</td>\n",
       "      <td>25.2</td>\n",
       "      <td>5000</td>\n",
       "    </tr>\n",
       "    <tr>\n",
       "      <th>20</th>\n",
       "      <td>7560</td>\n",
       "      <td>21</td>\n",
       "      <td>25.2</td>\n",
       "      <td>5000</td>\n",
       "    </tr>\n",
       "    <tr>\n",
       "      <th>6</th>\n",
       "      <td>7560</td>\n",
       "      <td>21</td>\n",
       "      <td>25.2</td>\n",
       "      <td>5000</td>\n",
       "    </tr>\n",
       "    <tr>\n",
       "      <th>13</th>\n",
       "      <td>7560</td>\n",
       "      <td>21</td>\n",
       "      <td>25.2</td>\n",
       "      <td>12000</td>\n",
       "    </tr>\n",
       "    <tr>\n",
       "      <th>5</th>\n",
       "      <td>7560</td>\n",
       "      <td>21</td>\n",
       "      <td>25.2</td>\n",
       "      <td>5000</td>\n",
       "    </tr>\n",
       "    <tr>\n",
       "      <th>9</th>\n",
       "      <td>7560</td>\n",
       "      <td>21</td>\n",
       "      <td>25.2</td>\n",
       "      <td>5000</td>\n",
       "    </tr>\n",
       "    <tr>\n",
       "      <th>21</th>\n",
       "      <td>7560</td>\n",
       "      <td>21</td>\n",
       "      <td>25.2</td>\n",
       "      <td>10800</td>\n",
       "    </tr>\n",
       "    <tr>\n",
       "      <th>1</th>\n",
       "      <td>7560</td>\n",
       "      <td>21</td>\n",
       "      <td>25.2</td>\n",
       "      <td>7200</td>\n",
       "    </tr>\n",
       "  </tbody>\n",
       "</table>\n",
       "</div>"
      ],
      "text/plain": [
       "        commit_reveal_weight_interval  # 0f tempos  hours  immunity_period\n",
       "netuid                                                                    \n",
       "16                                360            1    1.2            14400\n",
       "2                                 360            1    1.2             5000\n",
       "31                                360            1    1.2             7200\n",
       "12                                360            1    1.2             2440\n",
       "10                                360            1    1.2             5000\n",
       "7                                1080            3    3.6            10800\n",
       "32                               1080            3    3.6             7200\n",
       "17                               1800            5    6.0             5000\n",
       "4                                2520            7    8.4             5000\n",
       "23                               2520            7    8.4             5000\n",
       "24                               2520            7    8.4             5000\n",
       "8                                3240            9   10.8            65535\n",
       "19                               3240            9   10.8             7000\n",
       "27                               3240            9   10.8             9000\n",
       "30                               3960           11   13.2            10000\n",
       "15                               3960           11   13.2             6000\n",
       "14                               4680           13   15.6             5000\n",
       "22                               4680           13   15.6             7200\n",
       "3                                6840           19   22.8             5000\n",
       "18                               6840           19   22.8             5000\n",
       "29                               7560           21   25.2             7200\n",
       "28                               7560           21   25.2            10800\n",
       "26                               7560           21   25.2             5000\n",
       "20                               7560           21   25.2             5000\n",
       "6                                7560           21   25.2             5000\n",
       "13                               7560           21   25.2            12000\n",
       "5                                7560           21   25.2             5000\n",
       "9                                7560           21   25.2             5000\n",
       "21                               7560           21   25.2            10800\n",
       "1                                7560           21   25.2             7200"
      ]
     },
     "execution_count": 37,
     "metadata": {},
     "output_type": "execute_result"
    }
   ],
   "source": [
    "df = []\n",
    "for netuid in div_losts:\n",
    "    min_conceal_period = 0\n",
    "    for conceal_period, div_lost in div_losts[netuid].items():\n",
    "        if div_lost > 1:\n",
    "            if conceal_period == 0:\n",
    "                min_conceal_period = conceal_period + 1 * 360\n",
    "            elif conceal_period == 19:\n",
    "                min_conceal_period = None\n",
    "            else:\n",
    "                min_conceal_period = conceal_period + 2 * 360\n",
    "\n",
    "    if conceal_period != None:\n",
    "        v_trust = validator_trusts[netuid][0]\n",
    "    else:\n",
    "        v_trust = None\n",
    "\n",
    "    df.append((netuid, min_conceal_period))\n",
    "\n",
    "min_conceal_period = pd.DataFrame(df, columns = ['netuid', 'commit_reveal_weight_interval'])\n",
    "min_conceal_period['# 0f tempos'] = min_conceal_period.commit_reveal_weight_interval.map(lambda x : round(x / setup.tempo))\n",
    "min_conceal_period['hours'] = min_conceal_period.commit_reveal_weight_interval.map(lambda x : x * 12 / 3600)\n",
    "min_conceal_period = min_conceal_period.set_index('netuid').sort_values('commit_reveal_weight_interval')\n",
    "min_conceal_period['immunity_period'] = min_conceal_period.index.map(immunity_periods)\n",
    "\n",
    "min_conceal_period"
   ]
  },
  {
   "cell_type": "code",
   "execution_count": 38,
   "metadata": {},
   "outputs": [
    {
     "name": "stdout",
     "output_type": "stream",
     "text": [
      "\\begin{tabular}{lrrrr}\n",
      "\\toprule\n",
      "{} &  commit\\_reveal\\_weight\\_interval &  \\# 0f tempos &  hours &  immunity\\_period \\\\\n",
      "netuid &                                &              &        &                  \\\\\n",
      "\\midrule\n",
      "16     &                            360 &            1 &    1.2 &            14400 \\\\\n",
      "2      &                            360 &            1 &    1.2 &             5000 \\\\\n",
      "31     &                            360 &            1 &    1.2 &             7200 \\\\\n",
      "12     &                            360 &            1 &    1.2 &             2440 \\\\\n",
      "10     &                            360 &            1 &    1.2 &             5000 \\\\\n",
      "7      &                           1080 &            3 &    3.6 &            10800 \\\\\n",
      "32     &                           1080 &            3 &    3.6 &             7200 \\\\\n",
      "17     &                           1800 &            5 &    6.0 &             5000 \\\\\n",
      "4      &                           2520 &            7 &    8.4 &             5000 \\\\\n",
      "23     &                           2520 &            7 &    8.4 &             5000 \\\\\n",
      "24     &                           2520 &            7 &    8.4 &             5000 \\\\\n",
      "8      &                           3240 &            9 &   10.8 &            65535 \\\\\n",
      "19     &                           3240 &            9 &   10.8 &             7000 \\\\\n",
      "27     &                           3240 &            9 &   10.8 &             9000 \\\\\n",
      "30     &                           3960 &           11 &   13.2 &            10000 \\\\\n",
      "15     &                           3960 &           11 &   13.2 &             6000 \\\\\n",
      "14     &                           4680 &           13 &   15.6 &             5000 \\\\\n",
      "22     &                           4680 &           13 &   15.6 &             7200 \\\\\n",
      "3      &                           6840 &           19 &   22.8 &             5000 \\\\\n",
      "18     &                           6840 &           19 &   22.8 &             5000 \\\\\n",
      "29     &                           7560 &           21 &   25.2 &             7200 \\\\\n",
      "28     &                           7560 &           21 &   25.2 &            10800 \\\\\n",
      "26     &                           7560 &           21 &   25.2 &             5000 \\\\\n",
      "20     &                           7560 &           21 &   25.2 &             5000 \\\\\n",
      "6      &                           7560 &           21 &   25.2 &             5000 \\\\\n",
      "13     &                           7560 &           21 &   25.2 &            12000 \\\\\n",
      "5      &                           7560 &           21 &   25.2 &             5000 \\\\\n",
      "9      &                           7560 &           21 &   25.2 &             5000 \\\\\n",
      "21     &                           7560 &           21 &   25.2 &            10800 \\\\\n",
      "1      &                           7560 &           21 &   25.2 &             7200 \\\\\n",
      "\\bottomrule\n",
      "\\end{tabular}\n",
      "\n"
     ]
    },
    {
     "name": "stderr",
     "output_type": "stream",
     "text": [
      "<ipython-input-38-bebfc596c192>:2: FutureWarning:\n",
      "\n",
      "In future versions `DataFrame.to_latex` is expected to utilise the base implementation of `Styler.to_latex` for formatting and rendering. The arguments signature may therefore change. It is recommended instead to use `DataFrame.style.to_latex` which also contains additional functionality.\n",
      "\n"
     ]
    }
   ],
   "source": [
    "with pd.option_context(\"max_colwidth\", 1000):\n",
    "    print(min_conceal_period.to_latex())"
   ]
  },
  {
   "cell_type": "code",
   "execution_count": 6,
   "metadata": {},
   "outputs": [
    {
     "data": {
      "text/html": [
       "<div>\n",
       "<style scoped>\n",
       "    .dataframe tbody tr th:only-of-type {\n",
       "        vertical-align: middle;\n",
       "    }\n",
       "\n",
       "    .dataframe tbody tr th {\n",
       "        vertical-align: top;\n",
       "    }\n",
       "\n",
       "    .dataframe thead th {\n",
       "        text-align: right;\n",
       "    }\n",
       "</style>\n",
       "<table border=\"1\" class=\"dataframe\">\n",
       "  <thead>\n",
       "    <tr style=\"text-align: right;\">\n",
       "      <th></th>\n",
       "      <th>1</th>\n",
       "      <th>2</th>\n",
       "      <th>3</th>\n",
       "    </tr>\n",
       "  </thead>\n",
       "  <tbody>\n",
       "    <tr>\n",
       "      <th>0</th>\n",
       "      <td>1.113691</td>\n",
       "      <td>1.015457</td>\n",
       "      <td>1.090564</td>\n",
       "    </tr>\n",
       "    <tr>\n",
       "      <th>360</th>\n",
       "      <td>1.015924</td>\n",
       "      <td>0.995680</td>\n",
       "      <td>1.061116</td>\n",
       "    </tr>\n",
       "    <tr>\n",
       "      <th>1080</th>\n",
       "      <td>1.021087</td>\n",
       "      <td>0.987647</td>\n",
       "      <td>1.029612</td>\n",
       "    </tr>\n",
       "    <tr>\n",
       "      <th>1800</th>\n",
       "      <td>1.015839</td>\n",
       "      <td>0.985175</td>\n",
       "      <td>1.023372</td>\n",
       "    </tr>\n",
       "    <tr>\n",
       "      <th>2520</th>\n",
       "      <td>1.016650</td>\n",
       "      <td>0.985913</td>\n",
       "      <td>1.017134</td>\n",
       "    </tr>\n",
       "    <tr>\n",
       "      <th>3240</th>\n",
       "      <td>1.010559</td>\n",
       "      <td>0.985939</td>\n",
       "      <td>1.040942</td>\n",
       "    </tr>\n",
       "    <tr>\n",
       "      <th>3960</th>\n",
       "      <td>0.995269</td>\n",
       "      <td>0.985695</td>\n",
       "      <td>1.024334</td>\n",
       "    </tr>\n",
       "    <tr>\n",
       "      <th>4680</th>\n",
       "      <td>1.017831</td>\n",
       "      <td>0.984797</td>\n",
       "      <td>0.970292</td>\n",
       "    </tr>\n",
       "    <tr>\n",
       "      <th>5400</th>\n",
       "      <td>1.014202</td>\n",
       "      <td>0.984391</td>\n",
       "      <td>0.989544</td>\n",
       "    </tr>\n",
       "    <tr>\n",
       "      <th>6120</th>\n",
       "      <td>1.017077</td>\n",
       "      <td>0.984665</td>\n",
       "      <td>1.062407</td>\n",
       "    </tr>\n",
       "    <tr>\n",
       "      <th>6840</th>\n",
       "      <td>1.010595</td>\n",
       "      <td>0.984592</td>\n",
       "      <td>0.990303</td>\n",
       "    </tr>\n",
       "  </tbody>\n",
       "</table>\n",
       "</div>"
      ],
      "text/plain": [
       "             1         2         3\n",
       "0     1.113691  1.015457  1.090564\n",
       "360   1.015924  0.995680  1.061116\n",
       "1080  1.021087  0.987647  1.029612\n",
       "1800  1.015839  0.985175  1.023372\n",
       "2520  1.016650  0.985913  1.017134\n",
       "3240  1.010559  0.985939  1.040942\n",
       "3960  0.995269  0.985695  1.024334\n",
       "4680  1.017831  0.984797  0.970292\n",
       "5400  1.014202  0.984391  0.989544\n",
       "6120  1.017077  0.984665  1.062407\n",
       "6840  1.010595  0.984592  0.990303"
      ]
     },
     "execution_count": 6,
     "metadata": {},
     "output_type": "execute_result"
    }
   ],
   "source": [
    "div_losts.loc[:, [1,2,3]]# .iloc[-1] > 1"
   ]
  },
  {
   "cell_type": "code",
   "execution_count": 7,
   "metadata": {},
   "outputs": [],
   "source": [
    "set_0 = [1, 3, 6, 24, 13]\n",
    "set_a = (div_losts.iloc[-1] > 1)\n",
    "set_b = (div_losts.iloc[-1] < 1)\n",
    "\n",
    "set_a[set_0] = False\n",
    "set_b[set_0] = False"
   ]
  },
  {
   "cell_type": "code",
   "execution_count": 13,
   "metadata": {},
   "outputs": [
    {
     "data": {
      "application/vnd.plotly.v1+json": {
       "config": {
        "plotlyServerURL": "https://plot.ly"
       },
       "data": [
        {
         "hovertemplate": "Subnet=1<br>Commit reveal rate interval=%{x}<br>Relative Dividend Rate (G)=%{y}<extra></extra>",
         "legendgroup": "1",
         "line": {
          "color": "#636efa",
          "dash": "solid"
         },
         "marker": {
          "symbol": "circle"
         },
         "mode": "lines",
         "name": "1",
         "orientation": "v",
         "showlegend": true,
         "type": "scatter",
         "x": [
          0,
          360,
          1080,
          1800,
          2520,
          3240,
          3960,
          4680,
          5400,
          6120,
          6840
         ],
         "xaxis": "x",
         "y": [
          1.1136908136540042,
          1.0159236390852382,
          1.0210866880382827,
          1.0158394018939023,
          1.016649921815303,
          1.0105587468983857,
          0.9952691067398367,
          1.0178312887287615,
          1.0142018595197178,
          1.0170771051406415,
          1.0105949791019426
         ],
         "yaxis": "y"
        },
        {
         "hovertemplate": "Subnet=3<br>Commit reveal rate interval=%{x}<br>Relative Dividend Rate (G)=%{y}<extra></extra>",
         "legendgroup": "3",
         "line": {
          "color": "#EF553B",
          "dash": "solid"
         },
         "marker": {
          "symbol": "circle"
         },
         "mode": "lines",
         "name": "3",
         "orientation": "v",
         "showlegend": true,
         "type": "scatter",
         "x": [
          0,
          360,
          1080,
          1800,
          2520,
          3240,
          3960,
          4680,
          5400,
          6120,
          6840
         ],
         "xaxis": "x",
         "y": [
          1.0905642297623188,
          1.0611158052107212,
          1.0296119568142823,
          1.0233715936632501,
          1.0171340924074348,
          1.0409420085748138,
          1.024333602035688,
          0.9702916064245477,
          0.9895444673424533,
          1.062406609117581,
          0.9903025129386448
         ],
         "yaxis": "y"
        },
        {
         "hovertemplate": "Subnet=6<br>Commit reveal rate interval=%{x}<br>Relative Dividend Rate (G)=%{y}<extra></extra>",
         "legendgroup": "6",
         "line": {
          "color": "#00cc96",
          "dash": "solid"
         },
         "marker": {
          "symbol": "circle"
         },
         "mode": "lines",
         "name": "6",
         "orientation": "v",
         "showlegend": true,
         "type": "scatter",
         "x": [
          0,
          360,
          1080,
          1800,
          2520,
          3240,
          3960,
          4680,
          5400,
          6120,
          6840
         ],
         "xaxis": "x",
         "y": [
          1.090300975116025,
          1.071326543394286,
          1.0653748449024956,
          1.045667286487878,
          1.0632676546071695,
          1.0483551089023107,
          1.0493698515962306,
          1.0464414825027877,
          1.0512375512096033,
          1.0234290591767459,
          1.0332488671328846
         ],
         "yaxis": "y"
        },
        {
         "hovertemplate": "Subnet=24<br>Commit reveal rate interval=%{x}<br>Relative Dividend Rate (G)=%{y}<extra></extra>",
         "legendgroup": "24",
         "line": {
          "color": "#ab63fa",
          "dash": "solid"
         },
         "marker": {
          "symbol": "circle"
         },
         "mode": "lines",
         "name": "24",
         "orientation": "v",
         "showlegend": true,
         "type": "scatter",
         "x": [
          0,
          360,
          1080,
          1800,
          2520,
          3240,
          3960,
          4680,
          5400,
          6120,
          6840
         ],
         "xaxis": "x",
         "y": [
          1.022051445441219,
          0.9981086793148312,
          0.9668348063957577,
          1.0612799469058913,
          0.9540286925157684,
          0.9417894864172914,
          0.9620863485522727,
          0.9336546287399904,
          0.9303351236448056,
          0.9212226245409257,
          0.9776177813334013
         ],
         "yaxis": "y"
        },
        {
         "hovertemplate": "Subnet=13<br>Commit reveal rate interval=%{x}<br>Relative Dividend Rate (G)=%{y}<extra></extra>",
         "legendgroup": "13",
         "line": {
          "color": "#FFA15A",
          "dash": "solid"
         },
         "marker": {
          "symbol": "circle"
         },
         "mode": "lines",
         "name": "13",
         "orientation": "v",
         "showlegend": true,
         "type": "scatter",
         "x": [
          0,
          360,
          1080,
          1800,
          2520,
          3240,
          3960,
          4680,
          5400,
          6120,
          6840
         ],
         "xaxis": "x",
         "y": [
          1.147606575625677,
          1.0857319909309295,
          1.0195598688610923,
          1.046411137739917,
          1.0678264540192837,
          1.0492732551304107,
          1.0806869950599993,
          1.0685860932078761,
          1.0192385220000937,
          1.0365230304565303,
          1.0206092525137815
         ],
         "yaxis": "y"
        }
       ],
       "layout": {
        "annotations": [
         {
          "showarrow": false,
          "text": "",
          "x": 1,
          "xanchor": "right",
          "xref": "x domain",
          "y": 1,
          "yanchor": "bottom",
          "yref": "y"
         }
        ],
        "height": 500,
        "legend": {
         "title": {
          "text": "Subnet"
         },
         "tracegroupgap": 0
        },
        "shapes": [
         {
          "line": {
           "color": "red",
           "dash": "dash",
           "width": 3
          },
          "type": "line",
          "x0": 0,
          "x1": 1,
          "xref": "x domain",
          "y0": 1,
          "y1": 1,
          "yref": "y"
         },
         {
          "fillcolor": "red",
          "opacity": 0.1,
          "type": "rect",
          "x0": 0,
          "x1": 6840,
          "y0": 1.15,
          "y1": 1
         }
        ],
        "template": {
         "data": {
          "bar": [
           {
            "error_x": {
             "color": "#2a3f5f"
            },
            "error_y": {
             "color": "#2a3f5f"
            },
            "marker": {
             "line": {
              "color": "white",
              "width": 0.5
             },
             "pattern": {
              "fillmode": "overlay",
              "size": 10,
              "solidity": 0.2
             }
            },
            "type": "bar"
           }
          ],
          "barpolar": [
           {
            "marker": {
             "line": {
              "color": "white",
              "width": 0.5
             },
             "pattern": {
              "fillmode": "overlay",
              "size": 10,
              "solidity": 0.2
             }
            },
            "type": "barpolar"
           }
          ],
          "carpet": [
           {
            "aaxis": {
             "endlinecolor": "#2a3f5f",
             "gridcolor": "#C8D4E3",
             "linecolor": "#C8D4E3",
             "minorgridcolor": "#C8D4E3",
             "startlinecolor": "#2a3f5f"
            },
            "baxis": {
             "endlinecolor": "#2a3f5f",
             "gridcolor": "#C8D4E3",
             "linecolor": "#C8D4E3",
             "minorgridcolor": "#C8D4E3",
             "startlinecolor": "#2a3f5f"
            },
            "type": "carpet"
           }
          ],
          "choropleth": [
           {
            "colorbar": {
             "outlinewidth": 0,
             "ticks": ""
            },
            "type": "choropleth"
           }
          ],
          "contour": [
           {
            "colorbar": {
             "outlinewidth": 0,
             "ticks": ""
            },
            "colorscale": [
             [
              0,
              "#0d0887"
             ],
             [
              0.1111111111111111,
              "#46039f"
             ],
             [
              0.2222222222222222,
              "#7201a8"
             ],
             [
              0.3333333333333333,
              "#9c179e"
             ],
             [
              0.4444444444444444,
              "#bd3786"
             ],
             [
              0.5555555555555556,
              "#d8576b"
             ],
             [
              0.6666666666666666,
              "#ed7953"
             ],
             [
              0.7777777777777778,
              "#fb9f3a"
             ],
             [
              0.8888888888888888,
              "#fdca26"
             ],
             [
              1,
              "#f0f921"
             ]
            ],
            "type": "contour"
           }
          ],
          "contourcarpet": [
           {
            "colorbar": {
             "outlinewidth": 0,
             "ticks": ""
            },
            "type": "contourcarpet"
           }
          ],
          "heatmap": [
           {
            "colorbar": {
             "outlinewidth": 0,
             "ticks": ""
            },
            "colorscale": [
             [
              0,
              "#0d0887"
             ],
             [
              0.1111111111111111,
              "#46039f"
             ],
             [
              0.2222222222222222,
              "#7201a8"
             ],
             [
              0.3333333333333333,
              "#9c179e"
             ],
             [
              0.4444444444444444,
              "#bd3786"
             ],
             [
              0.5555555555555556,
              "#d8576b"
             ],
             [
              0.6666666666666666,
              "#ed7953"
             ],
             [
              0.7777777777777778,
              "#fb9f3a"
             ],
             [
              0.8888888888888888,
              "#fdca26"
             ],
             [
              1,
              "#f0f921"
             ]
            ],
            "type": "heatmap"
           }
          ],
          "heatmapgl": [
           {
            "colorbar": {
             "outlinewidth": 0,
             "ticks": ""
            },
            "colorscale": [
             [
              0,
              "#0d0887"
             ],
             [
              0.1111111111111111,
              "#46039f"
             ],
             [
              0.2222222222222222,
              "#7201a8"
             ],
             [
              0.3333333333333333,
              "#9c179e"
             ],
             [
              0.4444444444444444,
              "#bd3786"
             ],
             [
              0.5555555555555556,
              "#d8576b"
             ],
             [
              0.6666666666666666,
              "#ed7953"
             ],
             [
              0.7777777777777778,
              "#fb9f3a"
             ],
             [
              0.8888888888888888,
              "#fdca26"
             ],
             [
              1,
              "#f0f921"
             ]
            ],
            "type": "heatmapgl"
           }
          ],
          "histogram": [
           {
            "marker": {
             "pattern": {
              "fillmode": "overlay",
              "size": 10,
              "solidity": 0.2
             }
            },
            "type": "histogram"
           }
          ],
          "histogram2d": [
           {
            "colorbar": {
             "outlinewidth": 0,
             "ticks": ""
            },
            "colorscale": [
             [
              0,
              "#0d0887"
             ],
             [
              0.1111111111111111,
              "#46039f"
             ],
             [
              0.2222222222222222,
              "#7201a8"
             ],
             [
              0.3333333333333333,
              "#9c179e"
             ],
             [
              0.4444444444444444,
              "#bd3786"
             ],
             [
              0.5555555555555556,
              "#d8576b"
             ],
             [
              0.6666666666666666,
              "#ed7953"
             ],
             [
              0.7777777777777778,
              "#fb9f3a"
             ],
             [
              0.8888888888888888,
              "#fdca26"
             ],
             [
              1,
              "#f0f921"
             ]
            ],
            "type": "histogram2d"
           }
          ],
          "histogram2dcontour": [
           {
            "colorbar": {
             "outlinewidth": 0,
             "ticks": ""
            },
            "colorscale": [
             [
              0,
              "#0d0887"
             ],
             [
              0.1111111111111111,
              "#46039f"
             ],
             [
              0.2222222222222222,
              "#7201a8"
             ],
             [
              0.3333333333333333,
              "#9c179e"
             ],
             [
              0.4444444444444444,
              "#bd3786"
             ],
             [
              0.5555555555555556,
              "#d8576b"
             ],
             [
              0.6666666666666666,
              "#ed7953"
             ],
             [
              0.7777777777777778,
              "#fb9f3a"
             ],
             [
              0.8888888888888888,
              "#fdca26"
             ],
             [
              1,
              "#f0f921"
             ]
            ],
            "type": "histogram2dcontour"
           }
          ],
          "mesh3d": [
           {
            "colorbar": {
             "outlinewidth": 0,
             "ticks": ""
            },
            "type": "mesh3d"
           }
          ],
          "parcoords": [
           {
            "line": {
             "colorbar": {
              "outlinewidth": 0,
              "ticks": ""
             }
            },
            "type": "parcoords"
           }
          ],
          "pie": [
           {
            "automargin": true,
            "type": "pie"
           }
          ],
          "scatter": [
           {
            "fillpattern": {
             "fillmode": "overlay",
             "size": 10,
             "solidity": 0.2
            },
            "type": "scatter"
           }
          ],
          "scatter3d": [
           {
            "line": {
             "colorbar": {
              "outlinewidth": 0,
              "ticks": ""
             }
            },
            "marker": {
             "colorbar": {
              "outlinewidth": 0,
              "ticks": ""
             }
            },
            "type": "scatter3d"
           }
          ],
          "scattercarpet": [
           {
            "marker": {
             "colorbar": {
              "outlinewidth": 0,
              "ticks": ""
             }
            },
            "type": "scattercarpet"
           }
          ],
          "scattergeo": [
           {
            "marker": {
             "colorbar": {
              "outlinewidth": 0,
              "ticks": ""
             }
            },
            "type": "scattergeo"
           }
          ],
          "scattergl": [
           {
            "marker": {
             "colorbar": {
              "outlinewidth": 0,
              "ticks": ""
             }
            },
            "type": "scattergl"
           }
          ],
          "scattermapbox": [
           {
            "marker": {
             "colorbar": {
              "outlinewidth": 0,
              "ticks": ""
             }
            },
            "type": "scattermapbox"
           }
          ],
          "scatterpolar": [
           {
            "marker": {
             "colorbar": {
              "outlinewidth": 0,
              "ticks": ""
             }
            },
            "type": "scatterpolar"
           }
          ],
          "scatterpolargl": [
           {
            "marker": {
             "colorbar": {
              "outlinewidth": 0,
              "ticks": ""
             }
            },
            "type": "scatterpolargl"
           }
          ],
          "scatterternary": [
           {
            "marker": {
             "colorbar": {
              "outlinewidth": 0,
              "ticks": ""
             }
            },
            "type": "scatterternary"
           }
          ],
          "surface": [
           {
            "colorbar": {
             "outlinewidth": 0,
             "ticks": ""
            },
            "colorscale": [
             [
              0,
              "#0d0887"
             ],
             [
              0.1111111111111111,
              "#46039f"
             ],
             [
              0.2222222222222222,
              "#7201a8"
             ],
             [
              0.3333333333333333,
              "#9c179e"
             ],
             [
              0.4444444444444444,
              "#bd3786"
             ],
             [
              0.5555555555555556,
              "#d8576b"
             ],
             [
              0.6666666666666666,
              "#ed7953"
             ],
             [
              0.7777777777777778,
              "#fb9f3a"
             ],
             [
              0.8888888888888888,
              "#fdca26"
             ],
             [
              1,
              "#f0f921"
             ]
            ],
            "type": "surface"
           }
          ],
          "table": [
           {
            "cells": {
             "fill": {
              "color": "#EBF0F8"
             },
             "line": {
              "color": "white"
             }
            },
            "header": {
             "fill": {
              "color": "#C8D4E3"
             },
             "line": {
              "color": "white"
             }
            },
            "type": "table"
           }
          ]
         },
         "layout": {
          "annotationdefaults": {
           "arrowcolor": "#2a3f5f",
           "arrowhead": 0,
           "arrowwidth": 1
          },
          "autotypenumbers": "strict",
          "coloraxis": {
           "colorbar": {
            "outlinewidth": 0,
            "ticks": ""
           }
          },
          "colorscale": {
           "diverging": [
            [
             0,
             "#8e0152"
            ],
            [
             0.1,
             "#c51b7d"
            ],
            [
             0.2,
             "#de77ae"
            ],
            [
             0.3,
             "#f1b6da"
            ],
            [
             0.4,
             "#fde0ef"
            ],
            [
             0.5,
             "#f7f7f7"
            ],
            [
             0.6,
             "#e6f5d0"
            ],
            [
             0.7,
             "#b8e186"
            ],
            [
             0.8,
             "#7fbc41"
            ],
            [
             0.9,
             "#4d9221"
            ],
            [
             1,
             "#276419"
            ]
           ],
           "sequential": [
            [
             0,
             "#0d0887"
            ],
            [
             0.1111111111111111,
             "#46039f"
            ],
            [
             0.2222222222222222,
             "#7201a8"
            ],
            [
             0.3333333333333333,
             "#9c179e"
            ],
            [
             0.4444444444444444,
             "#bd3786"
            ],
            [
             0.5555555555555556,
             "#d8576b"
            ],
            [
             0.6666666666666666,
             "#ed7953"
            ],
            [
             0.7777777777777778,
             "#fb9f3a"
            ],
            [
             0.8888888888888888,
             "#fdca26"
            ],
            [
             1,
             "#f0f921"
            ]
           ],
           "sequentialminus": [
            [
             0,
             "#0d0887"
            ],
            [
             0.1111111111111111,
             "#46039f"
            ],
            [
             0.2222222222222222,
             "#7201a8"
            ],
            [
             0.3333333333333333,
             "#9c179e"
            ],
            [
             0.4444444444444444,
             "#bd3786"
            ],
            [
             0.5555555555555556,
             "#d8576b"
            ],
            [
             0.6666666666666666,
             "#ed7953"
            ],
            [
             0.7777777777777778,
             "#fb9f3a"
            ],
            [
             0.8888888888888888,
             "#fdca26"
            ],
            [
             1,
             "#f0f921"
            ]
           ]
          },
          "colorway": [
           "#636efa",
           "#EF553B",
           "#00cc96",
           "#ab63fa",
           "#FFA15A",
           "#19d3f3",
           "#FF6692",
           "#B6E880",
           "#FF97FF",
           "#FECB52"
          ],
          "font": {
           "color": "#2a3f5f"
          },
          "geo": {
           "bgcolor": "white",
           "lakecolor": "white",
           "landcolor": "white",
           "showlakes": true,
           "showland": true,
           "subunitcolor": "#C8D4E3"
          },
          "hoverlabel": {
           "align": "left"
          },
          "hovermode": "closest",
          "mapbox": {
           "style": "light"
          },
          "paper_bgcolor": "white",
          "plot_bgcolor": "white",
          "polar": {
           "angularaxis": {
            "gridcolor": "#EBF0F8",
            "linecolor": "#EBF0F8",
            "ticks": ""
           },
           "bgcolor": "white",
           "radialaxis": {
            "gridcolor": "#EBF0F8",
            "linecolor": "#EBF0F8",
            "ticks": ""
           }
          },
          "scene": {
           "xaxis": {
            "backgroundcolor": "white",
            "gridcolor": "#DFE8F3",
            "gridwidth": 2,
            "linecolor": "#EBF0F8",
            "showbackground": true,
            "ticks": "",
            "zerolinecolor": "#EBF0F8"
           },
           "yaxis": {
            "backgroundcolor": "white",
            "gridcolor": "#DFE8F3",
            "gridwidth": 2,
            "linecolor": "#EBF0F8",
            "showbackground": true,
            "ticks": "",
            "zerolinecolor": "#EBF0F8"
           },
           "zaxis": {
            "backgroundcolor": "white",
            "gridcolor": "#DFE8F3",
            "gridwidth": 2,
            "linecolor": "#EBF0F8",
            "showbackground": true,
            "ticks": "",
            "zerolinecolor": "#EBF0F8"
           }
          },
          "shapedefaults": {
           "line": {
            "color": "#2a3f5f"
           }
          },
          "ternary": {
           "aaxis": {
            "gridcolor": "#DFE8F3",
            "linecolor": "#A2B1C6",
            "ticks": ""
           },
           "baxis": {
            "gridcolor": "#DFE8F3",
            "linecolor": "#A2B1C6",
            "ticks": ""
           },
           "bgcolor": "white",
           "caxis": {
            "gridcolor": "#DFE8F3",
            "linecolor": "#A2B1C6",
            "ticks": ""
           }
          },
          "title": {
           "x": 0.05
          },
          "xaxis": {
           "automargin": true,
           "gridcolor": "#EBF0F8",
           "linecolor": "#EBF0F8",
           "ticks": "",
           "title": {
            "standoff": 15
           },
           "zerolinecolor": "#EBF0F8",
           "zerolinewidth": 2
          },
          "yaxis": {
           "automargin": true,
           "gridcolor": "#EBF0F8",
           "linecolor": "#EBF0F8",
           "ticks": "",
           "title": {
            "standoff": 15
           },
           "zerolinecolor": "#EBF0F8",
           "zerolinewidth": 2
          }
         }
        },
        "title": {
         "text": "Relative Dividend Rate Of Weight Copier <br><sup> For subnets has a varying G that does not monotonically decrease with conceal period</sup>"
        },
        "width": 1000,
        "xaxis": {
         "anchor": "y",
         "domain": [
          0,
          1
         ],
         "title": {
          "text": "Commit reveal rate interval"
         }
        },
        "yaxis": {
         "anchor": "x",
         "domain": [
          0,
          1
         ],
         "title": {
          "text": "Relative Dividend Rate (G)"
         }
        }
       }
      },
      "text/html": [
       "<div>                            <div id=\"c5fb824a-8011-4d3e-8821-24e1576c4d43\" class=\"plotly-graph-div\" style=\"height:500px; width:1000px;\"></div>            <script type=\"text/javascript\">                require([\"plotly\"], function(Plotly) {                    window.PLOTLYENV=window.PLOTLYENV || {};                                    if (document.getElementById(\"c5fb824a-8011-4d3e-8821-24e1576c4d43\")) {                    Plotly.newPlot(                        \"c5fb824a-8011-4d3e-8821-24e1576c4d43\",                        [{\"hovertemplate\":\"Subnet=1<br>Commit reveal rate interval=%{x}<br>Relative Dividend Rate (G)=%{y}<extra></extra>\",\"legendgroup\":\"1\",\"line\":{\"color\":\"#636efa\",\"dash\":\"solid\"},\"marker\":{\"symbol\":\"circle\"},\"mode\":\"lines\",\"name\":\"1\",\"orientation\":\"v\",\"showlegend\":true,\"x\":[0,360,1080,1800,2520,3240,3960,4680,5400,6120,6840],\"xaxis\":\"x\",\"y\":[1.1136908136540042,1.0159236390852382,1.0210866880382827,1.0158394018939023,1.016649921815303,1.0105587468983857,0.9952691067398367,1.0178312887287615,1.0142018595197178,1.0170771051406415,1.0105949791019426],\"yaxis\":\"y\",\"type\":\"scatter\"},{\"hovertemplate\":\"Subnet=3<br>Commit reveal rate interval=%{x}<br>Relative Dividend Rate (G)=%{y}<extra></extra>\",\"legendgroup\":\"3\",\"line\":{\"color\":\"#EF553B\",\"dash\":\"solid\"},\"marker\":{\"symbol\":\"circle\"},\"mode\":\"lines\",\"name\":\"3\",\"orientation\":\"v\",\"showlegend\":true,\"x\":[0,360,1080,1800,2520,3240,3960,4680,5400,6120,6840],\"xaxis\":\"x\",\"y\":[1.0905642297623188,1.0611158052107212,1.0296119568142823,1.0233715936632501,1.0171340924074348,1.0409420085748138,1.024333602035688,0.9702916064245477,0.9895444673424533,1.062406609117581,0.9903025129386448],\"yaxis\":\"y\",\"type\":\"scatter\"},{\"hovertemplate\":\"Subnet=6<br>Commit reveal rate interval=%{x}<br>Relative Dividend Rate (G)=%{y}<extra></extra>\",\"legendgroup\":\"6\",\"line\":{\"color\":\"#00cc96\",\"dash\":\"solid\"},\"marker\":{\"symbol\":\"circle\"},\"mode\":\"lines\",\"name\":\"6\",\"orientation\":\"v\",\"showlegend\":true,\"x\":[0,360,1080,1800,2520,3240,3960,4680,5400,6120,6840],\"xaxis\":\"x\",\"y\":[1.090300975116025,1.071326543394286,1.0653748449024956,1.045667286487878,1.0632676546071695,1.0483551089023107,1.0493698515962306,1.0464414825027877,1.0512375512096033,1.0234290591767459,1.0332488671328846],\"yaxis\":\"y\",\"type\":\"scatter\"},{\"hovertemplate\":\"Subnet=24<br>Commit reveal rate interval=%{x}<br>Relative Dividend Rate (G)=%{y}<extra></extra>\",\"legendgroup\":\"24\",\"line\":{\"color\":\"#ab63fa\",\"dash\":\"solid\"},\"marker\":{\"symbol\":\"circle\"},\"mode\":\"lines\",\"name\":\"24\",\"orientation\":\"v\",\"showlegend\":true,\"x\":[0,360,1080,1800,2520,3240,3960,4680,5400,6120,6840],\"xaxis\":\"x\",\"y\":[1.022051445441219,0.9981086793148312,0.9668348063957577,1.0612799469058913,0.9540286925157684,0.9417894864172914,0.9620863485522727,0.9336546287399904,0.9303351236448056,0.9212226245409257,0.9776177813334013],\"yaxis\":\"y\",\"type\":\"scatter\"},{\"hovertemplate\":\"Subnet=13<br>Commit reveal rate interval=%{x}<br>Relative Dividend Rate (G)=%{y}<extra></extra>\",\"legendgroup\":\"13\",\"line\":{\"color\":\"#FFA15A\",\"dash\":\"solid\"},\"marker\":{\"symbol\":\"circle\"},\"mode\":\"lines\",\"name\":\"13\",\"orientation\":\"v\",\"showlegend\":true,\"x\":[0,360,1080,1800,2520,3240,3960,4680,5400,6120,6840],\"xaxis\":\"x\",\"y\":[1.147606575625677,1.0857319909309295,1.0195598688610923,1.046411137739917,1.0678264540192837,1.0492732551304107,1.0806869950599993,1.0685860932078761,1.0192385220000937,1.0365230304565303,1.0206092525137815],\"yaxis\":\"y\",\"type\":\"scatter\"}],                        {\"template\":{\"data\":{\"barpolar\":[{\"marker\":{\"line\":{\"color\":\"white\",\"width\":0.5},\"pattern\":{\"fillmode\":\"overlay\",\"size\":10,\"solidity\":0.2}},\"type\":\"barpolar\"}],\"bar\":[{\"error_x\":{\"color\":\"#2a3f5f\"},\"error_y\":{\"color\":\"#2a3f5f\"},\"marker\":{\"line\":{\"color\":\"white\",\"width\":0.5},\"pattern\":{\"fillmode\":\"overlay\",\"size\":10,\"solidity\":0.2}},\"type\":\"bar\"}],\"carpet\":[{\"aaxis\":{\"endlinecolor\":\"#2a3f5f\",\"gridcolor\":\"#C8D4E3\",\"linecolor\":\"#C8D4E3\",\"minorgridcolor\":\"#C8D4E3\",\"startlinecolor\":\"#2a3f5f\"},\"baxis\":{\"endlinecolor\":\"#2a3f5f\",\"gridcolor\":\"#C8D4E3\",\"linecolor\":\"#C8D4E3\",\"minorgridcolor\":\"#C8D4E3\",\"startlinecolor\":\"#2a3f5f\"},\"type\":\"carpet\"}],\"choropleth\":[{\"colorbar\":{\"outlinewidth\":0,\"ticks\":\"\"},\"type\":\"choropleth\"}],\"contourcarpet\":[{\"colorbar\":{\"outlinewidth\":0,\"ticks\":\"\"},\"type\":\"contourcarpet\"}],\"contour\":[{\"colorbar\":{\"outlinewidth\":0,\"ticks\":\"\"},\"colorscale\":[[0.0,\"#0d0887\"],[0.1111111111111111,\"#46039f\"],[0.2222222222222222,\"#7201a8\"],[0.3333333333333333,\"#9c179e\"],[0.4444444444444444,\"#bd3786\"],[0.5555555555555556,\"#d8576b\"],[0.6666666666666666,\"#ed7953\"],[0.7777777777777778,\"#fb9f3a\"],[0.8888888888888888,\"#fdca26\"],[1.0,\"#f0f921\"]],\"type\":\"contour\"}],\"heatmapgl\":[{\"colorbar\":{\"outlinewidth\":0,\"ticks\":\"\"},\"colorscale\":[[0.0,\"#0d0887\"],[0.1111111111111111,\"#46039f\"],[0.2222222222222222,\"#7201a8\"],[0.3333333333333333,\"#9c179e\"],[0.4444444444444444,\"#bd3786\"],[0.5555555555555556,\"#d8576b\"],[0.6666666666666666,\"#ed7953\"],[0.7777777777777778,\"#fb9f3a\"],[0.8888888888888888,\"#fdca26\"],[1.0,\"#f0f921\"]],\"type\":\"heatmapgl\"}],\"heatmap\":[{\"colorbar\":{\"outlinewidth\":0,\"ticks\":\"\"},\"colorscale\":[[0.0,\"#0d0887\"],[0.1111111111111111,\"#46039f\"],[0.2222222222222222,\"#7201a8\"],[0.3333333333333333,\"#9c179e\"],[0.4444444444444444,\"#bd3786\"],[0.5555555555555556,\"#d8576b\"],[0.6666666666666666,\"#ed7953\"],[0.7777777777777778,\"#fb9f3a\"],[0.8888888888888888,\"#fdca26\"],[1.0,\"#f0f921\"]],\"type\":\"heatmap\"}],\"histogram2dcontour\":[{\"colorbar\":{\"outlinewidth\":0,\"ticks\":\"\"},\"colorscale\":[[0.0,\"#0d0887\"],[0.1111111111111111,\"#46039f\"],[0.2222222222222222,\"#7201a8\"],[0.3333333333333333,\"#9c179e\"],[0.4444444444444444,\"#bd3786\"],[0.5555555555555556,\"#d8576b\"],[0.6666666666666666,\"#ed7953\"],[0.7777777777777778,\"#fb9f3a\"],[0.8888888888888888,\"#fdca26\"],[1.0,\"#f0f921\"]],\"type\":\"histogram2dcontour\"}],\"histogram2d\":[{\"colorbar\":{\"outlinewidth\":0,\"ticks\":\"\"},\"colorscale\":[[0.0,\"#0d0887\"],[0.1111111111111111,\"#46039f\"],[0.2222222222222222,\"#7201a8\"],[0.3333333333333333,\"#9c179e\"],[0.4444444444444444,\"#bd3786\"],[0.5555555555555556,\"#d8576b\"],[0.6666666666666666,\"#ed7953\"],[0.7777777777777778,\"#fb9f3a\"],[0.8888888888888888,\"#fdca26\"],[1.0,\"#f0f921\"]],\"type\":\"histogram2d\"}],\"histogram\":[{\"marker\":{\"pattern\":{\"fillmode\":\"overlay\",\"size\":10,\"solidity\":0.2}},\"type\":\"histogram\"}],\"mesh3d\":[{\"colorbar\":{\"outlinewidth\":0,\"ticks\":\"\"},\"type\":\"mesh3d\"}],\"parcoords\":[{\"line\":{\"colorbar\":{\"outlinewidth\":0,\"ticks\":\"\"}},\"type\":\"parcoords\"}],\"pie\":[{\"automargin\":true,\"type\":\"pie\"}],\"scatter3d\":[{\"line\":{\"colorbar\":{\"outlinewidth\":0,\"ticks\":\"\"}},\"marker\":{\"colorbar\":{\"outlinewidth\":0,\"ticks\":\"\"}},\"type\":\"scatter3d\"}],\"scattercarpet\":[{\"marker\":{\"colorbar\":{\"outlinewidth\":0,\"ticks\":\"\"}},\"type\":\"scattercarpet\"}],\"scattergeo\":[{\"marker\":{\"colorbar\":{\"outlinewidth\":0,\"ticks\":\"\"}},\"type\":\"scattergeo\"}],\"scattergl\":[{\"marker\":{\"colorbar\":{\"outlinewidth\":0,\"ticks\":\"\"}},\"type\":\"scattergl\"}],\"scattermapbox\":[{\"marker\":{\"colorbar\":{\"outlinewidth\":0,\"ticks\":\"\"}},\"type\":\"scattermapbox\"}],\"scatterpolargl\":[{\"marker\":{\"colorbar\":{\"outlinewidth\":0,\"ticks\":\"\"}},\"type\":\"scatterpolargl\"}],\"scatterpolar\":[{\"marker\":{\"colorbar\":{\"outlinewidth\":0,\"ticks\":\"\"}},\"type\":\"scatterpolar\"}],\"scatter\":[{\"fillpattern\":{\"fillmode\":\"overlay\",\"size\":10,\"solidity\":0.2},\"type\":\"scatter\"}],\"scatterternary\":[{\"marker\":{\"colorbar\":{\"outlinewidth\":0,\"ticks\":\"\"}},\"type\":\"scatterternary\"}],\"surface\":[{\"colorbar\":{\"outlinewidth\":0,\"ticks\":\"\"},\"colorscale\":[[0.0,\"#0d0887\"],[0.1111111111111111,\"#46039f\"],[0.2222222222222222,\"#7201a8\"],[0.3333333333333333,\"#9c179e\"],[0.4444444444444444,\"#bd3786\"],[0.5555555555555556,\"#d8576b\"],[0.6666666666666666,\"#ed7953\"],[0.7777777777777778,\"#fb9f3a\"],[0.8888888888888888,\"#fdca26\"],[1.0,\"#f0f921\"]],\"type\":\"surface\"}],\"table\":[{\"cells\":{\"fill\":{\"color\":\"#EBF0F8\"},\"line\":{\"color\":\"white\"}},\"header\":{\"fill\":{\"color\":\"#C8D4E3\"},\"line\":{\"color\":\"white\"}},\"type\":\"table\"}]},\"layout\":{\"annotationdefaults\":{\"arrowcolor\":\"#2a3f5f\",\"arrowhead\":0,\"arrowwidth\":1},\"autotypenumbers\":\"strict\",\"coloraxis\":{\"colorbar\":{\"outlinewidth\":0,\"ticks\":\"\"}},\"colorscale\":{\"diverging\":[[0,\"#8e0152\"],[0.1,\"#c51b7d\"],[0.2,\"#de77ae\"],[0.3,\"#f1b6da\"],[0.4,\"#fde0ef\"],[0.5,\"#f7f7f7\"],[0.6,\"#e6f5d0\"],[0.7,\"#b8e186\"],[0.8,\"#7fbc41\"],[0.9,\"#4d9221\"],[1,\"#276419\"]],\"sequential\":[[0.0,\"#0d0887\"],[0.1111111111111111,\"#46039f\"],[0.2222222222222222,\"#7201a8\"],[0.3333333333333333,\"#9c179e\"],[0.4444444444444444,\"#bd3786\"],[0.5555555555555556,\"#d8576b\"],[0.6666666666666666,\"#ed7953\"],[0.7777777777777778,\"#fb9f3a\"],[0.8888888888888888,\"#fdca26\"],[1.0,\"#f0f921\"]],\"sequentialminus\":[[0.0,\"#0d0887\"],[0.1111111111111111,\"#46039f\"],[0.2222222222222222,\"#7201a8\"],[0.3333333333333333,\"#9c179e\"],[0.4444444444444444,\"#bd3786\"],[0.5555555555555556,\"#d8576b\"],[0.6666666666666666,\"#ed7953\"],[0.7777777777777778,\"#fb9f3a\"],[0.8888888888888888,\"#fdca26\"],[1.0,\"#f0f921\"]]},\"colorway\":[\"#636efa\",\"#EF553B\",\"#00cc96\",\"#ab63fa\",\"#FFA15A\",\"#19d3f3\",\"#FF6692\",\"#B6E880\",\"#FF97FF\",\"#FECB52\"],\"font\":{\"color\":\"#2a3f5f\"},\"geo\":{\"bgcolor\":\"white\",\"lakecolor\":\"white\",\"landcolor\":\"white\",\"showlakes\":true,\"showland\":true,\"subunitcolor\":\"#C8D4E3\"},\"hoverlabel\":{\"align\":\"left\"},\"hovermode\":\"closest\",\"mapbox\":{\"style\":\"light\"},\"paper_bgcolor\":\"white\",\"plot_bgcolor\":\"white\",\"polar\":{\"angularaxis\":{\"gridcolor\":\"#EBF0F8\",\"linecolor\":\"#EBF0F8\",\"ticks\":\"\"},\"bgcolor\":\"white\",\"radialaxis\":{\"gridcolor\":\"#EBF0F8\",\"linecolor\":\"#EBF0F8\",\"ticks\":\"\"}},\"scene\":{\"xaxis\":{\"backgroundcolor\":\"white\",\"gridcolor\":\"#DFE8F3\",\"gridwidth\":2,\"linecolor\":\"#EBF0F8\",\"showbackground\":true,\"ticks\":\"\",\"zerolinecolor\":\"#EBF0F8\"},\"yaxis\":{\"backgroundcolor\":\"white\",\"gridcolor\":\"#DFE8F3\",\"gridwidth\":2,\"linecolor\":\"#EBF0F8\",\"showbackground\":true,\"ticks\":\"\",\"zerolinecolor\":\"#EBF0F8\"},\"zaxis\":{\"backgroundcolor\":\"white\",\"gridcolor\":\"#DFE8F3\",\"gridwidth\":2,\"linecolor\":\"#EBF0F8\",\"showbackground\":true,\"ticks\":\"\",\"zerolinecolor\":\"#EBF0F8\"}},\"shapedefaults\":{\"line\":{\"color\":\"#2a3f5f\"}},\"ternary\":{\"aaxis\":{\"gridcolor\":\"#DFE8F3\",\"linecolor\":\"#A2B1C6\",\"ticks\":\"\"},\"baxis\":{\"gridcolor\":\"#DFE8F3\",\"linecolor\":\"#A2B1C6\",\"ticks\":\"\"},\"bgcolor\":\"white\",\"caxis\":{\"gridcolor\":\"#DFE8F3\",\"linecolor\":\"#A2B1C6\",\"ticks\":\"\"}},\"title\":{\"x\":0.05},\"xaxis\":{\"automargin\":true,\"gridcolor\":\"#EBF0F8\",\"linecolor\":\"#EBF0F8\",\"ticks\":\"\",\"title\":{\"standoff\":15},\"zerolinecolor\":\"#EBF0F8\",\"zerolinewidth\":2},\"yaxis\":{\"automargin\":true,\"gridcolor\":\"#EBF0F8\",\"linecolor\":\"#EBF0F8\",\"ticks\":\"\",\"title\":{\"standoff\":15},\"zerolinecolor\":\"#EBF0F8\",\"zerolinewidth\":2}}},\"xaxis\":{\"anchor\":\"y\",\"domain\":[0.0,1.0],\"title\":{\"text\":\"Commit reveal rate interval\"}},\"yaxis\":{\"anchor\":\"x\",\"domain\":[0.0,1.0],\"title\":{\"text\":\"Relative Dividend Rate (G)\"}},\"legend\":{\"title\":{\"text\":\"Subnet\"},\"tracegroupgap\":0},\"title\":{\"text\":\"Relative Dividend Rate Of Weight Copier <br><sup> For subnets has a varying G that does not monotonically decrease with conceal period</sup>\"},\"height\":500,\"width\":1000,\"shapes\":[{\"line\":{\"color\":\"red\",\"dash\":\"dash\",\"width\":3},\"type\":\"line\",\"x0\":0,\"x1\":1,\"xref\":\"x domain\",\"y0\":1,\"y1\":1,\"yref\":\"y\"},{\"fillcolor\":\"red\",\"opacity\":0.1,\"type\":\"rect\",\"x0\":0,\"x1\":6840,\"y0\":1.15,\"y1\":1}],\"annotations\":[{\"showarrow\":false,\"text\":\"\",\"x\":1,\"xanchor\":\"right\",\"xref\":\"x domain\",\"y\":1,\"yanchor\":\"bottom\",\"yref\":\"y\"}]},                        {\"responsive\": true}                    ).then(function(){\n",
       "                            \n",
       "var gd = document.getElementById('c5fb824a-8011-4d3e-8821-24e1576c4d43');\n",
       "var x = new MutationObserver(function (mutations, observer) {{\n",
       "        var display = window.getComputedStyle(gd).display;\n",
       "        if (!display || display === 'none') {{\n",
       "            console.log([gd, 'removed!']);\n",
       "            Plotly.purge(gd);\n",
       "            observer.disconnect();\n",
       "        }}\n",
       "}});\n",
       "\n",
       "// Listen for the removal of the full notebook cells\n",
       "var notebookContainer = gd.closest('#notebook-container');\n",
       "if (notebookContainer) {{\n",
       "    x.observe(notebookContainer, {childList: true});\n",
       "}}\n",
       "\n",
       "// Listen for the clearing of the current output cell\n",
       "var outputEl = gd.closest('.output');\n",
       "if (outputEl) {{\n",
       "    x.observe(outputEl, {childList: true});\n",
       "}}\n",
       "\n",
       "                        })                };                });            </script>        </div>"
      ]
     },
     "metadata": {},
     "output_type": "display_data"
    },
    {
     "data": {
      "application/vnd.plotly.v1+json": {
       "config": {
        "plotlyServerURL": "https://plot.ly"
       },
       "data": [
        {
         "hovertemplate": "Subnet=5<br>Commit reveal rate interval=%{x}<br>Relative Dividend Rate (G)=%{y}<extra></extra>",
         "legendgroup": "5",
         "line": {
          "color": "#636efa",
          "dash": "solid"
         },
         "marker": {
          "symbol": "circle"
         },
         "mode": "lines",
         "name": "5",
         "orientation": "v",
         "showlegend": true,
         "type": "scatter",
         "x": [
          0,
          360,
          1080,
          1800,
          2520,
          3240,
          3960,
          4680,
          5400,
          6120,
          6840
         ],
         "xaxis": "x",
         "y": [
          1.0515787024935945,
          1.0319532231383708,
          1.0194880253876615,
          1.0109630463375303,
          1.0109201103299479,
          1.0100821371897983,
          1.0090409211649847,
          1.0049414516521118,
          1.0027612170220774,
          1.0110906006022478,
          1.011664290125968
         ],
         "yaxis": "y"
        },
        {
         "hovertemplate": "Subnet=9<br>Commit reveal rate interval=%{x}<br>Relative Dividend Rate (G)=%{y}<extra></extra>",
         "legendgroup": "9",
         "line": {
          "color": "#EF553B",
          "dash": "solid"
         },
         "marker": {
          "symbol": "circle"
         },
         "mode": "lines",
         "name": "9",
         "orientation": "v",
         "showlegend": true,
         "type": "scatter",
         "x": [
          0,
          360,
          1080,
          1800,
          2520,
          3240,
          3960,
          4680,
          5400,
          6120,
          6840
         ],
         "xaxis": "x",
         "y": [
          1.0011894310235863,
          1.0012279207348946,
          1.0013744425083988,
          1.001273687662505,
          1.0004146849591624,
          1.0013534609256773,
          1.0006916785845397,
          1.0010835790221913,
          1.0044649512719097,
          1.0024382494915267,
          1.0000828241952353
         ],
         "yaxis": "y"
        },
        {
         "hovertemplate": "Subnet=20<br>Commit reveal rate interval=%{x}<br>Relative Dividend Rate (G)=%{y}<extra></extra>",
         "legendgroup": "20",
         "line": {
          "color": "#00cc96",
          "dash": "solid"
         },
         "marker": {
          "symbol": "circle"
         },
         "mode": "lines",
         "name": "20",
         "orientation": "v",
         "showlegend": true,
         "type": "scatter",
         "x": [
          0,
          360,
          1080,
          1800,
          2520,
          3240,
          3960,
          4680,
          5400,
          6120,
          6840
         ],
         "xaxis": "x",
         "y": [
          1.012672534074553,
          1.0088850834601633,
          1.0073438276253137,
          1.0055645608690347,
          1.0040230427622552,
          1.0050198017124112,
          1.0054271903678837,
          1.0046600593356263,
          1.0034889178493742,
          1.005050117587908,
          1.0037401258513328
         ],
         "yaxis": "y"
        },
        {
         "hovertemplate": "Subnet=21<br>Commit reveal rate interval=%{x}<br>Relative Dividend Rate (G)=%{y}<extra></extra>",
         "legendgroup": "21",
         "line": {
          "color": "#ab63fa",
          "dash": "solid"
         },
         "marker": {
          "symbol": "circle"
         },
         "mode": "lines",
         "name": "21",
         "orientation": "v",
         "showlegend": true,
         "type": "scatter",
         "x": [
          0,
          360,
          1080,
          1800,
          2520,
          3240,
          3960,
          4680,
          5400,
          6120,
          6840
         ],
         "xaxis": "x",
         "y": [
          1.0243497218747593,
          1.0199083409283018,
          1.018280604970137,
          1.0171726836149937,
          1.0159339387722608,
          1.0069831602874548,
          1.0081374257633988,
          1.0032017350880817,
          1.001617240369916,
          1.0047620492944498,
          1.0070638104403271
         ],
         "yaxis": "y"
        },
        {
         "hovertemplate": "Subnet=26<br>Commit reveal rate interval=%{x}<br>Relative Dividend Rate (G)=%{y}<extra></extra>",
         "legendgroup": "26",
         "line": {
          "color": "#FFA15A",
          "dash": "solid"
         },
         "marker": {
          "symbol": "circle"
         },
         "mode": "lines",
         "name": "26",
         "orientation": "v",
         "showlegend": true,
         "type": "scatter",
         "x": [
          0,
          360,
          1080,
          1800,
          2520,
          3240,
          3960,
          4680,
          5400,
          6120,
          6840
         ],
         "xaxis": "x",
         "y": [
          1.031804238403586,
          1.0260665036729661,
          1.019103406221051,
          1.0170778385126469,
          1.0145110084808966,
          1.0124820237251333,
          1.0101549344477847,
          1.0087259400165707,
          1.0068710019799718,
          1.0094401660867012,
          1.0100025708711011
         ],
         "yaxis": "y"
        },
        {
         "hovertemplate": "Subnet=28<br>Commit reveal rate interval=%{x}<br>Relative Dividend Rate (G)=%{y}<extra></extra>",
         "legendgroup": "28",
         "line": {
          "color": "#19d3f3",
          "dash": "solid"
         },
         "marker": {
          "symbol": "circle"
         },
         "mode": "lines",
         "name": "28",
         "orientation": "v",
         "showlegend": true,
         "type": "scatter",
         "x": [
          0,
          360,
          1080,
          1800,
          2520,
          3240,
          3960,
          4680,
          5400,
          6120,
          6840
         ],
         "xaxis": "x",
         "y": [
          1.0385108199000743,
          1.038405801199364,
          1.035034998763425,
          1.0414595331192904,
          1.0345344438938127,
          1.0339524029936995,
          1.0356047023490766,
          1.03145427744629,
          1.0250404162008007,
          1.027538198745673,
          1.0244295730135344
         ],
         "yaxis": "y"
        },
        {
         "hovertemplate": "Subnet=29<br>Commit reveal rate interval=%{x}<br>Relative Dividend Rate (G)=%{y}<extra></extra>",
         "legendgroup": "29",
         "line": {
          "color": "#FF6692",
          "dash": "solid"
         },
         "marker": {
          "symbol": "circle"
         },
         "mode": "lines",
         "name": "29",
         "orientation": "v",
         "showlegend": true,
         "type": "scatter",
         "x": [
          0,
          360,
          1080,
          1800,
          2520,
          3240,
          3960,
          4680,
          5400,
          6120,
          6840
         ],
         "xaxis": "x",
         "y": [
          1.0000012446193887,
          1.0000054245496675,
          1.0000007592817586,
          1.0002922055666432,
          1.0000427414691728,
          1.0000082663945717,
          1.0000044627900189,
          1.0000034194868523,
          1.0000030334195078,
          1.0000058074754583,
          1.000060199148345
         ],
         "yaxis": "y"
        }
       ],
       "layout": {
        "annotations": [
         {
          "showarrow": false,
          "text": "",
          "x": 1,
          "xanchor": "right",
          "xref": "x domain",
          "y": 1,
          "yanchor": "bottom",
          "yref": "y"
         }
        ],
        "height": 500,
        "legend": {
         "title": {
          "text": "Subnet"
         },
         "tracegroupgap": 0
        },
        "shapes": [
         {
          "line": {
           "color": "red",
           "dash": "dash",
           "width": 3
          },
          "type": "line",
          "x0": 0,
          "x1": 1,
          "xref": "x domain",
          "y0": 1,
          "y1": 1,
          "yref": "y"
         },
         {
          "fillcolor": "red",
          "opacity": 0.1,
          "type": "rect",
          "x0": 0,
          "x1": 6840,
          "y0": 1,
          "y1": 1.06
         }
        ],
        "template": {
         "data": {
          "bar": [
           {
            "error_x": {
             "color": "#2a3f5f"
            },
            "error_y": {
             "color": "#2a3f5f"
            },
            "marker": {
             "line": {
              "color": "white",
              "width": 0.5
             },
             "pattern": {
              "fillmode": "overlay",
              "size": 10,
              "solidity": 0.2
             }
            },
            "type": "bar"
           }
          ],
          "barpolar": [
           {
            "marker": {
             "line": {
              "color": "white",
              "width": 0.5
             },
             "pattern": {
              "fillmode": "overlay",
              "size": 10,
              "solidity": 0.2
             }
            },
            "type": "barpolar"
           }
          ],
          "carpet": [
           {
            "aaxis": {
             "endlinecolor": "#2a3f5f",
             "gridcolor": "#C8D4E3",
             "linecolor": "#C8D4E3",
             "minorgridcolor": "#C8D4E3",
             "startlinecolor": "#2a3f5f"
            },
            "baxis": {
             "endlinecolor": "#2a3f5f",
             "gridcolor": "#C8D4E3",
             "linecolor": "#C8D4E3",
             "minorgridcolor": "#C8D4E3",
             "startlinecolor": "#2a3f5f"
            },
            "type": "carpet"
           }
          ],
          "choropleth": [
           {
            "colorbar": {
             "outlinewidth": 0,
             "ticks": ""
            },
            "type": "choropleth"
           }
          ],
          "contour": [
           {
            "colorbar": {
             "outlinewidth": 0,
             "ticks": ""
            },
            "colorscale": [
             [
              0,
              "#0d0887"
             ],
             [
              0.1111111111111111,
              "#46039f"
             ],
             [
              0.2222222222222222,
              "#7201a8"
             ],
             [
              0.3333333333333333,
              "#9c179e"
             ],
             [
              0.4444444444444444,
              "#bd3786"
             ],
             [
              0.5555555555555556,
              "#d8576b"
             ],
             [
              0.6666666666666666,
              "#ed7953"
             ],
             [
              0.7777777777777778,
              "#fb9f3a"
             ],
             [
              0.8888888888888888,
              "#fdca26"
             ],
             [
              1,
              "#f0f921"
             ]
            ],
            "type": "contour"
           }
          ],
          "contourcarpet": [
           {
            "colorbar": {
             "outlinewidth": 0,
             "ticks": ""
            },
            "type": "contourcarpet"
           }
          ],
          "heatmap": [
           {
            "colorbar": {
             "outlinewidth": 0,
             "ticks": ""
            },
            "colorscale": [
             [
              0,
              "#0d0887"
             ],
             [
              0.1111111111111111,
              "#46039f"
             ],
             [
              0.2222222222222222,
              "#7201a8"
             ],
             [
              0.3333333333333333,
              "#9c179e"
             ],
             [
              0.4444444444444444,
              "#bd3786"
             ],
             [
              0.5555555555555556,
              "#d8576b"
             ],
             [
              0.6666666666666666,
              "#ed7953"
             ],
             [
              0.7777777777777778,
              "#fb9f3a"
             ],
             [
              0.8888888888888888,
              "#fdca26"
             ],
             [
              1,
              "#f0f921"
             ]
            ],
            "type": "heatmap"
           }
          ],
          "heatmapgl": [
           {
            "colorbar": {
             "outlinewidth": 0,
             "ticks": ""
            },
            "colorscale": [
             [
              0,
              "#0d0887"
             ],
             [
              0.1111111111111111,
              "#46039f"
             ],
             [
              0.2222222222222222,
              "#7201a8"
             ],
             [
              0.3333333333333333,
              "#9c179e"
             ],
             [
              0.4444444444444444,
              "#bd3786"
             ],
             [
              0.5555555555555556,
              "#d8576b"
             ],
             [
              0.6666666666666666,
              "#ed7953"
             ],
             [
              0.7777777777777778,
              "#fb9f3a"
             ],
             [
              0.8888888888888888,
              "#fdca26"
             ],
             [
              1,
              "#f0f921"
             ]
            ],
            "type": "heatmapgl"
           }
          ],
          "histogram": [
           {
            "marker": {
             "pattern": {
              "fillmode": "overlay",
              "size": 10,
              "solidity": 0.2
             }
            },
            "type": "histogram"
           }
          ],
          "histogram2d": [
           {
            "colorbar": {
             "outlinewidth": 0,
             "ticks": ""
            },
            "colorscale": [
             [
              0,
              "#0d0887"
             ],
             [
              0.1111111111111111,
              "#46039f"
             ],
             [
              0.2222222222222222,
              "#7201a8"
             ],
             [
              0.3333333333333333,
              "#9c179e"
             ],
             [
              0.4444444444444444,
              "#bd3786"
             ],
             [
              0.5555555555555556,
              "#d8576b"
             ],
             [
              0.6666666666666666,
              "#ed7953"
             ],
             [
              0.7777777777777778,
              "#fb9f3a"
             ],
             [
              0.8888888888888888,
              "#fdca26"
             ],
             [
              1,
              "#f0f921"
             ]
            ],
            "type": "histogram2d"
           }
          ],
          "histogram2dcontour": [
           {
            "colorbar": {
             "outlinewidth": 0,
             "ticks": ""
            },
            "colorscale": [
             [
              0,
              "#0d0887"
             ],
             [
              0.1111111111111111,
              "#46039f"
             ],
             [
              0.2222222222222222,
              "#7201a8"
             ],
             [
              0.3333333333333333,
              "#9c179e"
             ],
             [
              0.4444444444444444,
              "#bd3786"
             ],
             [
              0.5555555555555556,
              "#d8576b"
             ],
             [
              0.6666666666666666,
              "#ed7953"
             ],
             [
              0.7777777777777778,
              "#fb9f3a"
             ],
             [
              0.8888888888888888,
              "#fdca26"
             ],
             [
              1,
              "#f0f921"
             ]
            ],
            "type": "histogram2dcontour"
           }
          ],
          "mesh3d": [
           {
            "colorbar": {
             "outlinewidth": 0,
             "ticks": ""
            },
            "type": "mesh3d"
           }
          ],
          "parcoords": [
           {
            "line": {
             "colorbar": {
              "outlinewidth": 0,
              "ticks": ""
             }
            },
            "type": "parcoords"
           }
          ],
          "pie": [
           {
            "automargin": true,
            "type": "pie"
           }
          ],
          "scatter": [
           {
            "fillpattern": {
             "fillmode": "overlay",
             "size": 10,
             "solidity": 0.2
            },
            "type": "scatter"
           }
          ],
          "scatter3d": [
           {
            "line": {
             "colorbar": {
              "outlinewidth": 0,
              "ticks": ""
             }
            },
            "marker": {
             "colorbar": {
              "outlinewidth": 0,
              "ticks": ""
             }
            },
            "type": "scatter3d"
           }
          ],
          "scattercarpet": [
           {
            "marker": {
             "colorbar": {
              "outlinewidth": 0,
              "ticks": ""
             }
            },
            "type": "scattercarpet"
           }
          ],
          "scattergeo": [
           {
            "marker": {
             "colorbar": {
              "outlinewidth": 0,
              "ticks": ""
             }
            },
            "type": "scattergeo"
           }
          ],
          "scattergl": [
           {
            "marker": {
             "colorbar": {
              "outlinewidth": 0,
              "ticks": ""
             }
            },
            "type": "scattergl"
           }
          ],
          "scattermapbox": [
           {
            "marker": {
             "colorbar": {
              "outlinewidth": 0,
              "ticks": ""
             }
            },
            "type": "scattermapbox"
           }
          ],
          "scatterpolar": [
           {
            "marker": {
             "colorbar": {
              "outlinewidth": 0,
              "ticks": ""
             }
            },
            "type": "scatterpolar"
           }
          ],
          "scatterpolargl": [
           {
            "marker": {
             "colorbar": {
              "outlinewidth": 0,
              "ticks": ""
             }
            },
            "type": "scatterpolargl"
           }
          ],
          "scatterternary": [
           {
            "marker": {
             "colorbar": {
              "outlinewidth": 0,
              "ticks": ""
             }
            },
            "type": "scatterternary"
           }
          ],
          "surface": [
           {
            "colorbar": {
             "outlinewidth": 0,
             "ticks": ""
            },
            "colorscale": [
             [
              0,
              "#0d0887"
             ],
             [
              0.1111111111111111,
              "#46039f"
             ],
             [
              0.2222222222222222,
              "#7201a8"
             ],
             [
              0.3333333333333333,
              "#9c179e"
             ],
             [
              0.4444444444444444,
              "#bd3786"
             ],
             [
              0.5555555555555556,
              "#d8576b"
             ],
             [
              0.6666666666666666,
              "#ed7953"
             ],
             [
              0.7777777777777778,
              "#fb9f3a"
             ],
             [
              0.8888888888888888,
              "#fdca26"
             ],
             [
              1,
              "#f0f921"
             ]
            ],
            "type": "surface"
           }
          ],
          "table": [
           {
            "cells": {
             "fill": {
              "color": "#EBF0F8"
             },
             "line": {
              "color": "white"
             }
            },
            "header": {
             "fill": {
              "color": "#C8D4E3"
             },
             "line": {
              "color": "white"
             }
            },
            "type": "table"
           }
          ]
         },
         "layout": {
          "annotationdefaults": {
           "arrowcolor": "#2a3f5f",
           "arrowhead": 0,
           "arrowwidth": 1
          },
          "autotypenumbers": "strict",
          "coloraxis": {
           "colorbar": {
            "outlinewidth": 0,
            "ticks": ""
           }
          },
          "colorscale": {
           "diverging": [
            [
             0,
             "#8e0152"
            ],
            [
             0.1,
             "#c51b7d"
            ],
            [
             0.2,
             "#de77ae"
            ],
            [
             0.3,
             "#f1b6da"
            ],
            [
             0.4,
             "#fde0ef"
            ],
            [
             0.5,
             "#f7f7f7"
            ],
            [
             0.6,
             "#e6f5d0"
            ],
            [
             0.7,
             "#b8e186"
            ],
            [
             0.8,
             "#7fbc41"
            ],
            [
             0.9,
             "#4d9221"
            ],
            [
             1,
             "#276419"
            ]
           ],
           "sequential": [
            [
             0,
             "#0d0887"
            ],
            [
             0.1111111111111111,
             "#46039f"
            ],
            [
             0.2222222222222222,
             "#7201a8"
            ],
            [
             0.3333333333333333,
             "#9c179e"
            ],
            [
             0.4444444444444444,
             "#bd3786"
            ],
            [
             0.5555555555555556,
             "#d8576b"
            ],
            [
             0.6666666666666666,
             "#ed7953"
            ],
            [
             0.7777777777777778,
             "#fb9f3a"
            ],
            [
             0.8888888888888888,
             "#fdca26"
            ],
            [
             1,
             "#f0f921"
            ]
           ],
           "sequentialminus": [
            [
             0,
             "#0d0887"
            ],
            [
             0.1111111111111111,
             "#46039f"
            ],
            [
             0.2222222222222222,
             "#7201a8"
            ],
            [
             0.3333333333333333,
             "#9c179e"
            ],
            [
             0.4444444444444444,
             "#bd3786"
            ],
            [
             0.5555555555555556,
             "#d8576b"
            ],
            [
             0.6666666666666666,
             "#ed7953"
            ],
            [
             0.7777777777777778,
             "#fb9f3a"
            ],
            [
             0.8888888888888888,
             "#fdca26"
            ],
            [
             1,
             "#f0f921"
            ]
           ]
          },
          "colorway": [
           "#636efa",
           "#EF553B",
           "#00cc96",
           "#ab63fa",
           "#FFA15A",
           "#19d3f3",
           "#FF6692",
           "#B6E880",
           "#FF97FF",
           "#FECB52"
          ],
          "font": {
           "color": "#2a3f5f"
          },
          "geo": {
           "bgcolor": "white",
           "lakecolor": "white",
           "landcolor": "white",
           "showlakes": true,
           "showland": true,
           "subunitcolor": "#C8D4E3"
          },
          "hoverlabel": {
           "align": "left"
          },
          "hovermode": "closest",
          "mapbox": {
           "style": "light"
          },
          "paper_bgcolor": "white",
          "plot_bgcolor": "white",
          "polar": {
           "angularaxis": {
            "gridcolor": "#EBF0F8",
            "linecolor": "#EBF0F8",
            "ticks": ""
           },
           "bgcolor": "white",
           "radialaxis": {
            "gridcolor": "#EBF0F8",
            "linecolor": "#EBF0F8",
            "ticks": ""
           }
          },
          "scene": {
           "xaxis": {
            "backgroundcolor": "white",
            "gridcolor": "#DFE8F3",
            "gridwidth": 2,
            "linecolor": "#EBF0F8",
            "showbackground": true,
            "ticks": "",
            "zerolinecolor": "#EBF0F8"
           },
           "yaxis": {
            "backgroundcolor": "white",
            "gridcolor": "#DFE8F3",
            "gridwidth": 2,
            "linecolor": "#EBF0F8",
            "showbackground": true,
            "ticks": "",
            "zerolinecolor": "#EBF0F8"
           },
           "zaxis": {
            "backgroundcolor": "white",
            "gridcolor": "#DFE8F3",
            "gridwidth": 2,
            "linecolor": "#EBF0F8",
            "showbackground": true,
            "ticks": "",
            "zerolinecolor": "#EBF0F8"
           }
          },
          "shapedefaults": {
           "line": {
            "color": "#2a3f5f"
           }
          },
          "ternary": {
           "aaxis": {
            "gridcolor": "#DFE8F3",
            "linecolor": "#A2B1C6",
            "ticks": ""
           },
           "baxis": {
            "gridcolor": "#DFE8F3",
            "linecolor": "#A2B1C6",
            "ticks": ""
           },
           "bgcolor": "white",
           "caxis": {
            "gridcolor": "#DFE8F3",
            "linecolor": "#A2B1C6",
            "ticks": ""
           }
          },
          "title": {
           "x": 0.05
          },
          "xaxis": {
           "automargin": true,
           "gridcolor": "#EBF0F8",
           "linecolor": "#EBF0F8",
           "ticks": "",
           "title": {
            "standoff": 15
           },
           "zerolinecolor": "#EBF0F8",
           "zerolinewidth": 2
          },
          "yaxis": {
           "automargin": true,
           "gridcolor": "#EBF0F8",
           "linecolor": "#EBF0F8",
           "ticks": "",
           "title": {
            "standoff": 15
           },
           "zerolinecolor": "#EBF0F8",
           "zerolinewidth": 2
          }
         }
        },
        "title": {
         "text": "Relative Dividend Rate Of Weight Copier <Br><Sup> For Subnets That Results In G > 1</Sup>"
        },
        "width": 1000,
        "xaxis": {
         "anchor": "y",
         "domain": [
          0,
          1
         ],
         "title": {
          "text": "Commit reveal rate interval"
         }
        },
        "yaxis": {
         "anchor": "x",
         "domain": [
          0,
          1
         ],
         "range": [
          0.99,
          1.06
         ],
         "title": {
          "text": "Relative Dividend Rate (G)"
         }
        }
       }
      },
      "text/html": [
       "<div>                            <div id=\"532bbc18-32b8-407c-9705-3ab5bf525a8f\" class=\"plotly-graph-div\" style=\"height:500px; width:1000px;\"></div>            <script type=\"text/javascript\">                require([\"plotly\"], function(Plotly) {                    window.PLOTLYENV=window.PLOTLYENV || {};                                    if (document.getElementById(\"532bbc18-32b8-407c-9705-3ab5bf525a8f\")) {                    Plotly.newPlot(                        \"532bbc18-32b8-407c-9705-3ab5bf525a8f\",                        [{\"hovertemplate\":\"Subnet=5<br>Commit reveal rate interval=%{x}<br>Relative Dividend Rate (G)=%{y}<extra></extra>\",\"legendgroup\":\"5\",\"line\":{\"color\":\"#636efa\",\"dash\":\"solid\"},\"marker\":{\"symbol\":\"circle\"},\"mode\":\"lines\",\"name\":\"5\",\"orientation\":\"v\",\"showlegend\":true,\"x\":[0,360,1080,1800,2520,3240,3960,4680,5400,6120,6840],\"xaxis\":\"x\",\"y\":[1.0515787024935945,1.0319532231383708,1.0194880253876615,1.0109630463375303,1.0109201103299479,1.0100821371897983,1.0090409211649847,1.0049414516521118,1.0027612170220774,1.0110906006022478,1.011664290125968],\"yaxis\":\"y\",\"type\":\"scatter\"},{\"hovertemplate\":\"Subnet=9<br>Commit reveal rate interval=%{x}<br>Relative Dividend Rate (G)=%{y}<extra></extra>\",\"legendgroup\":\"9\",\"line\":{\"color\":\"#EF553B\",\"dash\":\"solid\"},\"marker\":{\"symbol\":\"circle\"},\"mode\":\"lines\",\"name\":\"9\",\"orientation\":\"v\",\"showlegend\":true,\"x\":[0,360,1080,1800,2520,3240,3960,4680,5400,6120,6840],\"xaxis\":\"x\",\"y\":[1.0011894310235863,1.0012279207348946,1.0013744425083988,1.001273687662505,1.0004146849591624,1.0013534609256773,1.0006916785845397,1.0010835790221913,1.0044649512719097,1.0024382494915267,1.0000828241952353],\"yaxis\":\"y\",\"type\":\"scatter\"},{\"hovertemplate\":\"Subnet=20<br>Commit reveal rate interval=%{x}<br>Relative Dividend Rate (G)=%{y}<extra></extra>\",\"legendgroup\":\"20\",\"line\":{\"color\":\"#00cc96\",\"dash\":\"solid\"},\"marker\":{\"symbol\":\"circle\"},\"mode\":\"lines\",\"name\":\"20\",\"orientation\":\"v\",\"showlegend\":true,\"x\":[0,360,1080,1800,2520,3240,3960,4680,5400,6120,6840],\"xaxis\":\"x\",\"y\":[1.012672534074553,1.0088850834601633,1.0073438276253137,1.0055645608690347,1.0040230427622552,1.0050198017124112,1.0054271903678837,1.0046600593356263,1.0034889178493742,1.005050117587908,1.0037401258513328],\"yaxis\":\"y\",\"type\":\"scatter\"},{\"hovertemplate\":\"Subnet=21<br>Commit reveal rate interval=%{x}<br>Relative Dividend Rate (G)=%{y}<extra></extra>\",\"legendgroup\":\"21\",\"line\":{\"color\":\"#ab63fa\",\"dash\":\"solid\"},\"marker\":{\"symbol\":\"circle\"},\"mode\":\"lines\",\"name\":\"21\",\"orientation\":\"v\",\"showlegend\":true,\"x\":[0,360,1080,1800,2520,3240,3960,4680,5400,6120,6840],\"xaxis\":\"x\",\"y\":[1.0243497218747593,1.0199083409283018,1.018280604970137,1.0171726836149937,1.0159339387722608,1.0069831602874548,1.0081374257633988,1.0032017350880817,1.001617240369916,1.0047620492944498,1.0070638104403271],\"yaxis\":\"y\",\"type\":\"scatter\"},{\"hovertemplate\":\"Subnet=26<br>Commit reveal rate interval=%{x}<br>Relative Dividend Rate (G)=%{y}<extra></extra>\",\"legendgroup\":\"26\",\"line\":{\"color\":\"#FFA15A\",\"dash\":\"solid\"},\"marker\":{\"symbol\":\"circle\"},\"mode\":\"lines\",\"name\":\"26\",\"orientation\":\"v\",\"showlegend\":true,\"x\":[0,360,1080,1800,2520,3240,3960,4680,5400,6120,6840],\"xaxis\":\"x\",\"y\":[1.031804238403586,1.0260665036729661,1.019103406221051,1.0170778385126469,1.0145110084808966,1.0124820237251333,1.0101549344477847,1.0087259400165707,1.0068710019799718,1.0094401660867012,1.0100025708711011],\"yaxis\":\"y\",\"type\":\"scatter\"},{\"hovertemplate\":\"Subnet=28<br>Commit reveal rate interval=%{x}<br>Relative Dividend Rate (G)=%{y}<extra></extra>\",\"legendgroup\":\"28\",\"line\":{\"color\":\"#19d3f3\",\"dash\":\"solid\"},\"marker\":{\"symbol\":\"circle\"},\"mode\":\"lines\",\"name\":\"28\",\"orientation\":\"v\",\"showlegend\":true,\"x\":[0,360,1080,1800,2520,3240,3960,4680,5400,6120,6840],\"xaxis\":\"x\",\"y\":[1.0385108199000743,1.038405801199364,1.035034998763425,1.0414595331192904,1.0345344438938127,1.0339524029936995,1.0356047023490766,1.03145427744629,1.0250404162008007,1.027538198745673,1.0244295730135344],\"yaxis\":\"y\",\"type\":\"scatter\"},{\"hovertemplate\":\"Subnet=29<br>Commit reveal rate interval=%{x}<br>Relative Dividend Rate (G)=%{y}<extra></extra>\",\"legendgroup\":\"29\",\"line\":{\"color\":\"#FF6692\",\"dash\":\"solid\"},\"marker\":{\"symbol\":\"circle\"},\"mode\":\"lines\",\"name\":\"29\",\"orientation\":\"v\",\"showlegend\":true,\"x\":[0,360,1080,1800,2520,3240,3960,4680,5400,6120,6840],\"xaxis\":\"x\",\"y\":[1.0000012446193887,1.0000054245496675,1.0000007592817586,1.0002922055666432,1.0000427414691728,1.0000082663945717,1.0000044627900189,1.0000034194868523,1.0000030334195078,1.0000058074754583,1.000060199148345],\"yaxis\":\"y\",\"type\":\"scatter\"}],                        {\"template\":{\"data\":{\"barpolar\":[{\"marker\":{\"line\":{\"color\":\"white\",\"width\":0.5},\"pattern\":{\"fillmode\":\"overlay\",\"size\":10,\"solidity\":0.2}},\"type\":\"barpolar\"}],\"bar\":[{\"error_x\":{\"color\":\"#2a3f5f\"},\"error_y\":{\"color\":\"#2a3f5f\"},\"marker\":{\"line\":{\"color\":\"white\",\"width\":0.5},\"pattern\":{\"fillmode\":\"overlay\",\"size\":10,\"solidity\":0.2}},\"type\":\"bar\"}],\"carpet\":[{\"aaxis\":{\"endlinecolor\":\"#2a3f5f\",\"gridcolor\":\"#C8D4E3\",\"linecolor\":\"#C8D4E3\",\"minorgridcolor\":\"#C8D4E3\",\"startlinecolor\":\"#2a3f5f\"},\"baxis\":{\"endlinecolor\":\"#2a3f5f\",\"gridcolor\":\"#C8D4E3\",\"linecolor\":\"#C8D4E3\",\"minorgridcolor\":\"#C8D4E3\",\"startlinecolor\":\"#2a3f5f\"},\"type\":\"carpet\"}],\"choropleth\":[{\"colorbar\":{\"outlinewidth\":0,\"ticks\":\"\"},\"type\":\"choropleth\"}],\"contourcarpet\":[{\"colorbar\":{\"outlinewidth\":0,\"ticks\":\"\"},\"type\":\"contourcarpet\"}],\"contour\":[{\"colorbar\":{\"outlinewidth\":0,\"ticks\":\"\"},\"colorscale\":[[0.0,\"#0d0887\"],[0.1111111111111111,\"#46039f\"],[0.2222222222222222,\"#7201a8\"],[0.3333333333333333,\"#9c179e\"],[0.4444444444444444,\"#bd3786\"],[0.5555555555555556,\"#d8576b\"],[0.6666666666666666,\"#ed7953\"],[0.7777777777777778,\"#fb9f3a\"],[0.8888888888888888,\"#fdca26\"],[1.0,\"#f0f921\"]],\"type\":\"contour\"}],\"heatmapgl\":[{\"colorbar\":{\"outlinewidth\":0,\"ticks\":\"\"},\"colorscale\":[[0.0,\"#0d0887\"],[0.1111111111111111,\"#46039f\"],[0.2222222222222222,\"#7201a8\"],[0.3333333333333333,\"#9c179e\"],[0.4444444444444444,\"#bd3786\"],[0.5555555555555556,\"#d8576b\"],[0.6666666666666666,\"#ed7953\"],[0.7777777777777778,\"#fb9f3a\"],[0.8888888888888888,\"#fdca26\"],[1.0,\"#f0f921\"]],\"type\":\"heatmapgl\"}],\"heatmap\":[{\"colorbar\":{\"outlinewidth\":0,\"ticks\":\"\"},\"colorscale\":[[0.0,\"#0d0887\"],[0.1111111111111111,\"#46039f\"],[0.2222222222222222,\"#7201a8\"],[0.3333333333333333,\"#9c179e\"],[0.4444444444444444,\"#bd3786\"],[0.5555555555555556,\"#d8576b\"],[0.6666666666666666,\"#ed7953\"],[0.7777777777777778,\"#fb9f3a\"],[0.8888888888888888,\"#fdca26\"],[1.0,\"#f0f921\"]],\"type\":\"heatmap\"}],\"histogram2dcontour\":[{\"colorbar\":{\"outlinewidth\":0,\"ticks\":\"\"},\"colorscale\":[[0.0,\"#0d0887\"],[0.1111111111111111,\"#46039f\"],[0.2222222222222222,\"#7201a8\"],[0.3333333333333333,\"#9c179e\"],[0.4444444444444444,\"#bd3786\"],[0.5555555555555556,\"#d8576b\"],[0.6666666666666666,\"#ed7953\"],[0.7777777777777778,\"#fb9f3a\"],[0.8888888888888888,\"#fdca26\"],[1.0,\"#f0f921\"]],\"type\":\"histogram2dcontour\"}],\"histogram2d\":[{\"colorbar\":{\"outlinewidth\":0,\"ticks\":\"\"},\"colorscale\":[[0.0,\"#0d0887\"],[0.1111111111111111,\"#46039f\"],[0.2222222222222222,\"#7201a8\"],[0.3333333333333333,\"#9c179e\"],[0.4444444444444444,\"#bd3786\"],[0.5555555555555556,\"#d8576b\"],[0.6666666666666666,\"#ed7953\"],[0.7777777777777778,\"#fb9f3a\"],[0.8888888888888888,\"#fdca26\"],[1.0,\"#f0f921\"]],\"type\":\"histogram2d\"}],\"histogram\":[{\"marker\":{\"pattern\":{\"fillmode\":\"overlay\",\"size\":10,\"solidity\":0.2}},\"type\":\"histogram\"}],\"mesh3d\":[{\"colorbar\":{\"outlinewidth\":0,\"ticks\":\"\"},\"type\":\"mesh3d\"}],\"parcoords\":[{\"line\":{\"colorbar\":{\"outlinewidth\":0,\"ticks\":\"\"}},\"type\":\"parcoords\"}],\"pie\":[{\"automargin\":true,\"type\":\"pie\"}],\"scatter3d\":[{\"line\":{\"colorbar\":{\"outlinewidth\":0,\"ticks\":\"\"}},\"marker\":{\"colorbar\":{\"outlinewidth\":0,\"ticks\":\"\"}},\"type\":\"scatter3d\"}],\"scattercarpet\":[{\"marker\":{\"colorbar\":{\"outlinewidth\":0,\"ticks\":\"\"}},\"type\":\"scattercarpet\"}],\"scattergeo\":[{\"marker\":{\"colorbar\":{\"outlinewidth\":0,\"ticks\":\"\"}},\"type\":\"scattergeo\"}],\"scattergl\":[{\"marker\":{\"colorbar\":{\"outlinewidth\":0,\"ticks\":\"\"}},\"type\":\"scattergl\"}],\"scattermapbox\":[{\"marker\":{\"colorbar\":{\"outlinewidth\":0,\"ticks\":\"\"}},\"type\":\"scattermapbox\"}],\"scatterpolargl\":[{\"marker\":{\"colorbar\":{\"outlinewidth\":0,\"ticks\":\"\"}},\"type\":\"scatterpolargl\"}],\"scatterpolar\":[{\"marker\":{\"colorbar\":{\"outlinewidth\":0,\"ticks\":\"\"}},\"type\":\"scatterpolar\"}],\"scatter\":[{\"fillpattern\":{\"fillmode\":\"overlay\",\"size\":10,\"solidity\":0.2},\"type\":\"scatter\"}],\"scatterternary\":[{\"marker\":{\"colorbar\":{\"outlinewidth\":0,\"ticks\":\"\"}},\"type\":\"scatterternary\"}],\"surface\":[{\"colorbar\":{\"outlinewidth\":0,\"ticks\":\"\"},\"colorscale\":[[0.0,\"#0d0887\"],[0.1111111111111111,\"#46039f\"],[0.2222222222222222,\"#7201a8\"],[0.3333333333333333,\"#9c179e\"],[0.4444444444444444,\"#bd3786\"],[0.5555555555555556,\"#d8576b\"],[0.6666666666666666,\"#ed7953\"],[0.7777777777777778,\"#fb9f3a\"],[0.8888888888888888,\"#fdca26\"],[1.0,\"#f0f921\"]],\"type\":\"surface\"}],\"table\":[{\"cells\":{\"fill\":{\"color\":\"#EBF0F8\"},\"line\":{\"color\":\"white\"}},\"header\":{\"fill\":{\"color\":\"#C8D4E3\"},\"line\":{\"color\":\"white\"}},\"type\":\"table\"}]},\"layout\":{\"annotationdefaults\":{\"arrowcolor\":\"#2a3f5f\",\"arrowhead\":0,\"arrowwidth\":1},\"autotypenumbers\":\"strict\",\"coloraxis\":{\"colorbar\":{\"outlinewidth\":0,\"ticks\":\"\"}},\"colorscale\":{\"diverging\":[[0,\"#8e0152\"],[0.1,\"#c51b7d\"],[0.2,\"#de77ae\"],[0.3,\"#f1b6da\"],[0.4,\"#fde0ef\"],[0.5,\"#f7f7f7\"],[0.6,\"#e6f5d0\"],[0.7,\"#b8e186\"],[0.8,\"#7fbc41\"],[0.9,\"#4d9221\"],[1,\"#276419\"]],\"sequential\":[[0.0,\"#0d0887\"],[0.1111111111111111,\"#46039f\"],[0.2222222222222222,\"#7201a8\"],[0.3333333333333333,\"#9c179e\"],[0.4444444444444444,\"#bd3786\"],[0.5555555555555556,\"#d8576b\"],[0.6666666666666666,\"#ed7953\"],[0.7777777777777778,\"#fb9f3a\"],[0.8888888888888888,\"#fdca26\"],[1.0,\"#f0f921\"]],\"sequentialminus\":[[0.0,\"#0d0887\"],[0.1111111111111111,\"#46039f\"],[0.2222222222222222,\"#7201a8\"],[0.3333333333333333,\"#9c179e\"],[0.4444444444444444,\"#bd3786\"],[0.5555555555555556,\"#d8576b\"],[0.6666666666666666,\"#ed7953\"],[0.7777777777777778,\"#fb9f3a\"],[0.8888888888888888,\"#fdca26\"],[1.0,\"#f0f921\"]]},\"colorway\":[\"#636efa\",\"#EF553B\",\"#00cc96\",\"#ab63fa\",\"#FFA15A\",\"#19d3f3\",\"#FF6692\",\"#B6E880\",\"#FF97FF\",\"#FECB52\"],\"font\":{\"color\":\"#2a3f5f\"},\"geo\":{\"bgcolor\":\"white\",\"lakecolor\":\"white\",\"landcolor\":\"white\",\"showlakes\":true,\"showland\":true,\"subunitcolor\":\"#C8D4E3\"},\"hoverlabel\":{\"align\":\"left\"},\"hovermode\":\"closest\",\"mapbox\":{\"style\":\"light\"},\"paper_bgcolor\":\"white\",\"plot_bgcolor\":\"white\",\"polar\":{\"angularaxis\":{\"gridcolor\":\"#EBF0F8\",\"linecolor\":\"#EBF0F8\",\"ticks\":\"\"},\"bgcolor\":\"white\",\"radialaxis\":{\"gridcolor\":\"#EBF0F8\",\"linecolor\":\"#EBF0F8\",\"ticks\":\"\"}},\"scene\":{\"xaxis\":{\"backgroundcolor\":\"white\",\"gridcolor\":\"#DFE8F3\",\"gridwidth\":2,\"linecolor\":\"#EBF0F8\",\"showbackground\":true,\"ticks\":\"\",\"zerolinecolor\":\"#EBF0F8\"},\"yaxis\":{\"backgroundcolor\":\"white\",\"gridcolor\":\"#DFE8F3\",\"gridwidth\":2,\"linecolor\":\"#EBF0F8\",\"showbackground\":true,\"ticks\":\"\",\"zerolinecolor\":\"#EBF0F8\"},\"zaxis\":{\"backgroundcolor\":\"white\",\"gridcolor\":\"#DFE8F3\",\"gridwidth\":2,\"linecolor\":\"#EBF0F8\",\"showbackground\":true,\"ticks\":\"\",\"zerolinecolor\":\"#EBF0F8\"}},\"shapedefaults\":{\"line\":{\"color\":\"#2a3f5f\"}},\"ternary\":{\"aaxis\":{\"gridcolor\":\"#DFE8F3\",\"linecolor\":\"#A2B1C6\",\"ticks\":\"\"},\"baxis\":{\"gridcolor\":\"#DFE8F3\",\"linecolor\":\"#A2B1C6\",\"ticks\":\"\"},\"bgcolor\":\"white\",\"caxis\":{\"gridcolor\":\"#DFE8F3\",\"linecolor\":\"#A2B1C6\",\"ticks\":\"\"}},\"title\":{\"x\":0.05},\"xaxis\":{\"automargin\":true,\"gridcolor\":\"#EBF0F8\",\"linecolor\":\"#EBF0F8\",\"ticks\":\"\",\"title\":{\"standoff\":15},\"zerolinecolor\":\"#EBF0F8\",\"zerolinewidth\":2},\"yaxis\":{\"automargin\":true,\"gridcolor\":\"#EBF0F8\",\"linecolor\":\"#EBF0F8\",\"ticks\":\"\",\"title\":{\"standoff\":15},\"zerolinecolor\":\"#EBF0F8\",\"zerolinewidth\":2}}},\"xaxis\":{\"anchor\":\"y\",\"domain\":[0.0,1.0],\"title\":{\"text\":\"Commit reveal rate interval\"}},\"yaxis\":{\"anchor\":\"x\",\"domain\":[0.0,1.0],\"title\":{\"text\":\"Relative Dividend Rate (G)\"},\"range\":[0.99,1.06]},\"legend\":{\"title\":{\"text\":\"Subnet\"},\"tracegroupgap\":0},\"title\":{\"text\":\"Relative Dividend Rate Of Weight Copier <Br><Sup> For Subnets That Results In G > 1</Sup>\"},\"height\":500,\"width\":1000,\"shapes\":[{\"line\":{\"color\":\"red\",\"dash\":\"dash\",\"width\":3},\"type\":\"line\",\"x0\":0,\"x1\":1,\"xref\":\"x domain\",\"y0\":1,\"y1\":1,\"yref\":\"y\"},{\"fillcolor\":\"red\",\"opacity\":0.1,\"type\":\"rect\",\"x0\":0,\"x1\":6840,\"y0\":1,\"y1\":1.06}],\"annotations\":[{\"showarrow\":false,\"text\":\"\",\"x\":1,\"xanchor\":\"right\",\"xref\":\"x domain\",\"y\":1,\"yanchor\":\"bottom\",\"yref\":\"y\"}]},                        {\"responsive\": true}                    ).then(function(){\n",
       "                            \n",
       "var gd = document.getElementById('532bbc18-32b8-407c-9705-3ab5bf525a8f');\n",
       "var x = new MutationObserver(function (mutations, observer) {{\n",
       "        var display = window.getComputedStyle(gd).display;\n",
       "        if (!display || display === 'none') {{\n",
       "            console.log([gd, 'removed!']);\n",
       "            Plotly.purge(gd);\n",
       "            observer.disconnect();\n",
       "        }}\n",
       "}});\n",
       "\n",
       "// Listen for the removal of the full notebook cells\n",
       "var notebookContainer = gd.closest('#notebook-container');\n",
       "if (notebookContainer) {{\n",
       "    x.observe(notebookContainer, {childList: true});\n",
       "}}\n",
       "\n",
       "// Listen for the clearing of the current output cell\n",
       "var outputEl = gd.closest('.output');\n",
       "if (outputEl) {{\n",
       "    x.observe(outputEl, {childList: true});\n",
       "}}\n",
       "\n",
       "                        })                };                });            </script>        </div>"
      ]
     },
     "metadata": {},
     "output_type": "display_data"
    },
    {
     "data": {
      "application/vnd.plotly.v1+json": {
       "config": {
        "plotlyServerURL": "https://plot.ly"
       },
       "data": [
        {
         "hovertemplate": "Subnet=2<br>Commit reveal rate interval=%{x}<br>Relative Dividend Rate (G)=%{y}<extra></extra>",
         "legendgroup": "2",
         "line": {
          "color": "#636efa",
          "dash": "solid"
         },
         "marker": {
          "symbol": "circle"
         },
         "mode": "lines",
         "name": "2",
         "orientation": "v",
         "showlegend": true,
         "type": "scatter",
         "x": [
          0,
          360,
          1080,
          1800,
          2520,
          3240,
          3960,
          4680,
          5400,
          6120,
          6840
         ],
         "xaxis": "x",
         "y": [
          1.0154565177819124,
          0.9956798385876107,
          0.9876474237718017,
          0.9851751999916717,
          0.9859129524951953,
          0.9859394926439203,
          0.9856945845352485,
          0.9847973000105715,
          0.9843905945322848,
          0.9846650788186825,
          0.9845915484114774
         ],
         "yaxis": "y"
        },
        {
         "hovertemplate": "Subnet=4<br>Commit reveal rate interval=%{x}<br>Relative Dividend Rate (G)=%{y}<extra></extra>",
         "legendgroup": "4",
         "line": {
          "color": "#EF553B",
          "dash": "solid"
         },
         "marker": {
          "symbol": "circle"
         },
         "mode": "lines",
         "name": "4",
         "orientation": "v",
         "showlegend": true,
         "type": "scatter",
         "x": [
          0,
          360,
          1080,
          1800,
          2520,
          3240,
          3960,
          4680,
          5400,
          6120,
          6840
         ],
         "xaxis": "x",
         "y": [
          1.0018677744749602,
          1.0023785552209072,
          1.001426963450308,
          1.0003909065436614,
          0.9998886017897448,
          0.9999221640036121,
          0.9999082125986121,
          0.9999188938148401,
          0.9998844412195482,
          0.9999370949576843,
          0.9999385483852553
         ],
         "yaxis": "y"
        },
        {
         "hovertemplate": "Subnet=7<br>Commit reveal rate interval=%{x}<br>Relative Dividend Rate (G)=%{y}<extra></extra>",
         "legendgroup": "7",
         "line": {
          "color": "#00cc96",
          "dash": "solid"
         },
         "marker": {
          "symbol": "circle"
         },
         "mode": "lines",
         "name": "7",
         "orientation": "v",
         "showlegend": true,
         "type": "scatter",
         "x": [
          0,
          360,
          1080,
          1800,
          2520,
          3240,
          3960,
          4680,
          5400,
          6120,
          6840
         ],
         "xaxis": "x",
         "y": [
          1.0083285188200108,
          1.0050180891821232,
          0.9905338454919357,
          0.9886289876917445,
          0.9825381303212944,
          0.9799586203502045,
          0.9750696285839644,
          0.9767011014055128,
          0.9766002813900962,
          0.9761754873015716,
          0.9799381906893738
         ],
         "yaxis": "y"
        },
        {
         "hovertemplate": "Subnet=8<br>Commit reveal rate interval=%{x}<br>Relative Dividend Rate (G)=%{y}<extra></extra>",
         "legendgroup": "8",
         "line": {
          "color": "#ab63fa",
          "dash": "solid"
         },
         "marker": {
          "symbol": "circle"
         },
         "mode": "lines",
         "name": "8",
         "orientation": "v",
         "showlegend": true,
         "type": "scatter",
         "x": [
          0,
          360,
          1080,
          1800,
          2520,
          3240,
          3960,
          4680,
          5400,
          6120,
          6840
         ],
         "xaxis": "x",
         "y": [
          1.0536900665406181,
          1.0465339796224291,
          1.0272563345660304,
          1.0009191925922496,
          1.0005177910125969,
          0.951035626738337,
          0.9515511253654283,
          0.9539579822276375,
          0.9433038169709096,
          0.965230625352557,
          0.40861517917388734
         ],
         "yaxis": "y"
        },
        {
         "hovertemplate": "Subnet=10<br>Commit reveal rate interval=%{x}<br>Relative Dividend Rate (G)=%{y}<extra></extra>",
         "legendgroup": "10",
         "line": {
          "color": "#FFA15A",
          "dash": "solid"
         },
         "marker": {
          "symbol": "circle"
         },
         "mode": "lines",
         "name": "10",
         "orientation": "v",
         "showlegend": true,
         "type": "scatter",
         "x": [
          0,
          360,
          1080,
          1800,
          2520,
          3240,
          3960,
          4680,
          5400,
          6120,
          6840
         ],
         "xaxis": "x",
         "y": [
          1.000852936301388,
          0.9956529648846013,
          0.9577296753217992,
          0.933495281700061,
          0.965366112226137,
          0.9531368340689581,
          0.9705645889558542,
          0.9704145444612852,
          0.9812741748233896,
          0.8983085595801815,
          0.8987641897072142
         ],
         "yaxis": "y"
        },
        {
         "hovertemplate": "Subnet=12<br>Commit reveal rate interval=%{x}<br>Relative Dividend Rate (G)=%{y}<extra></extra>",
         "legendgroup": "12",
         "line": {
          "color": "#19d3f3",
          "dash": "solid"
         },
         "marker": {
          "symbol": "circle"
         },
         "mode": "lines",
         "name": "12",
         "orientation": "v",
         "showlegend": true,
         "type": "scatter",
         "x": [
          0,
          360,
          1080,
          1800,
          2520,
          3240,
          3960,
          4680,
          5400,
          6120,
          6840
         ],
         "xaxis": "x",
         "y": [
          1.0104370624694516,
          0.9917090553192838,
          0.98834194965414,
          0.9882347611351265,
          0.992248664609255,
          0.9826153701424374,
          0.9829883485417162,
          0.9828744511812234,
          0.984275868931659,
          0.9824867163342056,
          0.9795472379291051
         ],
         "yaxis": "y"
        },
        {
         "hovertemplate": "Subnet=14<br>Commit reveal rate interval=%{x}<br>Relative Dividend Rate (G)=%{y}<extra></extra>",
         "legendgroup": "14",
         "line": {
          "color": "#FF6692",
          "dash": "solid"
         },
         "marker": {
          "symbol": "circle"
         },
         "mode": "lines",
         "name": "14",
         "orientation": "v",
         "showlegend": true,
         "type": "scatter",
         "x": [
          0,
          360,
          1080,
          1800,
          2520,
          3240,
          3960,
          4680,
          5400,
          6120,
          6840
         ],
         "xaxis": "x",
         "y": [
          1.011081399267107,
          1.000849035272075,
          1.00154440654623,
          1.001312197243239,
          1.0033282311039395,
          1.0033055279099403,
          1.0033120303412086,
          0.9996853641764268,
          0.9981333073570111,
          0.9972021498489083,
          0.9994484755765176
         ],
         "yaxis": "y"
        },
        {
         "hovertemplate": "Subnet=15<br>Commit reveal rate interval=%{x}<br>Relative Dividend Rate (G)=%{y}<extra></extra>",
         "legendgroup": "15",
         "line": {
          "color": "#B6E880",
          "dash": "solid"
         },
         "marker": {
          "symbol": "circle"
         },
         "mode": "lines",
         "name": "15",
         "orientation": "v",
         "showlegend": true,
         "type": "scatter",
         "x": [
          0,
          360,
          1080,
          1800,
          2520,
          3240,
          3960,
          4680,
          5400,
          6120,
          6840
         ],
         "xaxis": "x",
         "y": [
          1.0212755066576318,
          1.0174534378511522,
          1.012750328627697,
          1.008515650991064,
          1.006590086375748,
          1.0027621247991934,
          0.9955433521436943,
          0.9931831607867636,
          0.9880439085833412,
          0.9866619341653091,
          0.9851489340244873
         ],
         "yaxis": "y"
        },
        {
         "hovertemplate": "Subnet=16<br>Commit reveal rate interval=%{x}<br>Relative Dividend Rate (G)=%{y}<extra></extra>",
         "legendgroup": "16",
         "line": {
          "color": "#FF97FF",
          "dash": "solid"
         },
         "marker": {
          "symbol": "circle"
         },
         "mode": "lines",
         "name": "16",
         "orientation": "v",
         "showlegend": true,
         "type": "scatter",
         "x": [
          0,
          360,
          1080,
          1800,
          2520,
          3240,
          3960,
          4680,
          5400,
          6120,
          6840
         ],
         "xaxis": "x",
         "y": [
          1.0064639037235599,
          0.9600875725634515,
          0.9244439935397177,
          0.9173052265080675,
          0.911485696213599,
          0.906623472309963,
          0.9082845786479827,
          0.9054964478012429,
          0.9034371238114933,
          0.8940630910781645,
          0.8828315159438258
         ],
         "yaxis": "y"
        },
        {
         "hovertemplate": "Subnet=17<br>Commit reveal rate interval=%{x}<br>Relative Dividend Rate (G)=%{y}<extra></extra>",
         "legendgroup": "17",
         "line": {
          "color": "#FECB52",
          "dash": "solid"
         },
         "marker": {
          "symbol": "circle"
         },
         "mode": "lines",
         "name": "17",
         "orientation": "v",
         "showlegend": true,
         "type": "scatter",
         "x": [
          0,
          360,
          1080,
          1800,
          2520,
          3240,
          3960,
          4680,
          5400,
          6120,
          6840
         ],
         "xaxis": "x",
         "y": [
          1.0259040605559033,
          1.0144212485774193,
          1.0048792923121577,
          0.9968205791348895,
          0.9949286145484895,
          0.9947871736192924,
          0.994502410526886,
          0.9860146323549385,
          0.9799976928500316,
          0.9760557821494295,
          0.9728710088469457
         ],
         "yaxis": "y"
        },
        {
         "hovertemplate": "Subnet=18<br>Commit reveal rate interval=%{x}<br>Relative Dividend Rate (G)=%{y}<extra></extra>",
         "legendgroup": "18",
         "line": {
          "color": "#636efa",
          "dash": "solid"
         },
         "marker": {
          "symbol": "circle"
         },
         "mode": "lines",
         "name": "18",
         "orientation": "v",
         "showlegend": true,
         "type": "scatter",
         "x": [
          0,
          360,
          1080,
          1800,
          2520,
          3240,
          3960,
          4680,
          5400,
          6120,
          6840
         ],
         "xaxis": "x",
         "y": [
          1.0585689683926633,
          1.025439889458794,
          1.0262379059562798,
          0.9974023118147994,
          0.9864653317149523,
          0.9789394636507683,
          0.9791597002444036,
          0.9985541969052847,
          1.0011180729804687,
          1.0053825736627657,
          0.9801526378189542
         ],
         "yaxis": "y"
        },
        {
         "hovertemplate": "Subnet=19<br>Commit reveal rate interval=%{x}<br>Relative Dividend Rate (G)=%{y}<extra></extra>",
         "legendgroup": "19",
         "line": {
          "color": "#EF553B",
          "dash": "solid"
         },
         "marker": {
          "symbol": "circle"
         },
         "mode": "lines",
         "name": "19",
         "orientation": "v",
         "showlegend": true,
         "type": "scatter",
         "x": [
          0,
          360,
          1080,
          1800,
          2520,
          3240,
          3960,
          4680,
          5400,
          6120,
          6840
         ],
         "xaxis": "x",
         "y": [
          1.0188317320641838,
          1.0104238725724197,
          1.0074633790933063,
          1.0053767614740203,
          1.0009241326717861,
          0.9978204146290411,
          0.9957721329854838,
          0.9984950686316054,
          0.9965296744698238,
          0.994518780585151,
          0.9971358008203257
         ],
         "yaxis": "y"
        },
        {
         "hovertemplate": "Subnet=22<br>Commit reveal rate interval=%{x}<br>Relative Dividend Rate (G)=%{y}<extra></extra>",
         "legendgroup": "22",
         "line": {
          "color": "#00cc96",
          "dash": "solid"
         },
         "marker": {
          "symbol": "circle"
         },
         "mode": "lines",
         "name": "22",
         "orientation": "v",
         "showlegend": true,
         "type": "scatter",
         "x": [
          0,
          360,
          1080,
          1800,
          2520,
          3240,
          3960,
          4680,
          5400,
          6120,
          6840
         ],
         "xaxis": "x",
         "y": [
          1.0142281166564502,
          1.0088875246819957,
          1.0060015073828414,
          1.0063952908523603,
          1.002435163547864,
          0.9989239564750215,
          1.0013030278717603,
          0.9972081110657346,
          0.9897412776971621,
          0.976949912175869,
          0.9649429370721887
         ],
         "yaxis": "y"
        },
        {
         "hovertemplate": "Subnet=23<br>Commit reveal rate interval=%{x}<br>Relative Dividend Rate (G)=%{y}<extra></extra>",
         "legendgroup": "23",
         "line": {
          "color": "#ab63fa",
          "dash": "solid"
         },
         "marker": {
          "symbol": "circle"
         },
         "mode": "lines",
         "name": "23",
         "orientation": "v",
         "showlegend": true,
         "type": "scatter",
         "x": [
          0,
          360,
          1080,
          1800,
          2520,
          3240,
          3960,
          4680,
          5400,
          6120,
          6840
         ],
         "xaxis": "x",
         "y": [
          1.0229799223222769,
          1.0078278565197818,
          1.0019741397296755,
          1.0001511162884555,
          0.9948328973887417,
          0.9897027652421725,
          0.9854877572759574,
          0.9871973982991067,
          0.9915910470222324,
          0.9884539345640762,
          0.9835639934819208
         ],
         "yaxis": "y"
        },
        {
         "hovertemplate": "Subnet=27<br>Commit reveal rate interval=%{x}<br>Relative Dividend Rate (G)=%{y}<extra></extra>",
         "legendgroup": "27",
         "line": {
          "color": "#FFA15A",
          "dash": "solid"
         },
         "marker": {
          "symbol": "circle"
         },
         "mode": "lines",
         "name": "27",
         "orientation": "v",
         "showlegend": true,
         "type": "scatter",
         "x": [
          0,
          360,
          1080,
          1800,
          2520,
          3240,
          3960,
          4680,
          5400,
          6120,
          6840
         ],
         "xaxis": "x",
         "y": [
          1.0077999882093824,
          1.0036992790023807,
          1.0028232841508153,
          1.0035166719456483,
          1.001304065084822,
          0.998922131622824,
          0.9993449902759414,
          0.996400761629126,
          0.9968865043446891,
          0.9960491516924402,
          0.9962550758418551
         ],
         "yaxis": "y"
        },
        {
         "hovertemplate": "Subnet=30<br>Commit reveal rate interval=%{x}<br>Relative Dividend Rate (G)=%{y}<extra></extra>",
         "legendgroup": "30",
         "line": {
          "color": "#19d3f3",
          "dash": "solid"
         },
         "marker": {
          "symbol": "circle"
         },
         "mode": "lines",
         "name": "30",
         "orientation": "v",
         "showlegend": true,
         "type": "scatter",
         "x": [
          0,
          360,
          1080,
          1800,
          2520,
          3240,
          3960,
          4680,
          5400,
          6120,
          6840
         ],
         "xaxis": "x",
         "y": [
          1.3167224422196344,
          1.2468897015120837,
          1.1720427021985294,
          1.1083447810188067,
          1.0676849085115896,
          1.007849010145192,
          0.9574329280354598,
          0.9532010874930613,
          0.9526456762925953,
          0.9359168241520058,
          0.9319212089752023
         ],
         "yaxis": "y"
        },
        {
         "hovertemplate": "Subnet=31<br>Commit reveal rate interval=%{x}<br>Relative Dividend Rate (G)=%{y}<extra></extra>",
         "legendgroup": "31",
         "line": {
          "color": "#FF6692",
          "dash": "solid"
         },
         "marker": {
          "symbol": "circle"
         },
         "mode": "lines",
         "name": "31",
         "orientation": "v",
         "showlegend": true,
         "type": "scatter",
         "x": [
          0,
          360,
          1080,
          1800,
          2520,
          3240,
          3960,
          4680,
          5400,
          6120,
          6840
         ],
         "xaxis": "x",
         "y": [
          1.0035657158288527,
          0.9856463892436385,
          0.96524276478835,
          0.9422458801297644,
          0.9249648205772435,
          0.9293604159513671,
          0.933431076777264,
          0.934213917816067,
          0.933958292664899,
          0.9331309692340137,
          0.9346595437723363
         ],
         "yaxis": "y"
        },
        {
         "hovertemplate": "Subnet=32<br>Commit reveal rate interval=%{x}<br>Relative Dividend Rate (G)=%{y}<extra></extra>",
         "legendgroup": "32",
         "line": {
          "color": "#B6E880",
          "dash": "solid"
         },
         "marker": {
          "symbol": "circle"
         },
         "mode": "lines",
         "name": "32",
         "orientation": "v",
         "showlegend": true,
         "type": "scatter",
         "x": [
          0,
          360,
          1080,
          1800,
          2520,
          3240,
          3960,
          4680,
          5400,
          6120,
          6840
         ],
         "xaxis": "x",
         "y": [
          1.0104617327214713,
          1.0020080720141749,
          0.989185193856672,
          0.9761293900327135,
          0.9611017709086803,
          0.9562261325284475,
          0.9523470274714396,
          0.9500738116781583,
          0.9501974999647543,
          0.9621766146501313,
          0.9656065352811438
         ],
         "yaxis": "y"
        }
       ],
       "layout": {
        "annotations": [
         {
          "showarrow": false,
          "text": "",
          "x": 1,
          "xanchor": "right",
          "xref": "x domain",
          "y": 1,
          "yanchor": "bottom",
          "yref": "y"
         }
        ],
        "height": 500,
        "legend": {
         "title": {
          "text": "Subnet"
         },
         "tracegroupgap": 0
        },
        "shapes": [
         {
          "line": {
           "color": "red",
           "dash": "dash",
           "width": 3
          },
          "type": "line",
          "x0": 0,
          "x1": 1,
          "xref": "x domain",
          "y0": 1,
          "y1": 1,
          "yref": "y"
         },
         {
          "fillcolor": "red",
          "opacity": 0.1,
          "type": "rect",
          "x0": 0,
          "x1": 6840,
          "y0": 1,
          "y1": 1.3
         }
        ],
        "template": {
         "data": {
          "bar": [
           {
            "error_x": {
             "color": "#2a3f5f"
            },
            "error_y": {
             "color": "#2a3f5f"
            },
            "marker": {
             "line": {
              "color": "white",
              "width": 0.5
             },
             "pattern": {
              "fillmode": "overlay",
              "size": 10,
              "solidity": 0.2
             }
            },
            "type": "bar"
           }
          ],
          "barpolar": [
           {
            "marker": {
             "line": {
              "color": "white",
              "width": 0.5
             },
             "pattern": {
              "fillmode": "overlay",
              "size": 10,
              "solidity": 0.2
             }
            },
            "type": "barpolar"
           }
          ],
          "carpet": [
           {
            "aaxis": {
             "endlinecolor": "#2a3f5f",
             "gridcolor": "#C8D4E3",
             "linecolor": "#C8D4E3",
             "minorgridcolor": "#C8D4E3",
             "startlinecolor": "#2a3f5f"
            },
            "baxis": {
             "endlinecolor": "#2a3f5f",
             "gridcolor": "#C8D4E3",
             "linecolor": "#C8D4E3",
             "minorgridcolor": "#C8D4E3",
             "startlinecolor": "#2a3f5f"
            },
            "type": "carpet"
           }
          ],
          "choropleth": [
           {
            "colorbar": {
             "outlinewidth": 0,
             "ticks": ""
            },
            "type": "choropleth"
           }
          ],
          "contour": [
           {
            "colorbar": {
             "outlinewidth": 0,
             "ticks": ""
            },
            "colorscale": [
             [
              0,
              "#0d0887"
             ],
             [
              0.1111111111111111,
              "#46039f"
             ],
             [
              0.2222222222222222,
              "#7201a8"
             ],
             [
              0.3333333333333333,
              "#9c179e"
             ],
             [
              0.4444444444444444,
              "#bd3786"
             ],
             [
              0.5555555555555556,
              "#d8576b"
             ],
             [
              0.6666666666666666,
              "#ed7953"
             ],
             [
              0.7777777777777778,
              "#fb9f3a"
             ],
             [
              0.8888888888888888,
              "#fdca26"
             ],
             [
              1,
              "#f0f921"
             ]
            ],
            "type": "contour"
           }
          ],
          "contourcarpet": [
           {
            "colorbar": {
             "outlinewidth": 0,
             "ticks": ""
            },
            "type": "contourcarpet"
           }
          ],
          "heatmap": [
           {
            "colorbar": {
             "outlinewidth": 0,
             "ticks": ""
            },
            "colorscale": [
             [
              0,
              "#0d0887"
             ],
             [
              0.1111111111111111,
              "#46039f"
             ],
             [
              0.2222222222222222,
              "#7201a8"
             ],
             [
              0.3333333333333333,
              "#9c179e"
             ],
             [
              0.4444444444444444,
              "#bd3786"
             ],
             [
              0.5555555555555556,
              "#d8576b"
             ],
             [
              0.6666666666666666,
              "#ed7953"
             ],
             [
              0.7777777777777778,
              "#fb9f3a"
             ],
             [
              0.8888888888888888,
              "#fdca26"
             ],
             [
              1,
              "#f0f921"
             ]
            ],
            "type": "heatmap"
           }
          ],
          "heatmapgl": [
           {
            "colorbar": {
             "outlinewidth": 0,
             "ticks": ""
            },
            "colorscale": [
             [
              0,
              "#0d0887"
             ],
             [
              0.1111111111111111,
              "#46039f"
             ],
             [
              0.2222222222222222,
              "#7201a8"
             ],
             [
              0.3333333333333333,
              "#9c179e"
             ],
             [
              0.4444444444444444,
              "#bd3786"
             ],
             [
              0.5555555555555556,
              "#d8576b"
             ],
             [
              0.6666666666666666,
              "#ed7953"
             ],
             [
              0.7777777777777778,
              "#fb9f3a"
             ],
             [
              0.8888888888888888,
              "#fdca26"
             ],
             [
              1,
              "#f0f921"
             ]
            ],
            "type": "heatmapgl"
           }
          ],
          "histogram": [
           {
            "marker": {
             "pattern": {
              "fillmode": "overlay",
              "size": 10,
              "solidity": 0.2
             }
            },
            "type": "histogram"
           }
          ],
          "histogram2d": [
           {
            "colorbar": {
             "outlinewidth": 0,
             "ticks": ""
            },
            "colorscale": [
             [
              0,
              "#0d0887"
             ],
             [
              0.1111111111111111,
              "#46039f"
             ],
             [
              0.2222222222222222,
              "#7201a8"
             ],
             [
              0.3333333333333333,
              "#9c179e"
             ],
             [
              0.4444444444444444,
              "#bd3786"
             ],
             [
              0.5555555555555556,
              "#d8576b"
             ],
             [
              0.6666666666666666,
              "#ed7953"
             ],
             [
              0.7777777777777778,
              "#fb9f3a"
             ],
             [
              0.8888888888888888,
              "#fdca26"
             ],
             [
              1,
              "#f0f921"
             ]
            ],
            "type": "histogram2d"
           }
          ],
          "histogram2dcontour": [
           {
            "colorbar": {
             "outlinewidth": 0,
             "ticks": ""
            },
            "colorscale": [
             [
              0,
              "#0d0887"
             ],
             [
              0.1111111111111111,
              "#46039f"
             ],
             [
              0.2222222222222222,
              "#7201a8"
             ],
             [
              0.3333333333333333,
              "#9c179e"
             ],
             [
              0.4444444444444444,
              "#bd3786"
             ],
             [
              0.5555555555555556,
              "#d8576b"
             ],
             [
              0.6666666666666666,
              "#ed7953"
             ],
             [
              0.7777777777777778,
              "#fb9f3a"
             ],
             [
              0.8888888888888888,
              "#fdca26"
             ],
             [
              1,
              "#f0f921"
             ]
            ],
            "type": "histogram2dcontour"
           }
          ],
          "mesh3d": [
           {
            "colorbar": {
             "outlinewidth": 0,
             "ticks": ""
            },
            "type": "mesh3d"
           }
          ],
          "parcoords": [
           {
            "line": {
             "colorbar": {
              "outlinewidth": 0,
              "ticks": ""
             }
            },
            "type": "parcoords"
           }
          ],
          "pie": [
           {
            "automargin": true,
            "type": "pie"
           }
          ],
          "scatter": [
           {
            "fillpattern": {
             "fillmode": "overlay",
             "size": 10,
             "solidity": 0.2
            },
            "type": "scatter"
           }
          ],
          "scatter3d": [
           {
            "line": {
             "colorbar": {
              "outlinewidth": 0,
              "ticks": ""
             }
            },
            "marker": {
             "colorbar": {
              "outlinewidth": 0,
              "ticks": ""
             }
            },
            "type": "scatter3d"
           }
          ],
          "scattercarpet": [
           {
            "marker": {
             "colorbar": {
              "outlinewidth": 0,
              "ticks": ""
             }
            },
            "type": "scattercarpet"
           }
          ],
          "scattergeo": [
           {
            "marker": {
             "colorbar": {
              "outlinewidth": 0,
              "ticks": ""
             }
            },
            "type": "scattergeo"
           }
          ],
          "scattergl": [
           {
            "marker": {
             "colorbar": {
              "outlinewidth": 0,
              "ticks": ""
             }
            },
            "type": "scattergl"
           }
          ],
          "scattermapbox": [
           {
            "marker": {
             "colorbar": {
              "outlinewidth": 0,
              "ticks": ""
             }
            },
            "type": "scattermapbox"
           }
          ],
          "scatterpolar": [
           {
            "marker": {
             "colorbar": {
              "outlinewidth": 0,
              "ticks": ""
             }
            },
            "type": "scatterpolar"
           }
          ],
          "scatterpolargl": [
           {
            "marker": {
             "colorbar": {
              "outlinewidth": 0,
              "ticks": ""
             }
            },
            "type": "scatterpolargl"
           }
          ],
          "scatterternary": [
           {
            "marker": {
             "colorbar": {
              "outlinewidth": 0,
              "ticks": ""
             }
            },
            "type": "scatterternary"
           }
          ],
          "surface": [
           {
            "colorbar": {
             "outlinewidth": 0,
             "ticks": ""
            },
            "colorscale": [
             [
              0,
              "#0d0887"
             ],
             [
              0.1111111111111111,
              "#46039f"
             ],
             [
              0.2222222222222222,
              "#7201a8"
             ],
             [
              0.3333333333333333,
              "#9c179e"
             ],
             [
              0.4444444444444444,
              "#bd3786"
             ],
             [
              0.5555555555555556,
              "#d8576b"
             ],
             [
              0.6666666666666666,
              "#ed7953"
             ],
             [
              0.7777777777777778,
              "#fb9f3a"
             ],
             [
              0.8888888888888888,
              "#fdca26"
             ],
             [
              1,
              "#f0f921"
             ]
            ],
            "type": "surface"
           }
          ],
          "table": [
           {
            "cells": {
             "fill": {
              "color": "#EBF0F8"
             },
             "line": {
              "color": "white"
             }
            },
            "header": {
             "fill": {
              "color": "#C8D4E3"
             },
             "line": {
              "color": "white"
             }
            },
            "type": "table"
           }
          ]
         },
         "layout": {
          "annotationdefaults": {
           "arrowcolor": "#2a3f5f",
           "arrowhead": 0,
           "arrowwidth": 1
          },
          "autotypenumbers": "strict",
          "coloraxis": {
           "colorbar": {
            "outlinewidth": 0,
            "ticks": ""
           }
          },
          "colorscale": {
           "diverging": [
            [
             0,
             "#8e0152"
            ],
            [
             0.1,
             "#c51b7d"
            ],
            [
             0.2,
             "#de77ae"
            ],
            [
             0.3,
             "#f1b6da"
            ],
            [
             0.4,
             "#fde0ef"
            ],
            [
             0.5,
             "#f7f7f7"
            ],
            [
             0.6,
             "#e6f5d0"
            ],
            [
             0.7,
             "#b8e186"
            ],
            [
             0.8,
             "#7fbc41"
            ],
            [
             0.9,
             "#4d9221"
            ],
            [
             1,
             "#276419"
            ]
           ],
           "sequential": [
            [
             0,
             "#0d0887"
            ],
            [
             0.1111111111111111,
             "#46039f"
            ],
            [
             0.2222222222222222,
             "#7201a8"
            ],
            [
             0.3333333333333333,
             "#9c179e"
            ],
            [
             0.4444444444444444,
             "#bd3786"
            ],
            [
             0.5555555555555556,
             "#d8576b"
            ],
            [
             0.6666666666666666,
             "#ed7953"
            ],
            [
             0.7777777777777778,
             "#fb9f3a"
            ],
            [
             0.8888888888888888,
             "#fdca26"
            ],
            [
             1,
             "#f0f921"
            ]
           ],
           "sequentialminus": [
            [
             0,
             "#0d0887"
            ],
            [
             0.1111111111111111,
             "#46039f"
            ],
            [
             0.2222222222222222,
             "#7201a8"
            ],
            [
             0.3333333333333333,
             "#9c179e"
            ],
            [
             0.4444444444444444,
             "#bd3786"
            ],
            [
             0.5555555555555556,
             "#d8576b"
            ],
            [
             0.6666666666666666,
             "#ed7953"
            ],
            [
             0.7777777777777778,
             "#fb9f3a"
            ],
            [
             0.8888888888888888,
             "#fdca26"
            ],
            [
             1,
             "#f0f921"
            ]
           ]
          },
          "colorway": [
           "#636efa",
           "#EF553B",
           "#00cc96",
           "#ab63fa",
           "#FFA15A",
           "#19d3f3",
           "#FF6692",
           "#B6E880",
           "#FF97FF",
           "#FECB52"
          ],
          "font": {
           "color": "#2a3f5f"
          },
          "geo": {
           "bgcolor": "white",
           "lakecolor": "white",
           "landcolor": "white",
           "showlakes": true,
           "showland": true,
           "subunitcolor": "#C8D4E3"
          },
          "hoverlabel": {
           "align": "left"
          },
          "hovermode": "closest",
          "mapbox": {
           "style": "light"
          },
          "paper_bgcolor": "white",
          "plot_bgcolor": "white",
          "polar": {
           "angularaxis": {
            "gridcolor": "#EBF0F8",
            "linecolor": "#EBF0F8",
            "ticks": ""
           },
           "bgcolor": "white",
           "radialaxis": {
            "gridcolor": "#EBF0F8",
            "linecolor": "#EBF0F8",
            "ticks": ""
           }
          },
          "scene": {
           "xaxis": {
            "backgroundcolor": "white",
            "gridcolor": "#DFE8F3",
            "gridwidth": 2,
            "linecolor": "#EBF0F8",
            "showbackground": true,
            "ticks": "",
            "zerolinecolor": "#EBF0F8"
           },
           "yaxis": {
            "backgroundcolor": "white",
            "gridcolor": "#DFE8F3",
            "gridwidth": 2,
            "linecolor": "#EBF0F8",
            "showbackground": true,
            "ticks": "",
            "zerolinecolor": "#EBF0F8"
           },
           "zaxis": {
            "backgroundcolor": "white",
            "gridcolor": "#DFE8F3",
            "gridwidth": 2,
            "linecolor": "#EBF0F8",
            "showbackground": true,
            "ticks": "",
            "zerolinecolor": "#EBF0F8"
           }
          },
          "shapedefaults": {
           "line": {
            "color": "#2a3f5f"
           }
          },
          "ternary": {
           "aaxis": {
            "gridcolor": "#DFE8F3",
            "linecolor": "#A2B1C6",
            "ticks": ""
           },
           "baxis": {
            "gridcolor": "#DFE8F3",
            "linecolor": "#A2B1C6",
            "ticks": ""
           },
           "bgcolor": "white",
           "caxis": {
            "gridcolor": "#DFE8F3",
            "linecolor": "#A2B1C6",
            "ticks": ""
           }
          },
          "title": {
           "x": 0.05
          },
          "xaxis": {
           "automargin": true,
           "gridcolor": "#EBF0F8",
           "linecolor": "#EBF0F8",
           "ticks": "",
           "title": {
            "standoff": 15
           },
           "zerolinecolor": "#EBF0F8",
           "zerolinewidth": 2
          },
          "yaxis": {
           "automargin": true,
           "gridcolor": "#EBF0F8",
           "linecolor": "#EBF0F8",
           "ticks": "",
           "title": {
            "standoff": 15
           },
           "zerolinecolor": "#EBF0F8",
           "zerolinewidth": 2
          }
         }
        },
        "title": {
         "text": "Relative Dividend Rate Of Weight Copier <Br><Sup>For Subnets That Results In G <= 1</Sup>"
        },
        "width": 1000,
        "xaxis": {
         "anchor": "y",
         "domain": [
          0,
          1
         ],
         "title": {
          "text": "Commit reveal rate interval"
         }
        },
        "yaxis": {
         "anchor": "x",
         "domain": [
          0,
          1
         ],
         "range": [
          0.88,
          1.3
         ],
         "title": {
          "text": "Relative Dividend Rate (G)"
         }
        }
       }
      },
      "text/html": [
       "<div>                            <div id=\"1ac8dbb9-17c6-4d59-96cd-f2cf4b2af153\" class=\"plotly-graph-div\" style=\"height:500px; width:1000px;\"></div>            <script type=\"text/javascript\">                require([\"plotly\"], function(Plotly) {                    window.PLOTLYENV=window.PLOTLYENV || {};                                    if (document.getElementById(\"1ac8dbb9-17c6-4d59-96cd-f2cf4b2af153\")) {                    Plotly.newPlot(                        \"1ac8dbb9-17c6-4d59-96cd-f2cf4b2af153\",                        [{\"hovertemplate\":\"Subnet=2<br>Commit reveal rate interval=%{x}<br>Relative Dividend Rate (G)=%{y}<extra></extra>\",\"legendgroup\":\"2\",\"line\":{\"color\":\"#636efa\",\"dash\":\"solid\"},\"marker\":{\"symbol\":\"circle\"},\"mode\":\"lines\",\"name\":\"2\",\"orientation\":\"v\",\"showlegend\":true,\"x\":[0,360,1080,1800,2520,3240,3960,4680,5400,6120,6840],\"xaxis\":\"x\",\"y\":[1.0154565177819124,0.9956798385876107,0.9876474237718017,0.9851751999916717,0.9859129524951953,0.9859394926439203,0.9856945845352485,0.9847973000105715,0.9843905945322848,0.9846650788186825,0.9845915484114774],\"yaxis\":\"y\",\"type\":\"scatter\"},{\"hovertemplate\":\"Subnet=4<br>Commit reveal rate interval=%{x}<br>Relative Dividend Rate (G)=%{y}<extra></extra>\",\"legendgroup\":\"4\",\"line\":{\"color\":\"#EF553B\",\"dash\":\"solid\"},\"marker\":{\"symbol\":\"circle\"},\"mode\":\"lines\",\"name\":\"4\",\"orientation\":\"v\",\"showlegend\":true,\"x\":[0,360,1080,1800,2520,3240,3960,4680,5400,6120,6840],\"xaxis\":\"x\",\"y\":[1.0018677744749602,1.0023785552209072,1.001426963450308,1.0003909065436614,0.9998886017897448,0.9999221640036121,0.9999082125986121,0.9999188938148401,0.9998844412195482,0.9999370949576843,0.9999385483852553],\"yaxis\":\"y\",\"type\":\"scatter\"},{\"hovertemplate\":\"Subnet=7<br>Commit reveal rate interval=%{x}<br>Relative Dividend Rate (G)=%{y}<extra></extra>\",\"legendgroup\":\"7\",\"line\":{\"color\":\"#00cc96\",\"dash\":\"solid\"},\"marker\":{\"symbol\":\"circle\"},\"mode\":\"lines\",\"name\":\"7\",\"orientation\":\"v\",\"showlegend\":true,\"x\":[0,360,1080,1800,2520,3240,3960,4680,5400,6120,6840],\"xaxis\":\"x\",\"y\":[1.0083285188200108,1.0050180891821232,0.9905338454919357,0.9886289876917445,0.9825381303212944,0.9799586203502045,0.9750696285839644,0.9767011014055128,0.9766002813900962,0.9761754873015716,0.9799381906893738],\"yaxis\":\"y\",\"type\":\"scatter\"},{\"hovertemplate\":\"Subnet=8<br>Commit reveal rate interval=%{x}<br>Relative Dividend Rate (G)=%{y}<extra></extra>\",\"legendgroup\":\"8\",\"line\":{\"color\":\"#ab63fa\",\"dash\":\"solid\"},\"marker\":{\"symbol\":\"circle\"},\"mode\":\"lines\",\"name\":\"8\",\"orientation\":\"v\",\"showlegend\":true,\"x\":[0,360,1080,1800,2520,3240,3960,4680,5400,6120,6840],\"xaxis\":\"x\",\"y\":[1.0536900665406181,1.0465339796224291,1.0272563345660304,1.0009191925922496,1.0005177910125969,0.951035626738337,0.9515511253654283,0.9539579822276375,0.9433038169709096,0.965230625352557,0.40861517917388734],\"yaxis\":\"y\",\"type\":\"scatter\"},{\"hovertemplate\":\"Subnet=10<br>Commit reveal rate interval=%{x}<br>Relative Dividend Rate (G)=%{y}<extra></extra>\",\"legendgroup\":\"10\",\"line\":{\"color\":\"#FFA15A\",\"dash\":\"solid\"},\"marker\":{\"symbol\":\"circle\"},\"mode\":\"lines\",\"name\":\"10\",\"orientation\":\"v\",\"showlegend\":true,\"x\":[0,360,1080,1800,2520,3240,3960,4680,5400,6120,6840],\"xaxis\":\"x\",\"y\":[1.000852936301388,0.9956529648846013,0.9577296753217992,0.933495281700061,0.965366112226137,0.9531368340689581,0.9705645889558542,0.9704145444612852,0.9812741748233896,0.8983085595801815,0.8987641897072142],\"yaxis\":\"y\",\"type\":\"scatter\"},{\"hovertemplate\":\"Subnet=12<br>Commit reveal rate interval=%{x}<br>Relative Dividend Rate (G)=%{y}<extra></extra>\",\"legendgroup\":\"12\",\"line\":{\"color\":\"#19d3f3\",\"dash\":\"solid\"},\"marker\":{\"symbol\":\"circle\"},\"mode\":\"lines\",\"name\":\"12\",\"orientation\":\"v\",\"showlegend\":true,\"x\":[0,360,1080,1800,2520,3240,3960,4680,5400,6120,6840],\"xaxis\":\"x\",\"y\":[1.0104370624694516,0.9917090553192838,0.98834194965414,0.9882347611351265,0.992248664609255,0.9826153701424374,0.9829883485417162,0.9828744511812234,0.984275868931659,0.9824867163342056,0.9795472379291051],\"yaxis\":\"y\",\"type\":\"scatter\"},{\"hovertemplate\":\"Subnet=14<br>Commit reveal rate interval=%{x}<br>Relative Dividend Rate (G)=%{y}<extra></extra>\",\"legendgroup\":\"14\",\"line\":{\"color\":\"#FF6692\",\"dash\":\"solid\"},\"marker\":{\"symbol\":\"circle\"},\"mode\":\"lines\",\"name\":\"14\",\"orientation\":\"v\",\"showlegend\":true,\"x\":[0,360,1080,1800,2520,3240,3960,4680,5400,6120,6840],\"xaxis\":\"x\",\"y\":[1.011081399267107,1.000849035272075,1.00154440654623,1.001312197243239,1.0033282311039395,1.0033055279099403,1.0033120303412086,0.9996853641764268,0.9981333073570111,0.9972021498489083,0.9994484755765176],\"yaxis\":\"y\",\"type\":\"scatter\"},{\"hovertemplate\":\"Subnet=15<br>Commit reveal rate interval=%{x}<br>Relative Dividend Rate (G)=%{y}<extra></extra>\",\"legendgroup\":\"15\",\"line\":{\"color\":\"#B6E880\",\"dash\":\"solid\"},\"marker\":{\"symbol\":\"circle\"},\"mode\":\"lines\",\"name\":\"15\",\"orientation\":\"v\",\"showlegend\":true,\"x\":[0,360,1080,1800,2520,3240,3960,4680,5400,6120,6840],\"xaxis\":\"x\",\"y\":[1.0212755066576318,1.0174534378511522,1.012750328627697,1.008515650991064,1.006590086375748,1.0027621247991934,0.9955433521436943,0.9931831607867636,0.9880439085833412,0.9866619341653091,0.9851489340244873],\"yaxis\":\"y\",\"type\":\"scatter\"},{\"hovertemplate\":\"Subnet=16<br>Commit reveal rate interval=%{x}<br>Relative Dividend Rate (G)=%{y}<extra></extra>\",\"legendgroup\":\"16\",\"line\":{\"color\":\"#FF97FF\",\"dash\":\"solid\"},\"marker\":{\"symbol\":\"circle\"},\"mode\":\"lines\",\"name\":\"16\",\"orientation\":\"v\",\"showlegend\":true,\"x\":[0,360,1080,1800,2520,3240,3960,4680,5400,6120,6840],\"xaxis\":\"x\",\"y\":[1.0064639037235599,0.9600875725634515,0.9244439935397177,0.9173052265080675,0.911485696213599,0.906623472309963,0.9082845786479827,0.9054964478012429,0.9034371238114933,0.8940630910781645,0.8828315159438258],\"yaxis\":\"y\",\"type\":\"scatter\"},{\"hovertemplate\":\"Subnet=17<br>Commit reveal rate interval=%{x}<br>Relative Dividend Rate (G)=%{y}<extra></extra>\",\"legendgroup\":\"17\",\"line\":{\"color\":\"#FECB52\",\"dash\":\"solid\"},\"marker\":{\"symbol\":\"circle\"},\"mode\":\"lines\",\"name\":\"17\",\"orientation\":\"v\",\"showlegend\":true,\"x\":[0,360,1080,1800,2520,3240,3960,4680,5400,6120,6840],\"xaxis\":\"x\",\"y\":[1.0259040605559033,1.0144212485774193,1.0048792923121577,0.9968205791348895,0.9949286145484895,0.9947871736192924,0.994502410526886,0.9860146323549385,0.9799976928500316,0.9760557821494295,0.9728710088469457],\"yaxis\":\"y\",\"type\":\"scatter\"},{\"hovertemplate\":\"Subnet=18<br>Commit reveal rate interval=%{x}<br>Relative Dividend Rate (G)=%{y}<extra></extra>\",\"legendgroup\":\"18\",\"line\":{\"color\":\"#636efa\",\"dash\":\"solid\"},\"marker\":{\"symbol\":\"circle\"},\"mode\":\"lines\",\"name\":\"18\",\"orientation\":\"v\",\"showlegend\":true,\"x\":[0,360,1080,1800,2520,3240,3960,4680,5400,6120,6840],\"xaxis\":\"x\",\"y\":[1.0585689683926633,1.025439889458794,1.0262379059562798,0.9974023118147994,0.9864653317149523,0.9789394636507683,0.9791597002444036,0.9985541969052847,1.0011180729804687,1.0053825736627657,0.9801526378189542],\"yaxis\":\"y\",\"type\":\"scatter\"},{\"hovertemplate\":\"Subnet=19<br>Commit reveal rate interval=%{x}<br>Relative Dividend Rate (G)=%{y}<extra></extra>\",\"legendgroup\":\"19\",\"line\":{\"color\":\"#EF553B\",\"dash\":\"solid\"},\"marker\":{\"symbol\":\"circle\"},\"mode\":\"lines\",\"name\":\"19\",\"orientation\":\"v\",\"showlegend\":true,\"x\":[0,360,1080,1800,2520,3240,3960,4680,5400,6120,6840],\"xaxis\":\"x\",\"y\":[1.0188317320641838,1.0104238725724197,1.0074633790933063,1.0053767614740203,1.0009241326717861,0.9978204146290411,0.9957721329854838,0.9984950686316054,0.9965296744698238,0.994518780585151,0.9971358008203257],\"yaxis\":\"y\",\"type\":\"scatter\"},{\"hovertemplate\":\"Subnet=22<br>Commit reveal rate interval=%{x}<br>Relative Dividend Rate (G)=%{y}<extra></extra>\",\"legendgroup\":\"22\",\"line\":{\"color\":\"#00cc96\",\"dash\":\"solid\"},\"marker\":{\"symbol\":\"circle\"},\"mode\":\"lines\",\"name\":\"22\",\"orientation\":\"v\",\"showlegend\":true,\"x\":[0,360,1080,1800,2520,3240,3960,4680,5400,6120,6840],\"xaxis\":\"x\",\"y\":[1.0142281166564502,1.0088875246819957,1.0060015073828414,1.0063952908523603,1.002435163547864,0.9989239564750215,1.0013030278717603,0.9972081110657346,0.9897412776971621,0.976949912175869,0.9649429370721887],\"yaxis\":\"y\",\"type\":\"scatter\"},{\"hovertemplate\":\"Subnet=23<br>Commit reveal rate interval=%{x}<br>Relative Dividend Rate (G)=%{y}<extra></extra>\",\"legendgroup\":\"23\",\"line\":{\"color\":\"#ab63fa\",\"dash\":\"solid\"},\"marker\":{\"symbol\":\"circle\"},\"mode\":\"lines\",\"name\":\"23\",\"orientation\":\"v\",\"showlegend\":true,\"x\":[0,360,1080,1800,2520,3240,3960,4680,5400,6120,6840],\"xaxis\":\"x\",\"y\":[1.0229799223222769,1.0078278565197818,1.0019741397296755,1.0001511162884555,0.9948328973887417,0.9897027652421725,0.9854877572759574,0.9871973982991067,0.9915910470222324,0.9884539345640762,0.9835639934819208],\"yaxis\":\"y\",\"type\":\"scatter\"},{\"hovertemplate\":\"Subnet=27<br>Commit reveal rate interval=%{x}<br>Relative Dividend Rate (G)=%{y}<extra></extra>\",\"legendgroup\":\"27\",\"line\":{\"color\":\"#FFA15A\",\"dash\":\"solid\"},\"marker\":{\"symbol\":\"circle\"},\"mode\":\"lines\",\"name\":\"27\",\"orientation\":\"v\",\"showlegend\":true,\"x\":[0,360,1080,1800,2520,3240,3960,4680,5400,6120,6840],\"xaxis\":\"x\",\"y\":[1.0077999882093824,1.0036992790023807,1.0028232841508153,1.0035166719456483,1.001304065084822,0.998922131622824,0.9993449902759414,0.996400761629126,0.9968865043446891,0.9960491516924402,0.9962550758418551],\"yaxis\":\"y\",\"type\":\"scatter\"},{\"hovertemplate\":\"Subnet=30<br>Commit reveal rate interval=%{x}<br>Relative Dividend Rate (G)=%{y}<extra></extra>\",\"legendgroup\":\"30\",\"line\":{\"color\":\"#19d3f3\",\"dash\":\"solid\"},\"marker\":{\"symbol\":\"circle\"},\"mode\":\"lines\",\"name\":\"30\",\"orientation\":\"v\",\"showlegend\":true,\"x\":[0,360,1080,1800,2520,3240,3960,4680,5400,6120,6840],\"xaxis\":\"x\",\"y\":[1.3167224422196344,1.2468897015120837,1.1720427021985294,1.1083447810188067,1.0676849085115896,1.007849010145192,0.9574329280354598,0.9532010874930613,0.9526456762925953,0.9359168241520058,0.9319212089752023],\"yaxis\":\"y\",\"type\":\"scatter\"},{\"hovertemplate\":\"Subnet=31<br>Commit reveal rate interval=%{x}<br>Relative Dividend Rate (G)=%{y}<extra></extra>\",\"legendgroup\":\"31\",\"line\":{\"color\":\"#FF6692\",\"dash\":\"solid\"},\"marker\":{\"symbol\":\"circle\"},\"mode\":\"lines\",\"name\":\"31\",\"orientation\":\"v\",\"showlegend\":true,\"x\":[0,360,1080,1800,2520,3240,3960,4680,5400,6120,6840],\"xaxis\":\"x\",\"y\":[1.0035657158288527,0.9856463892436385,0.96524276478835,0.9422458801297644,0.9249648205772435,0.9293604159513671,0.933431076777264,0.934213917816067,0.933958292664899,0.9331309692340137,0.9346595437723363],\"yaxis\":\"y\",\"type\":\"scatter\"},{\"hovertemplate\":\"Subnet=32<br>Commit reveal rate interval=%{x}<br>Relative Dividend Rate (G)=%{y}<extra></extra>\",\"legendgroup\":\"32\",\"line\":{\"color\":\"#B6E880\",\"dash\":\"solid\"},\"marker\":{\"symbol\":\"circle\"},\"mode\":\"lines\",\"name\":\"32\",\"orientation\":\"v\",\"showlegend\":true,\"x\":[0,360,1080,1800,2520,3240,3960,4680,5400,6120,6840],\"xaxis\":\"x\",\"y\":[1.0104617327214713,1.0020080720141749,0.989185193856672,0.9761293900327135,0.9611017709086803,0.9562261325284475,0.9523470274714396,0.9500738116781583,0.9501974999647543,0.9621766146501313,0.9656065352811438],\"yaxis\":\"y\",\"type\":\"scatter\"}],                        {\"template\":{\"data\":{\"barpolar\":[{\"marker\":{\"line\":{\"color\":\"white\",\"width\":0.5},\"pattern\":{\"fillmode\":\"overlay\",\"size\":10,\"solidity\":0.2}},\"type\":\"barpolar\"}],\"bar\":[{\"error_x\":{\"color\":\"#2a3f5f\"},\"error_y\":{\"color\":\"#2a3f5f\"},\"marker\":{\"line\":{\"color\":\"white\",\"width\":0.5},\"pattern\":{\"fillmode\":\"overlay\",\"size\":10,\"solidity\":0.2}},\"type\":\"bar\"}],\"carpet\":[{\"aaxis\":{\"endlinecolor\":\"#2a3f5f\",\"gridcolor\":\"#C8D4E3\",\"linecolor\":\"#C8D4E3\",\"minorgridcolor\":\"#C8D4E3\",\"startlinecolor\":\"#2a3f5f\"},\"baxis\":{\"endlinecolor\":\"#2a3f5f\",\"gridcolor\":\"#C8D4E3\",\"linecolor\":\"#C8D4E3\",\"minorgridcolor\":\"#C8D4E3\",\"startlinecolor\":\"#2a3f5f\"},\"type\":\"carpet\"}],\"choropleth\":[{\"colorbar\":{\"outlinewidth\":0,\"ticks\":\"\"},\"type\":\"choropleth\"}],\"contourcarpet\":[{\"colorbar\":{\"outlinewidth\":0,\"ticks\":\"\"},\"type\":\"contourcarpet\"}],\"contour\":[{\"colorbar\":{\"outlinewidth\":0,\"ticks\":\"\"},\"colorscale\":[[0.0,\"#0d0887\"],[0.1111111111111111,\"#46039f\"],[0.2222222222222222,\"#7201a8\"],[0.3333333333333333,\"#9c179e\"],[0.4444444444444444,\"#bd3786\"],[0.5555555555555556,\"#d8576b\"],[0.6666666666666666,\"#ed7953\"],[0.7777777777777778,\"#fb9f3a\"],[0.8888888888888888,\"#fdca26\"],[1.0,\"#f0f921\"]],\"type\":\"contour\"}],\"heatmapgl\":[{\"colorbar\":{\"outlinewidth\":0,\"ticks\":\"\"},\"colorscale\":[[0.0,\"#0d0887\"],[0.1111111111111111,\"#46039f\"],[0.2222222222222222,\"#7201a8\"],[0.3333333333333333,\"#9c179e\"],[0.4444444444444444,\"#bd3786\"],[0.5555555555555556,\"#d8576b\"],[0.6666666666666666,\"#ed7953\"],[0.7777777777777778,\"#fb9f3a\"],[0.8888888888888888,\"#fdca26\"],[1.0,\"#f0f921\"]],\"type\":\"heatmapgl\"}],\"heatmap\":[{\"colorbar\":{\"outlinewidth\":0,\"ticks\":\"\"},\"colorscale\":[[0.0,\"#0d0887\"],[0.1111111111111111,\"#46039f\"],[0.2222222222222222,\"#7201a8\"],[0.3333333333333333,\"#9c179e\"],[0.4444444444444444,\"#bd3786\"],[0.5555555555555556,\"#d8576b\"],[0.6666666666666666,\"#ed7953\"],[0.7777777777777778,\"#fb9f3a\"],[0.8888888888888888,\"#fdca26\"],[1.0,\"#f0f921\"]],\"type\":\"heatmap\"}],\"histogram2dcontour\":[{\"colorbar\":{\"outlinewidth\":0,\"ticks\":\"\"},\"colorscale\":[[0.0,\"#0d0887\"],[0.1111111111111111,\"#46039f\"],[0.2222222222222222,\"#7201a8\"],[0.3333333333333333,\"#9c179e\"],[0.4444444444444444,\"#bd3786\"],[0.5555555555555556,\"#d8576b\"],[0.6666666666666666,\"#ed7953\"],[0.7777777777777778,\"#fb9f3a\"],[0.8888888888888888,\"#fdca26\"],[1.0,\"#f0f921\"]],\"type\":\"histogram2dcontour\"}],\"histogram2d\":[{\"colorbar\":{\"outlinewidth\":0,\"ticks\":\"\"},\"colorscale\":[[0.0,\"#0d0887\"],[0.1111111111111111,\"#46039f\"],[0.2222222222222222,\"#7201a8\"],[0.3333333333333333,\"#9c179e\"],[0.4444444444444444,\"#bd3786\"],[0.5555555555555556,\"#d8576b\"],[0.6666666666666666,\"#ed7953\"],[0.7777777777777778,\"#fb9f3a\"],[0.8888888888888888,\"#fdca26\"],[1.0,\"#f0f921\"]],\"type\":\"histogram2d\"}],\"histogram\":[{\"marker\":{\"pattern\":{\"fillmode\":\"overlay\",\"size\":10,\"solidity\":0.2}},\"type\":\"histogram\"}],\"mesh3d\":[{\"colorbar\":{\"outlinewidth\":0,\"ticks\":\"\"},\"type\":\"mesh3d\"}],\"parcoords\":[{\"line\":{\"colorbar\":{\"outlinewidth\":0,\"ticks\":\"\"}},\"type\":\"parcoords\"}],\"pie\":[{\"automargin\":true,\"type\":\"pie\"}],\"scatter3d\":[{\"line\":{\"colorbar\":{\"outlinewidth\":0,\"ticks\":\"\"}},\"marker\":{\"colorbar\":{\"outlinewidth\":0,\"ticks\":\"\"}},\"type\":\"scatter3d\"}],\"scattercarpet\":[{\"marker\":{\"colorbar\":{\"outlinewidth\":0,\"ticks\":\"\"}},\"type\":\"scattercarpet\"}],\"scattergeo\":[{\"marker\":{\"colorbar\":{\"outlinewidth\":0,\"ticks\":\"\"}},\"type\":\"scattergeo\"}],\"scattergl\":[{\"marker\":{\"colorbar\":{\"outlinewidth\":0,\"ticks\":\"\"}},\"type\":\"scattergl\"}],\"scattermapbox\":[{\"marker\":{\"colorbar\":{\"outlinewidth\":0,\"ticks\":\"\"}},\"type\":\"scattermapbox\"}],\"scatterpolargl\":[{\"marker\":{\"colorbar\":{\"outlinewidth\":0,\"ticks\":\"\"}},\"type\":\"scatterpolargl\"}],\"scatterpolar\":[{\"marker\":{\"colorbar\":{\"outlinewidth\":0,\"ticks\":\"\"}},\"type\":\"scatterpolar\"}],\"scatter\":[{\"fillpattern\":{\"fillmode\":\"overlay\",\"size\":10,\"solidity\":0.2},\"type\":\"scatter\"}],\"scatterternary\":[{\"marker\":{\"colorbar\":{\"outlinewidth\":0,\"ticks\":\"\"}},\"type\":\"scatterternary\"}],\"surface\":[{\"colorbar\":{\"outlinewidth\":0,\"ticks\":\"\"},\"colorscale\":[[0.0,\"#0d0887\"],[0.1111111111111111,\"#46039f\"],[0.2222222222222222,\"#7201a8\"],[0.3333333333333333,\"#9c179e\"],[0.4444444444444444,\"#bd3786\"],[0.5555555555555556,\"#d8576b\"],[0.6666666666666666,\"#ed7953\"],[0.7777777777777778,\"#fb9f3a\"],[0.8888888888888888,\"#fdca26\"],[1.0,\"#f0f921\"]],\"type\":\"surface\"}],\"table\":[{\"cells\":{\"fill\":{\"color\":\"#EBF0F8\"},\"line\":{\"color\":\"white\"}},\"header\":{\"fill\":{\"color\":\"#C8D4E3\"},\"line\":{\"color\":\"white\"}},\"type\":\"table\"}]},\"layout\":{\"annotationdefaults\":{\"arrowcolor\":\"#2a3f5f\",\"arrowhead\":0,\"arrowwidth\":1},\"autotypenumbers\":\"strict\",\"coloraxis\":{\"colorbar\":{\"outlinewidth\":0,\"ticks\":\"\"}},\"colorscale\":{\"diverging\":[[0,\"#8e0152\"],[0.1,\"#c51b7d\"],[0.2,\"#de77ae\"],[0.3,\"#f1b6da\"],[0.4,\"#fde0ef\"],[0.5,\"#f7f7f7\"],[0.6,\"#e6f5d0\"],[0.7,\"#b8e186\"],[0.8,\"#7fbc41\"],[0.9,\"#4d9221\"],[1,\"#276419\"]],\"sequential\":[[0.0,\"#0d0887\"],[0.1111111111111111,\"#46039f\"],[0.2222222222222222,\"#7201a8\"],[0.3333333333333333,\"#9c179e\"],[0.4444444444444444,\"#bd3786\"],[0.5555555555555556,\"#d8576b\"],[0.6666666666666666,\"#ed7953\"],[0.7777777777777778,\"#fb9f3a\"],[0.8888888888888888,\"#fdca26\"],[1.0,\"#f0f921\"]],\"sequentialminus\":[[0.0,\"#0d0887\"],[0.1111111111111111,\"#46039f\"],[0.2222222222222222,\"#7201a8\"],[0.3333333333333333,\"#9c179e\"],[0.4444444444444444,\"#bd3786\"],[0.5555555555555556,\"#d8576b\"],[0.6666666666666666,\"#ed7953\"],[0.7777777777777778,\"#fb9f3a\"],[0.8888888888888888,\"#fdca26\"],[1.0,\"#f0f921\"]]},\"colorway\":[\"#636efa\",\"#EF553B\",\"#00cc96\",\"#ab63fa\",\"#FFA15A\",\"#19d3f3\",\"#FF6692\",\"#B6E880\",\"#FF97FF\",\"#FECB52\"],\"font\":{\"color\":\"#2a3f5f\"},\"geo\":{\"bgcolor\":\"white\",\"lakecolor\":\"white\",\"landcolor\":\"white\",\"showlakes\":true,\"showland\":true,\"subunitcolor\":\"#C8D4E3\"},\"hoverlabel\":{\"align\":\"left\"},\"hovermode\":\"closest\",\"mapbox\":{\"style\":\"light\"},\"paper_bgcolor\":\"white\",\"plot_bgcolor\":\"white\",\"polar\":{\"angularaxis\":{\"gridcolor\":\"#EBF0F8\",\"linecolor\":\"#EBF0F8\",\"ticks\":\"\"},\"bgcolor\":\"white\",\"radialaxis\":{\"gridcolor\":\"#EBF0F8\",\"linecolor\":\"#EBF0F8\",\"ticks\":\"\"}},\"scene\":{\"xaxis\":{\"backgroundcolor\":\"white\",\"gridcolor\":\"#DFE8F3\",\"gridwidth\":2,\"linecolor\":\"#EBF0F8\",\"showbackground\":true,\"ticks\":\"\",\"zerolinecolor\":\"#EBF0F8\"},\"yaxis\":{\"backgroundcolor\":\"white\",\"gridcolor\":\"#DFE8F3\",\"gridwidth\":2,\"linecolor\":\"#EBF0F8\",\"showbackground\":true,\"ticks\":\"\",\"zerolinecolor\":\"#EBF0F8\"},\"zaxis\":{\"backgroundcolor\":\"white\",\"gridcolor\":\"#DFE8F3\",\"gridwidth\":2,\"linecolor\":\"#EBF0F8\",\"showbackground\":true,\"ticks\":\"\",\"zerolinecolor\":\"#EBF0F8\"}},\"shapedefaults\":{\"line\":{\"color\":\"#2a3f5f\"}},\"ternary\":{\"aaxis\":{\"gridcolor\":\"#DFE8F3\",\"linecolor\":\"#A2B1C6\",\"ticks\":\"\"},\"baxis\":{\"gridcolor\":\"#DFE8F3\",\"linecolor\":\"#A2B1C6\",\"ticks\":\"\"},\"bgcolor\":\"white\",\"caxis\":{\"gridcolor\":\"#DFE8F3\",\"linecolor\":\"#A2B1C6\",\"ticks\":\"\"}},\"title\":{\"x\":0.05},\"xaxis\":{\"automargin\":true,\"gridcolor\":\"#EBF0F8\",\"linecolor\":\"#EBF0F8\",\"ticks\":\"\",\"title\":{\"standoff\":15},\"zerolinecolor\":\"#EBF0F8\",\"zerolinewidth\":2},\"yaxis\":{\"automargin\":true,\"gridcolor\":\"#EBF0F8\",\"linecolor\":\"#EBF0F8\",\"ticks\":\"\",\"title\":{\"standoff\":15},\"zerolinecolor\":\"#EBF0F8\",\"zerolinewidth\":2}}},\"xaxis\":{\"anchor\":\"y\",\"domain\":[0.0,1.0],\"title\":{\"text\":\"Commit reveal rate interval\"}},\"yaxis\":{\"anchor\":\"x\",\"domain\":[0.0,1.0],\"title\":{\"text\":\"Relative Dividend Rate (G)\"},\"range\":[0.88,1.3]},\"legend\":{\"title\":{\"text\":\"Subnet\"},\"tracegroupgap\":0},\"title\":{\"text\":\"Relative Dividend Rate Of Weight Copier <Br><Sup>For Subnets That Results In G <= 1</Sup>\"},\"height\":500,\"width\":1000,\"shapes\":[{\"line\":{\"color\":\"red\",\"dash\":\"dash\",\"width\":3},\"type\":\"line\",\"x0\":0,\"x1\":1,\"xref\":\"x domain\",\"y0\":1,\"y1\":1,\"yref\":\"y\"},{\"fillcolor\":\"red\",\"opacity\":0.1,\"type\":\"rect\",\"x0\":0,\"x1\":6840,\"y0\":1,\"y1\":1.3}],\"annotations\":[{\"showarrow\":false,\"text\":\"\",\"x\":1,\"xanchor\":\"right\",\"xref\":\"x domain\",\"y\":1,\"yanchor\":\"bottom\",\"yref\":\"y\"}]},                        {\"responsive\": true}                    ).then(function(){\n",
       "                            \n",
       "var gd = document.getElementById('1ac8dbb9-17c6-4d59-96cd-f2cf4b2af153');\n",
       "var x = new MutationObserver(function (mutations, observer) {{\n",
       "        var display = window.getComputedStyle(gd).display;\n",
       "        if (!display || display === 'none') {{\n",
       "            console.log([gd, 'removed!']);\n",
       "            Plotly.purge(gd);\n",
       "            observer.disconnect();\n",
       "        }}\n",
       "}});\n",
       "\n",
       "// Listen for the removal of the full notebook cells\n",
       "var notebookContainer = gd.closest('#notebook-container');\n",
       "if (notebookContainer) {{\n",
       "    x.observe(notebookContainer, {childList: true});\n",
       "}}\n",
       "\n",
       "// Listen for the clearing of the current output cell\n",
       "var outputEl = gd.closest('.output');\n",
       "if (outputEl) {{\n",
       "    x.observe(outputEl, {childList: true});\n",
       "}}\n",
       "\n",
       "                        })                };                });            </script>        </div>"
      ]
     },
     "metadata": {},
     "output_type": "display_data"
    }
   ],
   "source": [
    "fig0 = px.line(\n",
    "    div_losts.loc[:, set_0],\n",
    "    labels={\n",
    "        \"value\": \"Relative dividend rate (G)\".title(),\n",
    "        \"index\": \"Commit reveal rate interval\",\n",
    "        \"variable\": 'Subnet'\n",
    "    },\n",
    "    title=\"Relative Dividend Rate Of Weight Copier <br><sup> For subnets has a varying G that does not monotonically decrease with conceal period</sup>\",\n",
    "    width = 1000,\n",
    "    height = 500,\n",
    ")\n",
    "fig0.add_hline(y=1, line_width=3, line_dash=\"dash\", line_color=\"red\", annotation_text = \"\")\n",
    "fig0.update_layout(template='plotly_white')\n",
    "\n",
    "fig0.add_shape(\n",
    "    type=\"rect\",\n",
    "    x0=0,\n",
    "    x1=19 * 360,\n",
    "    y0=1.15,\n",
    "    y1=1,\n",
    "    fillcolor=\"red\",\n",
    "    opacity=0.1,\n",
    ")\n",
    "\n",
    "fig0.show()\n",
    "\n",
    "fig1 = px.line(\n",
    "    div_losts.loc[:, set_a],\n",
    "    labels={\n",
    "        \"value\": \"Relative dividend rate (G)\".title(),\n",
    "        \"index\": \"Commit reveal rate interval\",\n",
    "        \"variable\": 'Subnet'\n",
    "    },\n",
    "    title=\"Relative dividend rate of weight copier <br><sup> For subnets that results in G > 1</sup>\".title(),\n",
    "    width = 1000,\n",
    "    height = 500,\n",
    "    range_y = [0.99, 1.06]\n",
    ")\n",
    "fig1.add_hline(y=1, line_width=3, line_dash=\"dash\", line_color=\"red\", annotation_text = \"\")\n",
    "fig1.update_layout(template='plotly_white')\n",
    "\n",
    "fig1.add_shape(\n",
    "    type=\"rect\",\n",
    "    x0=0,\n",
    "    x1=19 * 360,\n",
    "    y0=1,\n",
    "    y1=1.06,\n",
    "    fillcolor=\"red\",\n",
    "    opacity=0.1,\n",
    ")\n",
    "\n",
    "fig1.show()\n",
    "\n",
    "fig2 = px.line(\n",
    "    div_losts.loc[:, set_b],\n",
    "    labels={\n",
    "        \"value\": \"Relative dividend rate (G)\".title(),\n",
    "        \"index\": \"Commit reveal rate interval\",\n",
    "        \"variable\": 'Subnet'\n",
    "    },\n",
    "    title=\"Relative dividend rate of weight copier <br><sup>For subnets that results in G <= 1</sup>\".title(),\n",
    "    width = 1000,\n",
    "    height = 500,\n",
    "    range_y = [0.88, 1.3]\n",
    ")\n",
    "fig2.add_hline(y=1, line_width=3, line_dash=\"dash\", line_color=\"red\", annotation_text = \"\")\n",
    "fig2.update_layout(template='plotly_white')\n",
    "\n",
    "fig2.add_shape(\n",
    "    type=\"rect\",\n",
    "    x0=0,\n",
    "    x1=19 * 360,\n",
    "    y0=1,\n",
    "    y1=1.3,\n",
    "    fillcolor=\"red\",\n",
    "    opacity=0.1,\n",
    ")\n",
    "\n",
    "fig2.show()\n"
   ]
  },
  {
   "cell_type": "code",
   "execution_count": 14,
   "metadata": {},
   "outputs": [
    {
     "data": {
      "application/vnd.plotly.v1+json": {
       "config": {
        "plotlyServerURL": "https://plot.ly"
       },
       "data": [
        {
         "hovertemplate": "netuid=1<br>Conceal period (every 360 blocks)=%{x}<br>Similarity=%{y}<extra></extra>",
         "legendgroup": "1",
         "line": {
          "color": "#636efa",
          "dash": "solid"
         },
         "marker": {
          "symbol": "circle"
         },
         "mode": "lines",
         "name": "1",
         "orientation": "v",
         "showlegend": true,
         "type": "scatter",
         "x": [
          0,
          1,
          3,
          5,
          7,
          9,
          11,
          13,
          15,
          17,
          19
         ],
         "xaxis": "x",
         "y": [
          1,
          0.9647132754325867,
          0.9512402415275574,
          0.946466863155365,
          0.9437443017959595,
          0.9453920125961304,
          0.9389941692352295,
          0.9428465962409973,
          0.9423691034317017,
          0.9367790818214417,
          0.9438475370407104
         ],
         "yaxis": "y"
        },
        {
         "hovertemplate": "netuid=2<br>Conceal period (every 360 blocks)=%{x}<br>Similarity=%{y}<extra></extra>",
         "legendgroup": "2",
         "line": {
          "color": "#EF553B",
          "dash": "solid"
         },
         "marker": {
          "symbol": "circle"
         },
         "mode": "lines",
         "name": "2",
         "orientation": "v",
         "showlegend": true,
         "type": "scatter",
         "x": [
          0,
          1,
          3,
          5,
          7,
          9,
          11,
          13,
          15,
          17,
          19
         ],
         "xaxis": "x",
         "y": [
          1,
          0.9993332028388977,
          0.999104380607605,
          0.9989460706710815,
          0.9990265965461731,
          0.9991815090179443,
          0.9995632171630859,
          0.999539315700531,
          0.9987114071846008,
          0.9962044358253479,
          0.995995283126831
         ],
         "yaxis": "y"
        },
        {
         "hovertemplate": "netuid=3<br>Conceal period (every 360 blocks)=%{x}<br>Similarity=%{y}<extra></extra>",
         "legendgroup": "3",
         "line": {
          "color": "#00cc96",
          "dash": "solid"
         },
         "marker": {
          "symbol": "circle"
         },
         "mode": "lines",
         "name": "3",
         "orientation": "v",
         "showlegend": true,
         "type": "scatter",
         "x": [
          0,
          1,
          3,
          5,
          7,
          9,
          11,
          13,
          15,
          17,
          19
         ],
         "xaxis": "x",
         "y": [
          1,
          0.9471337199211121,
          0.9172669649124146,
          0.9133023023605347,
          0.9061619639396667,
          0.9358526468276978,
          0.916073203086853,
          0.9329958558082581,
          0.923065185546875,
          0.9050280451774597,
          0.9291291832923889
         ],
         "yaxis": "y"
        },
        {
         "hovertemplate": "netuid=4<br>Conceal period (every 360 blocks)=%{x}<br>Similarity=%{y}<extra></extra>",
         "legendgroup": "4",
         "line": {
          "color": "#ab63fa",
          "dash": "solid"
         },
         "marker": {
          "symbol": "circle"
         },
         "mode": "lines",
         "name": "4",
         "orientation": "v",
         "showlegend": true,
         "type": "scatter",
         "x": [
          0,
          1,
          3,
          5,
          7,
          9,
          11,
          13,
          15,
          17,
          19
         ],
         "xaxis": "x",
         "y": [
          1,
          0.9914709329605103,
          0.9764853715896606,
          0.957866370677948,
          0.9473161697387695,
          0.9438201785087585,
          0.9435889720916748,
          0.9439272880554199,
          0.9390789270401001,
          0.9375630021095276,
          0.9382205605506897
         ],
         "yaxis": "y"
        },
        {
         "hovertemplate": "netuid=5<br>Conceal period (every 360 blocks)=%{x}<br>Similarity=%{y}<extra></extra>",
         "legendgroup": "5",
         "line": {
          "color": "#FFA15A",
          "dash": "solid"
         },
         "marker": {
          "symbol": "circle"
         },
         "mode": "lines",
         "name": "5",
         "orientation": "v",
         "showlegend": true,
         "type": "scatter",
         "x": [
          0,
          1,
          3,
          5,
          7,
          9,
          11,
          13,
          15,
          17,
          19
         ],
         "xaxis": "x",
         "y": [
          1,
          0.9940692186355591,
          0.9865760803222656,
          0.9823146462440491,
          0.980684220790863,
          0.9782508611679077,
          0.9762371182441711,
          0.9750764966011047,
          0.9756459593772888,
          0.9737180471420288,
          0.9727569818496704
         ],
         "yaxis": "y"
        },
        {
         "hovertemplate": "netuid=6<br>Conceal period (every 360 blocks)=%{x}<br>Similarity=%{y}<extra></extra>",
         "legendgroup": "6",
         "line": {
          "color": "#19d3f3",
          "dash": "solid"
         },
         "marker": {
          "symbol": "circle"
         },
         "mode": "lines",
         "name": "6",
         "orientation": "v",
         "showlegend": true,
         "type": "scatter",
         "x": [
          0,
          1,
          3,
          5,
          7,
          9,
          11,
          13,
          15,
          17,
          19
         ],
         "xaxis": "x",
         "y": [
          1,
          0.9905000925064087,
          0.9669182300567627,
          0.957777202129364,
          0.9466533660888672,
          0.9195337295532227,
          0.8731979727745056,
          0.8263249397277832,
          0.8145676851272583,
          0.8140644431114197,
          0.8137248158454895
         ],
         "yaxis": "y"
        },
        {
         "hovertemplate": "netuid=7<br>Conceal period (every 360 blocks)=%{x}<br>Similarity=%{y}<extra></extra>",
         "legendgroup": "7",
         "line": {
          "color": "#FF6692",
          "dash": "solid"
         },
         "marker": {
          "symbol": "circle"
         },
         "mode": "lines",
         "name": "7",
         "orientation": "v",
         "showlegend": true,
         "type": "scatter",
         "x": [
          0,
          1,
          3,
          5,
          7,
          9,
          11,
          13,
          15,
          17,
          19
         ],
         "xaxis": "x",
         "y": [
          1,
          0.9974971413612366,
          0.9934247136116028,
          0.991137683391571,
          0.987295389175415,
          0.9839829206466675,
          0.9832957983016968,
          0.9823834300041199,
          0.9821420311927795,
          0.9820813536643982,
          0.9814104437828064
         ],
         "yaxis": "y"
        },
        {
         "hovertemplate": "netuid=8<br>Conceal period (every 360 blocks)=%{x}<br>Similarity=%{y}<extra></extra>",
         "legendgroup": "8",
         "line": {
          "color": "#B6E880",
          "dash": "solid"
         },
         "marker": {
          "symbol": "circle"
         },
         "mode": "lines",
         "name": "8",
         "orientation": "v",
         "showlegend": true,
         "type": "scatter",
         "x": [
          0,
          1,
          3,
          5,
          7,
          9,
          11,
          13,
          15,
          17,
          19
         ],
         "xaxis": "x",
         "y": [
          1,
          0.9985936880111694,
          0.9968208074569702,
          0.9956827163696289,
          0.994503915309906,
          0.9933474063873291,
          0.9921992421150208,
          0.9901636838912964,
          0.9862727522850037,
          0.9832850098609924,
          0.9823485016822815
         ],
         "yaxis": "y"
        },
        {
         "hovertemplate": "netuid=9<br>Conceal period (every 360 blocks)=%{x}<br>Similarity=%{y}<extra></extra>",
         "legendgroup": "9",
         "line": {
          "color": "#FF97FF",
          "dash": "solid"
         },
         "marker": {
          "symbol": "circle"
         },
         "mode": "lines",
         "name": "9",
         "orientation": "v",
         "showlegend": true,
         "type": "scatter",
         "x": [
          0,
          1,
          3,
          5,
          7,
          9,
          11,
          13,
          15,
          17,
          19
         ],
         "xaxis": "x",
         "y": [
          1,
          0.9909765124320984,
          0.9906231760978699,
          0.99354088306427,
          0.9889973998069763,
          0.9835011959075928,
          0.9790462851524353,
          0.9515607953071594,
          0.9493952989578247,
          0.9579779505729675,
          0.9759514927864075
         ],
         "yaxis": "y"
        },
        {
         "hovertemplate": "netuid=10<br>Conceal period (every 360 blocks)=%{x}<br>Similarity=%{y}<extra></extra>",
         "legendgroup": "10",
         "line": {
          "color": "#FECB52",
          "dash": "solid"
         },
         "marker": {
          "symbol": "circle"
         },
         "mode": "lines",
         "name": "10",
         "orientation": "v",
         "showlegend": true,
         "type": "scatter",
         "x": [
          0,
          1,
          3,
          5,
          7,
          9,
          11,
          13,
          15,
          17,
          19
         ],
         "xaxis": "x",
         "y": [
          1,
          0.9997653365135193,
          0.999810516834259,
          0.9997605681419373,
          0.9994158744812012,
          0.998262345790863,
          0.9966055154800415,
          0.9945546984672546,
          0.9937642812728882,
          0.9936837553977966,
          0.9859985113143921
         ],
         "yaxis": "y"
        },
        {
         "hovertemplate": "netuid=12<br>Conceal period (every 360 blocks)=%{x}<br>Similarity=%{y}<extra></extra>",
         "legendgroup": "12",
         "line": {
          "color": "#636efa",
          "dash": "solid"
         },
         "marker": {
          "symbol": "circle"
         },
         "mode": "lines",
         "name": "12",
         "orientation": "v",
         "showlegend": true,
         "type": "scatter",
         "x": [
          0,
          1,
          3,
          5,
          7,
          9,
          11,
          13,
          15,
          17,
          19
         ],
         "xaxis": "x",
         "y": [
          1,
          0.9993378520011902,
          0.9963295459747314,
          0.9941489696502686,
          0.9941155910491943,
          0.9956159591674805,
          0.9962393045425415,
          0.9946930408477783,
          0.9926091432571411,
          0.9919766783714294,
          0.9925445318222046
         ],
         "yaxis": "y"
        },
        {
         "hovertemplate": "netuid=13<br>Conceal period (every 360 blocks)=%{x}<br>Similarity=%{y}<extra></extra>",
         "legendgroup": "13",
         "line": {
          "color": "#EF553B",
          "dash": "solid"
         },
         "marker": {
          "symbol": "circle"
         },
         "mode": "lines",
         "name": "13",
         "orientation": "v",
         "showlegend": true,
         "type": "scatter",
         "x": [
          0,
          1,
          3,
          5,
          7,
          9,
          11,
          13,
          15,
          17,
          19
         ],
         "xaxis": "x",
         "y": [
          1,
          0.9683764576911926,
          0.9248293042182922,
          0.8870740532875061,
          0.8813368678092957,
          0.902726411819458,
          0.9178779125213623,
          0.9232780933380127,
          0.9293797016143799,
          0.9250625371932983,
          0.907015860080719
         ],
         "yaxis": "y"
        },
        {
         "hovertemplate": "netuid=14<br>Conceal period (every 360 blocks)=%{x}<br>Similarity=%{y}<extra></extra>",
         "legendgroup": "14",
         "line": {
          "color": "#00cc96",
          "dash": "solid"
         },
         "marker": {
          "symbol": "circle"
         },
         "mode": "lines",
         "name": "14",
         "orientation": "v",
         "showlegend": true,
         "type": "scatter",
         "x": [
          0,
          1,
          3,
          5,
          7,
          9,
          11,
          13,
          15,
          17,
          19
         ],
         "xaxis": "x",
         "y": [
          1,
          0.9993305206298828,
          0.999223530292511,
          0.9992573857307434,
          0.9992061257362366,
          0.9991113543510437,
          0.9989462494850159,
          0.9988712072372437,
          0.9988899827003479,
          0.9989747405052185,
          0.9989838004112244
         ],
         "yaxis": "y"
        },
        {
         "hovertemplate": "netuid=15<br>Conceal period (every 360 blocks)=%{x}<br>Similarity=%{y}<extra></extra>",
         "legendgroup": "15",
         "line": {
          "color": "#ab63fa",
          "dash": "solid"
         },
         "marker": {
          "symbol": "circle"
         },
         "mode": "lines",
         "name": "15",
         "orientation": "v",
         "showlegend": true,
         "type": "scatter",
         "x": [
          0,
          1,
          3,
          5,
          7,
          9,
          11,
          13,
          15,
          17,
          19
         ],
         "xaxis": "x",
         "y": [
          1,
          0.9993969202041626,
          0.9965878129005432,
          0.9956337213516235,
          0.9968658685684204,
          0.9961662292480469,
          0.9951444268226624,
          0.9940440654754639,
          0.9930855631828308,
          0.992341935634613,
          0.9917076230049133
         ],
         "yaxis": "y"
        },
        {
         "hovertemplate": "netuid=16<br>Conceal period (every 360 blocks)=%{x}<br>Similarity=%{y}<extra></extra>",
         "legendgroup": "16",
         "line": {
          "color": "#FFA15A",
          "dash": "solid"
         },
         "marker": {
          "symbol": "circle"
         },
         "mode": "lines",
         "name": "16",
         "orientation": "v",
         "showlegend": true,
         "type": "scatter",
         "x": [
          0,
          1,
          3,
          5,
          7,
          9,
          11,
          13,
          15,
          17,
          19
         ],
         "xaxis": "x",
         "y": [
          1,
          0.9966329336166382,
          0.9897305369377136,
          0.9828759431838989,
          0.9780809879302979,
          0.9744516611099243,
          0.9709056615829468,
          0.9678344130516052,
          0.9672743082046509,
          0.9578543305397034,
          0.9471477270126343
         ],
         "yaxis": "y"
        },
        {
         "hovertemplate": "netuid=17<br>Conceal period (every 360 blocks)=%{x}<br>Similarity=%{y}<extra></extra>",
         "legendgroup": "17",
         "line": {
          "color": "#19d3f3",
          "dash": "solid"
         },
         "marker": {
          "symbol": "circle"
         },
         "mode": "lines",
         "name": "17",
         "orientation": "v",
         "showlegend": true,
         "type": "scatter",
         "x": [
          0,
          1,
          3,
          5,
          7,
          9,
          11,
          13,
          15,
          17,
          19
         ],
         "xaxis": "x",
         "y": [
          1,
          0.999127984046936,
          0.9959787726402283,
          0.9930818676948547,
          0.9920921325683594,
          0.9914070963859558,
          0.9895060658454895,
          0.9845272898674011,
          0.9765527844429016,
          0.9685594439506531,
          0.9637971520423889
         ],
         "yaxis": "y"
        },
        {
         "hovertemplate": "netuid=18<br>Conceal period (every 360 blocks)=%{x}<br>Similarity=%{y}<extra></extra>",
         "legendgroup": "18",
         "line": {
          "color": "#FF6692",
          "dash": "solid"
         },
         "marker": {
          "symbol": "circle"
         },
         "mode": "lines",
         "name": "18",
         "orientation": "v",
         "showlegend": true,
         "type": "scatter",
         "x": [
          0,
          1,
          3,
          5,
          7,
          9,
          11,
          13,
          15,
          17,
          19
         ],
         "xaxis": "x",
         "y": [
          1,
          0.9917750358581543,
          0.9694315791130066,
          0.9592157602310181,
          0.9646485447883606,
          0.9743088483810425,
          0.9773213863372803,
          0.9794543385505676,
          0.9825946092605591,
          0.9829772114753723,
          0.9824993014335632
         ],
         "yaxis": "y"
        },
        {
         "hovertemplate": "netuid=19<br>Conceal period (every 360 blocks)=%{x}<br>Similarity=%{y}<extra></extra>",
         "legendgroup": "19",
         "line": {
          "color": "#B6E880",
          "dash": "solid"
         },
         "marker": {
          "symbol": "circle"
         },
         "mode": "lines",
         "name": "19",
         "orientation": "v",
         "showlegend": true,
         "type": "scatter",
         "x": [
          0,
          1,
          3,
          5,
          7,
          9,
          11,
          13,
          15,
          17,
          19
         ],
         "xaxis": "x",
         "y": [
          1,
          0.9993059039115906,
          0.9987484216690063,
          0.9976990818977356,
          0.9964102506637573,
          0.9953343868255615,
          0.9942062497138977,
          0.9929429292678833,
          0.9918085932731628,
          0.9915140271186829,
          0.9921076893806458
         ],
         "yaxis": "y"
        },
        {
         "hovertemplate": "netuid=20<br>Conceal period (every 360 blocks)=%{x}<br>Similarity=%{y}<extra></extra>",
         "legendgroup": "20",
         "line": {
          "color": "#FF97FF",
          "dash": "solid"
         },
         "marker": {
          "symbol": "circle"
         },
         "mode": "lines",
         "name": "20",
         "orientation": "v",
         "showlegend": true,
         "type": "scatter",
         "x": [
          0,
          1,
          3,
          5,
          7,
          9,
          11,
          13,
          15,
          17,
          19
         ],
         "xaxis": "x",
         "y": [
          1,
          0.9995796084403992,
          0.9991987943649292,
          0.9986321330070496,
          0.9979915022850037,
          0.9976216554641724,
          0.9971222877502441,
          0.9966996908187866,
          0.9966128468513489,
          0.9967740774154663,
          0.996909499168396
         ],
         "yaxis": "y"
        },
        {
         "hovertemplate": "netuid=21<br>Conceal period (every 360 blocks)=%{x}<br>Similarity=%{y}<extra></extra>",
         "legendgroup": "21",
         "line": {
          "color": "#FECB52",
          "dash": "solid"
         },
         "marker": {
          "symbol": "circle"
         },
         "mode": "lines",
         "name": "21",
         "orientation": "v",
         "showlegend": true,
         "type": "scatter",
         "x": [
          0,
          1,
          3,
          5,
          7,
          9,
          11,
          13,
          15,
          17,
          19
         ],
         "xaxis": "x",
         "y": [
          1,
          0.9889190793037415,
          0.9893938899040222,
          0.9902913570404053,
          0.9898820519447327,
          0.9867750406265259,
          0.983508288860321,
          0.9852558374404907,
          0.9863983392715454,
          0.986778974533081,
          0.9866302609443665
         ],
         "yaxis": "y"
        },
        {
         "hovertemplate": "netuid=22<br>Conceal period (every 360 blocks)=%{x}<br>Similarity=%{y}<extra></extra>",
         "legendgroup": "22",
         "line": {
          "color": "#636efa",
          "dash": "solid"
         },
         "marker": {
          "symbol": "circle"
         },
         "mode": "lines",
         "name": "22",
         "orientation": "v",
         "showlegend": true,
         "type": "scatter",
         "x": [
          0,
          1,
          3,
          5,
          7,
          9,
          11,
          13,
          15,
          17,
          19
         ],
         "xaxis": "x",
         "y": [
          1,
          0.9935855269432068,
          0.9821014404296875,
          0.9843929409980774,
          0.987686812877655,
          0.9815647602081299,
          0.9820379614830017,
          0.9878251552581787,
          0.9931533932685852,
          0.9956727623939514,
          0.9936671257019043
         ],
         "yaxis": "y"
        },
        {
         "hovertemplate": "netuid=23<br>Conceal period (every 360 blocks)=%{x}<br>Similarity=%{y}<extra></extra>",
         "legendgroup": "23",
         "line": {
          "color": "#EF553B",
          "dash": "solid"
         },
         "marker": {
          "symbol": "circle"
         },
         "mode": "lines",
         "name": "23",
         "orientation": "v",
         "showlegend": true,
         "type": "scatter",
         "x": [
          0,
          1,
          3,
          5,
          7,
          9,
          11,
          13,
          15,
          17,
          19
         ],
         "xaxis": "x",
         "y": [
          1,
          0.9840156435966492,
          0.9796188473701477,
          0.9709340333938599,
          0.9642007350921631,
          0.9620498418807983,
          0.9583585858345032,
          0.9564176201820374,
          0.9583401083946228,
          0.9607876539230347,
          0.9620199799537659
         ],
         "yaxis": "y"
        },
        {
         "hovertemplate": "netuid=24<br>Conceal period (every 360 blocks)=%{x}<br>Similarity=%{y}<extra></extra>",
         "legendgroup": "24",
         "line": {
          "color": "#00cc96",
          "dash": "solid"
         },
         "marker": {
          "symbol": "circle"
         },
         "mode": "lines",
         "name": "24",
         "orientation": "v",
         "showlegend": true,
         "type": "scatter",
         "x": [
          0,
          1,
          3,
          5,
          7,
          9,
          11,
          13,
          15,
          17,
          19
         ],
         "xaxis": "x",
         "y": [
          1,
          0.9741760492324829,
          0.9615094065666199,
          0.9602118134498596,
          0.9596065282821655,
          0.9641285538673401,
          0.9611077904701233,
          0.9598633050918579,
          0.9596032500267029,
          0.9577953219413757,
          0.9563292264938354
         ],
         "yaxis": "y"
        },
        {
         "hovertemplate": "netuid=26<br>Conceal period (every 360 blocks)=%{x}<br>Similarity=%{y}<extra></extra>",
         "legendgroup": "26",
         "line": {
          "color": "#ab63fa",
          "dash": "solid"
         },
         "marker": {
          "symbol": "circle"
         },
         "mode": "lines",
         "name": "26",
         "orientation": "v",
         "showlegend": true,
         "type": "scatter",
         "x": [
          0,
          1,
          3,
          5,
          7,
          9,
          11,
          13,
          15,
          17,
          19
         ],
         "xaxis": "x",
         "y": [
          1,
          0.9994719624519348,
          0.9987155795097351,
          0.9979122877120972,
          0.9973372220993042,
          0.9968028664588928,
          0.9963467121124268,
          0.9957682490348816,
          0.9954181909561157,
          0.9950380921363831,
          0.9945990443229675
         ],
         "yaxis": "y"
        },
        {
         "hovertemplate": "netuid=27<br>Conceal period (every 360 blocks)=%{x}<br>Similarity=%{y}<extra></extra>",
         "legendgroup": "27",
         "line": {
          "color": "#FFA15A",
          "dash": "solid"
         },
         "marker": {
          "symbol": "circle"
         },
         "mode": "lines",
         "name": "27",
         "orientation": "v",
         "showlegend": true,
         "type": "scatter",
         "x": [
          0,
          1,
          3,
          5,
          7,
          9,
          11,
          13,
          15,
          17,
          19
         ],
         "xaxis": "x",
         "y": [
          1,
          0.9966827630996704,
          0.9904820322990417,
          0.9869961142539978,
          0.990214467048645,
          0.9906748533248901,
          0.9905381202697754,
          0.9901833534240723,
          0.9886754155158997,
          0.9873414039611816,
          0.9870567917823792
         ],
         "yaxis": "y"
        },
        {
         "hovertemplate": "netuid=28<br>Conceal period (every 360 blocks)=%{x}<br>Similarity=%{y}<extra></extra>",
         "legendgroup": "28",
         "line": {
          "color": "#19d3f3",
          "dash": "solid"
         },
         "marker": {
          "symbol": "circle"
         },
         "mode": "lines",
         "name": "28",
         "orientation": "v",
         "showlegend": true,
         "type": "scatter",
         "x": [
          0,
          1,
          3,
          5,
          7,
          9,
          11,
          13,
          15,
          17,
          19
         ],
         "xaxis": "x",
         "y": [
          1,
          0.9981715083122253,
          0.9976893067359924,
          0.9984548091888428,
          0.998387336730957,
          0.9988015294075012,
          0.9983855485916138,
          0.9979169964790344,
          0.9982460737228394,
          0.9983429312705994,
          0.9981995224952698
         ],
         "yaxis": "y"
        },
        {
         "hovertemplate": "netuid=29<br>Conceal period (every 360 blocks)=%{x}<br>Similarity=%{y}<extra></extra>",
         "legendgroup": "29",
         "line": {
          "color": "#FF6692",
          "dash": "solid"
         },
         "marker": {
          "symbol": "circle"
         },
         "mode": "lines",
         "name": "29",
         "orientation": "v",
         "showlegend": true,
         "type": "scatter",
         "x": [
          0,
          1,
          3,
          5,
          7,
          9,
          11,
          13,
          15,
          17,
          19
         ],
         "xaxis": "x",
         "y": [
          1,
          0.9703459143638611,
          0.9681252241134644,
          0.9663371443748474,
          0.9685351252555847,
          0.9672300219535828,
          0.9686415195465088,
          0.9688534140586853,
          0.9706256985664368,
          0.9658257365226746,
          0.9652319550514221
         ],
         "yaxis": "y"
        },
        {
         "hovertemplate": "netuid=30<br>Conceal period (every 360 blocks)=%{x}<br>Similarity=%{y}<extra></extra>",
         "legendgroup": "30",
         "line": {
          "color": "#B6E880",
          "dash": "solid"
         },
         "marker": {
          "symbol": "circle"
         },
         "mode": "lines",
         "name": "30",
         "orientation": "v",
         "showlegend": true,
         "type": "scatter",
         "x": [
          0,
          1,
          3,
          5,
          7,
          9,
          11,
          13,
          15,
          17,
          19
         ],
         "xaxis": "x",
         "y": [
          1,
          0.9854711294174194,
          0.955562174320221,
          0.9270921945571899,
          0.9038100242614746,
          0.8848834037780762,
          0.8646593689918518,
          0.844379723072052,
          0.8122017979621887,
          0.7719634771347046,
          0.7480520606040955
         ],
         "yaxis": "y"
        },
        {
         "hovertemplate": "netuid=31<br>Conceal period (every 360 blocks)=%{x}<br>Similarity=%{y}<extra></extra>",
         "legendgroup": "31",
         "line": {
          "color": "#FF97FF",
          "dash": "solid"
         },
         "marker": {
          "symbol": "circle"
         },
         "mode": "lines",
         "name": "31",
         "orientation": "v",
         "showlegend": true,
         "type": "scatter",
         "x": [
          0,
          1,
          3,
          5,
          7,
          9,
          11,
          13,
          15,
          17,
          19
         ],
         "xaxis": "x",
         "y": [
          1,
          0.9969156384468079,
          0.9902166724205017,
          0.9842631220817566,
          0.9819474220275879,
          0.9810119867324829,
          0.9780344367027283,
          0.9747946858406067,
          0.9716683626174927,
          0.9714550971984863,
          0.9755642414093018
         ],
         "yaxis": "y"
        },
        {
         "hovertemplate": "netuid=32<br>Conceal period (every 360 blocks)=%{x}<br>Similarity=%{y}<extra></extra>",
         "legendgroup": "32",
         "line": {
          "color": "#FECB52",
          "dash": "solid"
         },
         "marker": {
          "symbol": "circle"
         },
         "mode": "lines",
         "name": "32",
         "orientation": "v",
         "showlegend": true,
         "type": "scatter",
         "x": [
          0,
          1,
          3,
          5,
          7,
          9,
          11,
          13,
          15,
          17,
          19
         ],
         "xaxis": "x",
         "y": [
          1,
          0.9995766878128052,
          0.997602105140686,
          0.9961768984794617,
          0.9960659146308899,
          0.9957921504974365,
          0.9925954341888428,
          0.9867021441459656,
          0.9805306196212769,
          0.9738381505012512,
          0.9726085066795349
         ],
         "yaxis": "y"
        }
       ],
       "layout": {
        "height": 1000,
        "legend": {
         "title": {
          "text": "netuid"
         },
         "tracegroupgap": 0
        },
        "template": {
         "data": {
          "bar": [
           {
            "error_x": {
             "color": "#2a3f5f"
            },
            "error_y": {
             "color": "#2a3f5f"
            },
            "marker": {
             "line": {
              "color": "#E5ECF6",
              "width": 0.5
             },
             "pattern": {
              "fillmode": "overlay",
              "size": 10,
              "solidity": 0.2
             }
            },
            "type": "bar"
           }
          ],
          "barpolar": [
           {
            "marker": {
             "line": {
              "color": "#E5ECF6",
              "width": 0.5
             },
             "pattern": {
              "fillmode": "overlay",
              "size": 10,
              "solidity": 0.2
             }
            },
            "type": "barpolar"
           }
          ],
          "carpet": [
           {
            "aaxis": {
             "endlinecolor": "#2a3f5f",
             "gridcolor": "white",
             "linecolor": "white",
             "minorgridcolor": "white",
             "startlinecolor": "#2a3f5f"
            },
            "baxis": {
             "endlinecolor": "#2a3f5f",
             "gridcolor": "white",
             "linecolor": "white",
             "minorgridcolor": "white",
             "startlinecolor": "#2a3f5f"
            },
            "type": "carpet"
           }
          ],
          "choropleth": [
           {
            "colorbar": {
             "outlinewidth": 0,
             "ticks": ""
            },
            "type": "choropleth"
           }
          ],
          "contour": [
           {
            "colorbar": {
             "outlinewidth": 0,
             "ticks": ""
            },
            "colorscale": [
             [
              0,
              "#0d0887"
             ],
             [
              0.1111111111111111,
              "#46039f"
             ],
             [
              0.2222222222222222,
              "#7201a8"
             ],
             [
              0.3333333333333333,
              "#9c179e"
             ],
             [
              0.4444444444444444,
              "#bd3786"
             ],
             [
              0.5555555555555556,
              "#d8576b"
             ],
             [
              0.6666666666666666,
              "#ed7953"
             ],
             [
              0.7777777777777778,
              "#fb9f3a"
             ],
             [
              0.8888888888888888,
              "#fdca26"
             ],
             [
              1,
              "#f0f921"
             ]
            ],
            "type": "contour"
           }
          ],
          "contourcarpet": [
           {
            "colorbar": {
             "outlinewidth": 0,
             "ticks": ""
            },
            "type": "contourcarpet"
           }
          ],
          "heatmap": [
           {
            "colorbar": {
             "outlinewidth": 0,
             "ticks": ""
            },
            "colorscale": [
             [
              0,
              "#0d0887"
             ],
             [
              0.1111111111111111,
              "#46039f"
             ],
             [
              0.2222222222222222,
              "#7201a8"
             ],
             [
              0.3333333333333333,
              "#9c179e"
             ],
             [
              0.4444444444444444,
              "#bd3786"
             ],
             [
              0.5555555555555556,
              "#d8576b"
             ],
             [
              0.6666666666666666,
              "#ed7953"
             ],
             [
              0.7777777777777778,
              "#fb9f3a"
             ],
             [
              0.8888888888888888,
              "#fdca26"
             ],
             [
              1,
              "#f0f921"
             ]
            ],
            "type": "heatmap"
           }
          ],
          "heatmapgl": [
           {
            "colorbar": {
             "outlinewidth": 0,
             "ticks": ""
            },
            "colorscale": [
             [
              0,
              "#0d0887"
             ],
             [
              0.1111111111111111,
              "#46039f"
             ],
             [
              0.2222222222222222,
              "#7201a8"
             ],
             [
              0.3333333333333333,
              "#9c179e"
             ],
             [
              0.4444444444444444,
              "#bd3786"
             ],
             [
              0.5555555555555556,
              "#d8576b"
             ],
             [
              0.6666666666666666,
              "#ed7953"
             ],
             [
              0.7777777777777778,
              "#fb9f3a"
             ],
             [
              0.8888888888888888,
              "#fdca26"
             ],
             [
              1,
              "#f0f921"
             ]
            ],
            "type": "heatmapgl"
           }
          ],
          "histogram": [
           {
            "marker": {
             "pattern": {
              "fillmode": "overlay",
              "size": 10,
              "solidity": 0.2
             }
            },
            "type": "histogram"
           }
          ],
          "histogram2d": [
           {
            "colorbar": {
             "outlinewidth": 0,
             "ticks": ""
            },
            "colorscale": [
             [
              0,
              "#0d0887"
             ],
             [
              0.1111111111111111,
              "#46039f"
             ],
             [
              0.2222222222222222,
              "#7201a8"
             ],
             [
              0.3333333333333333,
              "#9c179e"
             ],
             [
              0.4444444444444444,
              "#bd3786"
             ],
             [
              0.5555555555555556,
              "#d8576b"
             ],
             [
              0.6666666666666666,
              "#ed7953"
             ],
             [
              0.7777777777777778,
              "#fb9f3a"
             ],
             [
              0.8888888888888888,
              "#fdca26"
             ],
             [
              1,
              "#f0f921"
             ]
            ],
            "type": "histogram2d"
           }
          ],
          "histogram2dcontour": [
           {
            "colorbar": {
             "outlinewidth": 0,
             "ticks": ""
            },
            "colorscale": [
             [
              0,
              "#0d0887"
             ],
             [
              0.1111111111111111,
              "#46039f"
             ],
             [
              0.2222222222222222,
              "#7201a8"
             ],
             [
              0.3333333333333333,
              "#9c179e"
             ],
             [
              0.4444444444444444,
              "#bd3786"
             ],
             [
              0.5555555555555556,
              "#d8576b"
             ],
             [
              0.6666666666666666,
              "#ed7953"
             ],
             [
              0.7777777777777778,
              "#fb9f3a"
             ],
             [
              0.8888888888888888,
              "#fdca26"
             ],
             [
              1,
              "#f0f921"
             ]
            ],
            "type": "histogram2dcontour"
           }
          ],
          "mesh3d": [
           {
            "colorbar": {
             "outlinewidth": 0,
             "ticks": ""
            },
            "type": "mesh3d"
           }
          ],
          "parcoords": [
           {
            "line": {
             "colorbar": {
              "outlinewidth": 0,
              "ticks": ""
             }
            },
            "type": "parcoords"
           }
          ],
          "pie": [
           {
            "automargin": true,
            "type": "pie"
           }
          ],
          "scatter": [
           {
            "fillpattern": {
             "fillmode": "overlay",
             "size": 10,
             "solidity": 0.2
            },
            "type": "scatter"
           }
          ],
          "scatter3d": [
           {
            "line": {
             "colorbar": {
              "outlinewidth": 0,
              "ticks": ""
             }
            },
            "marker": {
             "colorbar": {
              "outlinewidth": 0,
              "ticks": ""
             }
            },
            "type": "scatter3d"
           }
          ],
          "scattercarpet": [
           {
            "marker": {
             "colorbar": {
              "outlinewidth": 0,
              "ticks": ""
             }
            },
            "type": "scattercarpet"
           }
          ],
          "scattergeo": [
           {
            "marker": {
             "colorbar": {
              "outlinewidth": 0,
              "ticks": ""
             }
            },
            "type": "scattergeo"
           }
          ],
          "scattergl": [
           {
            "marker": {
             "colorbar": {
              "outlinewidth": 0,
              "ticks": ""
             }
            },
            "type": "scattergl"
           }
          ],
          "scattermapbox": [
           {
            "marker": {
             "colorbar": {
              "outlinewidth": 0,
              "ticks": ""
             }
            },
            "type": "scattermapbox"
           }
          ],
          "scatterpolar": [
           {
            "marker": {
             "colorbar": {
              "outlinewidth": 0,
              "ticks": ""
             }
            },
            "type": "scatterpolar"
           }
          ],
          "scatterpolargl": [
           {
            "marker": {
             "colorbar": {
              "outlinewidth": 0,
              "ticks": ""
             }
            },
            "type": "scatterpolargl"
           }
          ],
          "scatterternary": [
           {
            "marker": {
             "colorbar": {
              "outlinewidth": 0,
              "ticks": ""
             }
            },
            "type": "scatterternary"
           }
          ],
          "surface": [
           {
            "colorbar": {
             "outlinewidth": 0,
             "ticks": ""
            },
            "colorscale": [
             [
              0,
              "#0d0887"
             ],
             [
              0.1111111111111111,
              "#46039f"
             ],
             [
              0.2222222222222222,
              "#7201a8"
             ],
             [
              0.3333333333333333,
              "#9c179e"
             ],
             [
              0.4444444444444444,
              "#bd3786"
             ],
             [
              0.5555555555555556,
              "#d8576b"
             ],
             [
              0.6666666666666666,
              "#ed7953"
             ],
             [
              0.7777777777777778,
              "#fb9f3a"
             ],
             [
              0.8888888888888888,
              "#fdca26"
             ],
             [
              1,
              "#f0f921"
             ]
            ],
            "type": "surface"
           }
          ],
          "table": [
           {
            "cells": {
             "fill": {
              "color": "#EBF0F8"
             },
             "line": {
              "color": "white"
             }
            },
            "header": {
             "fill": {
              "color": "#C8D4E3"
             },
             "line": {
              "color": "white"
             }
            },
            "type": "table"
           }
          ]
         },
         "layout": {
          "annotationdefaults": {
           "arrowcolor": "#2a3f5f",
           "arrowhead": 0,
           "arrowwidth": 1
          },
          "autotypenumbers": "strict",
          "coloraxis": {
           "colorbar": {
            "outlinewidth": 0,
            "ticks": ""
           }
          },
          "colorscale": {
           "diverging": [
            [
             0,
             "#8e0152"
            ],
            [
             0.1,
             "#c51b7d"
            ],
            [
             0.2,
             "#de77ae"
            ],
            [
             0.3,
             "#f1b6da"
            ],
            [
             0.4,
             "#fde0ef"
            ],
            [
             0.5,
             "#f7f7f7"
            ],
            [
             0.6,
             "#e6f5d0"
            ],
            [
             0.7,
             "#b8e186"
            ],
            [
             0.8,
             "#7fbc41"
            ],
            [
             0.9,
             "#4d9221"
            ],
            [
             1,
             "#276419"
            ]
           ],
           "sequential": [
            [
             0,
             "#0d0887"
            ],
            [
             0.1111111111111111,
             "#46039f"
            ],
            [
             0.2222222222222222,
             "#7201a8"
            ],
            [
             0.3333333333333333,
             "#9c179e"
            ],
            [
             0.4444444444444444,
             "#bd3786"
            ],
            [
             0.5555555555555556,
             "#d8576b"
            ],
            [
             0.6666666666666666,
             "#ed7953"
            ],
            [
             0.7777777777777778,
             "#fb9f3a"
            ],
            [
             0.8888888888888888,
             "#fdca26"
            ],
            [
             1,
             "#f0f921"
            ]
           ],
           "sequentialminus": [
            [
             0,
             "#0d0887"
            ],
            [
             0.1111111111111111,
             "#46039f"
            ],
            [
             0.2222222222222222,
             "#7201a8"
            ],
            [
             0.3333333333333333,
             "#9c179e"
            ],
            [
             0.4444444444444444,
             "#bd3786"
            ],
            [
             0.5555555555555556,
             "#d8576b"
            ],
            [
             0.6666666666666666,
             "#ed7953"
            ],
            [
             0.7777777777777778,
             "#fb9f3a"
            ],
            [
             0.8888888888888888,
             "#fdca26"
            ],
            [
             1,
             "#f0f921"
            ]
           ]
          },
          "colorway": [
           "#636efa",
           "#EF553B",
           "#00cc96",
           "#ab63fa",
           "#FFA15A",
           "#19d3f3",
           "#FF6692",
           "#B6E880",
           "#FF97FF",
           "#FECB52"
          ],
          "font": {
           "color": "#2a3f5f"
          },
          "geo": {
           "bgcolor": "white",
           "lakecolor": "white",
           "landcolor": "#E5ECF6",
           "showlakes": true,
           "showland": true,
           "subunitcolor": "white"
          },
          "hoverlabel": {
           "align": "left"
          },
          "hovermode": "closest",
          "mapbox": {
           "style": "light"
          },
          "paper_bgcolor": "white",
          "plot_bgcolor": "#E5ECF6",
          "polar": {
           "angularaxis": {
            "gridcolor": "white",
            "linecolor": "white",
            "ticks": ""
           },
           "bgcolor": "#E5ECF6",
           "radialaxis": {
            "gridcolor": "white",
            "linecolor": "white",
            "ticks": ""
           }
          },
          "scene": {
           "xaxis": {
            "backgroundcolor": "#E5ECF6",
            "gridcolor": "white",
            "gridwidth": 2,
            "linecolor": "white",
            "showbackground": true,
            "ticks": "",
            "zerolinecolor": "white"
           },
           "yaxis": {
            "backgroundcolor": "#E5ECF6",
            "gridcolor": "white",
            "gridwidth": 2,
            "linecolor": "white",
            "showbackground": true,
            "ticks": "",
            "zerolinecolor": "white"
           },
           "zaxis": {
            "backgroundcolor": "#E5ECF6",
            "gridcolor": "white",
            "gridwidth": 2,
            "linecolor": "white",
            "showbackground": true,
            "ticks": "",
            "zerolinecolor": "white"
           }
          },
          "shapedefaults": {
           "line": {
            "color": "#2a3f5f"
           }
          },
          "ternary": {
           "aaxis": {
            "gridcolor": "white",
            "linecolor": "white",
            "ticks": ""
           },
           "baxis": {
            "gridcolor": "white",
            "linecolor": "white",
            "ticks": ""
           },
           "bgcolor": "#E5ECF6",
           "caxis": {
            "gridcolor": "white",
            "linecolor": "white",
            "ticks": ""
           }
          },
          "title": {
           "x": 0.05
          },
          "xaxis": {
           "automargin": true,
           "gridcolor": "white",
           "linecolor": "white",
           "ticks": "",
           "title": {
            "standoff": 15
           },
           "zerolinecolor": "white",
           "zerolinewidth": 2
          },
          "yaxis": {
           "automargin": true,
           "gridcolor": "white",
           "linecolor": "white",
           "ticks": "",
           "title": {
            "standoff": 15
           },
           "zerolinecolor": "white",
           "zerolinewidth": 2
          }
         }
        },
        "title": {
         "text": "Change In Weight Measured By Cosine Similarity"
        },
        "width": 1000,
        "xaxis": {
         "anchor": "y",
         "domain": [
          0,
          1
         ],
         "title": {
          "text": "Conceal period (every 360 blocks)"
         }
        },
        "yaxis": {
         "anchor": "x",
         "domain": [
          0,
          1
         ],
         "title": {
          "text": "Similarity"
         }
        }
       }
      },
      "text/html": [
       "<div>                            <div id=\"4e820eb2-03d6-4844-9ad6-110aef16e303\" class=\"plotly-graph-div\" style=\"height:1000px; width:1000px;\"></div>            <script type=\"text/javascript\">                require([\"plotly\"], function(Plotly) {                    window.PLOTLYENV=window.PLOTLYENV || {};                                    if (document.getElementById(\"4e820eb2-03d6-4844-9ad6-110aef16e303\")) {                    Plotly.newPlot(                        \"4e820eb2-03d6-4844-9ad6-110aef16e303\",                        [{\"hovertemplate\":\"netuid=1<br>Conceal period (every 360 blocks)=%{x}<br>Similarity=%{y}<extra></extra>\",\"legendgroup\":\"1\",\"line\":{\"color\":\"#636efa\",\"dash\":\"solid\"},\"marker\":{\"symbol\":\"circle\"},\"mode\":\"lines\",\"name\":\"1\",\"orientation\":\"v\",\"showlegend\":true,\"x\":[0,1,3,5,7,9,11,13,15,17,19],\"xaxis\":\"x\",\"y\":[1.0,0.9647132754325867,0.9512402415275574,0.946466863155365,0.9437443017959595,0.9453920125961304,0.9389941692352295,0.9428465962409973,0.9423691034317017,0.9367790818214417,0.9438475370407104],\"yaxis\":\"y\",\"type\":\"scatter\"},{\"hovertemplate\":\"netuid=2<br>Conceal period (every 360 blocks)=%{x}<br>Similarity=%{y}<extra></extra>\",\"legendgroup\":\"2\",\"line\":{\"color\":\"#EF553B\",\"dash\":\"solid\"},\"marker\":{\"symbol\":\"circle\"},\"mode\":\"lines\",\"name\":\"2\",\"orientation\":\"v\",\"showlegend\":true,\"x\":[0,1,3,5,7,9,11,13,15,17,19],\"xaxis\":\"x\",\"y\":[1.0,0.9993332028388977,0.999104380607605,0.9989460706710815,0.9990265965461731,0.9991815090179443,0.9995632171630859,0.999539315700531,0.9987114071846008,0.9962044358253479,0.995995283126831],\"yaxis\":\"y\",\"type\":\"scatter\"},{\"hovertemplate\":\"netuid=3<br>Conceal period (every 360 blocks)=%{x}<br>Similarity=%{y}<extra></extra>\",\"legendgroup\":\"3\",\"line\":{\"color\":\"#00cc96\",\"dash\":\"solid\"},\"marker\":{\"symbol\":\"circle\"},\"mode\":\"lines\",\"name\":\"3\",\"orientation\":\"v\",\"showlegend\":true,\"x\":[0,1,3,5,7,9,11,13,15,17,19],\"xaxis\":\"x\",\"y\":[1.0,0.9471337199211121,0.9172669649124146,0.9133023023605347,0.9061619639396667,0.9358526468276978,0.916073203086853,0.9329958558082581,0.923065185546875,0.9050280451774597,0.9291291832923889],\"yaxis\":\"y\",\"type\":\"scatter\"},{\"hovertemplate\":\"netuid=4<br>Conceal period (every 360 blocks)=%{x}<br>Similarity=%{y}<extra></extra>\",\"legendgroup\":\"4\",\"line\":{\"color\":\"#ab63fa\",\"dash\":\"solid\"},\"marker\":{\"symbol\":\"circle\"},\"mode\":\"lines\",\"name\":\"4\",\"orientation\":\"v\",\"showlegend\":true,\"x\":[0,1,3,5,7,9,11,13,15,17,19],\"xaxis\":\"x\",\"y\":[1.0,0.9914709329605103,0.9764853715896606,0.957866370677948,0.9473161697387695,0.9438201785087585,0.9435889720916748,0.9439272880554199,0.9390789270401001,0.9375630021095276,0.9382205605506897],\"yaxis\":\"y\",\"type\":\"scatter\"},{\"hovertemplate\":\"netuid=5<br>Conceal period (every 360 blocks)=%{x}<br>Similarity=%{y}<extra></extra>\",\"legendgroup\":\"5\",\"line\":{\"color\":\"#FFA15A\",\"dash\":\"solid\"},\"marker\":{\"symbol\":\"circle\"},\"mode\":\"lines\",\"name\":\"5\",\"orientation\":\"v\",\"showlegend\":true,\"x\":[0,1,3,5,7,9,11,13,15,17,19],\"xaxis\":\"x\",\"y\":[1.0,0.9940692186355591,0.9865760803222656,0.9823146462440491,0.980684220790863,0.9782508611679077,0.9762371182441711,0.9750764966011047,0.9756459593772888,0.9737180471420288,0.9727569818496704],\"yaxis\":\"y\",\"type\":\"scatter\"},{\"hovertemplate\":\"netuid=6<br>Conceal period (every 360 blocks)=%{x}<br>Similarity=%{y}<extra></extra>\",\"legendgroup\":\"6\",\"line\":{\"color\":\"#19d3f3\",\"dash\":\"solid\"},\"marker\":{\"symbol\":\"circle\"},\"mode\":\"lines\",\"name\":\"6\",\"orientation\":\"v\",\"showlegend\":true,\"x\":[0,1,3,5,7,9,11,13,15,17,19],\"xaxis\":\"x\",\"y\":[1.0,0.9905000925064087,0.9669182300567627,0.957777202129364,0.9466533660888672,0.9195337295532227,0.8731979727745056,0.8263249397277832,0.8145676851272583,0.8140644431114197,0.8137248158454895],\"yaxis\":\"y\",\"type\":\"scatter\"},{\"hovertemplate\":\"netuid=7<br>Conceal period (every 360 blocks)=%{x}<br>Similarity=%{y}<extra></extra>\",\"legendgroup\":\"7\",\"line\":{\"color\":\"#FF6692\",\"dash\":\"solid\"},\"marker\":{\"symbol\":\"circle\"},\"mode\":\"lines\",\"name\":\"7\",\"orientation\":\"v\",\"showlegend\":true,\"x\":[0,1,3,5,7,9,11,13,15,17,19],\"xaxis\":\"x\",\"y\":[1.0,0.9974971413612366,0.9934247136116028,0.991137683391571,0.987295389175415,0.9839829206466675,0.9832957983016968,0.9823834300041199,0.9821420311927795,0.9820813536643982,0.9814104437828064],\"yaxis\":\"y\",\"type\":\"scatter\"},{\"hovertemplate\":\"netuid=8<br>Conceal period (every 360 blocks)=%{x}<br>Similarity=%{y}<extra></extra>\",\"legendgroup\":\"8\",\"line\":{\"color\":\"#B6E880\",\"dash\":\"solid\"},\"marker\":{\"symbol\":\"circle\"},\"mode\":\"lines\",\"name\":\"8\",\"orientation\":\"v\",\"showlegend\":true,\"x\":[0,1,3,5,7,9,11,13,15,17,19],\"xaxis\":\"x\",\"y\":[1.0,0.9985936880111694,0.9968208074569702,0.9956827163696289,0.994503915309906,0.9933474063873291,0.9921992421150208,0.9901636838912964,0.9862727522850037,0.9832850098609924,0.9823485016822815],\"yaxis\":\"y\",\"type\":\"scatter\"},{\"hovertemplate\":\"netuid=9<br>Conceal period (every 360 blocks)=%{x}<br>Similarity=%{y}<extra></extra>\",\"legendgroup\":\"9\",\"line\":{\"color\":\"#FF97FF\",\"dash\":\"solid\"},\"marker\":{\"symbol\":\"circle\"},\"mode\":\"lines\",\"name\":\"9\",\"orientation\":\"v\",\"showlegend\":true,\"x\":[0,1,3,5,7,9,11,13,15,17,19],\"xaxis\":\"x\",\"y\":[1.0,0.9909765124320984,0.9906231760978699,0.99354088306427,0.9889973998069763,0.9835011959075928,0.9790462851524353,0.9515607953071594,0.9493952989578247,0.9579779505729675,0.9759514927864075],\"yaxis\":\"y\",\"type\":\"scatter\"},{\"hovertemplate\":\"netuid=10<br>Conceal period (every 360 blocks)=%{x}<br>Similarity=%{y}<extra></extra>\",\"legendgroup\":\"10\",\"line\":{\"color\":\"#FECB52\",\"dash\":\"solid\"},\"marker\":{\"symbol\":\"circle\"},\"mode\":\"lines\",\"name\":\"10\",\"orientation\":\"v\",\"showlegend\":true,\"x\":[0,1,3,5,7,9,11,13,15,17,19],\"xaxis\":\"x\",\"y\":[1.0,0.9997653365135193,0.999810516834259,0.9997605681419373,0.9994158744812012,0.998262345790863,0.9966055154800415,0.9945546984672546,0.9937642812728882,0.9936837553977966,0.9859985113143921],\"yaxis\":\"y\",\"type\":\"scatter\"},{\"hovertemplate\":\"netuid=12<br>Conceal period (every 360 blocks)=%{x}<br>Similarity=%{y}<extra></extra>\",\"legendgroup\":\"12\",\"line\":{\"color\":\"#636efa\",\"dash\":\"solid\"},\"marker\":{\"symbol\":\"circle\"},\"mode\":\"lines\",\"name\":\"12\",\"orientation\":\"v\",\"showlegend\":true,\"x\":[0,1,3,5,7,9,11,13,15,17,19],\"xaxis\":\"x\",\"y\":[1.0,0.9993378520011902,0.9963295459747314,0.9941489696502686,0.9941155910491943,0.9956159591674805,0.9962393045425415,0.9946930408477783,0.9926091432571411,0.9919766783714294,0.9925445318222046],\"yaxis\":\"y\",\"type\":\"scatter\"},{\"hovertemplate\":\"netuid=13<br>Conceal period (every 360 blocks)=%{x}<br>Similarity=%{y}<extra></extra>\",\"legendgroup\":\"13\",\"line\":{\"color\":\"#EF553B\",\"dash\":\"solid\"},\"marker\":{\"symbol\":\"circle\"},\"mode\":\"lines\",\"name\":\"13\",\"orientation\":\"v\",\"showlegend\":true,\"x\":[0,1,3,5,7,9,11,13,15,17,19],\"xaxis\":\"x\",\"y\":[1.0,0.9683764576911926,0.9248293042182922,0.8870740532875061,0.8813368678092957,0.902726411819458,0.9178779125213623,0.9232780933380127,0.9293797016143799,0.9250625371932983,0.907015860080719],\"yaxis\":\"y\",\"type\":\"scatter\"},{\"hovertemplate\":\"netuid=14<br>Conceal period (every 360 blocks)=%{x}<br>Similarity=%{y}<extra></extra>\",\"legendgroup\":\"14\",\"line\":{\"color\":\"#00cc96\",\"dash\":\"solid\"},\"marker\":{\"symbol\":\"circle\"},\"mode\":\"lines\",\"name\":\"14\",\"orientation\":\"v\",\"showlegend\":true,\"x\":[0,1,3,5,7,9,11,13,15,17,19],\"xaxis\":\"x\",\"y\":[1.0,0.9993305206298828,0.999223530292511,0.9992573857307434,0.9992061257362366,0.9991113543510437,0.9989462494850159,0.9988712072372437,0.9988899827003479,0.9989747405052185,0.9989838004112244],\"yaxis\":\"y\",\"type\":\"scatter\"},{\"hovertemplate\":\"netuid=15<br>Conceal period (every 360 blocks)=%{x}<br>Similarity=%{y}<extra></extra>\",\"legendgroup\":\"15\",\"line\":{\"color\":\"#ab63fa\",\"dash\":\"solid\"},\"marker\":{\"symbol\":\"circle\"},\"mode\":\"lines\",\"name\":\"15\",\"orientation\":\"v\",\"showlegend\":true,\"x\":[0,1,3,5,7,9,11,13,15,17,19],\"xaxis\":\"x\",\"y\":[1.0,0.9993969202041626,0.9965878129005432,0.9956337213516235,0.9968658685684204,0.9961662292480469,0.9951444268226624,0.9940440654754639,0.9930855631828308,0.992341935634613,0.9917076230049133],\"yaxis\":\"y\",\"type\":\"scatter\"},{\"hovertemplate\":\"netuid=16<br>Conceal period (every 360 blocks)=%{x}<br>Similarity=%{y}<extra></extra>\",\"legendgroup\":\"16\",\"line\":{\"color\":\"#FFA15A\",\"dash\":\"solid\"},\"marker\":{\"symbol\":\"circle\"},\"mode\":\"lines\",\"name\":\"16\",\"orientation\":\"v\",\"showlegend\":true,\"x\":[0,1,3,5,7,9,11,13,15,17,19],\"xaxis\":\"x\",\"y\":[1.0,0.9966329336166382,0.9897305369377136,0.9828759431838989,0.9780809879302979,0.9744516611099243,0.9709056615829468,0.9678344130516052,0.9672743082046509,0.9578543305397034,0.9471477270126343],\"yaxis\":\"y\",\"type\":\"scatter\"},{\"hovertemplate\":\"netuid=17<br>Conceal period (every 360 blocks)=%{x}<br>Similarity=%{y}<extra></extra>\",\"legendgroup\":\"17\",\"line\":{\"color\":\"#19d3f3\",\"dash\":\"solid\"},\"marker\":{\"symbol\":\"circle\"},\"mode\":\"lines\",\"name\":\"17\",\"orientation\":\"v\",\"showlegend\":true,\"x\":[0,1,3,5,7,9,11,13,15,17,19],\"xaxis\":\"x\",\"y\":[1.0,0.999127984046936,0.9959787726402283,0.9930818676948547,0.9920921325683594,0.9914070963859558,0.9895060658454895,0.9845272898674011,0.9765527844429016,0.9685594439506531,0.9637971520423889],\"yaxis\":\"y\",\"type\":\"scatter\"},{\"hovertemplate\":\"netuid=18<br>Conceal period (every 360 blocks)=%{x}<br>Similarity=%{y}<extra></extra>\",\"legendgroup\":\"18\",\"line\":{\"color\":\"#FF6692\",\"dash\":\"solid\"},\"marker\":{\"symbol\":\"circle\"},\"mode\":\"lines\",\"name\":\"18\",\"orientation\":\"v\",\"showlegend\":true,\"x\":[0,1,3,5,7,9,11,13,15,17,19],\"xaxis\":\"x\",\"y\":[1.0,0.9917750358581543,0.9694315791130066,0.9592157602310181,0.9646485447883606,0.9743088483810425,0.9773213863372803,0.9794543385505676,0.9825946092605591,0.9829772114753723,0.9824993014335632],\"yaxis\":\"y\",\"type\":\"scatter\"},{\"hovertemplate\":\"netuid=19<br>Conceal period (every 360 blocks)=%{x}<br>Similarity=%{y}<extra></extra>\",\"legendgroup\":\"19\",\"line\":{\"color\":\"#B6E880\",\"dash\":\"solid\"},\"marker\":{\"symbol\":\"circle\"},\"mode\":\"lines\",\"name\":\"19\",\"orientation\":\"v\",\"showlegend\":true,\"x\":[0,1,3,5,7,9,11,13,15,17,19],\"xaxis\":\"x\",\"y\":[1.0,0.9993059039115906,0.9987484216690063,0.9976990818977356,0.9964102506637573,0.9953343868255615,0.9942062497138977,0.9929429292678833,0.9918085932731628,0.9915140271186829,0.9921076893806458],\"yaxis\":\"y\",\"type\":\"scatter\"},{\"hovertemplate\":\"netuid=20<br>Conceal period (every 360 blocks)=%{x}<br>Similarity=%{y}<extra></extra>\",\"legendgroup\":\"20\",\"line\":{\"color\":\"#FF97FF\",\"dash\":\"solid\"},\"marker\":{\"symbol\":\"circle\"},\"mode\":\"lines\",\"name\":\"20\",\"orientation\":\"v\",\"showlegend\":true,\"x\":[0,1,3,5,7,9,11,13,15,17,19],\"xaxis\":\"x\",\"y\":[1.0,0.9995796084403992,0.9991987943649292,0.9986321330070496,0.9979915022850037,0.9976216554641724,0.9971222877502441,0.9966996908187866,0.9966128468513489,0.9967740774154663,0.996909499168396],\"yaxis\":\"y\",\"type\":\"scatter\"},{\"hovertemplate\":\"netuid=21<br>Conceal period (every 360 blocks)=%{x}<br>Similarity=%{y}<extra></extra>\",\"legendgroup\":\"21\",\"line\":{\"color\":\"#FECB52\",\"dash\":\"solid\"},\"marker\":{\"symbol\":\"circle\"},\"mode\":\"lines\",\"name\":\"21\",\"orientation\":\"v\",\"showlegend\":true,\"x\":[0,1,3,5,7,9,11,13,15,17,19],\"xaxis\":\"x\",\"y\":[1.0,0.9889190793037415,0.9893938899040222,0.9902913570404053,0.9898820519447327,0.9867750406265259,0.983508288860321,0.9852558374404907,0.9863983392715454,0.986778974533081,0.9866302609443665],\"yaxis\":\"y\",\"type\":\"scatter\"},{\"hovertemplate\":\"netuid=22<br>Conceal period (every 360 blocks)=%{x}<br>Similarity=%{y}<extra></extra>\",\"legendgroup\":\"22\",\"line\":{\"color\":\"#636efa\",\"dash\":\"solid\"},\"marker\":{\"symbol\":\"circle\"},\"mode\":\"lines\",\"name\":\"22\",\"orientation\":\"v\",\"showlegend\":true,\"x\":[0,1,3,5,7,9,11,13,15,17,19],\"xaxis\":\"x\",\"y\":[1.0,0.9935855269432068,0.9821014404296875,0.9843929409980774,0.987686812877655,0.9815647602081299,0.9820379614830017,0.9878251552581787,0.9931533932685852,0.9956727623939514,0.9936671257019043],\"yaxis\":\"y\",\"type\":\"scatter\"},{\"hovertemplate\":\"netuid=23<br>Conceal period (every 360 blocks)=%{x}<br>Similarity=%{y}<extra></extra>\",\"legendgroup\":\"23\",\"line\":{\"color\":\"#EF553B\",\"dash\":\"solid\"},\"marker\":{\"symbol\":\"circle\"},\"mode\":\"lines\",\"name\":\"23\",\"orientation\":\"v\",\"showlegend\":true,\"x\":[0,1,3,5,7,9,11,13,15,17,19],\"xaxis\":\"x\",\"y\":[1.0,0.9840156435966492,0.9796188473701477,0.9709340333938599,0.9642007350921631,0.9620498418807983,0.9583585858345032,0.9564176201820374,0.9583401083946228,0.9607876539230347,0.9620199799537659],\"yaxis\":\"y\",\"type\":\"scatter\"},{\"hovertemplate\":\"netuid=24<br>Conceal period (every 360 blocks)=%{x}<br>Similarity=%{y}<extra></extra>\",\"legendgroup\":\"24\",\"line\":{\"color\":\"#00cc96\",\"dash\":\"solid\"},\"marker\":{\"symbol\":\"circle\"},\"mode\":\"lines\",\"name\":\"24\",\"orientation\":\"v\",\"showlegend\":true,\"x\":[0,1,3,5,7,9,11,13,15,17,19],\"xaxis\":\"x\",\"y\":[1.0,0.9741760492324829,0.9615094065666199,0.9602118134498596,0.9596065282821655,0.9641285538673401,0.9611077904701233,0.9598633050918579,0.9596032500267029,0.9577953219413757,0.9563292264938354],\"yaxis\":\"y\",\"type\":\"scatter\"},{\"hovertemplate\":\"netuid=26<br>Conceal period (every 360 blocks)=%{x}<br>Similarity=%{y}<extra></extra>\",\"legendgroup\":\"26\",\"line\":{\"color\":\"#ab63fa\",\"dash\":\"solid\"},\"marker\":{\"symbol\":\"circle\"},\"mode\":\"lines\",\"name\":\"26\",\"orientation\":\"v\",\"showlegend\":true,\"x\":[0,1,3,5,7,9,11,13,15,17,19],\"xaxis\":\"x\",\"y\":[1.0,0.9994719624519348,0.9987155795097351,0.9979122877120972,0.9973372220993042,0.9968028664588928,0.9963467121124268,0.9957682490348816,0.9954181909561157,0.9950380921363831,0.9945990443229675],\"yaxis\":\"y\",\"type\":\"scatter\"},{\"hovertemplate\":\"netuid=27<br>Conceal period (every 360 blocks)=%{x}<br>Similarity=%{y}<extra></extra>\",\"legendgroup\":\"27\",\"line\":{\"color\":\"#FFA15A\",\"dash\":\"solid\"},\"marker\":{\"symbol\":\"circle\"},\"mode\":\"lines\",\"name\":\"27\",\"orientation\":\"v\",\"showlegend\":true,\"x\":[0,1,3,5,7,9,11,13,15,17,19],\"xaxis\":\"x\",\"y\":[1.0,0.9966827630996704,0.9904820322990417,0.9869961142539978,0.990214467048645,0.9906748533248901,0.9905381202697754,0.9901833534240723,0.9886754155158997,0.9873414039611816,0.9870567917823792],\"yaxis\":\"y\",\"type\":\"scatter\"},{\"hovertemplate\":\"netuid=28<br>Conceal period (every 360 blocks)=%{x}<br>Similarity=%{y}<extra></extra>\",\"legendgroup\":\"28\",\"line\":{\"color\":\"#19d3f3\",\"dash\":\"solid\"},\"marker\":{\"symbol\":\"circle\"},\"mode\":\"lines\",\"name\":\"28\",\"orientation\":\"v\",\"showlegend\":true,\"x\":[0,1,3,5,7,9,11,13,15,17,19],\"xaxis\":\"x\",\"y\":[1.0,0.9981715083122253,0.9976893067359924,0.9984548091888428,0.998387336730957,0.9988015294075012,0.9983855485916138,0.9979169964790344,0.9982460737228394,0.9983429312705994,0.9981995224952698],\"yaxis\":\"y\",\"type\":\"scatter\"},{\"hovertemplate\":\"netuid=29<br>Conceal period (every 360 blocks)=%{x}<br>Similarity=%{y}<extra></extra>\",\"legendgroup\":\"29\",\"line\":{\"color\":\"#FF6692\",\"dash\":\"solid\"},\"marker\":{\"symbol\":\"circle\"},\"mode\":\"lines\",\"name\":\"29\",\"orientation\":\"v\",\"showlegend\":true,\"x\":[0,1,3,5,7,9,11,13,15,17,19],\"xaxis\":\"x\",\"y\":[1.0,0.9703459143638611,0.9681252241134644,0.9663371443748474,0.9685351252555847,0.9672300219535828,0.9686415195465088,0.9688534140586853,0.9706256985664368,0.9658257365226746,0.9652319550514221],\"yaxis\":\"y\",\"type\":\"scatter\"},{\"hovertemplate\":\"netuid=30<br>Conceal period (every 360 blocks)=%{x}<br>Similarity=%{y}<extra></extra>\",\"legendgroup\":\"30\",\"line\":{\"color\":\"#B6E880\",\"dash\":\"solid\"},\"marker\":{\"symbol\":\"circle\"},\"mode\":\"lines\",\"name\":\"30\",\"orientation\":\"v\",\"showlegend\":true,\"x\":[0,1,3,5,7,9,11,13,15,17,19],\"xaxis\":\"x\",\"y\":[1.0,0.9854711294174194,0.955562174320221,0.9270921945571899,0.9038100242614746,0.8848834037780762,0.8646593689918518,0.844379723072052,0.8122017979621887,0.7719634771347046,0.7480520606040955],\"yaxis\":\"y\",\"type\":\"scatter\"},{\"hovertemplate\":\"netuid=31<br>Conceal period (every 360 blocks)=%{x}<br>Similarity=%{y}<extra></extra>\",\"legendgroup\":\"31\",\"line\":{\"color\":\"#FF97FF\",\"dash\":\"solid\"},\"marker\":{\"symbol\":\"circle\"},\"mode\":\"lines\",\"name\":\"31\",\"orientation\":\"v\",\"showlegend\":true,\"x\":[0,1,3,5,7,9,11,13,15,17,19],\"xaxis\":\"x\",\"y\":[1.0,0.9969156384468079,0.9902166724205017,0.9842631220817566,0.9819474220275879,0.9810119867324829,0.9780344367027283,0.9747946858406067,0.9716683626174927,0.9714550971984863,0.9755642414093018],\"yaxis\":\"y\",\"type\":\"scatter\"},{\"hovertemplate\":\"netuid=32<br>Conceal period (every 360 blocks)=%{x}<br>Similarity=%{y}<extra></extra>\",\"legendgroup\":\"32\",\"line\":{\"color\":\"#FECB52\",\"dash\":\"solid\"},\"marker\":{\"symbol\":\"circle\"},\"mode\":\"lines\",\"name\":\"32\",\"orientation\":\"v\",\"showlegend\":true,\"x\":[0,1,3,5,7,9,11,13,15,17,19],\"xaxis\":\"x\",\"y\":[1.0,0.9995766878128052,0.997602105140686,0.9961768984794617,0.9960659146308899,0.9957921504974365,0.9925954341888428,0.9867021441459656,0.9805306196212769,0.9738381505012512,0.9726085066795349],\"yaxis\":\"y\",\"type\":\"scatter\"}],                        {\"template\":{\"data\":{\"histogram2dcontour\":[{\"type\":\"histogram2dcontour\",\"colorbar\":{\"outlinewidth\":0,\"ticks\":\"\"},\"colorscale\":[[0.0,\"#0d0887\"],[0.1111111111111111,\"#46039f\"],[0.2222222222222222,\"#7201a8\"],[0.3333333333333333,\"#9c179e\"],[0.4444444444444444,\"#bd3786\"],[0.5555555555555556,\"#d8576b\"],[0.6666666666666666,\"#ed7953\"],[0.7777777777777778,\"#fb9f3a\"],[0.8888888888888888,\"#fdca26\"],[1.0,\"#f0f921\"]]}],\"choropleth\":[{\"type\":\"choropleth\",\"colorbar\":{\"outlinewidth\":0,\"ticks\":\"\"}}],\"histogram2d\":[{\"type\":\"histogram2d\",\"colorbar\":{\"outlinewidth\":0,\"ticks\":\"\"},\"colorscale\":[[0.0,\"#0d0887\"],[0.1111111111111111,\"#46039f\"],[0.2222222222222222,\"#7201a8\"],[0.3333333333333333,\"#9c179e\"],[0.4444444444444444,\"#bd3786\"],[0.5555555555555556,\"#d8576b\"],[0.6666666666666666,\"#ed7953\"],[0.7777777777777778,\"#fb9f3a\"],[0.8888888888888888,\"#fdca26\"],[1.0,\"#f0f921\"]]}],\"heatmap\":[{\"type\":\"heatmap\",\"colorbar\":{\"outlinewidth\":0,\"ticks\":\"\"},\"colorscale\":[[0.0,\"#0d0887\"],[0.1111111111111111,\"#46039f\"],[0.2222222222222222,\"#7201a8\"],[0.3333333333333333,\"#9c179e\"],[0.4444444444444444,\"#bd3786\"],[0.5555555555555556,\"#d8576b\"],[0.6666666666666666,\"#ed7953\"],[0.7777777777777778,\"#fb9f3a\"],[0.8888888888888888,\"#fdca26\"],[1.0,\"#f0f921\"]]}],\"heatmapgl\":[{\"type\":\"heatmapgl\",\"colorbar\":{\"outlinewidth\":0,\"ticks\":\"\"},\"colorscale\":[[0.0,\"#0d0887\"],[0.1111111111111111,\"#46039f\"],[0.2222222222222222,\"#7201a8\"],[0.3333333333333333,\"#9c179e\"],[0.4444444444444444,\"#bd3786\"],[0.5555555555555556,\"#d8576b\"],[0.6666666666666666,\"#ed7953\"],[0.7777777777777778,\"#fb9f3a\"],[0.8888888888888888,\"#fdca26\"],[1.0,\"#f0f921\"]]}],\"contourcarpet\":[{\"type\":\"contourcarpet\",\"colorbar\":{\"outlinewidth\":0,\"ticks\":\"\"}}],\"contour\":[{\"type\":\"contour\",\"colorbar\":{\"outlinewidth\":0,\"ticks\":\"\"},\"colorscale\":[[0.0,\"#0d0887\"],[0.1111111111111111,\"#46039f\"],[0.2222222222222222,\"#7201a8\"],[0.3333333333333333,\"#9c179e\"],[0.4444444444444444,\"#bd3786\"],[0.5555555555555556,\"#d8576b\"],[0.6666666666666666,\"#ed7953\"],[0.7777777777777778,\"#fb9f3a\"],[0.8888888888888888,\"#fdca26\"],[1.0,\"#f0f921\"]]}],\"surface\":[{\"type\":\"surface\",\"colorbar\":{\"outlinewidth\":0,\"ticks\":\"\"},\"colorscale\":[[0.0,\"#0d0887\"],[0.1111111111111111,\"#46039f\"],[0.2222222222222222,\"#7201a8\"],[0.3333333333333333,\"#9c179e\"],[0.4444444444444444,\"#bd3786\"],[0.5555555555555556,\"#d8576b\"],[0.6666666666666666,\"#ed7953\"],[0.7777777777777778,\"#fb9f3a\"],[0.8888888888888888,\"#fdca26\"],[1.0,\"#f0f921\"]]}],\"mesh3d\":[{\"type\":\"mesh3d\",\"colorbar\":{\"outlinewidth\":0,\"ticks\":\"\"}}],\"scatter\":[{\"fillpattern\":{\"fillmode\":\"overlay\",\"size\":10,\"solidity\":0.2},\"type\":\"scatter\"}],\"parcoords\":[{\"type\":\"parcoords\",\"line\":{\"colorbar\":{\"outlinewidth\":0,\"ticks\":\"\"}}}],\"scatterpolargl\":[{\"type\":\"scatterpolargl\",\"marker\":{\"colorbar\":{\"outlinewidth\":0,\"ticks\":\"\"}}}],\"bar\":[{\"error_x\":{\"color\":\"#2a3f5f\"},\"error_y\":{\"color\":\"#2a3f5f\"},\"marker\":{\"line\":{\"color\":\"#E5ECF6\",\"width\":0.5},\"pattern\":{\"fillmode\":\"overlay\",\"size\":10,\"solidity\":0.2}},\"type\":\"bar\"}],\"scattergeo\":[{\"type\":\"scattergeo\",\"marker\":{\"colorbar\":{\"outlinewidth\":0,\"ticks\":\"\"}}}],\"scatterpolar\":[{\"type\":\"scatterpolar\",\"marker\":{\"colorbar\":{\"outlinewidth\":0,\"ticks\":\"\"}}}],\"histogram\":[{\"marker\":{\"pattern\":{\"fillmode\":\"overlay\",\"size\":10,\"solidity\":0.2}},\"type\":\"histogram\"}],\"scattergl\":[{\"type\":\"scattergl\",\"marker\":{\"colorbar\":{\"outlinewidth\":0,\"ticks\":\"\"}}}],\"scatter3d\":[{\"type\":\"scatter3d\",\"line\":{\"colorbar\":{\"outlinewidth\":0,\"ticks\":\"\"}},\"marker\":{\"colorbar\":{\"outlinewidth\":0,\"ticks\":\"\"}}}],\"scattermapbox\":[{\"type\":\"scattermapbox\",\"marker\":{\"colorbar\":{\"outlinewidth\":0,\"ticks\":\"\"}}}],\"scatterternary\":[{\"type\":\"scatterternary\",\"marker\":{\"colorbar\":{\"outlinewidth\":0,\"ticks\":\"\"}}}],\"scattercarpet\":[{\"type\":\"scattercarpet\",\"marker\":{\"colorbar\":{\"outlinewidth\":0,\"ticks\":\"\"}}}],\"carpet\":[{\"aaxis\":{\"endlinecolor\":\"#2a3f5f\",\"gridcolor\":\"white\",\"linecolor\":\"white\",\"minorgridcolor\":\"white\",\"startlinecolor\":\"#2a3f5f\"},\"baxis\":{\"endlinecolor\":\"#2a3f5f\",\"gridcolor\":\"white\",\"linecolor\":\"white\",\"minorgridcolor\":\"white\",\"startlinecolor\":\"#2a3f5f\"},\"type\":\"carpet\"}],\"table\":[{\"cells\":{\"fill\":{\"color\":\"#EBF0F8\"},\"line\":{\"color\":\"white\"}},\"header\":{\"fill\":{\"color\":\"#C8D4E3\"},\"line\":{\"color\":\"white\"}},\"type\":\"table\"}],\"barpolar\":[{\"marker\":{\"line\":{\"color\":\"#E5ECF6\",\"width\":0.5},\"pattern\":{\"fillmode\":\"overlay\",\"size\":10,\"solidity\":0.2}},\"type\":\"barpolar\"}],\"pie\":[{\"automargin\":true,\"type\":\"pie\"}]},\"layout\":{\"autotypenumbers\":\"strict\",\"colorway\":[\"#636efa\",\"#EF553B\",\"#00cc96\",\"#ab63fa\",\"#FFA15A\",\"#19d3f3\",\"#FF6692\",\"#B6E880\",\"#FF97FF\",\"#FECB52\"],\"font\":{\"color\":\"#2a3f5f\"},\"hovermode\":\"closest\",\"hoverlabel\":{\"align\":\"left\"},\"paper_bgcolor\":\"white\",\"plot_bgcolor\":\"#E5ECF6\",\"polar\":{\"bgcolor\":\"#E5ECF6\",\"angularaxis\":{\"gridcolor\":\"white\",\"linecolor\":\"white\",\"ticks\":\"\"},\"radialaxis\":{\"gridcolor\":\"white\",\"linecolor\":\"white\",\"ticks\":\"\"}},\"ternary\":{\"bgcolor\":\"#E5ECF6\",\"aaxis\":{\"gridcolor\":\"white\",\"linecolor\":\"white\",\"ticks\":\"\"},\"baxis\":{\"gridcolor\":\"white\",\"linecolor\":\"white\",\"ticks\":\"\"},\"caxis\":{\"gridcolor\":\"white\",\"linecolor\":\"white\",\"ticks\":\"\"}},\"coloraxis\":{\"colorbar\":{\"outlinewidth\":0,\"ticks\":\"\"}},\"colorscale\":{\"sequential\":[[0.0,\"#0d0887\"],[0.1111111111111111,\"#46039f\"],[0.2222222222222222,\"#7201a8\"],[0.3333333333333333,\"#9c179e\"],[0.4444444444444444,\"#bd3786\"],[0.5555555555555556,\"#d8576b\"],[0.6666666666666666,\"#ed7953\"],[0.7777777777777778,\"#fb9f3a\"],[0.8888888888888888,\"#fdca26\"],[1.0,\"#f0f921\"]],\"sequentialminus\":[[0.0,\"#0d0887\"],[0.1111111111111111,\"#46039f\"],[0.2222222222222222,\"#7201a8\"],[0.3333333333333333,\"#9c179e\"],[0.4444444444444444,\"#bd3786\"],[0.5555555555555556,\"#d8576b\"],[0.6666666666666666,\"#ed7953\"],[0.7777777777777778,\"#fb9f3a\"],[0.8888888888888888,\"#fdca26\"],[1.0,\"#f0f921\"]],\"diverging\":[[0,\"#8e0152\"],[0.1,\"#c51b7d\"],[0.2,\"#de77ae\"],[0.3,\"#f1b6da\"],[0.4,\"#fde0ef\"],[0.5,\"#f7f7f7\"],[0.6,\"#e6f5d0\"],[0.7,\"#b8e186\"],[0.8,\"#7fbc41\"],[0.9,\"#4d9221\"],[1,\"#276419\"]]},\"xaxis\":{\"gridcolor\":\"white\",\"linecolor\":\"white\",\"ticks\":\"\",\"title\":{\"standoff\":15},\"zerolinecolor\":\"white\",\"automargin\":true,\"zerolinewidth\":2},\"yaxis\":{\"gridcolor\":\"white\",\"linecolor\":\"white\",\"ticks\":\"\",\"title\":{\"standoff\":15},\"zerolinecolor\":\"white\",\"automargin\":true,\"zerolinewidth\":2},\"scene\":{\"xaxis\":{\"backgroundcolor\":\"#E5ECF6\",\"gridcolor\":\"white\",\"linecolor\":\"white\",\"showbackground\":true,\"ticks\":\"\",\"zerolinecolor\":\"white\",\"gridwidth\":2},\"yaxis\":{\"backgroundcolor\":\"#E5ECF6\",\"gridcolor\":\"white\",\"linecolor\":\"white\",\"showbackground\":true,\"ticks\":\"\",\"zerolinecolor\":\"white\",\"gridwidth\":2},\"zaxis\":{\"backgroundcolor\":\"#E5ECF6\",\"gridcolor\":\"white\",\"linecolor\":\"white\",\"showbackground\":true,\"ticks\":\"\",\"zerolinecolor\":\"white\",\"gridwidth\":2}},\"shapedefaults\":{\"line\":{\"color\":\"#2a3f5f\"}},\"annotationdefaults\":{\"arrowcolor\":\"#2a3f5f\",\"arrowhead\":0,\"arrowwidth\":1},\"geo\":{\"bgcolor\":\"white\",\"landcolor\":\"#E5ECF6\",\"subunitcolor\":\"white\",\"showland\":true,\"showlakes\":true,\"lakecolor\":\"white\"},\"title\":{\"x\":0.05},\"mapbox\":{\"style\":\"light\"}}},\"xaxis\":{\"anchor\":\"y\",\"domain\":[0.0,1.0],\"title\":{\"text\":\"Conceal period (every 360 blocks)\"}},\"yaxis\":{\"anchor\":\"x\",\"domain\":[0.0,1.0],\"title\":{\"text\":\"Similarity\"}},\"legend\":{\"title\":{\"text\":\"netuid\"},\"tracegroupgap\":0},\"title\":{\"text\":\"Change In Weight Measured By Cosine Similarity\"},\"height\":1000,\"width\":1000},                        {\"responsive\": true}                    ).then(function(){\n",
       "                            \n",
       "var gd = document.getElementById('4e820eb2-03d6-4844-9ad6-110aef16e303');\n",
       "var x = new MutationObserver(function (mutations, observer) {{\n",
       "        var display = window.getComputedStyle(gd).display;\n",
       "        if (!display || display === 'none') {{\n",
       "            console.log([gd, 'removed!']);\n",
       "            Plotly.purge(gd);\n",
       "            observer.disconnect();\n",
       "        }}\n",
       "}});\n",
       "\n",
       "// Listen for the removal of the full notebook cells\n",
       "var notebookContainer = gd.closest('#notebook-container');\n",
       "if (notebookContainer) {{\n",
       "    x.observe(notebookContainer, {childList: true});\n",
       "}}\n",
       "\n",
       "// Listen for the clearing of the current output cell\n",
       "var outputEl = gd.closest('.output');\n",
       "if (outputEl) {{\n",
       "    x.observe(outputEl, {childList: true});\n",
       "}}\n",
       "\n",
       "                        })                };                });            </script>        </div>"
      ]
     },
     "metadata": {},
     "output_type": "display_data"
    }
   ],
   "source": [
    "similarities = {}\n",
    "\n",
    "for netuid in setup.netuids:\n",
    "    similarities[netuid] = {}\n",
    "    \n",
    "    for conceal_period in setup.conceal_periods:\n",
    "\n",
    "        if conceal_period == 0:\n",
    "            similarities[netuid][conceal_period] = 1\n",
    "            continue\n",
    "\n",
    "        similarity = torch.load(f\"{setup.result_path}/similarity_netuid{netuid}_conceal{conceal_period}.pt\")\n",
    "        similarities[netuid][conceal_period] = similarity.mean().item()\n",
    "\n",
    "similarities = pd.DataFrame(similarities, dtype='float64')\n",
    "\n",
    "fig = px.line(\n",
    "    similarities,\n",
    "    labels={\n",
    "        \"value\": \"Similarity\",\n",
    "        \"index\": \"Conceal period (every 360 blocks)\",\n",
    "        \"variable\": \"netuid\"\n",
    "    },\n",
    "    title=\"Change in weight measured by cosine similarity\".title(),\n",
    "    width = 1000,\n",
    "    height = 1000,\n",
    ")\n",
    "fig.show()"
   ]
  },
  {
   "cell_type": "code",
   "execution_count": 15,
   "metadata": {},
   "outputs": [
    {
     "name": "stderr",
     "output_type": "stream",
     "text": [
      "/home/isabella/.local/lib/python3.8/site-packages/numpy/lib/function_base.py:2634: RuntimeWarning:\n",
      "\n",
      "Degrees of freedom <= 0 for slice\n",
      "\n",
      "/home/isabella/.local/lib/python3.8/site-packages/numpy/lib/function_base.py:2493: RuntimeWarning:\n",
      "\n",
      "divide by zero encountered in true_divide\n",
      "\n",
      "/home/isabella/.local/lib/python3.8/site-packages/numpy/lib/function_base.py:2634: RuntimeWarning:\n",
      "\n",
      "Degrees of freedom <= 0 for slice\n",
      "\n",
      "/home/isabella/.local/lib/python3.8/site-packages/numpy/lib/function_base.py:2493: RuntimeWarning:\n",
      "\n",
      "divide by zero encountered in true_divide\n",
      "\n",
      "/home/isabella/.local/lib/python3.8/site-packages/numpy/lib/function_base.py:2634: RuntimeWarning:\n",
      "\n",
      "Degrees of freedom <= 0 for slice\n",
      "\n",
      "/home/isabella/.local/lib/python3.8/site-packages/numpy/lib/function_base.py:2493: RuntimeWarning:\n",
      "\n",
      "divide by zero encountered in true_divide\n",
      "\n",
      "/home/isabella/.local/lib/python3.8/site-packages/numpy/lib/function_base.py:2634: RuntimeWarning:\n",
      "\n",
      "Degrees of freedom <= 0 for slice\n",
      "\n",
      "/home/isabella/.local/lib/python3.8/site-packages/numpy/lib/function_base.py:2493: RuntimeWarning:\n",
      "\n",
      "divide by zero encountered in true_divide\n",
      "\n",
      "/home/isabella/.local/lib/python3.8/site-packages/numpy/lib/function_base.py:2634: RuntimeWarning:\n",
      "\n",
      "Degrees of freedom <= 0 for slice\n",
      "\n",
      "/home/isabella/.local/lib/python3.8/site-packages/numpy/lib/function_base.py:2493: RuntimeWarning:\n",
      "\n",
      "divide by zero encountered in true_divide\n",
      "\n",
      "/home/isabella/.local/lib/python3.8/site-packages/numpy/lib/function_base.py:2634: RuntimeWarning:\n",
      "\n",
      "Degrees of freedom <= 0 for slice\n",
      "\n",
      "/home/isabella/.local/lib/python3.8/site-packages/numpy/lib/function_base.py:2493: RuntimeWarning:\n",
      "\n",
      "divide by zero encountered in true_divide\n",
      "\n",
      "/home/isabella/.local/lib/python3.8/site-packages/numpy/lib/function_base.py:2634: RuntimeWarning:\n",
      "\n",
      "Degrees of freedom <= 0 for slice\n",
      "\n",
      "/home/isabella/.local/lib/python3.8/site-packages/numpy/lib/function_base.py:2493: RuntimeWarning:\n",
      "\n",
      "divide by zero encountered in true_divide\n",
      "\n",
      "/home/isabella/.local/lib/python3.8/site-packages/numpy/lib/function_base.py:2634: RuntimeWarning:\n",
      "\n",
      "Degrees of freedom <= 0 for slice\n",
      "\n",
      "/home/isabella/.local/lib/python3.8/site-packages/numpy/lib/function_base.py:2493: RuntimeWarning:\n",
      "\n",
      "divide by zero encountered in true_divide\n",
      "\n",
      "/home/isabella/.local/lib/python3.8/site-packages/numpy/lib/function_base.py:2634: RuntimeWarning:\n",
      "\n",
      "Degrees of freedom <= 0 for slice\n",
      "\n",
      "/home/isabella/.local/lib/python3.8/site-packages/numpy/lib/function_base.py:2493: RuntimeWarning:\n",
      "\n",
      "divide by zero encountered in true_divide\n",
      "\n",
      "/home/isabella/.local/lib/python3.8/site-packages/numpy/lib/function_base.py:2634: RuntimeWarning:\n",
      "\n",
      "Degrees of freedom <= 0 for slice\n",
      "\n",
      "/home/isabella/.local/lib/python3.8/site-packages/numpy/lib/function_base.py:2493: RuntimeWarning:\n",
      "\n",
      "divide by zero encountered in true_divide\n",
      "\n",
      "/home/isabella/.local/lib/python3.8/site-packages/numpy/lib/function_base.py:2634: RuntimeWarning:\n",
      "\n",
      "Degrees of freedom <= 0 for slice\n",
      "\n",
      "/home/isabella/.local/lib/python3.8/site-packages/numpy/lib/function_base.py:2493: RuntimeWarning:\n",
      "\n",
      "divide by zero encountered in true_divide\n",
      "\n",
      "/home/isabella/.local/lib/python3.8/site-packages/numpy/lib/function_base.py:2634: RuntimeWarning:\n",
      "\n",
      "Degrees of freedom <= 0 for slice\n",
      "\n",
      "/home/isabella/.local/lib/python3.8/site-packages/numpy/lib/function_base.py:2493: RuntimeWarning:\n",
      "\n",
      "divide by zero encountered in true_divide\n",
      "\n",
      "/home/isabella/.local/lib/python3.8/site-packages/numpy/lib/function_base.py:2634: RuntimeWarning:\n",
      "\n",
      "Degrees of freedom <= 0 for slice\n",
      "\n",
      "/home/isabella/.local/lib/python3.8/site-packages/numpy/lib/function_base.py:2493: RuntimeWarning:\n",
      "\n",
      "divide by zero encountered in true_divide\n",
      "\n",
      "/home/isabella/.local/lib/python3.8/site-packages/numpy/lib/function_base.py:2634: RuntimeWarning:\n",
      "\n",
      "Degrees of freedom <= 0 for slice\n",
      "\n",
      "/home/isabella/.local/lib/python3.8/site-packages/numpy/lib/function_base.py:2493: RuntimeWarning:\n",
      "\n",
      "divide by zero encountered in true_divide\n",
      "\n",
      "/home/isabella/.local/lib/python3.8/site-packages/numpy/lib/function_base.py:2634: RuntimeWarning:\n",
      "\n",
      "Degrees of freedom <= 0 for slice\n",
      "\n",
      "/home/isabella/.local/lib/python3.8/site-packages/numpy/lib/function_base.py:2493: RuntimeWarning:\n",
      "\n",
      "divide by zero encountered in true_divide\n",
      "\n",
      "/home/isabella/.local/lib/python3.8/site-packages/numpy/lib/function_base.py:2634: RuntimeWarning:\n",
      "\n",
      "Degrees of freedom <= 0 for slice\n",
      "\n",
      "/home/isabella/.local/lib/python3.8/site-packages/numpy/lib/function_base.py:2493: RuntimeWarning:\n",
      "\n",
      "divide by zero encountered in true_divide\n",
      "\n",
      "/home/isabella/.local/lib/python3.8/site-packages/numpy/lib/function_base.py:2634: RuntimeWarning:\n",
      "\n",
      "Degrees of freedom <= 0 for slice\n",
      "\n",
      "/home/isabella/.local/lib/python3.8/site-packages/numpy/lib/function_base.py:2493: RuntimeWarning:\n",
      "\n",
      "divide by zero encountered in true_divide\n",
      "\n",
      "/home/isabella/.local/lib/python3.8/site-packages/numpy/lib/function_base.py:2634: RuntimeWarning:\n",
      "\n",
      "Degrees of freedom <= 0 for slice\n",
      "\n",
      "/home/isabella/.local/lib/python3.8/site-packages/numpy/lib/function_base.py:2493: RuntimeWarning:\n",
      "\n",
      "divide by zero encountered in true_divide\n",
      "\n",
      "/home/isabella/.local/lib/python3.8/site-packages/numpy/lib/function_base.py:2634: RuntimeWarning:\n",
      "\n",
      "Degrees of freedom <= 0 for slice\n",
      "\n",
      "/home/isabella/.local/lib/python3.8/site-packages/numpy/lib/function_base.py:2493: RuntimeWarning:\n",
      "\n",
      "divide by zero encountered in true_divide\n",
      "\n",
      "/home/isabella/.local/lib/python3.8/site-packages/numpy/lib/function_base.py:2634: RuntimeWarning:\n",
      "\n",
      "Degrees of freedom <= 0 for slice\n",
      "\n",
      "/home/isabella/.local/lib/python3.8/site-packages/numpy/lib/function_base.py:2493: RuntimeWarning:\n",
      "\n",
      "divide by zero encountered in true_divide\n",
      "\n",
      "/home/isabella/.local/lib/python3.8/site-packages/numpy/lib/function_base.py:2634: RuntimeWarning:\n",
      "\n",
      "Degrees of freedom <= 0 for slice\n",
      "\n",
      "/home/isabella/.local/lib/python3.8/site-packages/numpy/lib/function_base.py:2493: RuntimeWarning:\n",
      "\n",
      "divide by zero encountered in true_divide\n",
      "\n",
      "/home/isabella/.local/lib/python3.8/site-packages/numpy/lib/function_base.py:2634: RuntimeWarning:\n",
      "\n",
      "Degrees of freedom <= 0 for slice\n",
      "\n",
      "/home/isabella/.local/lib/python3.8/site-packages/numpy/lib/function_base.py:2493: RuntimeWarning:\n",
      "\n",
      "divide by zero encountered in true_divide\n",
      "\n",
      "/home/isabella/.local/lib/python3.8/site-packages/numpy/lib/function_base.py:2634: RuntimeWarning:\n",
      "\n",
      "Degrees of freedom <= 0 for slice\n",
      "\n",
      "/home/isabella/.local/lib/python3.8/site-packages/numpy/lib/function_base.py:2493: RuntimeWarning:\n",
      "\n",
      "divide by zero encountered in true_divide\n",
      "\n",
      "/home/isabella/.local/lib/python3.8/site-packages/numpy/lib/function_base.py:2634: RuntimeWarning:\n",
      "\n",
      "Degrees of freedom <= 0 for slice\n",
      "\n",
      "/home/isabella/.local/lib/python3.8/site-packages/numpy/lib/function_base.py:2493: RuntimeWarning:\n",
      "\n",
      "divide by zero encountered in true_divide\n",
      "\n",
      "/home/isabella/.local/lib/python3.8/site-packages/numpy/lib/function_base.py:2634: RuntimeWarning:\n",
      "\n",
      "Degrees of freedom <= 0 for slice\n",
      "\n",
      "/home/isabella/.local/lib/python3.8/site-packages/numpy/lib/function_base.py:2493: RuntimeWarning:\n",
      "\n",
      "divide by zero encountered in true_divide\n",
      "\n",
      "/home/isabella/.local/lib/python3.8/site-packages/numpy/lib/function_base.py:2634: RuntimeWarning:\n",
      "\n",
      "Degrees of freedom <= 0 for slice\n",
      "\n",
      "/home/isabella/.local/lib/python3.8/site-packages/numpy/lib/function_base.py:2493: RuntimeWarning:\n",
      "\n",
      "divide by zero encountered in true_divide\n",
      "\n",
      "/home/isabella/.local/lib/python3.8/site-packages/numpy/lib/function_base.py:2634: RuntimeWarning:\n",
      "\n",
      "Degrees of freedom <= 0 for slice\n",
      "\n",
      "/home/isabella/.local/lib/python3.8/site-packages/numpy/lib/function_base.py:2493: RuntimeWarning:\n",
      "\n",
      "divide by zero encountered in true_divide\n",
      "\n",
      "/home/isabella/.local/lib/python3.8/site-packages/numpy/lib/function_base.py:2634: RuntimeWarning:\n",
      "\n",
      "Degrees of freedom <= 0 for slice\n",
      "\n",
      "/home/isabella/.local/lib/python3.8/site-packages/numpy/lib/function_base.py:2493: RuntimeWarning:\n",
      "\n",
      "divide by zero encountered in true_divide\n",
      "\n",
      "/home/isabella/.local/lib/python3.8/site-packages/numpy/lib/function_base.py:2634: RuntimeWarning:\n",
      "\n",
      "Degrees of freedom <= 0 for slice\n",
      "\n",
      "/home/isabella/.local/lib/python3.8/site-packages/numpy/lib/function_base.py:2493: RuntimeWarning:\n",
      "\n",
      "divide by zero encountered in true_divide\n",
      "\n",
      "/home/isabella/.local/lib/python3.8/site-packages/numpy/lib/function_base.py:2634: RuntimeWarning:\n",
      "\n",
      "Degrees of freedom <= 0 for slice\n",
      "\n",
      "/home/isabella/.local/lib/python3.8/site-packages/numpy/lib/function_base.py:2493: RuntimeWarning:\n",
      "\n",
      "divide by zero encountered in true_divide\n",
      "\n"
     ]
    },
    {
     "data": {
      "application/vnd.plotly.v1+json": {
       "config": {
        "plotlyServerURL": "https://plot.ly"
       },
       "data": [
        {
         "hovertemplate": "netuid=1<br>div_lost=%{x}<br>similarity=%{y}<extra></extra>",
         "legendgroup": "1",
         "marker": {
          "color": "#636efa",
          "symbol": "circle"
         },
         "mode": "markers",
         "name": "1",
         "orientation": "v",
         "showlegend": true,
         "type": "scatter",
         "x": [
          1.1136908136540042,
          1.0159236390852382,
          1.0210866880382827,
          1.0158394018939023,
          1.016649921815303,
          1.0105587468983857,
          0.9952691067398367,
          1.0178312887287615,
          1.0142018595197178,
          1.0170771051406415,
          1.0105949791019426
         ],
         "xaxis": "x",
         "y": [
          1,
          0.9647132754325867,
          0.9512402415275574,
          0.946466863155365,
          0.9437443017959595,
          0.9453920125961304,
          0.9389941692352295,
          0.9428465962409973,
          0.9423691034317017,
          0.9367790818214417,
          0.9438475370407104
         ],
         "yaxis": "y"
        },
        {
         "hovertemplate": "netuid=2<br>div_lost=%{x}<br>similarity=%{y}<extra></extra>",
         "legendgroup": "2",
         "marker": {
          "color": "#EF553B",
          "symbol": "circle"
         },
         "mode": "markers",
         "name": "2",
         "orientation": "v",
         "showlegend": true,
         "type": "scatter",
         "x": [
          1.0154565177819124,
          0.9956798385876107,
          0.9876474237718017,
          0.9851751999916717,
          0.9859129524951953,
          0.9859394926439203,
          0.9856945845352485,
          0.9847973000105715,
          0.9843905945322848,
          0.9846650788186825,
          0.9845915484114774
         ],
         "xaxis": "x",
         "y": [
          1,
          0.9993332028388977,
          0.999104380607605,
          0.9989460706710815,
          0.9990265965461731,
          0.9991815090179443,
          0.9995632171630859,
          0.999539315700531,
          0.9987114071846008,
          0.9962044358253479,
          0.995995283126831
         ],
         "yaxis": "y"
        },
        {
         "hovertemplate": "netuid=3<br>div_lost=%{x}<br>similarity=%{y}<extra></extra>",
         "legendgroup": "3",
         "marker": {
          "color": "#00cc96",
          "symbol": "circle"
         },
         "mode": "markers",
         "name": "3",
         "orientation": "v",
         "showlegend": true,
         "type": "scatter",
         "x": [
          1.0905642297623188,
          1.0611158052107212,
          1.0296119568142823,
          1.0233715936632501,
          1.0171340924074348,
          1.0409420085748138,
          1.024333602035688,
          0.9702916064245477,
          0.9895444673424533,
          1.062406609117581,
          0.9903025129386448
         ],
         "xaxis": "x",
         "y": [
          1,
          0.9471337199211121,
          0.9172669649124146,
          0.9133023023605347,
          0.9061619639396667,
          0.9358526468276978,
          0.916073203086853,
          0.9329958558082581,
          0.923065185546875,
          0.9050280451774597,
          0.9291291832923889
         ],
         "yaxis": "y"
        },
        {
         "hovertemplate": "netuid=4<br>div_lost=%{x}<br>similarity=%{y}<extra></extra>",
         "legendgroup": "4",
         "marker": {
          "color": "#ab63fa",
          "symbol": "circle"
         },
         "mode": "markers",
         "name": "4",
         "orientation": "v",
         "showlegend": true,
         "type": "scatter",
         "x": [
          1.0018677744749602,
          1.0023785552209072,
          1.001426963450308,
          1.0003909065436614,
          0.9998886017897448,
          0.9999221640036121,
          0.9999082125986121,
          0.9999188938148401,
          0.9998844412195482,
          0.9999370949576843,
          0.9999385483852553
         ],
         "xaxis": "x",
         "y": [
          1,
          0.9914709329605103,
          0.9764853715896606,
          0.957866370677948,
          0.9473161697387695,
          0.9438201785087585,
          0.9435889720916748,
          0.9439272880554199,
          0.9390789270401001,
          0.9375630021095276,
          0.9382205605506897
         ],
         "yaxis": "y"
        },
        {
         "hovertemplate": "netuid=5<br>div_lost=%{x}<br>similarity=%{y}<extra></extra>",
         "legendgroup": "5",
         "marker": {
          "color": "#FFA15A",
          "symbol": "circle"
         },
         "mode": "markers",
         "name": "5",
         "orientation": "v",
         "showlegend": true,
         "type": "scatter",
         "x": [
          1.0515787024935945,
          1.0319532231383708,
          1.0194880253876615,
          1.0109630463375303,
          1.0109201103299479,
          1.0100821371897983,
          1.0090409211649847,
          1.0049414516521118,
          1.0027612170220774,
          1.0110906006022478,
          1.011664290125968
         ],
         "xaxis": "x",
         "y": [
          1,
          0.9940692186355591,
          0.9865760803222656,
          0.9823146462440491,
          0.980684220790863,
          0.9782508611679077,
          0.9762371182441711,
          0.9750764966011047,
          0.9756459593772888,
          0.9737180471420288,
          0.9727569818496704
         ],
         "yaxis": "y"
        },
        {
         "hovertemplate": "netuid=6<br>div_lost=%{x}<br>similarity=%{y}<extra></extra>",
         "legendgroup": "6",
         "marker": {
          "color": "#19d3f3",
          "symbol": "circle"
         },
         "mode": "markers",
         "name": "6",
         "orientation": "v",
         "showlegend": true,
         "type": "scatter",
         "x": [
          1.090300975116025,
          1.071326543394286,
          1.0653748449024956,
          1.045667286487878,
          1.0632676546071695,
          1.0483551089023107,
          1.0493698515962306,
          1.0464414825027877,
          1.0512375512096033,
          1.0234290591767459,
          1.0332488671328846
         ],
         "xaxis": "x",
         "y": [
          1,
          0.9905000925064087,
          0.9669182300567627,
          0.957777202129364,
          0.9466533660888672,
          0.9195337295532227,
          0.8731979727745056,
          0.8263249397277832,
          0.8145676851272583,
          0.8140644431114197,
          0.8137248158454895
         ],
         "yaxis": "y"
        },
        {
         "hovertemplate": "netuid=7<br>div_lost=%{x}<br>similarity=%{y}<extra></extra>",
         "legendgroup": "7",
         "marker": {
          "color": "#FF6692",
          "symbol": "circle"
         },
         "mode": "markers",
         "name": "7",
         "orientation": "v",
         "showlegend": true,
         "type": "scatter",
         "x": [
          1.0083285188200108,
          1.0050180891821232,
          0.9905338454919357,
          0.9886289876917445,
          0.9825381303212944,
          0.9799586203502045,
          0.9750696285839644,
          0.9767011014055128,
          0.9766002813900962,
          0.9761754873015716,
          0.9799381906893738
         ],
         "xaxis": "x",
         "y": [
          1,
          0.9974971413612366,
          0.9934247136116028,
          0.991137683391571,
          0.987295389175415,
          0.9839829206466675,
          0.9832957983016968,
          0.9823834300041199,
          0.9821420311927795,
          0.9820813536643982,
          0.9814104437828064
         ],
         "yaxis": "y"
        },
        {
         "hovertemplate": "netuid=8<br>div_lost=%{x}<br>similarity=%{y}<extra></extra>",
         "legendgroup": "8",
         "marker": {
          "color": "#B6E880",
          "symbol": "circle"
         },
         "mode": "markers",
         "name": "8",
         "orientation": "v",
         "showlegend": true,
         "type": "scatter",
         "x": [
          1.0536900665406181,
          1.0465339796224291,
          1.0272563345660304,
          1.0009191925922496,
          1.0005177910125969,
          0.951035626738337,
          0.9515511253654283,
          0.9539579822276375,
          0.9433038169709096,
          0.965230625352557,
          0.40861517917388734
         ],
         "xaxis": "x",
         "y": [
          1,
          0.9985936880111694,
          0.9968208074569702,
          0.9956827163696289,
          0.994503915309906,
          0.9933474063873291,
          0.9921992421150208,
          0.9901636838912964,
          0.9862727522850037,
          0.9832850098609924,
          0.9823485016822815
         ],
         "yaxis": "y"
        },
        {
         "hovertemplate": "netuid=9<br>div_lost=%{x}<br>similarity=%{y}<extra></extra>",
         "legendgroup": "9",
         "marker": {
          "color": "#FF97FF",
          "symbol": "circle"
         },
         "mode": "markers",
         "name": "9",
         "orientation": "v",
         "showlegend": true,
         "type": "scatter",
         "x": [
          1.0011894310235863,
          1.0012279207348946,
          1.0013744425083988,
          1.001273687662505,
          1.0004146849591624,
          1.0013534609256773,
          1.0006916785845397,
          1.0010835790221913,
          1.0044649512719097,
          1.0024382494915267,
          1.0000828241952353
         ],
         "xaxis": "x",
         "y": [
          1,
          0.9909765124320984,
          0.9906231760978699,
          0.99354088306427,
          0.9889973998069763,
          0.9835011959075928,
          0.9790462851524353,
          0.9515607953071594,
          0.9493952989578247,
          0.9579779505729675,
          0.9759514927864075
         ],
         "yaxis": "y"
        },
        {
         "hovertemplate": "netuid=10<br>div_lost=%{x}<br>similarity=%{y}<extra></extra>",
         "legendgroup": "10",
         "marker": {
          "color": "#FECB52",
          "symbol": "circle"
         },
         "mode": "markers",
         "name": "10",
         "orientation": "v",
         "showlegend": true,
         "type": "scatter",
         "x": [
          1.000852936301388,
          0.9956529648846013,
          0.9577296753217992,
          0.933495281700061,
          0.965366112226137,
          0.9531368340689581,
          0.9705645889558542,
          0.9704145444612852,
          0.9812741748233896,
          0.8983085595801815,
          0.8987641897072142
         ],
         "xaxis": "x",
         "y": [
          1,
          0.9997653365135193,
          0.999810516834259,
          0.9997605681419373,
          0.9994158744812012,
          0.998262345790863,
          0.9966055154800415,
          0.9945546984672546,
          0.9937642812728882,
          0.9936837553977966,
          0.9859985113143921
         ],
         "yaxis": "y"
        },
        {
         "hovertemplate": "netuid=12<br>div_lost=%{x}<br>similarity=%{y}<extra></extra>",
         "legendgroup": "12",
         "marker": {
          "color": "#636efa",
          "symbol": "circle"
         },
         "mode": "markers",
         "name": "12",
         "orientation": "v",
         "showlegend": true,
         "type": "scatter",
         "x": [
          1.0104370624694516,
          0.9917090553192838,
          0.98834194965414,
          0.9882347611351265,
          0.992248664609255,
          0.9826153701424374,
          0.9829883485417162,
          0.9828744511812234,
          0.984275868931659,
          0.9824867163342056,
          0.9795472379291051
         ],
         "xaxis": "x",
         "y": [
          1,
          0.9993378520011902,
          0.9963295459747314,
          0.9941489696502686,
          0.9941155910491943,
          0.9956159591674805,
          0.9962393045425415,
          0.9946930408477783,
          0.9926091432571411,
          0.9919766783714294,
          0.9925445318222046
         ],
         "yaxis": "y"
        },
        {
         "hovertemplate": "netuid=13<br>div_lost=%{x}<br>similarity=%{y}<extra></extra>",
         "legendgroup": "13",
         "marker": {
          "color": "#EF553B",
          "symbol": "circle"
         },
         "mode": "markers",
         "name": "13",
         "orientation": "v",
         "showlegend": true,
         "type": "scatter",
         "x": [
          1.147606575625677,
          1.0857319909309295,
          1.0195598688610923,
          1.046411137739917,
          1.0678264540192837,
          1.0492732551304107,
          1.0806869950599993,
          1.0685860932078761,
          1.0192385220000937,
          1.0365230304565303,
          1.0206092525137815
         ],
         "xaxis": "x",
         "y": [
          1,
          0.9683764576911926,
          0.9248293042182922,
          0.8870740532875061,
          0.8813368678092957,
          0.902726411819458,
          0.9178779125213623,
          0.9232780933380127,
          0.9293797016143799,
          0.9250625371932983,
          0.907015860080719
         ],
         "yaxis": "y"
        },
        {
         "hovertemplate": "netuid=14<br>div_lost=%{x}<br>similarity=%{y}<extra></extra>",
         "legendgroup": "14",
         "marker": {
          "color": "#00cc96",
          "symbol": "circle"
         },
         "mode": "markers",
         "name": "14",
         "orientation": "v",
         "showlegend": true,
         "type": "scatter",
         "x": [
          1.011081399267107,
          1.000849035272075,
          1.00154440654623,
          1.001312197243239,
          1.0033282311039395,
          1.0033055279099403,
          1.0033120303412086,
          0.9996853641764268,
          0.9981333073570111,
          0.9972021498489083,
          0.9994484755765176
         ],
         "xaxis": "x",
         "y": [
          1,
          0.9993305206298828,
          0.999223530292511,
          0.9992573857307434,
          0.9992061257362366,
          0.9991113543510437,
          0.9989462494850159,
          0.9988712072372437,
          0.9988899827003479,
          0.9989747405052185,
          0.9989838004112244
         ],
         "yaxis": "y"
        },
        {
         "hovertemplate": "netuid=15<br>div_lost=%{x}<br>similarity=%{y}<extra></extra>",
         "legendgroup": "15",
         "marker": {
          "color": "#ab63fa",
          "symbol": "circle"
         },
         "mode": "markers",
         "name": "15",
         "orientation": "v",
         "showlegend": true,
         "type": "scatter",
         "x": [
          1.0212755066576318,
          1.0174534378511522,
          1.012750328627697,
          1.008515650991064,
          1.006590086375748,
          1.0027621247991934,
          0.9955433521436943,
          0.9931831607867636,
          0.9880439085833412,
          0.9866619341653091,
          0.9851489340244873
         ],
         "xaxis": "x",
         "y": [
          1,
          0.9993969202041626,
          0.9965878129005432,
          0.9956337213516235,
          0.9968658685684204,
          0.9961662292480469,
          0.9951444268226624,
          0.9940440654754639,
          0.9930855631828308,
          0.992341935634613,
          0.9917076230049133
         ],
         "yaxis": "y"
        },
        {
         "hovertemplate": "netuid=16<br>div_lost=%{x}<br>similarity=%{y}<extra></extra>",
         "legendgroup": "16",
         "marker": {
          "color": "#FFA15A",
          "symbol": "circle"
         },
         "mode": "markers",
         "name": "16",
         "orientation": "v",
         "showlegend": true,
         "type": "scatter",
         "x": [
          1.0064639037235599,
          0.9600875725634515,
          0.9244439935397177,
          0.9173052265080675,
          0.911485696213599,
          0.906623472309963,
          0.9082845786479827,
          0.9054964478012429,
          0.9034371238114933,
          0.8940630910781645,
          0.8828315159438258
         ],
         "xaxis": "x",
         "y": [
          1,
          0.9966329336166382,
          0.9897305369377136,
          0.9828759431838989,
          0.9780809879302979,
          0.9744516611099243,
          0.9709056615829468,
          0.9678344130516052,
          0.9672743082046509,
          0.9578543305397034,
          0.9471477270126343
         ],
         "yaxis": "y"
        },
        {
         "hovertemplate": "netuid=17<br>div_lost=%{x}<br>similarity=%{y}<extra></extra>",
         "legendgroup": "17",
         "marker": {
          "color": "#19d3f3",
          "symbol": "circle"
         },
         "mode": "markers",
         "name": "17",
         "orientation": "v",
         "showlegend": true,
         "type": "scatter",
         "x": [
          1.0259040605559033,
          1.0144212485774193,
          1.0048792923121577,
          0.9968205791348895,
          0.9949286145484895,
          0.9947871736192924,
          0.994502410526886,
          0.9860146323549385,
          0.9799976928500316,
          0.9760557821494295,
          0.9728710088469457
         ],
         "xaxis": "x",
         "y": [
          1,
          0.999127984046936,
          0.9959787726402283,
          0.9930818676948547,
          0.9920921325683594,
          0.9914070963859558,
          0.9895060658454895,
          0.9845272898674011,
          0.9765527844429016,
          0.9685594439506531,
          0.9637971520423889
         ],
         "yaxis": "y"
        },
        {
         "hovertemplate": "netuid=18<br>div_lost=%{x}<br>similarity=%{y}<extra></extra>",
         "legendgroup": "18",
         "marker": {
          "color": "#FF6692",
          "symbol": "circle"
         },
         "mode": "markers",
         "name": "18",
         "orientation": "v",
         "showlegend": true,
         "type": "scatter",
         "x": [
          1.0585689683926633,
          1.025439889458794,
          1.0262379059562798,
          0.9974023118147994,
          0.9864653317149523,
          0.9789394636507683,
          0.9791597002444036,
          0.9985541969052847,
          1.0011180729804687,
          1.0053825736627657,
          0.9801526378189542
         ],
         "xaxis": "x",
         "y": [
          1,
          0.9917750358581543,
          0.9694315791130066,
          0.9592157602310181,
          0.9646485447883606,
          0.9743088483810425,
          0.9773213863372803,
          0.9794543385505676,
          0.9825946092605591,
          0.9829772114753723,
          0.9824993014335632
         ],
         "yaxis": "y"
        },
        {
         "hovertemplate": "netuid=19<br>div_lost=%{x}<br>similarity=%{y}<extra></extra>",
         "legendgroup": "19",
         "marker": {
          "color": "#B6E880",
          "symbol": "circle"
         },
         "mode": "markers",
         "name": "19",
         "orientation": "v",
         "showlegend": true,
         "type": "scatter",
         "x": [
          1.0188317320641838,
          1.0104238725724197,
          1.0074633790933063,
          1.0053767614740203,
          1.0009241326717861,
          0.9978204146290411,
          0.9957721329854838,
          0.9984950686316054,
          0.9965296744698238,
          0.994518780585151,
          0.9971358008203257
         ],
         "xaxis": "x",
         "y": [
          1,
          0.9993059039115906,
          0.9987484216690063,
          0.9976990818977356,
          0.9964102506637573,
          0.9953343868255615,
          0.9942062497138977,
          0.9929429292678833,
          0.9918085932731628,
          0.9915140271186829,
          0.9921076893806458
         ],
         "yaxis": "y"
        },
        {
         "hovertemplate": "netuid=20<br>div_lost=%{x}<br>similarity=%{y}<extra></extra>",
         "legendgroup": "20",
         "marker": {
          "color": "#FF97FF",
          "symbol": "circle"
         },
         "mode": "markers",
         "name": "20",
         "orientation": "v",
         "showlegend": true,
         "type": "scatter",
         "x": [
          1.012672534074553,
          1.0088850834601633,
          1.0073438276253137,
          1.0055645608690347,
          1.0040230427622552,
          1.0050198017124112,
          1.0054271903678837,
          1.0046600593356263,
          1.0034889178493742,
          1.005050117587908,
          1.0037401258513328
         ],
         "xaxis": "x",
         "y": [
          1,
          0.9995796084403992,
          0.9991987943649292,
          0.9986321330070496,
          0.9979915022850037,
          0.9976216554641724,
          0.9971222877502441,
          0.9966996908187866,
          0.9966128468513489,
          0.9967740774154663,
          0.996909499168396
         ],
         "yaxis": "y"
        },
        {
         "hovertemplate": "netuid=21<br>div_lost=%{x}<br>similarity=%{y}<extra></extra>",
         "legendgroup": "21",
         "marker": {
          "color": "#FECB52",
          "symbol": "circle"
         },
         "mode": "markers",
         "name": "21",
         "orientation": "v",
         "showlegend": true,
         "type": "scatter",
         "x": [
          1.0243497218747593,
          1.0199083409283018,
          1.018280604970137,
          1.0171726836149937,
          1.0159339387722608,
          1.0069831602874548,
          1.0081374257633988,
          1.0032017350880817,
          1.001617240369916,
          1.0047620492944498,
          1.0070638104403271
         ],
         "xaxis": "x",
         "y": [
          1,
          0.9889190793037415,
          0.9893938899040222,
          0.9902913570404053,
          0.9898820519447327,
          0.9867750406265259,
          0.983508288860321,
          0.9852558374404907,
          0.9863983392715454,
          0.986778974533081,
          0.9866302609443665
         ],
         "yaxis": "y"
        },
        {
         "hovertemplate": "netuid=22<br>div_lost=%{x}<br>similarity=%{y}<extra></extra>",
         "legendgroup": "22",
         "marker": {
          "color": "#636efa",
          "symbol": "circle"
         },
         "mode": "markers",
         "name": "22",
         "orientation": "v",
         "showlegend": true,
         "type": "scatter",
         "x": [
          1.0142281166564502,
          1.0088875246819957,
          1.0060015073828414,
          1.0063952908523603,
          1.002435163547864,
          0.9989239564750215,
          1.0013030278717603,
          0.9972081110657346,
          0.9897412776971621,
          0.976949912175869,
          0.9649429370721887
         ],
         "xaxis": "x",
         "y": [
          1,
          0.9935855269432068,
          0.9821014404296875,
          0.9843929409980774,
          0.987686812877655,
          0.9815647602081299,
          0.9820379614830017,
          0.9878251552581787,
          0.9931533932685852,
          0.9956727623939514,
          0.9936671257019043
         ],
         "yaxis": "y"
        },
        {
         "hovertemplate": "netuid=23<br>div_lost=%{x}<br>similarity=%{y}<extra></extra>",
         "legendgroup": "23",
         "marker": {
          "color": "#EF553B",
          "symbol": "circle"
         },
         "mode": "markers",
         "name": "23",
         "orientation": "v",
         "showlegend": true,
         "type": "scatter",
         "x": [
          1.0229799223222769,
          1.0078278565197818,
          1.0019741397296755,
          1.0001511162884555,
          0.9948328973887417,
          0.9897027652421725,
          0.9854877572759574,
          0.9871973982991067,
          0.9915910470222324,
          0.9884539345640762,
          0.9835639934819208
         ],
         "xaxis": "x",
         "y": [
          1,
          0.9840156435966492,
          0.9796188473701477,
          0.9709340333938599,
          0.9642007350921631,
          0.9620498418807983,
          0.9583585858345032,
          0.9564176201820374,
          0.9583401083946228,
          0.9607876539230347,
          0.9620199799537659
         ],
         "yaxis": "y"
        },
        {
         "hovertemplate": "netuid=24<br>div_lost=%{x}<br>similarity=%{y}<extra></extra>",
         "legendgroup": "24",
         "marker": {
          "color": "#00cc96",
          "symbol": "circle"
         },
         "mode": "markers",
         "name": "24",
         "orientation": "v",
         "showlegend": true,
         "type": "scatter",
         "x": [
          1.022051445441219,
          0.9981086793148312,
          0.9668348063957577,
          1.0612799469058913,
          0.9540286925157684,
          0.9417894864172914,
          0.9620863485522727,
          0.9336546287399904,
          0.9303351236448056,
          0.9212226245409257,
          0.9776177813334013
         ],
         "xaxis": "x",
         "y": [
          1,
          0.9741760492324829,
          0.9615094065666199,
          0.9602118134498596,
          0.9596065282821655,
          0.9641285538673401,
          0.9611077904701233,
          0.9598633050918579,
          0.9596032500267029,
          0.9577953219413757,
          0.9563292264938354
         ],
         "yaxis": "y"
        },
        {
         "hovertemplate": "netuid=26<br>div_lost=%{x}<br>similarity=%{y}<extra></extra>",
         "legendgroup": "26",
         "marker": {
          "color": "#ab63fa",
          "symbol": "circle"
         },
         "mode": "markers",
         "name": "26",
         "orientation": "v",
         "showlegend": true,
         "type": "scatter",
         "x": [
          1.031804238403586,
          1.0260665036729661,
          1.019103406221051,
          1.0170778385126469,
          1.0145110084808966,
          1.0124820237251333,
          1.0101549344477847,
          1.0087259400165707,
          1.0068710019799718,
          1.0094401660867012,
          1.0100025708711011
         ],
         "xaxis": "x",
         "y": [
          1,
          0.9994719624519348,
          0.9987155795097351,
          0.9979122877120972,
          0.9973372220993042,
          0.9968028664588928,
          0.9963467121124268,
          0.9957682490348816,
          0.9954181909561157,
          0.9950380921363831,
          0.9945990443229675
         ],
         "yaxis": "y"
        },
        {
         "hovertemplate": "netuid=27<br>div_lost=%{x}<br>similarity=%{y}<extra></extra>",
         "legendgroup": "27",
         "marker": {
          "color": "#FFA15A",
          "symbol": "circle"
         },
         "mode": "markers",
         "name": "27",
         "orientation": "v",
         "showlegend": true,
         "type": "scatter",
         "x": [
          1.0077999882093824,
          1.0036992790023807,
          1.0028232841508153,
          1.0035166719456483,
          1.001304065084822,
          0.998922131622824,
          0.9993449902759414,
          0.996400761629126,
          0.9968865043446891,
          0.9960491516924402,
          0.9962550758418551
         ],
         "xaxis": "x",
         "y": [
          1,
          0.9966827630996704,
          0.9904820322990417,
          0.9869961142539978,
          0.990214467048645,
          0.9906748533248901,
          0.9905381202697754,
          0.9901833534240723,
          0.9886754155158997,
          0.9873414039611816,
          0.9870567917823792
         ],
         "yaxis": "y"
        },
        {
         "hovertemplate": "netuid=28<br>div_lost=%{x}<br>similarity=%{y}<extra></extra>",
         "legendgroup": "28",
         "marker": {
          "color": "#19d3f3",
          "symbol": "circle"
         },
         "mode": "markers",
         "name": "28",
         "orientation": "v",
         "showlegend": true,
         "type": "scatter",
         "x": [
          1.0385108199000743,
          1.038405801199364,
          1.035034998763425,
          1.0414595331192904,
          1.0345344438938127,
          1.0339524029936995,
          1.0356047023490766,
          1.03145427744629,
          1.0250404162008007,
          1.027538198745673,
          1.0244295730135344
         ],
         "xaxis": "x",
         "y": [
          1,
          0.9981715083122253,
          0.9976893067359924,
          0.9984548091888428,
          0.998387336730957,
          0.9988015294075012,
          0.9983855485916138,
          0.9979169964790344,
          0.9982460737228394,
          0.9983429312705994,
          0.9981995224952698
         ],
         "yaxis": "y"
        },
        {
         "hovertemplate": "netuid=29<br>div_lost=%{x}<br>similarity=%{y}<extra></extra>",
         "legendgroup": "29",
         "marker": {
          "color": "#FF6692",
          "symbol": "circle"
         },
         "mode": "markers",
         "name": "29",
         "orientation": "v",
         "showlegend": true,
         "type": "scatter",
         "x": [
          1.0000012446193887,
          1.0000054245496675,
          1.0000007592817586,
          1.0002922055666432,
          1.0000427414691728,
          1.0000082663945717,
          1.0000044627900189,
          1.0000034194868523,
          1.0000030334195078,
          1.0000058074754583,
          1.000060199148345
         ],
         "xaxis": "x",
         "y": [
          1,
          0.9703459143638611,
          0.9681252241134644,
          0.9663371443748474,
          0.9685351252555847,
          0.9672300219535828,
          0.9686415195465088,
          0.9688534140586853,
          0.9706256985664368,
          0.9658257365226746,
          0.9652319550514221
         ],
         "yaxis": "y"
        },
        {
         "hovertemplate": "netuid=30<br>div_lost=%{x}<br>similarity=%{y}<extra></extra>",
         "legendgroup": "30",
         "marker": {
          "color": "#B6E880",
          "symbol": "circle"
         },
         "mode": "markers",
         "name": "30",
         "orientation": "v",
         "showlegend": true,
         "type": "scatter",
         "x": [
          1.3167224422196344,
          1.2468897015120837,
          1.1720427021985294,
          1.1083447810188067,
          1.0676849085115896,
          1.007849010145192,
          0.9574329280354598,
          0.9532010874930613,
          0.9526456762925953,
          0.9359168241520058,
          0.9319212089752023
         ],
         "xaxis": "x",
         "y": [
          1,
          0.9854711294174194,
          0.955562174320221,
          0.9270921945571899,
          0.9038100242614746,
          0.8848834037780762,
          0.8646593689918518,
          0.844379723072052,
          0.8122017979621887,
          0.7719634771347046,
          0.7480520606040955
         ],
         "yaxis": "y"
        },
        {
         "hovertemplate": "netuid=31<br>div_lost=%{x}<br>similarity=%{y}<extra></extra>",
         "legendgroup": "31",
         "marker": {
          "color": "#FF97FF",
          "symbol": "circle"
         },
         "mode": "markers",
         "name": "31",
         "orientation": "v",
         "showlegend": true,
         "type": "scatter",
         "x": [
          1.0035657158288527,
          0.9856463892436385,
          0.96524276478835,
          0.9422458801297644,
          0.9249648205772435,
          0.9293604159513671,
          0.933431076777264,
          0.934213917816067,
          0.933958292664899,
          0.9331309692340137,
          0.9346595437723363
         ],
         "xaxis": "x",
         "y": [
          1,
          0.9969156384468079,
          0.9902166724205017,
          0.9842631220817566,
          0.9819474220275879,
          0.9810119867324829,
          0.9780344367027283,
          0.9747946858406067,
          0.9716683626174927,
          0.9714550971984863,
          0.9755642414093018
         ],
         "yaxis": "y"
        },
        {
         "hovertemplate": "netuid=32<br>div_lost=%{x}<br>similarity=%{y}<extra></extra>",
         "legendgroup": "32",
         "marker": {
          "color": "#FECB52",
          "symbol": "circle"
         },
         "mode": "markers",
         "name": "32",
         "orientation": "v",
         "showlegend": true,
         "type": "scatter",
         "x": [
          1.0104617327214713,
          1.0020080720141749,
          0.989185193856672,
          0.9761293900327135,
          0.9611017709086803,
          0.9562261325284475,
          0.9523470274714396,
          0.9500738116781583,
          0.9501974999647543,
          0.9621766146501313,
          0.9656065352811438
         ],
         "xaxis": "x",
         "y": [
          1,
          0.9995766878128052,
          0.997602105140686,
          0.9961768984794617,
          0.9960659146308899,
          0.9957921504974365,
          0.9925954341888428,
          0.9867021441459656,
          0.9805306196212769,
          0.9738381505012512,
          0.9726085066795349
         ],
         "yaxis": "y"
        }
       ],
       "layout": {
        "height": 1000,
        "legend": {
         "title": {
          "text": "netuid"
         },
         "tracegroupgap": 0
        },
        "margin": {
         "t": 60
        },
        "template": {
         "data": {
          "bar": [
           {
            "error_x": {
             "color": "#2a3f5f"
            },
            "error_y": {
             "color": "#2a3f5f"
            },
            "marker": {
             "line": {
              "color": "#E5ECF6",
              "width": 0.5
             },
             "pattern": {
              "fillmode": "overlay",
              "size": 10,
              "solidity": 0.2
             }
            },
            "type": "bar"
           }
          ],
          "barpolar": [
           {
            "marker": {
             "line": {
              "color": "#E5ECF6",
              "width": 0.5
             },
             "pattern": {
              "fillmode": "overlay",
              "size": 10,
              "solidity": 0.2
             }
            },
            "type": "barpolar"
           }
          ],
          "carpet": [
           {
            "aaxis": {
             "endlinecolor": "#2a3f5f",
             "gridcolor": "white",
             "linecolor": "white",
             "minorgridcolor": "white",
             "startlinecolor": "#2a3f5f"
            },
            "baxis": {
             "endlinecolor": "#2a3f5f",
             "gridcolor": "white",
             "linecolor": "white",
             "minorgridcolor": "white",
             "startlinecolor": "#2a3f5f"
            },
            "type": "carpet"
           }
          ],
          "choropleth": [
           {
            "colorbar": {
             "outlinewidth": 0,
             "ticks": ""
            },
            "type": "choropleth"
           }
          ],
          "contour": [
           {
            "colorbar": {
             "outlinewidth": 0,
             "ticks": ""
            },
            "colorscale": [
             [
              0,
              "#0d0887"
             ],
             [
              0.1111111111111111,
              "#46039f"
             ],
             [
              0.2222222222222222,
              "#7201a8"
             ],
             [
              0.3333333333333333,
              "#9c179e"
             ],
             [
              0.4444444444444444,
              "#bd3786"
             ],
             [
              0.5555555555555556,
              "#d8576b"
             ],
             [
              0.6666666666666666,
              "#ed7953"
             ],
             [
              0.7777777777777778,
              "#fb9f3a"
             ],
             [
              0.8888888888888888,
              "#fdca26"
             ],
             [
              1,
              "#f0f921"
             ]
            ],
            "type": "contour"
           }
          ],
          "contourcarpet": [
           {
            "colorbar": {
             "outlinewidth": 0,
             "ticks": ""
            },
            "type": "contourcarpet"
           }
          ],
          "heatmap": [
           {
            "colorbar": {
             "outlinewidth": 0,
             "ticks": ""
            },
            "colorscale": [
             [
              0,
              "#0d0887"
             ],
             [
              0.1111111111111111,
              "#46039f"
             ],
             [
              0.2222222222222222,
              "#7201a8"
             ],
             [
              0.3333333333333333,
              "#9c179e"
             ],
             [
              0.4444444444444444,
              "#bd3786"
             ],
             [
              0.5555555555555556,
              "#d8576b"
             ],
             [
              0.6666666666666666,
              "#ed7953"
             ],
             [
              0.7777777777777778,
              "#fb9f3a"
             ],
             [
              0.8888888888888888,
              "#fdca26"
             ],
             [
              1,
              "#f0f921"
             ]
            ],
            "type": "heatmap"
           }
          ],
          "heatmapgl": [
           {
            "colorbar": {
             "outlinewidth": 0,
             "ticks": ""
            },
            "colorscale": [
             [
              0,
              "#0d0887"
             ],
             [
              0.1111111111111111,
              "#46039f"
             ],
             [
              0.2222222222222222,
              "#7201a8"
             ],
             [
              0.3333333333333333,
              "#9c179e"
             ],
             [
              0.4444444444444444,
              "#bd3786"
             ],
             [
              0.5555555555555556,
              "#d8576b"
             ],
             [
              0.6666666666666666,
              "#ed7953"
             ],
             [
              0.7777777777777778,
              "#fb9f3a"
             ],
             [
              0.8888888888888888,
              "#fdca26"
             ],
             [
              1,
              "#f0f921"
             ]
            ],
            "type": "heatmapgl"
           }
          ],
          "histogram": [
           {
            "marker": {
             "pattern": {
              "fillmode": "overlay",
              "size": 10,
              "solidity": 0.2
             }
            },
            "type": "histogram"
           }
          ],
          "histogram2d": [
           {
            "colorbar": {
             "outlinewidth": 0,
             "ticks": ""
            },
            "colorscale": [
             [
              0,
              "#0d0887"
             ],
             [
              0.1111111111111111,
              "#46039f"
             ],
             [
              0.2222222222222222,
              "#7201a8"
             ],
             [
              0.3333333333333333,
              "#9c179e"
             ],
             [
              0.4444444444444444,
              "#bd3786"
             ],
             [
              0.5555555555555556,
              "#d8576b"
             ],
             [
              0.6666666666666666,
              "#ed7953"
             ],
             [
              0.7777777777777778,
              "#fb9f3a"
             ],
             [
              0.8888888888888888,
              "#fdca26"
             ],
             [
              1,
              "#f0f921"
             ]
            ],
            "type": "histogram2d"
           }
          ],
          "histogram2dcontour": [
           {
            "colorbar": {
             "outlinewidth": 0,
             "ticks": ""
            },
            "colorscale": [
             [
              0,
              "#0d0887"
             ],
             [
              0.1111111111111111,
              "#46039f"
             ],
             [
              0.2222222222222222,
              "#7201a8"
             ],
             [
              0.3333333333333333,
              "#9c179e"
             ],
             [
              0.4444444444444444,
              "#bd3786"
             ],
             [
              0.5555555555555556,
              "#d8576b"
             ],
             [
              0.6666666666666666,
              "#ed7953"
             ],
             [
              0.7777777777777778,
              "#fb9f3a"
             ],
             [
              0.8888888888888888,
              "#fdca26"
             ],
             [
              1,
              "#f0f921"
             ]
            ],
            "type": "histogram2dcontour"
           }
          ],
          "mesh3d": [
           {
            "colorbar": {
             "outlinewidth": 0,
             "ticks": ""
            },
            "type": "mesh3d"
           }
          ],
          "parcoords": [
           {
            "line": {
             "colorbar": {
              "outlinewidth": 0,
              "ticks": ""
             }
            },
            "type": "parcoords"
           }
          ],
          "pie": [
           {
            "automargin": true,
            "type": "pie"
           }
          ],
          "scatter": [
           {
            "fillpattern": {
             "fillmode": "overlay",
             "size": 10,
             "solidity": 0.2
            },
            "type": "scatter"
           }
          ],
          "scatter3d": [
           {
            "line": {
             "colorbar": {
              "outlinewidth": 0,
              "ticks": ""
             }
            },
            "marker": {
             "colorbar": {
              "outlinewidth": 0,
              "ticks": ""
             }
            },
            "type": "scatter3d"
           }
          ],
          "scattercarpet": [
           {
            "marker": {
             "colorbar": {
              "outlinewidth": 0,
              "ticks": ""
             }
            },
            "type": "scattercarpet"
           }
          ],
          "scattergeo": [
           {
            "marker": {
             "colorbar": {
              "outlinewidth": 0,
              "ticks": ""
             }
            },
            "type": "scattergeo"
           }
          ],
          "scattergl": [
           {
            "marker": {
             "colorbar": {
              "outlinewidth": 0,
              "ticks": ""
             }
            },
            "type": "scattergl"
           }
          ],
          "scattermapbox": [
           {
            "marker": {
             "colorbar": {
              "outlinewidth": 0,
              "ticks": ""
             }
            },
            "type": "scattermapbox"
           }
          ],
          "scatterpolar": [
           {
            "marker": {
             "colorbar": {
              "outlinewidth": 0,
              "ticks": ""
             }
            },
            "type": "scatterpolar"
           }
          ],
          "scatterpolargl": [
           {
            "marker": {
             "colorbar": {
              "outlinewidth": 0,
              "ticks": ""
             }
            },
            "type": "scatterpolargl"
           }
          ],
          "scatterternary": [
           {
            "marker": {
             "colorbar": {
              "outlinewidth": 0,
              "ticks": ""
             }
            },
            "type": "scatterternary"
           }
          ],
          "surface": [
           {
            "colorbar": {
             "outlinewidth": 0,
             "ticks": ""
            },
            "colorscale": [
             [
              0,
              "#0d0887"
             ],
             [
              0.1111111111111111,
              "#46039f"
             ],
             [
              0.2222222222222222,
              "#7201a8"
             ],
             [
              0.3333333333333333,
              "#9c179e"
             ],
             [
              0.4444444444444444,
              "#bd3786"
             ],
             [
              0.5555555555555556,
              "#d8576b"
             ],
             [
              0.6666666666666666,
              "#ed7953"
             ],
             [
              0.7777777777777778,
              "#fb9f3a"
             ],
             [
              0.8888888888888888,
              "#fdca26"
             ],
             [
              1,
              "#f0f921"
             ]
            ],
            "type": "surface"
           }
          ],
          "table": [
           {
            "cells": {
             "fill": {
              "color": "#EBF0F8"
             },
             "line": {
              "color": "white"
             }
            },
            "header": {
             "fill": {
              "color": "#C8D4E3"
             },
             "line": {
              "color": "white"
             }
            },
            "type": "table"
           }
          ]
         },
         "layout": {
          "annotationdefaults": {
           "arrowcolor": "#2a3f5f",
           "arrowhead": 0,
           "arrowwidth": 1
          },
          "autotypenumbers": "strict",
          "coloraxis": {
           "colorbar": {
            "outlinewidth": 0,
            "ticks": ""
           }
          },
          "colorscale": {
           "diverging": [
            [
             0,
             "#8e0152"
            ],
            [
             0.1,
             "#c51b7d"
            ],
            [
             0.2,
             "#de77ae"
            ],
            [
             0.3,
             "#f1b6da"
            ],
            [
             0.4,
             "#fde0ef"
            ],
            [
             0.5,
             "#f7f7f7"
            ],
            [
             0.6,
             "#e6f5d0"
            ],
            [
             0.7,
             "#b8e186"
            ],
            [
             0.8,
             "#7fbc41"
            ],
            [
             0.9,
             "#4d9221"
            ],
            [
             1,
             "#276419"
            ]
           ],
           "sequential": [
            [
             0,
             "#0d0887"
            ],
            [
             0.1111111111111111,
             "#46039f"
            ],
            [
             0.2222222222222222,
             "#7201a8"
            ],
            [
             0.3333333333333333,
             "#9c179e"
            ],
            [
             0.4444444444444444,
             "#bd3786"
            ],
            [
             0.5555555555555556,
             "#d8576b"
            ],
            [
             0.6666666666666666,
             "#ed7953"
            ],
            [
             0.7777777777777778,
             "#fb9f3a"
            ],
            [
             0.8888888888888888,
             "#fdca26"
            ],
            [
             1,
             "#f0f921"
            ]
           ],
           "sequentialminus": [
            [
             0,
             "#0d0887"
            ],
            [
             0.1111111111111111,
             "#46039f"
            ],
            [
             0.2222222222222222,
             "#7201a8"
            ],
            [
             0.3333333333333333,
             "#9c179e"
            ],
            [
             0.4444444444444444,
             "#bd3786"
            ],
            [
             0.5555555555555556,
             "#d8576b"
            ],
            [
             0.6666666666666666,
             "#ed7953"
            ],
            [
             0.7777777777777778,
             "#fb9f3a"
            ],
            [
             0.8888888888888888,
             "#fdca26"
            ],
            [
             1,
             "#f0f921"
            ]
           ]
          },
          "colorway": [
           "#636efa",
           "#EF553B",
           "#00cc96",
           "#ab63fa",
           "#FFA15A",
           "#19d3f3",
           "#FF6692",
           "#B6E880",
           "#FF97FF",
           "#FECB52"
          ],
          "font": {
           "color": "#2a3f5f"
          },
          "geo": {
           "bgcolor": "white",
           "lakecolor": "white",
           "landcolor": "#E5ECF6",
           "showlakes": true,
           "showland": true,
           "subunitcolor": "white"
          },
          "hoverlabel": {
           "align": "left"
          },
          "hovermode": "closest",
          "mapbox": {
           "style": "light"
          },
          "paper_bgcolor": "white",
          "plot_bgcolor": "#E5ECF6",
          "polar": {
           "angularaxis": {
            "gridcolor": "white",
            "linecolor": "white",
            "ticks": ""
           },
           "bgcolor": "#E5ECF6",
           "radialaxis": {
            "gridcolor": "white",
            "linecolor": "white",
            "ticks": ""
           }
          },
          "scene": {
           "xaxis": {
            "backgroundcolor": "#E5ECF6",
            "gridcolor": "white",
            "gridwidth": 2,
            "linecolor": "white",
            "showbackground": true,
            "ticks": "",
            "zerolinecolor": "white"
           },
           "yaxis": {
            "backgroundcolor": "#E5ECF6",
            "gridcolor": "white",
            "gridwidth": 2,
            "linecolor": "white",
            "showbackground": true,
            "ticks": "",
            "zerolinecolor": "white"
           },
           "zaxis": {
            "backgroundcolor": "#E5ECF6",
            "gridcolor": "white",
            "gridwidth": 2,
            "linecolor": "white",
            "showbackground": true,
            "ticks": "",
            "zerolinecolor": "white"
           }
          },
          "shapedefaults": {
           "line": {
            "color": "#2a3f5f"
           }
          },
          "ternary": {
           "aaxis": {
            "gridcolor": "white",
            "linecolor": "white",
            "ticks": ""
           },
           "baxis": {
            "gridcolor": "white",
            "linecolor": "white",
            "ticks": ""
           },
           "bgcolor": "#E5ECF6",
           "caxis": {
            "gridcolor": "white",
            "linecolor": "white",
            "ticks": ""
           }
          },
          "title": {
           "x": 0.05
          },
          "xaxis": {
           "automargin": true,
           "gridcolor": "white",
           "linecolor": "white",
           "ticks": "",
           "title": {
            "standoff": 15
           },
           "zerolinecolor": "white",
           "zerolinewidth": 2
          },
          "yaxis": {
           "automargin": true,
           "gridcolor": "white",
           "linecolor": "white",
           "ticks": "",
           "title": {
            "standoff": 15
           },
           "zerolinecolor": "white",
           "zerolinewidth": 2
          }
         }
        },
        "width": 1000,
        "xaxis": {
         "anchor": "y",
         "domain": [
          0,
          1
         ],
         "range": [
          0.85,
          1.32
         ],
         "title": {
          "text": "div_lost"
         }
        },
        "yaxis": {
         "anchor": "x",
         "domain": [
          0,
          1
         ],
         "range": [
          0.7,
          1.01
         ],
         "title": {
          "text": "similarity"
         }
        }
       }
      },
      "text/html": [
       "<div>                            <div id=\"6a79464b-cae2-4fe4-b40c-bae1c3c76118\" class=\"plotly-graph-div\" style=\"height:1000px; width:1000px;\"></div>            <script type=\"text/javascript\">                require([\"plotly\"], function(Plotly) {                    window.PLOTLYENV=window.PLOTLYENV || {};                                    if (document.getElementById(\"6a79464b-cae2-4fe4-b40c-bae1c3c76118\")) {                    Plotly.newPlot(                        \"6a79464b-cae2-4fe4-b40c-bae1c3c76118\",                        [{\"hovertemplate\":\"netuid=1<br>div_lost=%{x}<br>similarity=%{y}<extra></extra>\",\"legendgroup\":\"1\",\"marker\":{\"color\":\"#636efa\",\"symbol\":\"circle\"},\"mode\":\"markers\",\"name\":\"1\",\"orientation\":\"v\",\"showlegend\":true,\"x\":[1.1136908136540042,1.0159236390852382,1.0210866880382827,1.0158394018939023,1.016649921815303,1.0105587468983857,0.9952691067398367,1.0178312887287615,1.0142018595197178,1.0170771051406415,1.0105949791019426],\"xaxis\":\"x\",\"y\":[1.0,0.9647132754325867,0.9512402415275574,0.946466863155365,0.9437443017959595,0.9453920125961304,0.9389941692352295,0.9428465962409973,0.9423691034317017,0.9367790818214417,0.9438475370407104],\"yaxis\":\"y\",\"type\":\"scatter\"},{\"hovertemplate\":\"netuid=2<br>div_lost=%{x}<br>similarity=%{y}<extra></extra>\",\"legendgroup\":\"2\",\"marker\":{\"color\":\"#EF553B\",\"symbol\":\"circle\"},\"mode\":\"markers\",\"name\":\"2\",\"orientation\":\"v\",\"showlegend\":true,\"x\":[1.0154565177819124,0.9956798385876107,0.9876474237718017,0.9851751999916717,0.9859129524951953,0.9859394926439203,0.9856945845352485,0.9847973000105715,0.9843905945322848,0.9846650788186825,0.9845915484114774],\"xaxis\":\"x\",\"y\":[1.0,0.9993332028388977,0.999104380607605,0.9989460706710815,0.9990265965461731,0.9991815090179443,0.9995632171630859,0.999539315700531,0.9987114071846008,0.9962044358253479,0.995995283126831],\"yaxis\":\"y\",\"type\":\"scatter\"},{\"hovertemplate\":\"netuid=3<br>div_lost=%{x}<br>similarity=%{y}<extra></extra>\",\"legendgroup\":\"3\",\"marker\":{\"color\":\"#00cc96\",\"symbol\":\"circle\"},\"mode\":\"markers\",\"name\":\"3\",\"orientation\":\"v\",\"showlegend\":true,\"x\":[1.0905642297623188,1.0611158052107212,1.0296119568142823,1.0233715936632501,1.0171340924074348,1.0409420085748138,1.024333602035688,0.9702916064245477,0.9895444673424533,1.062406609117581,0.9903025129386448],\"xaxis\":\"x\",\"y\":[1.0,0.9471337199211121,0.9172669649124146,0.9133023023605347,0.9061619639396667,0.9358526468276978,0.916073203086853,0.9329958558082581,0.923065185546875,0.9050280451774597,0.9291291832923889],\"yaxis\":\"y\",\"type\":\"scatter\"},{\"hovertemplate\":\"netuid=4<br>div_lost=%{x}<br>similarity=%{y}<extra></extra>\",\"legendgroup\":\"4\",\"marker\":{\"color\":\"#ab63fa\",\"symbol\":\"circle\"},\"mode\":\"markers\",\"name\":\"4\",\"orientation\":\"v\",\"showlegend\":true,\"x\":[1.0018677744749602,1.0023785552209072,1.001426963450308,1.0003909065436614,0.9998886017897448,0.9999221640036121,0.9999082125986121,0.9999188938148401,0.9998844412195482,0.9999370949576843,0.9999385483852553],\"xaxis\":\"x\",\"y\":[1.0,0.9914709329605103,0.9764853715896606,0.957866370677948,0.9473161697387695,0.9438201785087585,0.9435889720916748,0.9439272880554199,0.9390789270401001,0.9375630021095276,0.9382205605506897],\"yaxis\":\"y\",\"type\":\"scatter\"},{\"hovertemplate\":\"netuid=5<br>div_lost=%{x}<br>similarity=%{y}<extra></extra>\",\"legendgroup\":\"5\",\"marker\":{\"color\":\"#FFA15A\",\"symbol\":\"circle\"},\"mode\":\"markers\",\"name\":\"5\",\"orientation\":\"v\",\"showlegend\":true,\"x\":[1.0515787024935945,1.0319532231383708,1.0194880253876615,1.0109630463375303,1.0109201103299479,1.0100821371897983,1.0090409211649847,1.0049414516521118,1.0027612170220774,1.0110906006022478,1.011664290125968],\"xaxis\":\"x\",\"y\":[1.0,0.9940692186355591,0.9865760803222656,0.9823146462440491,0.980684220790863,0.9782508611679077,0.9762371182441711,0.9750764966011047,0.9756459593772888,0.9737180471420288,0.9727569818496704],\"yaxis\":\"y\",\"type\":\"scatter\"},{\"hovertemplate\":\"netuid=6<br>div_lost=%{x}<br>similarity=%{y}<extra></extra>\",\"legendgroup\":\"6\",\"marker\":{\"color\":\"#19d3f3\",\"symbol\":\"circle\"},\"mode\":\"markers\",\"name\":\"6\",\"orientation\":\"v\",\"showlegend\":true,\"x\":[1.090300975116025,1.071326543394286,1.0653748449024956,1.045667286487878,1.0632676546071695,1.0483551089023107,1.0493698515962306,1.0464414825027877,1.0512375512096033,1.0234290591767459,1.0332488671328846],\"xaxis\":\"x\",\"y\":[1.0,0.9905000925064087,0.9669182300567627,0.957777202129364,0.9466533660888672,0.9195337295532227,0.8731979727745056,0.8263249397277832,0.8145676851272583,0.8140644431114197,0.8137248158454895],\"yaxis\":\"y\",\"type\":\"scatter\"},{\"hovertemplate\":\"netuid=7<br>div_lost=%{x}<br>similarity=%{y}<extra></extra>\",\"legendgroup\":\"7\",\"marker\":{\"color\":\"#FF6692\",\"symbol\":\"circle\"},\"mode\":\"markers\",\"name\":\"7\",\"orientation\":\"v\",\"showlegend\":true,\"x\":[1.0083285188200108,1.0050180891821232,0.9905338454919357,0.9886289876917445,0.9825381303212944,0.9799586203502045,0.9750696285839644,0.9767011014055128,0.9766002813900962,0.9761754873015716,0.9799381906893738],\"xaxis\":\"x\",\"y\":[1.0,0.9974971413612366,0.9934247136116028,0.991137683391571,0.987295389175415,0.9839829206466675,0.9832957983016968,0.9823834300041199,0.9821420311927795,0.9820813536643982,0.9814104437828064],\"yaxis\":\"y\",\"type\":\"scatter\"},{\"hovertemplate\":\"netuid=8<br>div_lost=%{x}<br>similarity=%{y}<extra></extra>\",\"legendgroup\":\"8\",\"marker\":{\"color\":\"#B6E880\",\"symbol\":\"circle\"},\"mode\":\"markers\",\"name\":\"8\",\"orientation\":\"v\",\"showlegend\":true,\"x\":[1.0536900665406181,1.0465339796224291,1.0272563345660304,1.0009191925922496,1.0005177910125969,0.951035626738337,0.9515511253654283,0.9539579822276375,0.9433038169709096,0.965230625352557,0.40861517917388734],\"xaxis\":\"x\",\"y\":[1.0,0.9985936880111694,0.9968208074569702,0.9956827163696289,0.994503915309906,0.9933474063873291,0.9921992421150208,0.9901636838912964,0.9862727522850037,0.9832850098609924,0.9823485016822815],\"yaxis\":\"y\",\"type\":\"scatter\"},{\"hovertemplate\":\"netuid=9<br>div_lost=%{x}<br>similarity=%{y}<extra></extra>\",\"legendgroup\":\"9\",\"marker\":{\"color\":\"#FF97FF\",\"symbol\":\"circle\"},\"mode\":\"markers\",\"name\":\"9\",\"orientation\":\"v\",\"showlegend\":true,\"x\":[1.0011894310235863,1.0012279207348946,1.0013744425083988,1.001273687662505,1.0004146849591624,1.0013534609256773,1.0006916785845397,1.0010835790221913,1.0044649512719097,1.0024382494915267,1.0000828241952353],\"xaxis\":\"x\",\"y\":[1.0,0.9909765124320984,0.9906231760978699,0.99354088306427,0.9889973998069763,0.9835011959075928,0.9790462851524353,0.9515607953071594,0.9493952989578247,0.9579779505729675,0.9759514927864075],\"yaxis\":\"y\",\"type\":\"scatter\"},{\"hovertemplate\":\"netuid=10<br>div_lost=%{x}<br>similarity=%{y}<extra></extra>\",\"legendgroup\":\"10\",\"marker\":{\"color\":\"#FECB52\",\"symbol\":\"circle\"},\"mode\":\"markers\",\"name\":\"10\",\"orientation\":\"v\",\"showlegend\":true,\"x\":[1.000852936301388,0.9956529648846013,0.9577296753217992,0.933495281700061,0.965366112226137,0.9531368340689581,0.9705645889558542,0.9704145444612852,0.9812741748233896,0.8983085595801815,0.8987641897072142],\"xaxis\":\"x\",\"y\":[1.0,0.9997653365135193,0.999810516834259,0.9997605681419373,0.9994158744812012,0.998262345790863,0.9966055154800415,0.9945546984672546,0.9937642812728882,0.9936837553977966,0.9859985113143921],\"yaxis\":\"y\",\"type\":\"scatter\"},{\"hovertemplate\":\"netuid=12<br>div_lost=%{x}<br>similarity=%{y}<extra></extra>\",\"legendgroup\":\"12\",\"marker\":{\"color\":\"#636efa\",\"symbol\":\"circle\"},\"mode\":\"markers\",\"name\":\"12\",\"orientation\":\"v\",\"showlegend\":true,\"x\":[1.0104370624694516,0.9917090553192838,0.98834194965414,0.9882347611351265,0.992248664609255,0.9826153701424374,0.9829883485417162,0.9828744511812234,0.984275868931659,0.9824867163342056,0.9795472379291051],\"xaxis\":\"x\",\"y\":[1.0,0.9993378520011902,0.9963295459747314,0.9941489696502686,0.9941155910491943,0.9956159591674805,0.9962393045425415,0.9946930408477783,0.9926091432571411,0.9919766783714294,0.9925445318222046],\"yaxis\":\"y\",\"type\":\"scatter\"},{\"hovertemplate\":\"netuid=13<br>div_lost=%{x}<br>similarity=%{y}<extra></extra>\",\"legendgroup\":\"13\",\"marker\":{\"color\":\"#EF553B\",\"symbol\":\"circle\"},\"mode\":\"markers\",\"name\":\"13\",\"orientation\":\"v\",\"showlegend\":true,\"x\":[1.147606575625677,1.0857319909309295,1.0195598688610923,1.046411137739917,1.0678264540192837,1.0492732551304107,1.0806869950599993,1.0685860932078761,1.0192385220000937,1.0365230304565303,1.0206092525137815],\"xaxis\":\"x\",\"y\":[1.0,0.9683764576911926,0.9248293042182922,0.8870740532875061,0.8813368678092957,0.902726411819458,0.9178779125213623,0.9232780933380127,0.9293797016143799,0.9250625371932983,0.907015860080719],\"yaxis\":\"y\",\"type\":\"scatter\"},{\"hovertemplate\":\"netuid=14<br>div_lost=%{x}<br>similarity=%{y}<extra></extra>\",\"legendgroup\":\"14\",\"marker\":{\"color\":\"#00cc96\",\"symbol\":\"circle\"},\"mode\":\"markers\",\"name\":\"14\",\"orientation\":\"v\",\"showlegend\":true,\"x\":[1.011081399267107,1.000849035272075,1.00154440654623,1.001312197243239,1.0033282311039395,1.0033055279099403,1.0033120303412086,0.9996853641764268,0.9981333073570111,0.9972021498489083,0.9994484755765176],\"xaxis\":\"x\",\"y\":[1.0,0.9993305206298828,0.999223530292511,0.9992573857307434,0.9992061257362366,0.9991113543510437,0.9989462494850159,0.9988712072372437,0.9988899827003479,0.9989747405052185,0.9989838004112244],\"yaxis\":\"y\",\"type\":\"scatter\"},{\"hovertemplate\":\"netuid=15<br>div_lost=%{x}<br>similarity=%{y}<extra></extra>\",\"legendgroup\":\"15\",\"marker\":{\"color\":\"#ab63fa\",\"symbol\":\"circle\"},\"mode\":\"markers\",\"name\":\"15\",\"orientation\":\"v\",\"showlegend\":true,\"x\":[1.0212755066576318,1.0174534378511522,1.012750328627697,1.008515650991064,1.006590086375748,1.0027621247991934,0.9955433521436943,0.9931831607867636,0.9880439085833412,0.9866619341653091,0.9851489340244873],\"xaxis\":\"x\",\"y\":[1.0,0.9993969202041626,0.9965878129005432,0.9956337213516235,0.9968658685684204,0.9961662292480469,0.9951444268226624,0.9940440654754639,0.9930855631828308,0.992341935634613,0.9917076230049133],\"yaxis\":\"y\",\"type\":\"scatter\"},{\"hovertemplate\":\"netuid=16<br>div_lost=%{x}<br>similarity=%{y}<extra></extra>\",\"legendgroup\":\"16\",\"marker\":{\"color\":\"#FFA15A\",\"symbol\":\"circle\"},\"mode\":\"markers\",\"name\":\"16\",\"orientation\":\"v\",\"showlegend\":true,\"x\":[1.0064639037235599,0.9600875725634515,0.9244439935397177,0.9173052265080675,0.911485696213599,0.906623472309963,0.9082845786479827,0.9054964478012429,0.9034371238114933,0.8940630910781645,0.8828315159438258],\"xaxis\":\"x\",\"y\":[1.0,0.9966329336166382,0.9897305369377136,0.9828759431838989,0.9780809879302979,0.9744516611099243,0.9709056615829468,0.9678344130516052,0.9672743082046509,0.9578543305397034,0.9471477270126343],\"yaxis\":\"y\",\"type\":\"scatter\"},{\"hovertemplate\":\"netuid=17<br>div_lost=%{x}<br>similarity=%{y}<extra></extra>\",\"legendgroup\":\"17\",\"marker\":{\"color\":\"#19d3f3\",\"symbol\":\"circle\"},\"mode\":\"markers\",\"name\":\"17\",\"orientation\":\"v\",\"showlegend\":true,\"x\":[1.0259040605559033,1.0144212485774193,1.0048792923121577,0.9968205791348895,0.9949286145484895,0.9947871736192924,0.994502410526886,0.9860146323549385,0.9799976928500316,0.9760557821494295,0.9728710088469457],\"xaxis\":\"x\",\"y\":[1.0,0.999127984046936,0.9959787726402283,0.9930818676948547,0.9920921325683594,0.9914070963859558,0.9895060658454895,0.9845272898674011,0.9765527844429016,0.9685594439506531,0.9637971520423889],\"yaxis\":\"y\",\"type\":\"scatter\"},{\"hovertemplate\":\"netuid=18<br>div_lost=%{x}<br>similarity=%{y}<extra></extra>\",\"legendgroup\":\"18\",\"marker\":{\"color\":\"#FF6692\",\"symbol\":\"circle\"},\"mode\":\"markers\",\"name\":\"18\",\"orientation\":\"v\",\"showlegend\":true,\"x\":[1.0585689683926633,1.025439889458794,1.0262379059562798,0.9974023118147994,0.9864653317149523,0.9789394636507683,0.9791597002444036,0.9985541969052847,1.0011180729804687,1.0053825736627657,0.9801526378189542],\"xaxis\":\"x\",\"y\":[1.0,0.9917750358581543,0.9694315791130066,0.9592157602310181,0.9646485447883606,0.9743088483810425,0.9773213863372803,0.9794543385505676,0.9825946092605591,0.9829772114753723,0.9824993014335632],\"yaxis\":\"y\",\"type\":\"scatter\"},{\"hovertemplate\":\"netuid=19<br>div_lost=%{x}<br>similarity=%{y}<extra></extra>\",\"legendgroup\":\"19\",\"marker\":{\"color\":\"#B6E880\",\"symbol\":\"circle\"},\"mode\":\"markers\",\"name\":\"19\",\"orientation\":\"v\",\"showlegend\":true,\"x\":[1.0188317320641838,1.0104238725724197,1.0074633790933063,1.0053767614740203,1.0009241326717861,0.9978204146290411,0.9957721329854838,0.9984950686316054,0.9965296744698238,0.994518780585151,0.9971358008203257],\"xaxis\":\"x\",\"y\":[1.0,0.9993059039115906,0.9987484216690063,0.9976990818977356,0.9964102506637573,0.9953343868255615,0.9942062497138977,0.9929429292678833,0.9918085932731628,0.9915140271186829,0.9921076893806458],\"yaxis\":\"y\",\"type\":\"scatter\"},{\"hovertemplate\":\"netuid=20<br>div_lost=%{x}<br>similarity=%{y}<extra></extra>\",\"legendgroup\":\"20\",\"marker\":{\"color\":\"#FF97FF\",\"symbol\":\"circle\"},\"mode\":\"markers\",\"name\":\"20\",\"orientation\":\"v\",\"showlegend\":true,\"x\":[1.012672534074553,1.0088850834601633,1.0073438276253137,1.0055645608690347,1.0040230427622552,1.0050198017124112,1.0054271903678837,1.0046600593356263,1.0034889178493742,1.005050117587908,1.0037401258513328],\"xaxis\":\"x\",\"y\":[1.0,0.9995796084403992,0.9991987943649292,0.9986321330070496,0.9979915022850037,0.9976216554641724,0.9971222877502441,0.9966996908187866,0.9966128468513489,0.9967740774154663,0.996909499168396],\"yaxis\":\"y\",\"type\":\"scatter\"},{\"hovertemplate\":\"netuid=21<br>div_lost=%{x}<br>similarity=%{y}<extra></extra>\",\"legendgroup\":\"21\",\"marker\":{\"color\":\"#FECB52\",\"symbol\":\"circle\"},\"mode\":\"markers\",\"name\":\"21\",\"orientation\":\"v\",\"showlegend\":true,\"x\":[1.0243497218747593,1.0199083409283018,1.018280604970137,1.0171726836149937,1.0159339387722608,1.0069831602874548,1.0081374257633988,1.0032017350880817,1.001617240369916,1.0047620492944498,1.0070638104403271],\"xaxis\":\"x\",\"y\":[1.0,0.9889190793037415,0.9893938899040222,0.9902913570404053,0.9898820519447327,0.9867750406265259,0.983508288860321,0.9852558374404907,0.9863983392715454,0.986778974533081,0.9866302609443665],\"yaxis\":\"y\",\"type\":\"scatter\"},{\"hovertemplate\":\"netuid=22<br>div_lost=%{x}<br>similarity=%{y}<extra></extra>\",\"legendgroup\":\"22\",\"marker\":{\"color\":\"#636efa\",\"symbol\":\"circle\"},\"mode\":\"markers\",\"name\":\"22\",\"orientation\":\"v\",\"showlegend\":true,\"x\":[1.0142281166564502,1.0088875246819957,1.0060015073828414,1.0063952908523603,1.002435163547864,0.9989239564750215,1.0013030278717603,0.9972081110657346,0.9897412776971621,0.976949912175869,0.9649429370721887],\"xaxis\":\"x\",\"y\":[1.0,0.9935855269432068,0.9821014404296875,0.9843929409980774,0.987686812877655,0.9815647602081299,0.9820379614830017,0.9878251552581787,0.9931533932685852,0.9956727623939514,0.9936671257019043],\"yaxis\":\"y\",\"type\":\"scatter\"},{\"hovertemplate\":\"netuid=23<br>div_lost=%{x}<br>similarity=%{y}<extra></extra>\",\"legendgroup\":\"23\",\"marker\":{\"color\":\"#EF553B\",\"symbol\":\"circle\"},\"mode\":\"markers\",\"name\":\"23\",\"orientation\":\"v\",\"showlegend\":true,\"x\":[1.0229799223222769,1.0078278565197818,1.0019741397296755,1.0001511162884555,0.9948328973887417,0.9897027652421725,0.9854877572759574,0.9871973982991067,0.9915910470222324,0.9884539345640762,0.9835639934819208],\"xaxis\":\"x\",\"y\":[1.0,0.9840156435966492,0.9796188473701477,0.9709340333938599,0.9642007350921631,0.9620498418807983,0.9583585858345032,0.9564176201820374,0.9583401083946228,0.9607876539230347,0.9620199799537659],\"yaxis\":\"y\",\"type\":\"scatter\"},{\"hovertemplate\":\"netuid=24<br>div_lost=%{x}<br>similarity=%{y}<extra></extra>\",\"legendgroup\":\"24\",\"marker\":{\"color\":\"#00cc96\",\"symbol\":\"circle\"},\"mode\":\"markers\",\"name\":\"24\",\"orientation\":\"v\",\"showlegend\":true,\"x\":[1.022051445441219,0.9981086793148312,0.9668348063957577,1.0612799469058913,0.9540286925157684,0.9417894864172914,0.9620863485522727,0.9336546287399904,0.9303351236448056,0.9212226245409257,0.9776177813334013],\"xaxis\":\"x\",\"y\":[1.0,0.9741760492324829,0.9615094065666199,0.9602118134498596,0.9596065282821655,0.9641285538673401,0.9611077904701233,0.9598633050918579,0.9596032500267029,0.9577953219413757,0.9563292264938354],\"yaxis\":\"y\",\"type\":\"scatter\"},{\"hovertemplate\":\"netuid=26<br>div_lost=%{x}<br>similarity=%{y}<extra></extra>\",\"legendgroup\":\"26\",\"marker\":{\"color\":\"#ab63fa\",\"symbol\":\"circle\"},\"mode\":\"markers\",\"name\":\"26\",\"orientation\":\"v\",\"showlegend\":true,\"x\":[1.031804238403586,1.0260665036729661,1.019103406221051,1.0170778385126469,1.0145110084808966,1.0124820237251333,1.0101549344477847,1.0087259400165707,1.0068710019799718,1.0094401660867012,1.0100025708711011],\"xaxis\":\"x\",\"y\":[1.0,0.9994719624519348,0.9987155795097351,0.9979122877120972,0.9973372220993042,0.9968028664588928,0.9963467121124268,0.9957682490348816,0.9954181909561157,0.9950380921363831,0.9945990443229675],\"yaxis\":\"y\",\"type\":\"scatter\"},{\"hovertemplate\":\"netuid=27<br>div_lost=%{x}<br>similarity=%{y}<extra></extra>\",\"legendgroup\":\"27\",\"marker\":{\"color\":\"#FFA15A\",\"symbol\":\"circle\"},\"mode\":\"markers\",\"name\":\"27\",\"orientation\":\"v\",\"showlegend\":true,\"x\":[1.0077999882093824,1.0036992790023807,1.0028232841508153,1.0035166719456483,1.001304065084822,0.998922131622824,0.9993449902759414,0.996400761629126,0.9968865043446891,0.9960491516924402,0.9962550758418551],\"xaxis\":\"x\",\"y\":[1.0,0.9966827630996704,0.9904820322990417,0.9869961142539978,0.990214467048645,0.9906748533248901,0.9905381202697754,0.9901833534240723,0.9886754155158997,0.9873414039611816,0.9870567917823792],\"yaxis\":\"y\",\"type\":\"scatter\"},{\"hovertemplate\":\"netuid=28<br>div_lost=%{x}<br>similarity=%{y}<extra></extra>\",\"legendgroup\":\"28\",\"marker\":{\"color\":\"#19d3f3\",\"symbol\":\"circle\"},\"mode\":\"markers\",\"name\":\"28\",\"orientation\":\"v\",\"showlegend\":true,\"x\":[1.0385108199000743,1.038405801199364,1.035034998763425,1.0414595331192904,1.0345344438938127,1.0339524029936995,1.0356047023490766,1.03145427744629,1.0250404162008007,1.027538198745673,1.0244295730135344],\"xaxis\":\"x\",\"y\":[1.0,0.9981715083122253,0.9976893067359924,0.9984548091888428,0.998387336730957,0.9988015294075012,0.9983855485916138,0.9979169964790344,0.9982460737228394,0.9983429312705994,0.9981995224952698],\"yaxis\":\"y\",\"type\":\"scatter\"},{\"hovertemplate\":\"netuid=29<br>div_lost=%{x}<br>similarity=%{y}<extra></extra>\",\"legendgroup\":\"29\",\"marker\":{\"color\":\"#FF6692\",\"symbol\":\"circle\"},\"mode\":\"markers\",\"name\":\"29\",\"orientation\":\"v\",\"showlegend\":true,\"x\":[1.0000012446193887,1.0000054245496675,1.0000007592817586,1.0002922055666432,1.0000427414691728,1.0000082663945717,1.0000044627900189,1.0000034194868523,1.0000030334195078,1.0000058074754583,1.000060199148345],\"xaxis\":\"x\",\"y\":[1.0,0.9703459143638611,0.9681252241134644,0.9663371443748474,0.9685351252555847,0.9672300219535828,0.9686415195465088,0.9688534140586853,0.9706256985664368,0.9658257365226746,0.9652319550514221],\"yaxis\":\"y\",\"type\":\"scatter\"},{\"hovertemplate\":\"netuid=30<br>div_lost=%{x}<br>similarity=%{y}<extra></extra>\",\"legendgroup\":\"30\",\"marker\":{\"color\":\"#B6E880\",\"symbol\":\"circle\"},\"mode\":\"markers\",\"name\":\"30\",\"orientation\":\"v\",\"showlegend\":true,\"x\":[1.3167224422196344,1.2468897015120837,1.1720427021985294,1.1083447810188067,1.0676849085115896,1.007849010145192,0.9574329280354598,0.9532010874930613,0.9526456762925953,0.9359168241520058,0.9319212089752023],\"xaxis\":\"x\",\"y\":[1.0,0.9854711294174194,0.955562174320221,0.9270921945571899,0.9038100242614746,0.8848834037780762,0.8646593689918518,0.844379723072052,0.8122017979621887,0.7719634771347046,0.7480520606040955],\"yaxis\":\"y\",\"type\":\"scatter\"},{\"hovertemplate\":\"netuid=31<br>div_lost=%{x}<br>similarity=%{y}<extra></extra>\",\"legendgroup\":\"31\",\"marker\":{\"color\":\"#FF97FF\",\"symbol\":\"circle\"},\"mode\":\"markers\",\"name\":\"31\",\"orientation\":\"v\",\"showlegend\":true,\"x\":[1.0035657158288527,0.9856463892436385,0.96524276478835,0.9422458801297644,0.9249648205772435,0.9293604159513671,0.933431076777264,0.934213917816067,0.933958292664899,0.9331309692340137,0.9346595437723363],\"xaxis\":\"x\",\"y\":[1.0,0.9969156384468079,0.9902166724205017,0.9842631220817566,0.9819474220275879,0.9810119867324829,0.9780344367027283,0.9747946858406067,0.9716683626174927,0.9714550971984863,0.9755642414093018],\"yaxis\":\"y\",\"type\":\"scatter\"},{\"hovertemplate\":\"netuid=32<br>div_lost=%{x}<br>similarity=%{y}<extra></extra>\",\"legendgroup\":\"32\",\"marker\":{\"color\":\"#FECB52\",\"symbol\":\"circle\"},\"mode\":\"markers\",\"name\":\"32\",\"orientation\":\"v\",\"showlegend\":true,\"x\":[1.0104617327214713,1.0020080720141749,0.989185193856672,0.9761293900327135,0.9611017709086803,0.9562261325284475,0.9523470274714396,0.9500738116781583,0.9501974999647543,0.9621766146501313,0.9656065352811438],\"xaxis\":\"x\",\"y\":[1.0,0.9995766878128052,0.997602105140686,0.9961768984794617,0.9960659146308899,0.9957921504974365,0.9925954341888428,0.9867021441459656,0.9805306196212769,0.9738381505012512,0.9726085066795349],\"yaxis\":\"y\",\"type\":\"scatter\"}],                        {\"template\":{\"data\":{\"histogram2dcontour\":[{\"type\":\"histogram2dcontour\",\"colorbar\":{\"outlinewidth\":0,\"ticks\":\"\"},\"colorscale\":[[0.0,\"#0d0887\"],[0.1111111111111111,\"#46039f\"],[0.2222222222222222,\"#7201a8\"],[0.3333333333333333,\"#9c179e\"],[0.4444444444444444,\"#bd3786\"],[0.5555555555555556,\"#d8576b\"],[0.6666666666666666,\"#ed7953\"],[0.7777777777777778,\"#fb9f3a\"],[0.8888888888888888,\"#fdca26\"],[1.0,\"#f0f921\"]]}],\"choropleth\":[{\"type\":\"choropleth\",\"colorbar\":{\"outlinewidth\":0,\"ticks\":\"\"}}],\"histogram2d\":[{\"type\":\"histogram2d\",\"colorbar\":{\"outlinewidth\":0,\"ticks\":\"\"},\"colorscale\":[[0.0,\"#0d0887\"],[0.1111111111111111,\"#46039f\"],[0.2222222222222222,\"#7201a8\"],[0.3333333333333333,\"#9c179e\"],[0.4444444444444444,\"#bd3786\"],[0.5555555555555556,\"#d8576b\"],[0.6666666666666666,\"#ed7953\"],[0.7777777777777778,\"#fb9f3a\"],[0.8888888888888888,\"#fdca26\"],[1.0,\"#f0f921\"]]}],\"heatmap\":[{\"type\":\"heatmap\",\"colorbar\":{\"outlinewidth\":0,\"ticks\":\"\"},\"colorscale\":[[0.0,\"#0d0887\"],[0.1111111111111111,\"#46039f\"],[0.2222222222222222,\"#7201a8\"],[0.3333333333333333,\"#9c179e\"],[0.4444444444444444,\"#bd3786\"],[0.5555555555555556,\"#d8576b\"],[0.6666666666666666,\"#ed7953\"],[0.7777777777777778,\"#fb9f3a\"],[0.8888888888888888,\"#fdca26\"],[1.0,\"#f0f921\"]]}],\"heatmapgl\":[{\"type\":\"heatmapgl\",\"colorbar\":{\"outlinewidth\":0,\"ticks\":\"\"},\"colorscale\":[[0.0,\"#0d0887\"],[0.1111111111111111,\"#46039f\"],[0.2222222222222222,\"#7201a8\"],[0.3333333333333333,\"#9c179e\"],[0.4444444444444444,\"#bd3786\"],[0.5555555555555556,\"#d8576b\"],[0.6666666666666666,\"#ed7953\"],[0.7777777777777778,\"#fb9f3a\"],[0.8888888888888888,\"#fdca26\"],[1.0,\"#f0f921\"]]}],\"contourcarpet\":[{\"type\":\"contourcarpet\",\"colorbar\":{\"outlinewidth\":0,\"ticks\":\"\"}}],\"contour\":[{\"type\":\"contour\",\"colorbar\":{\"outlinewidth\":0,\"ticks\":\"\"},\"colorscale\":[[0.0,\"#0d0887\"],[0.1111111111111111,\"#46039f\"],[0.2222222222222222,\"#7201a8\"],[0.3333333333333333,\"#9c179e\"],[0.4444444444444444,\"#bd3786\"],[0.5555555555555556,\"#d8576b\"],[0.6666666666666666,\"#ed7953\"],[0.7777777777777778,\"#fb9f3a\"],[0.8888888888888888,\"#fdca26\"],[1.0,\"#f0f921\"]]}],\"surface\":[{\"type\":\"surface\",\"colorbar\":{\"outlinewidth\":0,\"ticks\":\"\"},\"colorscale\":[[0.0,\"#0d0887\"],[0.1111111111111111,\"#46039f\"],[0.2222222222222222,\"#7201a8\"],[0.3333333333333333,\"#9c179e\"],[0.4444444444444444,\"#bd3786\"],[0.5555555555555556,\"#d8576b\"],[0.6666666666666666,\"#ed7953\"],[0.7777777777777778,\"#fb9f3a\"],[0.8888888888888888,\"#fdca26\"],[1.0,\"#f0f921\"]]}],\"mesh3d\":[{\"type\":\"mesh3d\",\"colorbar\":{\"outlinewidth\":0,\"ticks\":\"\"}}],\"scatter\":[{\"fillpattern\":{\"fillmode\":\"overlay\",\"size\":10,\"solidity\":0.2},\"type\":\"scatter\"}],\"parcoords\":[{\"type\":\"parcoords\",\"line\":{\"colorbar\":{\"outlinewidth\":0,\"ticks\":\"\"}}}],\"scatterpolargl\":[{\"type\":\"scatterpolargl\",\"marker\":{\"colorbar\":{\"outlinewidth\":0,\"ticks\":\"\"}}}],\"bar\":[{\"error_x\":{\"color\":\"#2a3f5f\"},\"error_y\":{\"color\":\"#2a3f5f\"},\"marker\":{\"line\":{\"color\":\"#E5ECF6\",\"width\":0.5},\"pattern\":{\"fillmode\":\"overlay\",\"size\":10,\"solidity\":0.2}},\"type\":\"bar\"}],\"scattergeo\":[{\"type\":\"scattergeo\",\"marker\":{\"colorbar\":{\"outlinewidth\":0,\"ticks\":\"\"}}}],\"scatterpolar\":[{\"type\":\"scatterpolar\",\"marker\":{\"colorbar\":{\"outlinewidth\":0,\"ticks\":\"\"}}}],\"histogram\":[{\"marker\":{\"pattern\":{\"fillmode\":\"overlay\",\"size\":10,\"solidity\":0.2}},\"type\":\"histogram\"}],\"scattergl\":[{\"type\":\"scattergl\",\"marker\":{\"colorbar\":{\"outlinewidth\":0,\"ticks\":\"\"}}}],\"scatter3d\":[{\"type\":\"scatter3d\",\"line\":{\"colorbar\":{\"outlinewidth\":0,\"ticks\":\"\"}},\"marker\":{\"colorbar\":{\"outlinewidth\":0,\"ticks\":\"\"}}}],\"scattermapbox\":[{\"type\":\"scattermapbox\",\"marker\":{\"colorbar\":{\"outlinewidth\":0,\"ticks\":\"\"}}}],\"scatterternary\":[{\"type\":\"scatterternary\",\"marker\":{\"colorbar\":{\"outlinewidth\":0,\"ticks\":\"\"}}}],\"scattercarpet\":[{\"type\":\"scattercarpet\",\"marker\":{\"colorbar\":{\"outlinewidth\":0,\"ticks\":\"\"}}}],\"carpet\":[{\"aaxis\":{\"endlinecolor\":\"#2a3f5f\",\"gridcolor\":\"white\",\"linecolor\":\"white\",\"minorgridcolor\":\"white\",\"startlinecolor\":\"#2a3f5f\"},\"baxis\":{\"endlinecolor\":\"#2a3f5f\",\"gridcolor\":\"white\",\"linecolor\":\"white\",\"minorgridcolor\":\"white\",\"startlinecolor\":\"#2a3f5f\"},\"type\":\"carpet\"}],\"table\":[{\"cells\":{\"fill\":{\"color\":\"#EBF0F8\"},\"line\":{\"color\":\"white\"}},\"header\":{\"fill\":{\"color\":\"#C8D4E3\"},\"line\":{\"color\":\"white\"}},\"type\":\"table\"}],\"barpolar\":[{\"marker\":{\"line\":{\"color\":\"#E5ECF6\",\"width\":0.5},\"pattern\":{\"fillmode\":\"overlay\",\"size\":10,\"solidity\":0.2}},\"type\":\"barpolar\"}],\"pie\":[{\"automargin\":true,\"type\":\"pie\"}]},\"layout\":{\"autotypenumbers\":\"strict\",\"colorway\":[\"#636efa\",\"#EF553B\",\"#00cc96\",\"#ab63fa\",\"#FFA15A\",\"#19d3f3\",\"#FF6692\",\"#B6E880\",\"#FF97FF\",\"#FECB52\"],\"font\":{\"color\":\"#2a3f5f\"},\"hovermode\":\"closest\",\"hoverlabel\":{\"align\":\"left\"},\"paper_bgcolor\":\"white\",\"plot_bgcolor\":\"#E5ECF6\",\"polar\":{\"bgcolor\":\"#E5ECF6\",\"angularaxis\":{\"gridcolor\":\"white\",\"linecolor\":\"white\",\"ticks\":\"\"},\"radialaxis\":{\"gridcolor\":\"white\",\"linecolor\":\"white\",\"ticks\":\"\"}},\"ternary\":{\"bgcolor\":\"#E5ECF6\",\"aaxis\":{\"gridcolor\":\"white\",\"linecolor\":\"white\",\"ticks\":\"\"},\"baxis\":{\"gridcolor\":\"white\",\"linecolor\":\"white\",\"ticks\":\"\"},\"caxis\":{\"gridcolor\":\"white\",\"linecolor\":\"white\",\"ticks\":\"\"}},\"coloraxis\":{\"colorbar\":{\"outlinewidth\":0,\"ticks\":\"\"}},\"colorscale\":{\"sequential\":[[0.0,\"#0d0887\"],[0.1111111111111111,\"#46039f\"],[0.2222222222222222,\"#7201a8\"],[0.3333333333333333,\"#9c179e\"],[0.4444444444444444,\"#bd3786\"],[0.5555555555555556,\"#d8576b\"],[0.6666666666666666,\"#ed7953\"],[0.7777777777777778,\"#fb9f3a\"],[0.8888888888888888,\"#fdca26\"],[1.0,\"#f0f921\"]],\"sequentialminus\":[[0.0,\"#0d0887\"],[0.1111111111111111,\"#46039f\"],[0.2222222222222222,\"#7201a8\"],[0.3333333333333333,\"#9c179e\"],[0.4444444444444444,\"#bd3786\"],[0.5555555555555556,\"#d8576b\"],[0.6666666666666666,\"#ed7953\"],[0.7777777777777778,\"#fb9f3a\"],[0.8888888888888888,\"#fdca26\"],[1.0,\"#f0f921\"]],\"diverging\":[[0,\"#8e0152\"],[0.1,\"#c51b7d\"],[0.2,\"#de77ae\"],[0.3,\"#f1b6da\"],[0.4,\"#fde0ef\"],[0.5,\"#f7f7f7\"],[0.6,\"#e6f5d0\"],[0.7,\"#b8e186\"],[0.8,\"#7fbc41\"],[0.9,\"#4d9221\"],[1,\"#276419\"]]},\"xaxis\":{\"gridcolor\":\"white\",\"linecolor\":\"white\",\"ticks\":\"\",\"title\":{\"standoff\":15},\"zerolinecolor\":\"white\",\"automargin\":true,\"zerolinewidth\":2},\"yaxis\":{\"gridcolor\":\"white\",\"linecolor\":\"white\",\"ticks\":\"\",\"title\":{\"standoff\":15},\"zerolinecolor\":\"white\",\"automargin\":true,\"zerolinewidth\":2},\"scene\":{\"xaxis\":{\"backgroundcolor\":\"#E5ECF6\",\"gridcolor\":\"white\",\"linecolor\":\"white\",\"showbackground\":true,\"ticks\":\"\",\"zerolinecolor\":\"white\",\"gridwidth\":2},\"yaxis\":{\"backgroundcolor\":\"#E5ECF6\",\"gridcolor\":\"white\",\"linecolor\":\"white\",\"showbackground\":true,\"ticks\":\"\",\"zerolinecolor\":\"white\",\"gridwidth\":2},\"zaxis\":{\"backgroundcolor\":\"#E5ECF6\",\"gridcolor\":\"white\",\"linecolor\":\"white\",\"showbackground\":true,\"ticks\":\"\",\"zerolinecolor\":\"white\",\"gridwidth\":2}},\"shapedefaults\":{\"line\":{\"color\":\"#2a3f5f\"}},\"annotationdefaults\":{\"arrowcolor\":\"#2a3f5f\",\"arrowhead\":0,\"arrowwidth\":1},\"geo\":{\"bgcolor\":\"white\",\"landcolor\":\"#E5ECF6\",\"subunitcolor\":\"white\",\"showland\":true,\"showlakes\":true,\"lakecolor\":\"white\"},\"title\":{\"x\":0.05},\"mapbox\":{\"style\":\"light\"}}},\"xaxis\":{\"anchor\":\"y\",\"domain\":[0.0,1.0],\"title\":{\"text\":\"div_lost\"},\"range\":[0.85,1.32]},\"yaxis\":{\"anchor\":\"x\",\"domain\":[0.0,1.0],\"title\":{\"text\":\"similarity\"},\"range\":[0.7,1.01]},\"legend\":{\"title\":{\"text\":\"netuid\"},\"tracegroupgap\":0},\"margin\":{\"t\":60},\"height\":1000,\"width\":1000},                        {\"responsive\": true}                    ).then(function(){\n",
       "                            \n",
       "var gd = document.getElementById('6a79464b-cae2-4fe4-b40c-bae1c3c76118');\n",
       "var x = new MutationObserver(function (mutations, observer) {{\n",
       "        var display = window.getComputedStyle(gd).display;\n",
       "        if (!display || display === 'none') {{\n",
       "            console.log([gd, 'removed!']);\n",
       "            Plotly.purge(gd);\n",
       "            observer.disconnect();\n",
       "        }}\n",
       "}});\n",
       "\n",
       "// Listen for the removal of the full notebook cells\n",
       "var notebookContainer = gd.closest('#notebook-container');\n",
       "if (notebookContainer) {{\n",
       "    x.observe(notebookContainer, {childList: true});\n",
       "}}\n",
       "\n",
       "// Listen for the clearing of the current output cell\n",
       "var outputEl = gd.closest('.output');\n",
       "if (outputEl) {{\n",
       "    x.observe(outputEl, {childList: true});\n",
       "}}\n",
       "\n",
       "                        })                };                });            </script>        </div>"
      ]
     },
     "metadata": {},
     "output_type": "display_data"
    }
   ],
   "source": [
    "df = {\n",
    "    'div_lost': [],\n",
    "    'similarity': [],\n",
    "    'netuid': [],\n",
    "    'correlation': []\n",
    "}\n",
    "for i in setup.netuids:\n",
    "    corr = div_losts[i].corr(similarities[i])\n",
    "    df['div_lost'] += div_losts[i].tolist()\n",
    "    df['similarity'] += similarities[i].tolist()\n",
    "    df['netuid'] += [i] * len(div_losts)\n",
    "    df['correlation'] += [corr] * len(div_losts)\n",
    "\n",
    "div_lost_VS_sim = pd.DataFrame(df)\n",
    "div_lost_VS_sim.netuid = div_lost_VS_sim.netuid.astype('object')\n",
    "\n",
    "fig = px.scatter(\n",
    "    div_lost_VS_sim,\n",
    "    x = 'div_lost',\n",
    "    y = 'similarity',\n",
    "    color = 'netuid',\n",
    "    range_y = [0.7, 1.01],\n",
    "    range_x = [0.85, 1.32],\n",
    "    width = 1000,\n",
    "    height = 1000,\n",
    ")\n",
    "fig.show()"
   ]
  },
  {
   "cell_type": "code",
   "execution_count": 25,
   "metadata": {},
   "outputs": [
    {
     "data": {
      "text/plain": [
       "(6120, 4680, 3240, 1800, 0)"
      ]
     },
     "execution_count": 25,
     "metadata": {},
     "output_type": "execute_result"
    }
   ],
   "source": [
    "17 * 360, 13 * 360, 9 * 360, 5 * 360, 0"
   ]
  },
  {
   "cell_type": "code",
   "execution_count": 26,
   "metadata": {},
   "outputs": [
    {
     "data": {
      "application/vnd.plotly.v1+json": {
       "config": {
        "plotlyServerURL": "https://plot.ly"
       },
       "data": [
        {
         "hovertemplate": "Subnet=1<br>Relative Dividend Rate=%{x}<br>Average Validator Trust=%{y}<extra></extra>",
         "legendgroup": "1",
         "line": {
          "color": "#636efa",
          "dash": "solid"
         },
         "marker": {
          "symbol": "circle"
         },
         "mode": "markers+lines",
         "name": "1",
         "orientation": "v",
         "showlegend": true,
         "type": "scatter",
         "x": [
          1.0170771051406415,
          1.0178312887287615,
          1.0105587468983857,
          1.0158394018939023,
          1.1136908136540042
         ],
         "xaxis": "x",
         "y": [
          0.9032822251319885,
          0.9032822251319885,
          0.9032822251319885,
          0.9032822251319885,
          0.9032822251319885
         ],
         "yaxis": "y"
        },
        {
         "hovertemplate": "Subnet=2<br>Relative Dividend Rate=%{x}<br>Average Validator Trust=%{y}<extra></extra>",
         "legendgroup": "2",
         "line": {
          "color": "#EF553B",
          "dash": "solid"
         },
         "marker": {
          "symbol": "circle"
         },
         "mode": "markers+lines",
         "name": "2",
         "orientation": "v",
         "showlegend": true,
         "type": "scatter",
         "x": [
          0.9846650788186825,
          0.9847973000105715,
          0.9859394926439203,
          0.9851751999916717,
          1.0154565177819124
         ],
         "xaxis": "x",
         "y": [
          0.9942473888397216,
          0.9942473888397216,
          0.9942473888397216,
          0.9942473888397216,
          0.9942473888397216
         ],
         "yaxis": "y"
        },
        {
         "hovertemplate": "Subnet=3<br>Relative Dividend Rate=%{x}<br>Average Validator Trust=%{y}<extra></extra>",
         "legendgroup": "3",
         "line": {
          "color": "#00cc96",
          "dash": "solid"
         },
         "marker": {
          "symbol": "circle"
         },
         "mode": "markers+lines",
         "name": "3",
         "orientation": "v",
         "showlegend": true,
         "type": "scatter",
         "x": [
          1.062406609117581,
          0.9702916064245477,
          1.0409420085748138,
          1.0233715936632501,
          1.0905642297623188
         ],
         "xaxis": "x",
         "y": [
          0.9289188623428345,
          0.9289188623428345,
          0.9289188623428345,
          0.9289188623428345,
          0.9289188623428345
         ],
         "yaxis": "y"
        },
        {
         "hovertemplate": "Subnet=4<br>Relative Dividend Rate=%{x}<br>Average Validator Trust=%{y}<extra></extra>",
         "legendgroup": "4",
         "line": {
          "color": "#ab63fa",
          "dash": "solid"
         },
         "marker": {
          "symbol": "circle"
         },
         "mode": "markers+lines",
         "name": "4",
         "orientation": "v",
         "showlegend": true,
         "type": "scatter",
         "x": [
          0.9999370949576843,
          0.9999188938148401,
          0.9999221640036121,
          1.0003909065436614,
          1.0018677744749602
         ],
         "xaxis": "x",
         "y": [
          0.9462943911552429,
          0.9462943911552429,
          0.9462943911552429,
          0.9462943911552429,
          0.9462943911552429
         ],
         "yaxis": "y"
        },
        {
         "hovertemplate": "Subnet=5<br>Relative Dividend Rate=%{x}<br>Average Validator Trust=%{y}<extra></extra>",
         "legendgroup": "5",
         "line": {
          "color": "#FFA15A",
          "dash": "solid"
         },
         "marker": {
          "symbol": "circle"
         },
         "mode": "markers+lines",
         "name": "5",
         "orientation": "v",
         "showlegend": true,
         "type": "scatter",
         "x": [
          1.0110906006022478,
          1.0049414516521118,
          1.0100821371897983,
          1.0109630463375303,
          1.0515787024935945
         ],
         "xaxis": "x",
         "y": [
          0.9474691867828369,
          0.9474691867828369,
          0.9474691867828369,
          0.9474691867828369,
          0.9474691867828369
         ],
         "yaxis": "y"
        },
        {
         "hovertemplate": "Subnet=6<br>Relative Dividend Rate=%{x}<br>Average Validator Trust=%{y}<extra></extra>",
         "legendgroup": "6",
         "line": {
          "color": "#19d3f3",
          "dash": "solid"
         },
         "marker": {
          "symbol": "circle"
         },
         "mode": "markers+lines",
         "name": "6",
         "orientation": "v",
         "showlegend": true,
         "type": "scatter",
         "x": [
          1.0234290591767459,
          1.0464414825027877,
          1.0483551089023107,
          1.045667286487878,
          1.090300975116025
         ],
         "xaxis": "x",
         "y": [
          0.9237383365631103,
          0.9237383365631103,
          0.9237383365631103,
          0.9237383365631103,
          0.9237383365631103
         ],
         "yaxis": "y"
        },
        {
         "hovertemplate": "Subnet=7<br>Relative Dividend Rate=%{x}<br>Average Validator Trust=%{y}<extra></extra>",
         "legendgroup": "7",
         "line": {
          "color": "#FF6692",
          "dash": "solid"
         },
         "marker": {
          "symbol": "circle"
         },
         "mode": "markers+lines",
         "name": "7",
         "orientation": "v",
         "showlegend": true,
         "type": "scatter",
         "x": [
          0.9761754873015716,
          0.9767011014055128,
          0.9799586203502045,
          0.9886289876917445,
          1.0083285188200108
         ],
         "xaxis": "x",
         "y": [
          0.9904053688049317,
          0.9904053688049317,
          0.9904053688049317,
          0.9904053688049317,
          0.9904053688049317
         ],
         "yaxis": "y"
        },
        {
         "hovertemplate": "Subnet=8<br>Relative Dividend Rate=%{x}<br>Average Validator Trust=%{y}<extra></extra>",
         "legendgroup": "8",
         "line": {
          "color": "#B6E880",
          "dash": "solid"
         },
         "marker": {
          "symbol": "circle"
         },
         "mode": "markers+lines",
         "name": "8",
         "orientation": "v",
         "showlegend": true,
         "type": "scatter",
         "x": [
          0.965230625352557,
          0.9539579822276375,
          0.951035626738337,
          1.0009191925922496,
          1.0536900665406181
         ],
         "xaxis": "x",
         "y": [
          0.9482454180717468,
          0.9482454180717468,
          0.9482454180717468,
          0.9482454180717468,
          0.9482454180717468
         ],
         "yaxis": "y"
        },
        {
         "hovertemplate": "Subnet=9<br>Relative Dividend Rate=%{x}<br>Average Validator Trust=%{y}<extra></extra>",
         "legendgroup": "9",
         "line": {
          "color": "#FF97FF",
          "dash": "solid"
         },
         "marker": {
          "symbol": "circle"
         },
         "mode": "markers+lines",
         "name": "9",
         "orientation": "v",
         "showlegend": true,
         "type": "scatter",
         "x": [
          1.0024382494915267,
          1.0010835790221913,
          1.0013534609256773,
          1.001273687662505,
          1.0011894310235863
         ],
         "xaxis": "x",
         "y": [
          0.9984260678291321,
          0.9984260678291321,
          0.9984260678291321,
          0.9984260678291321,
          0.9984260678291321
         ],
         "yaxis": "y"
        },
        {
         "hovertemplate": "Subnet=10<br>Relative Dividend Rate=%{x}<br>Average Validator Trust=%{y}<extra></extra>",
         "legendgroup": "10",
         "line": {
          "color": "#FECB52",
          "dash": "solid"
         },
         "marker": {
          "symbol": "circle"
         },
         "mode": "markers+lines",
         "name": "10",
         "orientation": "v",
         "showlegend": true,
         "type": "scatter",
         "x": [
          0.8983085595801815,
          0.9704145444612852,
          0.9531368340689581,
          0.933495281700061,
          1.000852936301388
         ],
         "xaxis": "x",
         "y": [
          0.9960589170455932,
          0.9960589170455932,
          0.9960589170455932,
          0.9960589170455932,
          0.9960589170455932
         ],
         "yaxis": "y"
        },
        {
         "hovertemplate": "Subnet=12<br>Relative Dividend Rate=%{x}<br>Average Validator Trust=%{y}<extra></extra>",
         "legendgroup": "12",
         "line": {
          "color": "#636efa",
          "dash": "solid"
         },
         "marker": {
          "symbol": "circle"
         },
         "mode": "markers+lines",
         "name": "12",
         "orientation": "v",
         "showlegend": true,
         "type": "scatter",
         "x": [
          0.9824867163342056,
          0.9828744511812234,
          0.9826153701424374,
          0.9882347611351265,
          1.0104370624694516
         ],
         "xaxis": "x",
         "y": [
          0.9898730993270874,
          0.9898730993270874,
          0.9898730993270874,
          0.9898730993270874,
          0.9898730993270874
         ],
         "yaxis": "y"
        },
        {
         "hovertemplate": "Subnet=13<br>Relative Dividend Rate=%{x}<br>Average Validator Trust=%{y}<extra></extra>",
         "legendgroup": "13",
         "line": {
          "color": "#EF553B",
          "dash": "solid"
         },
         "marker": {
          "symbol": "circle"
         },
         "mode": "markers+lines",
         "name": "13",
         "orientation": "v",
         "showlegend": true,
         "type": "scatter",
         "x": [
          1.0365230304565303,
          1.0685860932078761,
          1.0492732551304107,
          1.046411137739917,
          1.147606575625677
         ],
         "xaxis": "x",
         "y": [
          0.8609318137168884,
          0.8609318137168884,
          0.8609318137168884,
          0.8609318137168884,
          0.8609318137168884
         ],
         "yaxis": "y"
        },
        {
         "hovertemplate": "Subnet=14<br>Relative Dividend Rate=%{x}<br>Average Validator Trust=%{y}<extra></extra>",
         "legendgroup": "14",
         "line": {
          "color": "#00cc96",
          "dash": "solid"
         },
         "marker": {
          "symbol": "circle"
         },
         "mode": "markers+lines",
         "name": "14",
         "orientation": "v",
         "showlegend": true,
         "type": "scatter",
         "x": [
          0.9972021498489083,
          0.9996853641764268,
          1.0033055279099403,
          1.001312197243239,
          1.011081399267107
         ],
         "xaxis": "x",
         "y": [
          0.9889541983604431,
          0.9889541983604431,
          0.9889541983604431,
          0.9889541983604431,
          0.9889541983604431
         ],
         "yaxis": "y"
        },
        {
         "hovertemplate": "Subnet=15<br>Relative Dividend Rate=%{x}<br>Average Validator Trust=%{y}<extra></extra>",
         "legendgroup": "15",
         "line": {
          "color": "#ab63fa",
          "dash": "solid"
         },
         "marker": {
          "symbol": "circle"
         },
         "mode": "markers+lines",
         "name": "15",
         "orientation": "v",
         "showlegend": true,
         "type": "scatter",
         "x": [
          0.9866619341653091,
          0.9931831607867636,
          1.0027621247991934,
          1.008515650991064,
          1.0212755066576318
         ],
         "xaxis": "x",
         "y": [
          0.9741487622261047,
          0.9741487622261047,
          0.9741487622261047,
          0.9741487622261047,
          0.9741487622261047
         ],
         "yaxis": "y"
        },
        {
         "hovertemplate": "Subnet=16<br>Relative Dividend Rate=%{x}<br>Average Validator Trust=%{y}<extra></extra>",
         "legendgroup": "16",
         "line": {
          "color": "#FFA15A",
          "dash": "solid"
         },
         "marker": {
          "symbol": "circle"
         },
         "mode": "markers+lines",
         "name": "16",
         "orientation": "v",
         "showlegend": true,
         "type": "scatter",
         "x": [
          0.8940630910781645,
          0.9054964478012429,
          0.906623472309963,
          0.9173052265080675,
          1.0064639037235599
         ],
         "xaxis": "x",
         "y": [
          0.9845625519752502,
          0.9845625519752502,
          0.9845625519752502,
          0.9845625519752502,
          0.9845625519752502
         ],
         "yaxis": "y"
        },
        {
         "hovertemplate": "Subnet=17<br>Relative Dividend Rate=%{x}<br>Average Validator Trust=%{y}<extra></extra>",
         "legendgroup": "17",
         "line": {
          "color": "#19d3f3",
          "dash": "solid"
         },
         "marker": {
          "symbol": "circle"
         },
         "mode": "markers+lines",
         "name": "17",
         "orientation": "v",
         "showlegend": true,
         "type": "scatter",
         "x": [
          0.9760557821494295,
          0.9860146323549385,
          0.9947871736192924,
          0.9968205791348895,
          1.0259040605559033
         ],
         "xaxis": "x",
         "y": [
          0.9715552210807801,
          0.9715552210807801,
          0.9715552210807801,
          0.9715552210807801,
          0.9715552210807801
         ],
         "yaxis": "y"
        },
        {
         "hovertemplate": "Subnet=18<br>Relative Dividend Rate=%{x}<br>Average Validator Trust=%{y}<extra></extra>",
         "legendgroup": "18",
         "line": {
          "color": "#FF6692",
          "dash": "solid"
         },
         "marker": {
          "symbol": "circle"
         },
         "mode": "markers+lines",
         "name": "18",
         "orientation": "v",
         "showlegend": true,
         "type": "scatter",
         "x": [
          1.0053825736627657,
          0.9985541969052847,
          0.9789394636507683,
          0.9974023118147994,
          1.0585689683926633
         ],
         "xaxis": "x",
         "y": [
          0.9529316902160645,
          0.9529316902160645,
          0.9529316902160645,
          0.9529316902160645,
          0.9529316902160645
         ],
         "yaxis": "y"
        },
        {
         "hovertemplate": "Subnet=19<br>Relative Dividend Rate=%{x}<br>Average Validator Trust=%{y}<extra></extra>",
         "legendgroup": "19",
         "line": {
          "color": "#B6E880",
          "dash": "solid"
         },
         "marker": {
          "symbol": "circle"
         },
         "mode": "markers+lines",
         "name": "19",
         "orientation": "v",
         "showlegend": true,
         "type": "scatter",
         "x": [
          0.994518780585151,
          0.9984950686316054,
          0.9978204146290411,
          1.0053767614740203,
          1.0188317320641838
         ],
         "xaxis": "x",
         "y": [
          0.9858834505081177,
          0.9858834505081177,
          0.9858834505081177,
          0.9858834505081177,
          0.9858834505081177
         ],
         "yaxis": "y"
        },
        {
         "hovertemplate": "Subnet=20<br>Relative Dividend Rate=%{x}<br>Average Validator Trust=%{y}<extra></extra>",
         "legendgroup": "20",
         "line": {
          "color": "#FF97FF",
          "dash": "solid"
         },
         "marker": {
          "symbol": "circle"
         },
         "mode": "markers+lines",
         "name": "20",
         "orientation": "v",
         "showlegend": true,
         "type": "scatter",
         "x": [
          1.005050117587908,
          1.0046600593356263,
          1.0050198017124112,
          1.0055645608690347,
          1.012672534074553
         ],
         "xaxis": "x",
         "y": [
          0.9850156664848327,
          0.9850156664848327,
          0.9850156664848327,
          0.9850156664848327,
          0.9850156664848327
         ],
         "yaxis": "y"
        },
        {
         "hovertemplate": "Subnet=21<br>Relative Dividend Rate=%{x}<br>Average Validator Trust=%{y}<extra></extra>",
         "legendgroup": "21",
         "line": {
          "color": "#FECB52",
          "dash": "solid"
         },
         "marker": {
          "symbol": "circle"
         },
         "mode": "markers+lines",
         "name": "21",
         "orientation": "v",
         "showlegend": true,
         "type": "scatter",
         "x": [
          1.0047620492944498,
          1.0032017350880817,
          1.0069831602874548,
          1.0171726836149937,
          1.0243497218747593
         ],
         "xaxis": "x",
         "y": [
          0.9737634539604187,
          0.9737634539604187,
          0.9737634539604187,
          0.9737634539604187,
          0.9737634539604187
         ],
         "yaxis": "y"
        },
        {
         "hovertemplate": "Subnet=22<br>Relative Dividend Rate=%{x}<br>Average Validator Trust=%{y}<extra></extra>",
         "legendgroup": "22",
         "line": {
          "color": "#636efa",
          "dash": "solid"
         },
         "marker": {
          "symbol": "circle"
         },
         "mode": "markers+lines",
         "name": "22",
         "orientation": "v",
         "showlegend": true,
         "type": "scatter",
         "x": [
          0.976949912175869,
          0.9972081110657346,
          0.9989239564750215,
          1.0063952908523603,
          1.0142281166564502
         ],
         "xaxis": "x",
         "y": [
          0.9811791181564331,
          0.9811791181564331,
          0.9811791181564331,
          0.9811791181564331,
          0.9811791181564331
         ],
         "yaxis": "y"
        },
        {
         "hovertemplate": "Subnet=23<br>Relative Dividend Rate=%{x}<br>Average Validator Trust=%{y}<extra></extra>",
         "legendgroup": "23",
         "line": {
          "color": "#EF553B",
          "dash": "solid"
         },
         "marker": {
          "symbol": "circle"
         },
         "mode": "markers+lines",
         "name": "23",
         "orientation": "v",
         "showlegend": true,
         "type": "scatter",
         "x": [
          0.9884539345640762,
          0.9871973982991067,
          0.9897027652421725,
          1.0001511162884555,
          1.0229799223222769
         ],
         "xaxis": "x",
         "y": [
          0.9695606350898742,
          0.9695606350898742,
          0.9695606350898742,
          0.9695606350898742,
          0.9695606350898742
         ],
         "yaxis": "y"
        },
        {
         "hovertemplate": "Subnet=24<br>Relative Dividend Rate=%{x}<br>Average Validator Trust=%{y}<extra></extra>",
         "legendgroup": "24",
         "line": {
          "color": "#00cc96",
          "dash": "solid"
         },
         "marker": {
          "symbol": "circle"
         },
         "mode": "markers+lines",
         "name": "24",
         "orientation": "v",
         "showlegend": true,
         "type": "scatter",
         "x": [
          0.9212226245409257,
          0.9336546287399904,
          0.9417894864172914,
          1.0612799469058913,
          1.022051445441219
         ],
         "xaxis": "x",
         "y": [
          0.9717418074607849,
          0.9717418074607849,
          0.9717418074607849,
          0.9717418074607849,
          0.9717418074607849
         ],
         "yaxis": "y"
        },
        {
         "hovertemplate": "Subnet=26<br>Relative Dividend Rate=%{x}<br>Average Validator Trust=%{y}<extra></extra>",
         "legendgroup": "26",
         "line": {
          "color": "#ab63fa",
          "dash": "solid"
         },
         "marker": {
          "symbol": "circle"
         },
         "mode": "markers+lines",
         "name": "26",
         "orientation": "v",
         "showlegend": true,
         "type": "scatter",
         "x": [
          1.0094401660867012,
          1.0087259400165707,
          1.0124820237251333,
          1.0170778385126469,
          1.031804238403586
         ],
         "xaxis": "x",
         "y": [
          0.9661980867385864,
          0.9661980867385864,
          0.9661980867385864,
          0.9661980867385864,
          0.9661980867385864
         ],
         "yaxis": "y"
        },
        {
         "hovertemplate": "Subnet=27<br>Relative Dividend Rate=%{x}<br>Average Validator Trust=%{y}<extra></extra>",
         "legendgroup": "27",
         "line": {
          "color": "#FFA15A",
          "dash": "solid"
         },
         "marker": {
          "symbol": "circle"
         },
         "mode": "markers+lines",
         "name": "27",
         "orientation": "v",
         "showlegend": true,
         "type": "scatter",
         "x": [
          0.9960491516924402,
          0.996400761629126,
          0.998922131622824,
          1.0035166719456483,
          1.0077999882093824
         ],
         "xaxis": "x",
         "y": [
          0.9897837996482849,
          0.9897837996482849,
          0.9897837996482849,
          0.9897837996482849,
          0.9897837996482849
         ],
         "yaxis": "y"
        },
        {
         "hovertemplate": "Subnet=28<br>Relative Dividend Rate=%{x}<br>Average Validator Trust=%{y}<extra></extra>",
         "legendgroup": "28",
         "line": {
          "color": "#19d3f3",
          "dash": "solid"
         },
         "marker": {
          "symbol": "circle"
         },
         "mode": "markers+lines",
         "name": "28",
         "orientation": "v",
         "showlegend": true,
         "type": "scatter",
         "x": [
          1.027538198745673,
          1.03145427744629,
          1.0339524029936995,
          1.0414595331192904,
          1.0385108199000743
         ],
         "xaxis": "x",
         "y": [
          0.9539499044418335,
          0.9539499044418335,
          0.9539499044418335,
          0.9539499044418335,
          0.9539499044418335
         ],
         "yaxis": "y"
        },
        {
         "hovertemplate": "Subnet=29<br>Relative Dividend Rate=%{x}<br>Average Validator Trust=%{y}<extra></extra>",
         "legendgroup": "29",
         "line": {
          "color": "#FF6692",
          "dash": "solid"
         },
         "marker": {
          "symbol": "circle"
         },
         "mode": "markers+lines",
         "name": "29",
         "orientation": "v",
         "showlegend": true,
         "type": "scatter",
         "x": [
          1.0000058074754583,
          1.0000034194868523,
          1.0000082663945717,
          1.0002922055666432,
          1.0000012446193887
         ],
         "xaxis": "x",
         "y": [
          0.9961089134216309,
          0.9961089134216309,
          0.9961089134216309,
          0.9961089134216309,
          0.9961089134216309
         ],
         "yaxis": "y"
        },
        {
         "hovertemplate": "Subnet=30<br>Relative Dividend Rate=%{x}<br>Average Validator Trust=%{y}<extra></extra>",
         "legendgroup": "30",
         "line": {
          "color": "#B6E880",
          "dash": "solid"
         },
         "marker": {
          "symbol": "circle"
         },
         "mode": "markers+lines",
         "name": "30",
         "orientation": "v",
         "showlegend": true,
         "type": "scatter",
         "x": [
          0.9359168241520058,
          0.9532010874930613,
          1.007849010145192,
          1.1083447810188067,
          1.3167224422196344
         ],
         "xaxis": "x",
         "y": [
          0.7796790838241577,
          0.7796790838241577,
          0.7796790838241577,
          0.7796790838241577,
          0.7796790838241577
         ],
         "yaxis": "y"
        },
        {
         "hovertemplate": "Subnet=31<br>Relative Dividend Rate=%{x}<br>Average Validator Trust=%{y}<extra></extra>",
         "legendgroup": "31",
         "line": {
          "color": "#FF97FF",
          "dash": "solid"
         },
         "marker": {
          "symbol": "circle"
         },
         "mode": "markers+lines",
         "name": "31",
         "orientation": "v",
         "showlegend": true,
         "type": "scatter",
         "x": [
          0.9331309692340137,
          0.934213917816067,
          0.9293604159513671,
          0.9422458801297644,
          1.0035657158288527
         ],
         "xaxis": "x",
         "y": [
          0.9890203237533569,
          0.9890203237533569,
          0.9890203237533569,
          0.9890203237533569,
          0.9890203237533569
         ],
         "yaxis": "y"
        },
        {
         "hovertemplate": "Subnet=32<br>Relative Dividend Rate=%{x}<br>Average Validator Trust=%{y}<extra></extra>",
         "legendgroup": "32",
         "line": {
          "color": "#FECB52",
          "dash": "solid"
         },
         "marker": {
          "symbol": "circle"
         },
         "mode": "markers+lines",
         "name": "32",
         "orientation": "v",
         "showlegend": true,
         "type": "scatter",
         "x": [
          0.9621766146501313,
          0.9500738116781583,
          0.9562261325284475,
          0.9761293900327135,
          1.0104617327214713
         ],
         "xaxis": "x",
         "y": [
          0.9898983597755432,
          0.9898983597755432,
          0.9898983597755432,
          0.9898983597755432,
          0.9898983597755432
         ],
         "yaxis": "y"
        }
       ],
       "layout": {
        "height": 1000,
        "legend": {
         "title": {
          "text": "Subnet"
         },
         "tracegroupgap": 0
        },
        "template": {
         "data": {
          "bar": [
           {
            "error_x": {
             "color": "#2a3f5f"
            },
            "error_y": {
             "color": "#2a3f5f"
            },
            "marker": {
             "line": {
              "color": "white",
              "width": 0.5
             },
             "pattern": {
              "fillmode": "overlay",
              "size": 10,
              "solidity": 0.2
             }
            },
            "type": "bar"
           }
          ],
          "barpolar": [
           {
            "marker": {
             "line": {
              "color": "white",
              "width": 0.5
             },
             "pattern": {
              "fillmode": "overlay",
              "size": 10,
              "solidity": 0.2
             }
            },
            "type": "barpolar"
           }
          ],
          "carpet": [
           {
            "aaxis": {
             "endlinecolor": "#2a3f5f",
             "gridcolor": "#C8D4E3",
             "linecolor": "#C8D4E3",
             "minorgridcolor": "#C8D4E3",
             "startlinecolor": "#2a3f5f"
            },
            "baxis": {
             "endlinecolor": "#2a3f5f",
             "gridcolor": "#C8D4E3",
             "linecolor": "#C8D4E3",
             "minorgridcolor": "#C8D4E3",
             "startlinecolor": "#2a3f5f"
            },
            "type": "carpet"
           }
          ],
          "choropleth": [
           {
            "colorbar": {
             "outlinewidth": 0,
             "ticks": ""
            },
            "type": "choropleth"
           }
          ],
          "contour": [
           {
            "colorbar": {
             "outlinewidth": 0,
             "ticks": ""
            },
            "colorscale": [
             [
              0,
              "#0d0887"
             ],
             [
              0.1111111111111111,
              "#46039f"
             ],
             [
              0.2222222222222222,
              "#7201a8"
             ],
             [
              0.3333333333333333,
              "#9c179e"
             ],
             [
              0.4444444444444444,
              "#bd3786"
             ],
             [
              0.5555555555555556,
              "#d8576b"
             ],
             [
              0.6666666666666666,
              "#ed7953"
             ],
             [
              0.7777777777777778,
              "#fb9f3a"
             ],
             [
              0.8888888888888888,
              "#fdca26"
             ],
             [
              1,
              "#f0f921"
             ]
            ],
            "type": "contour"
           }
          ],
          "contourcarpet": [
           {
            "colorbar": {
             "outlinewidth": 0,
             "ticks": ""
            },
            "type": "contourcarpet"
           }
          ],
          "heatmap": [
           {
            "colorbar": {
             "outlinewidth": 0,
             "ticks": ""
            },
            "colorscale": [
             [
              0,
              "#0d0887"
             ],
             [
              0.1111111111111111,
              "#46039f"
             ],
             [
              0.2222222222222222,
              "#7201a8"
             ],
             [
              0.3333333333333333,
              "#9c179e"
             ],
             [
              0.4444444444444444,
              "#bd3786"
             ],
             [
              0.5555555555555556,
              "#d8576b"
             ],
             [
              0.6666666666666666,
              "#ed7953"
             ],
             [
              0.7777777777777778,
              "#fb9f3a"
             ],
             [
              0.8888888888888888,
              "#fdca26"
             ],
             [
              1,
              "#f0f921"
             ]
            ],
            "type": "heatmap"
           }
          ],
          "heatmapgl": [
           {
            "colorbar": {
             "outlinewidth": 0,
             "ticks": ""
            },
            "colorscale": [
             [
              0,
              "#0d0887"
             ],
             [
              0.1111111111111111,
              "#46039f"
             ],
             [
              0.2222222222222222,
              "#7201a8"
             ],
             [
              0.3333333333333333,
              "#9c179e"
             ],
             [
              0.4444444444444444,
              "#bd3786"
             ],
             [
              0.5555555555555556,
              "#d8576b"
             ],
             [
              0.6666666666666666,
              "#ed7953"
             ],
             [
              0.7777777777777778,
              "#fb9f3a"
             ],
             [
              0.8888888888888888,
              "#fdca26"
             ],
             [
              1,
              "#f0f921"
             ]
            ],
            "type": "heatmapgl"
           }
          ],
          "histogram": [
           {
            "marker": {
             "pattern": {
              "fillmode": "overlay",
              "size": 10,
              "solidity": 0.2
             }
            },
            "type": "histogram"
           }
          ],
          "histogram2d": [
           {
            "colorbar": {
             "outlinewidth": 0,
             "ticks": ""
            },
            "colorscale": [
             [
              0,
              "#0d0887"
             ],
             [
              0.1111111111111111,
              "#46039f"
             ],
             [
              0.2222222222222222,
              "#7201a8"
             ],
             [
              0.3333333333333333,
              "#9c179e"
             ],
             [
              0.4444444444444444,
              "#bd3786"
             ],
             [
              0.5555555555555556,
              "#d8576b"
             ],
             [
              0.6666666666666666,
              "#ed7953"
             ],
             [
              0.7777777777777778,
              "#fb9f3a"
             ],
             [
              0.8888888888888888,
              "#fdca26"
             ],
             [
              1,
              "#f0f921"
             ]
            ],
            "type": "histogram2d"
           }
          ],
          "histogram2dcontour": [
           {
            "colorbar": {
             "outlinewidth": 0,
             "ticks": ""
            },
            "colorscale": [
             [
              0,
              "#0d0887"
             ],
             [
              0.1111111111111111,
              "#46039f"
             ],
             [
              0.2222222222222222,
              "#7201a8"
             ],
             [
              0.3333333333333333,
              "#9c179e"
             ],
             [
              0.4444444444444444,
              "#bd3786"
             ],
             [
              0.5555555555555556,
              "#d8576b"
             ],
             [
              0.6666666666666666,
              "#ed7953"
             ],
             [
              0.7777777777777778,
              "#fb9f3a"
             ],
             [
              0.8888888888888888,
              "#fdca26"
             ],
             [
              1,
              "#f0f921"
             ]
            ],
            "type": "histogram2dcontour"
           }
          ],
          "mesh3d": [
           {
            "colorbar": {
             "outlinewidth": 0,
             "ticks": ""
            },
            "type": "mesh3d"
           }
          ],
          "parcoords": [
           {
            "line": {
             "colorbar": {
              "outlinewidth": 0,
              "ticks": ""
             }
            },
            "type": "parcoords"
           }
          ],
          "pie": [
           {
            "automargin": true,
            "type": "pie"
           }
          ],
          "scatter": [
           {
            "fillpattern": {
             "fillmode": "overlay",
             "size": 10,
             "solidity": 0.2
            },
            "type": "scatter"
           }
          ],
          "scatter3d": [
           {
            "line": {
             "colorbar": {
              "outlinewidth": 0,
              "ticks": ""
             }
            },
            "marker": {
             "colorbar": {
              "outlinewidth": 0,
              "ticks": ""
             }
            },
            "type": "scatter3d"
           }
          ],
          "scattercarpet": [
           {
            "marker": {
             "colorbar": {
              "outlinewidth": 0,
              "ticks": ""
             }
            },
            "type": "scattercarpet"
           }
          ],
          "scattergeo": [
           {
            "marker": {
             "colorbar": {
              "outlinewidth": 0,
              "ticks": ""
             }
            },
            "type": "scattergeo"
           }
          ],
          "scattergl": [
           {
            "marker": {
             "colorbar": {
              "outlinewidth": 0,
              "ticks": ""
             }
            },
            "type": "scattergl"
           }
          ],
          "scattermapbox": [
           {
            "marker": {
             "colorbar": {
              "outlinewidth": 0,
              "ticks": ""
             }
            },
            "type": "scattermapbox"
           }
          ],
          "scatterpolar": [
           {
            "marker": {
             "colorbar": {
              "outlinewidth": 0,
              "ticks": ""
             }
            },
            "type": "scatterpolar"
           }
          ],
          "scatterpolargl": [
           {
            "marker": {
             "colorbar": {
              "outlinewidth": 0,
              "ticks": ""
             }
            },
            "type": "scatterpolargl"
           }
          ],
          "scatterternary": [
           {
            "marker": {
             "colorbar": {
              "outlinewidth": 0,
              "ticks": ""
             }
            },
            "type": "scatterternary"
           }
          ],
          "surface": [
           {
            "colorbar": {
             "outlinewidth": 0,
             "ticks": ""
            },
            "colorscale": [
             [
              0,
              "#0d0887"
             ],
             [
              0.1111111111111111,
              "#46039f"
             ],
             [
              0.2222222222222222,
              "#7201a8"
             ],
             [
              0.3333333333333333,
              "#9c179e"
             ],
             [
              0.4444444444444444,
              "#bd3786"
             ],
             [
              0.5555555555555556,
              "#d8576b"
             ],
             [
              0.6666666666666666,
              "#ed7953"
             ],
             [
              0.7777777777777778,
              "#fb9f3a"
             ],
             [
              0.8888888888888888,
              "#fdca26"
             ],
             [
              1,
              "#f0f921"
             ]
            ],
            "type": "surface"
           }
          ],
          "table": [
           {
            "cells": {
             "fill": {
              "color": "#EBF0F8"
             },
             "line": {
              "color": "white"
             }
            },
            "header": {
             "fill": {
              "color": "#C8D4E3"
             },
             "line": {
              "color": "white"
             }
            },
            "type": "table"
           }
          ]
         },
         "layout": {
          "annotationdefaults": {
           "arrowcolor": "#2a3f5f",
           "arrowhead": 0,
           "arrowwidth": 1
          },
          "autotypenumbers": "strict",
          "coloraxis": {
           "colorbar": {
            "outlinewidth": 0,
            "ticks": ""
           }
          },
          "colorscale": {
           "diverging": [
            [
             0,
             "#8e0152"
            ],
            [
             0.1,
             "#c51b7d"
            ],
            [
             0.2,
             "#de77ae"
            ],
            [
             0.3,
             "#f1b6da"
            ],
            [
             0.4,
             "#fde0ef"
            ],
            [
             0.5,
             "#f7f7f7"
            ],
            [
             0.6,
             "#e6f5d0"
            ],
            [
             0.7,
             "#b8e186"
            ],
            [
             0.8,
             "#7fbc41"
            ],
            [
             0.9,
             "#4d9221"
            ],
            [
             1,
             "#276419"
            ]
           ],
           "sequential": [
            [
             0,
             "#0d0887"
            ],
            [
             0.1111111111111111,
             "#46039f"
            ],
            [
             0.2222222222222222,
             "#7201a8"
            ],
            [
             0.3333333333333333,
             "#9c179e"
            ],
            [
             0.4444444444444444,
             "#bd3786"
            ],
            [
             0.5555555555555556,
             "#d8576b"
            ],
            [
             0.6666666666666666,
             "#ed7953"
            ],
            [
             0.7777777777777778,
             "#fb9f3a"
            ],
            [
             0.8888888888888888,
             "#fdca26"
            ],
            [
             1,
             "#f0f921"
            ]
           ],
           "sequentialminus": [
            [
             0,
             "#0d0887"
            ],
            [
             0.1111111111111111,
             "#46039f"
            ],
            [
             0.2222222222222222,
             "#7201a8"
            ],
            [
             0.3333333333333333,
             "#9c179e"
            ],
            [
             0.4444444444444444,
             "#bd3786"
            ],
            [
             0.5555555555555556,
             "#d8576b"
            ],
            [
             0.6666666666666666,
             "#ed7953"
            ],
            [
             0.7777777777777778,
             "#fb9f3a"
            ],
            [
             0.8888888888888888,
             "#fdca26"
            ],
            [
             1,
             "#f0f921"
            ]
           ]
          },
          "colorway": [
           "#636efa",
           "#EF553B",
           "#00cc96",
           "#ab63fa",
           "#FFA15A",
           "#19d3f3",
           "#FF6692",
           "#B6E880",
           "#FF97FF",
           "#FECB52"
          ],
          "font": {
           "color": "#2a3f5f"
          },
          "geo": {
           "bgcolor": "white",
           "lakecolor": "white",
           "landcolor": "white",
           "showlakes": true,
           "showland": true,
           "subunitcolor": "#C8D4E3"
          },
          "hoverlabel": {
           "align": "left"
          },
          "hovermode": "closest",
          "mapbox": {
           "style": "light"
          },
          "paper_bgcolor": "white",
          "plot_bgcolor": "white",
          "polar": {
           "angularaxis": {
            "gridcolor": "#EBF0F8",
            "linecolor": "#EBF0F8",
            "ticks": ""
           },
           "bgcolor": "white",
           "radialaxis": {
            "gridcolor": "#EBF0F8",
            "linecolor": "#EBF0F8",
            "ticks": ""
           }
          },
          "scene": {
           "xaxis": {
            "backgroundcolor": "white",
            "gridcolor": "#DFE8F3",
            "gridwidth": 2,
            "linecolor": "#EBF0F8",
            "showbackground": true,
            "ticks": "",
            "zerolinecolor": "#EBF0F8"
           },
           "yaxis": {
            "backgroundcolor": "white",
            "gridcolor": "#DFE8F3",
            "gridwidth": 2,
            "linecolor": "#EBF0F8",
            "showbackground": true,
            "ticks": "",
            "zerolinecolor": "#EBF0F8"
           },
           "zaxis": {
            "backgroundcolor": "white",
            "gridcolor": "#DFE8F3",
            "gridwidth": 2,
            "linecolor": "#EBF0F8",
            "showbackground": true,
            "ticks": "",
            "zerolinecolor": "#EBF0F8"
           }
          },
          "shapedefaults": {
           "line": {
            "color": "#2a3f5f"
           }
          },
          "ternary": {
           "aaxis": {
            "gridcolor": "#DFE8F3",
            "linecolor": "#A2B1C6",
            "ticks": ""
           },
           "baxis": {
            "gridcolor": "#DFE8F3",
            "linecolor": "#A2B1C6",
            "ticks": ""
           },
           "bgcolor": "white",
           "caxis": {
            "gridcolor": "#DFE8F3",
            "linecolor": "#A2B1C6",
            "ticks": ""
           }
          },
          "title": {
           "x": 0.05
          },
          "xaxis": {
           "automargin": true,
           "gridcolor": "#EBF0F8",
           "linecolor": "#EBF0F8",
           "ticks": "",
           "title": {
            "standoff": 15
           },
           "zerolinecolor": "#EBF0F8",
           "zerolinewidth": 2
          },
          "yaxis": {
           "automargin": true,
           "gridcolor": "#EBF0F8",
           "linecolor": "#EBF0F8",
           "ticks": "",
           "title": {
            "standoff": 15
           },
           "zerolinecolor": "#EBF0F8",
           "zerolinewidth": 2
          }
         }
        },
        "title": {
         "text": "Change In Relative Dividend Rate Vs Validator Trust<Br><Sup>Commit Reveal Weight Interval (6120, 4680, 3240, 1800, 0)</Sup>"
        },
        "width": 1000,
        "xaxis": {
         "anchor": "y",
         "domain": [
          0,
          1
         ],
         "range": [
          0.85,
          1.32
         ],
         "title": {
          "text": "Relative Dividend Rate"
         }
        },
        "yaxis": {
         "anchor": "x",
         "domain": [
          0,
          1
         ],
         "title": {
          "text": "Average Validator Trust"
         }
        }
       }
      },
      "text/html": [
       "<div>                            <div id=\"3a5b8f2b-311f-4fe1-8ee4-1eba713fc5a3\" class=\"plotly-graph-div\" style=\"height:1000px; width:1000px;\"></div>            <script type=\"text/javascript\">                require([\"plotly\"], function(Plotly) {                    window.PLOTLYENV=window.PLOTLYENV || {};                                    if (document.getElementById(\"3a5b8f2b-311f-4fe1-8ee4-1eba713fc5a3\")) {                    Plotly.newPlot(                        \"3a5b8f2b-311f-4fe1-8ee4-1eba713fc5a3\",                        [{\"hovertemplate\":\"Subnet=1<br>Relative Dividend Rate=%{x}<br>Average Validator Trust=%{y}<extra></extra>\",\"legendgroup\":\"1\",\"line\":{\"color\":\"#636efa\",\"dash\":\"solid\"},\"marker\":{\"symbol\":\"circle\"},\"mode\":\"markers+lines\",\"name\":\"1\",\"orientation\":\"v\",\"showlegend\":true,\"x\":[1.0170771051406415,1.0178312887287615,1.0105587468983857,1.0158394018939023,1.1136908136540042],\"xaxis\":\"x\",\"y\":[0.9032822251319885,0.9032822251319885,0.9032822251319885,0.9032822251319885,0.9032822251319885],\"yaxis\":\"y\",\"type\":\"scatter\"},{\"hovertemplate\":\"Subnet=2<br>Relative Dividend Rate=%{x}<br>Average Validator Trust=%{y}<extra></extra>\",\"legendgroup\":\"2\",\"line\":{\"color\":\"#EF553B\",\"dash\":\"solid\"},\"marker\":{\"symbol\":\"circle\"},\"mode\":\"markers+lines\",\"name\":\"2\",\"orientation\":\"v\",\"showlegend\":true,\"x\":[0.9846650788186825,0.9847973000105715,0.9859394926439203,0.9851751999916717,1.0154565177819124],\"xaxis\":\"x\",\"y\":[0.9942473888397216,0.9942473888397216,0.9942473888397216,0.9942473888397216,0.9942473888397216],\"yaxis\":\"y\",\"type\":\"scatter\"},{\"hovertemplate\":\"Subnet=3<br>Relative Dividend Rate=%{x}<br>Average Validator Trust=%{y}<extra></extra>\",\"legendgroup\":\"3\",\"line\":{\"color\":\"#00cc96\",\"dash\":\"solid\"},\"marker\":{\"symbol\":\"circle\"},\"mode\":\"markers+lines\",\"name\":\"3\",\"orientation\":\"v\",\"showlegend\":true,\"x\":[1.062406609117581,0.9702916064245477,1.0409420085748138,1.0233715936632501,1.0905642297623188],\"xaxis\":\"x\",\"y\":[0.9289188623428345,0.9289188623428345,0.9289188623428345,0.9289188623428345,0.9289188623428345],\"yaxis\":\"y\",\"type\":\"scatter\"},{\"hovertemplate\":\"Subnet=4<br>Relative Dividend Rate=%{x}<br>Average Validator Trust=%{y}<extra></extra>\",\"legendgroup\":\"4\",\"line\":{\"color\":\"#ab63fa\",\"dash\":\"solid\"},\"marker\":{\"symbol\":\"circle\"},\"mode\":\"markers+lines\",\"name\":\"4\",\"orientation\":\"v\",\"showlegend\":true,\"x\":[0.9999370949576843,0.9999188938148401,0.9999221640036121,1.0003909065436614,1.0018677744749602],\"xaxis\":\"x\",\"y\":[0.9462943911552429,0.9462943911552429,0.9462943911552429,0.9462943911552429,0.9462943911552429],\"yaxis\":\"y\",\"type\":\"scatter\"},{\"hovertemplate\":\"Subnet=5<br>Relative Dividend Rate=%{x}<br>Average Validator Trust=%{y}<extra></extra>\",\"legendgroup\":\"5\",\"line\":{\"color\":\"#FFA15A\",\"dash\":\"solid\"},\"marker\":{\"symbol\":\"circle\"},\"mode\":\"markers+lines\",\"name\":\"5\",\"orientation\":\"v\",\"showlegend\":true,\"x\":[1.0110906006022478,1.0049414516521118,1.0100821371897983,1.0109630463375303,1.0515787024935945],\"xaxis\":\"x\",\"y\":[0.9474691867828369,0.9474691867828369,0.9474691867828369,0.9474691867828369,0.9474691867828369],\"yaxis\":\"y\",\"type\":\"scatter\"},{\"hovertemplate\":\"Subnet=6<br>Relative Dividend Rate=%{x}<br>Average Validator Trust=%{y}<extra></extra>\",\"legendgroup\":\"6\",\"line\":{\"color\":\"#19d3f3\",\"dash\":\"solid\"},\"marker\":{\"symbol\":\"circle\"},\"mode\":\"markers+lines\",\"name\":\"6\",\"orientation\":\"v\",\"showlegend\":true,\"x\":[1.0234290591767459,1.0464414825027877,1.0483551089023107,1.045667286487878,1.090300975116025],\"xaxis\":\"x\",\"y\":[0.9237383365631103,0.9237383365631103,0.9237383365631103,0.9237383365631103,0.9237383365631103],\"yaxis\":\"y\",\"type\":\"scatter\"},{\"hovertemplate\":\"Subnet=7<br>Relative Dividend Rate=%{x}<br>Average Validator Trust=%{y}<extra></extra>\",\"legendgroup\":\"7\",\"line\":{\"color\":\"#FF6692\",\"dash\":\"solid\"},\"marker\":{\"symbol\":\"circle\"},\"mode\":\"markers+lines\",\"name\":\"7\",\"orientation\":\"v\",\"showlegend\":true,\"x\":[0.9761754873015716,0.9767011014055128,0.9799586203502045,0.9886289876917445,1.0083285188200108],\"xaxis\":\"x\",\"y\":[0.9904053688049317,0.9904053688049317,0.9904053688049317,0.9904053688049317,0.9904053688049317],\"yaxis\":\"y\",\"type\":\"scatter\"},{\"hovertemplate\":\"Subnet=8<br>Relative Dividend Rate=%{x}<br>Average Validator Trust=%{y}<extra></extra>\",\"legendgroup\":\"8\",\"line\":{\"color\":\"#B6E880\",\"dash\":\"solid\"},\"marker\":{\"symbol\":\"circle\"},\"mode\":\"markers+lines\",\"name\":\"8\",\"orientation\":\"v\",\"showlegend\":true,\"x\":[0.965230625352557,0.9539579822276375,0.951035626738337,1.0009191925922496,1.0536900665406181],\"xaxis\":\"x\",\"y\":[0.9482454180717468,0.9482454180717468,0.9482454180717468,0.9482454180717468,0.9482454180717468],\"yaxis\":\"y\",\"type\":\"scatter\"},{\"hovertemplate\":\"Subnet=9<br>Relative Dividend Rate=%{x}<br>Average Validator Trust=%{y}<extra></extra>\",\"legendgroup\":\"9\",\"line\":{\"color\":\"#FF97FF\",\"dash\":\"solid\"},\"marker\":{\"symbol\":\"circle\"},\"mode\":\"markers+lines\",\"name\":\"9\",\"orientation\":\"v\",\"showlegend\":true,\"x\":[1.0024382494915267,1.0010835790221913,1.0013534609256773,1.001273687662505,1.0011894310235863],\"xaxis\":\"x\",\"y\":[0.9984260678291321,0.9984260678291321,0.9984260678291321,0.9984260678291321,0.9984260678291321],\"yaxis\":\"y\",\"type\":\"scatter\"},{\"hovertemplate\":\"Subnet=10<br>Relative Dividend Rate=%{x}<br>Average Validator Trust=%{y}<extra></extra>\",\"legendgroup\":\"10\",\"line\":{\"color\":\"#FECB52\",\"dash\":\"solid\"},\"marker\":{\"symbol\":\"circle\"},\"mode\":\"markers+lines\",\"name\":\"10\",\"orientation\":\"v\",\"showlegend\":true,\"x\":[0.8983085595801815,0.9704145444612852,0.9531368340689581,0.933495281700061,1.000852936301388],\"xaxis\":\"x\",\"y\":[0.9960589170455932,0.9960589170455932,0.9960589170455932,0.9960589170455932,0.9960589170455932],\"yaxis\":\"y\",\"type\":\"scatter\"},{\"hovertemplate\":\"Subnet=12<br>Relative Dividend Rate=%{x}<br>Average Validator Trust=%{y}<extra></extra>\",\"legendgroup\":\"12\",\"line\":{\"color\":\"#636efa\",\"dash\":\"solid\"},\"marker\":{\"symbol\":\"circle\"},\"mode\":\"markers+lines\",\"name\":\"12\",\"orientation\":\"v\",\"showlegend\":true,\"x\":[0.9824867163342056,0.9828744511812234,0.9826153701424374,0.9882347611351265,1.0104370624694516],\"xaxis\":\"x\",\"y\":[0.9898730993270874,0.9898730993270874,0.9898730993270874,0.9898730993270874,0.9898730993270874],\"yaxis\":\"y\",\"type\":\"scatter\"},{\"hovertemplate\":\"Subnet=13<br>Relative Dividend Rate=%{x}<br>Average Validator Trust=%{y}<extra></extra>\",\"legendgroup\":\"13\",\"line\":{\"color\":\"#EF553B\",\"dash\":\"solid\"},\"marker\":{\"symbol\":\"circle\"},\"mode\":\"markers+lines\",\"name\":\"13\",\"orientation\":\"v\",\"showlegend\":true,\"x\":[1.0365230304565303,1.0685860932078761,1.0492732551304107,1.046411137739917,1.147606575625677],\"xaxis\":\"x\",\"y\":[0.8609318137168884,0.8609318137168884,0.8609318137168884,0.8609318137168884,0.8609318137168884],\"yaxis\":\"y\",\"type\":\"scatter\"},{\"hovertemplate\":\"Subnet=14<br>Relative Dividend Rate=%{x}<br>Average Validator Trust=%{y}<extra></extra>\",\"legendgroup\":\"14\",\"line\":{\"color\":\"#00cc96\",\"dash\":\"solid\"},\"marker\":{\"symbol\":\"circle\"},\"mode\":\"markers+lines\",\"name\":\"14\",\"orientation\":\"v\",\"showlegend\":true,\"x\":[0.9972021498489083,0.9996853641764268,1.0033055279099403,1.001312197243239,1.011081399267107],\"xaxis\":\"x\",\"y\":[0.9889541983604431,0.9889541983604431,0.9889541983604431,0.9889541983604431,0.9889541983604431],\"yaxis\":\"y\",\"type\":\"scatter\"},{\"hovertemplate\":\"Subnet=15<br>Relative Dividend Rate=%{x}<br>Average Validator Trust=%{y}<extra></extra>\",\"legendgroup\":\"15\",\"line\":{\"color\":\"#ab63fa\",\"dash\":\"solid\"},\"marker\":{\"symbol\":\"circle\"},\"mode\":\"markers+lines\",\"name\":\"15\",\"orientation\":\"v\",\"showlegend\":true,\"x\":[0.9866619341653091,0.9931831607867636,1.0027621247991934,1.008515650991064,1.0212755066576318],\"xaxis\":\"x\",\"y\":[0.9741487622261047,0.9741487622261047,0.9741487622261047,0.9741487622261047,0.9741487622261047],\"yaxis\":\"y\",\"type\":\"scatter\"},{\"hovertemplate\":\"Subnet=16<br>Relative Dividend Rate=%{x}<br>Average Validator Trust=%{y}<extra></extra>\",\"legendgroup\":\"16\",\"line\":{\"color\":\"#FFA15A\",\"dash\":\"solid\"},\"marker\":{\"symbol\":\"circle\"},\"mode\":\"markers+lines\",\"name\":\"16\",\"orientation\":\"v\",\"showlegend\":true,\"x\":[0.8940630910781645,0.9054964478012429,0.906623472309963,0.9173052265080675,1.0064639037235599],\"xaxis\":\"x\",\"y\":[0.9845625519752502,0.9845625519752502,0.9845625519752502,0.9845625519752502,0.9845625519752502],\"yaxis\":\"y\",\"type\":\"scatter\"},{\"hovertemplate\":\"Subnet=17<br>Relative Dividend Rate=%{x}<br>Average Validator Trust=%{y}<extra></extra>\",\"legendgroup\":\"17\",\"line\":{\"color\":\"#19d3f3\",\"dash\":\"solid\"},\"marker\":{\"symbol\":\"circle\"},\"mode\":\"markers+lines\",\"name\":\"17\",\"orientation\":\"v\",\"showlegend\":true,\"x\":[0.9760557821494295,0.9860146323549385,0.9947871736192924,0.9968205791348895,1.0259040605559033],\"xaxis\":\"x\",\"y\":[0.9715552210807801,0.9715552210807801,0.9715552210807801,0.9715552210807801,0.9715552210807801],\"yaxis\":\"y\",\"type\":\"scatter\"},{\"hovertemplate\":\"Subnet=18<br>Relative Dividend Rate=%{x}<br>Average Validator Trust=%{y}<extra></extra>\",\"legendgroup\":\"18\",\"line\":{\"color\":\"#FF6692\",\"dash\":\"solid\"},\"marker\":{\"symbol\":\"circle\"},\"mode\":\"markers+lines\",\"name\":\"18\",\"orientation\":\"v\",\"showlegend\":true,\"x\":[1.0053825736627657,0.9985541969052847,0.9789394636507683,0.9974023118147994,1.0585689683926633],\"xaxis\":\"x\",\"y\":[0.9529316902160645,0.9529316902160645,0.9529316902160645,0.9529316902160645,0.9529316902160645],\"yaxis\":\"y\",\"type\":\"scatter\"},{\"hovertemplate\":\"Subnet=19<br>Relative Dividend Rate=%{x}<br>Average Validator Trust=%{y}<extra></extra>\",\"legendgroup\":\"19\",\"line\":{\"color\":\"#B6E880\",\"dash\":\"solid\"},\"marker\":{\"symbol\":\"circle\"},\"mode\":\"markers+lines\",\"name\":\"19\",\"orientation\":\"v\",\"showlegend\":true,\"x\":[0.994518780585151,0.9984950686316054,0.9978204146290411,1.0053767614740203,1.0188317320641838],\"xaxis\":\"x\",\"y\":[0.9858834505081177,0.9858834505081177,0.9858834505081177,0.9858834505081177,0.9858834505081177],\"yaxis\":\"y\",\"type\":\"scatter\"},{\"hovertemplate\":\"Subnet=20<br>Relative Dividend Rate=%{x}<br>Average Validator Trust=%{y}<extra></extra>\",\"legendgroup\":\"20\",\"line\":{\"color\":\"#FF97FF\",\"dash\":\"solid\"},\"marker\":{\"symbol\":\"circle\"},\"mode\":\"markers+lines\",\"name\":\"20\",\"orientation\":\"v\",\"showlegend\":true,\"x\":[1.005050117587908,1.0046600593356263,1.0050198017124112,1.0055645608690347,1.012672534074553],\"xaxis\":\"x\",\"y\":[0.9850156664848327,0.9850156664848327,0.9850156664848327,0.9850156664848327,0.9850156664848327],\"yaxis\":\"y\",\"type\":\"scatter\"},{\"hovertemplate\":\"Subnet=21<br>Relative Dividend Rate=%{x}<br>Average Validator Trust=%{y}<extra></extra>\",\"legendgroup\":\"21\",\"line\":{\"color\":\"#FECB52\",\"dash\":\"solid\"},\"marker\":{\"symbol\":\"circle\"},\"mode\":\"markers+lines\",\"name\":\"21\",\"orientation\":\"v\",\"showlegend\":true,\"x\":[1.0047620492944498,1.0032017350880817,1.0069831602874548,1.0171726836149937,1.0243497218747593],\"xaxis\":\"x\",\"y\":[0.9737634539604187,0.9737634539604187,0.9737634539604187,0.9737634539604187,0.9737634539604187],\"yaxis\":\"y\",\"type\":\"scatter\"},{\"hovertemplate\":\"Subnet=22<br>Relative Dividend Rate=%{x}<br>Average Validator Trust=%{y}<extra></extra>\",\"legendgroup\":\"22\",\"line\":{\"color\":\"#636efa\",\"dash\":\"solid\"},\"marker\":{\"symbol\":\"circle\"},\"mode\":\"markers+lines\",\"name\":\"22\",\"orientation\":\"v\",\"showlegend\":true,\"x\":[0.976949912175869,0.9972081110657346,0.9989239564750215,1.0063952908523603,1.0142281166564502],\"xaxis\":\"x\",\"y\":[0.9811791181564331,0.9811791181564331,0.9811791181564331,0.9811791181564331,0.9811791181564331],\"yaxis\":\"y\",\"type\":\"scatter\"},{\"hovertemplate\":\"Subnet=23<br>Relative Dividend Rate=%{x}<br>Average Validator Trust=%{y}<extra></extra>\",\"legendgroup\":\"23\",\"line\":{\"color\":\"#EF553B\",\"dash\":\"solid\"},\"marker\":{\"symbol\":\"circle\"},\"mode\":\"markers+lines\",\"name\":\"23\",\"orientation\":\"v\",\"showlegend\":true,\"x\":[0.9884539345640762,0.9871973982991067,0.9897027652421725,1.0001511162884555,1.0229799223222769],\"xaxis\":\"x\",\"y\":[0.9695606350898742,0.9695606350898742,0.9695606350898742,0.9695606350898742,0.9695606350898742],\"yaxis\":\"y\",\"type\":\"scatter\"},{\"hovertemplate\":\"Subnet=24<br>Relative Dividend Rate=%{x}<br>Average Validator Trust=%{y}<extra></extra>\",\"legendgroup\":\"24\",\"line\":{\"color\":\"#00cc96\",\"dash\":\"solid\"},\"marker\":{\"symbol\":\"circle\"},\"mode\":\"markers+lines\",\"name\":\"24\",\"orientation\":\"v\",\"showlegend\":true,\"x\":[0.9212226245409257,0.9336546287399904,0.9417894864172914,1.0612799469058913,1.022051445441219],\"xaxis\":\"x\",\"y\":[0.9717418074607849,0.9717418074607849,0.9717418074607849,0.9717418074607849,0.9717418074607849],\"yaxis\":\"y\",\"type\":\"scatter\"},{\"hovertemplate\":\"Subnet=26<br>Relative Dividend Rate=%{x}<br>Average Validator Trust=%{y}<extra></extra>\",\"legendgroup\":\"26\",\"line\":{\"color\":\"#ab63fa\",\"dash\":\"solid\"},\"marker\":{\"symbol\":\"circle\"},\"mode\":\"markers+lines\",\"name\":\"26\",\"orientation\":\"v\",\"showlegend\":true,\"x\":[1.0094401660867012,1.0087259400165707,1.0124820237251333,1.0170778385126469,1.031804238403586],\"xaxis\":\"x\",\"y\":[0.9661980867385864,0.9661980867385864,0.9661980867385864,0.9661980867385864,0.9661980867385864],\"yaxis\":\"y\",\"type\":\"scatter\"},{\"hovertemplate\":\"Subnet=27<br>Relative Dividend Rate=%{x}<br>Average Validator Trust=%{y}<extra></extra>\",\"legendgroup\":\"27\",\"line\":{\"color\":\"#FFA15A\",\"dash\":\"solid\"},\"marker\":{\"symbol\":\"circle\"},\"mode\":\"markers+lines\",\"name\":\"27\",\"orientation\":\"v\",\"showlegend\":true,\"x\":[0.9960491516924402,0.996400761629126,0.998922131622824,1.0035166719456483,1.0077999882093824],\"xaxis\":\"x\",\"y\":[0.9897837996482849,0.9897837996482849,0.9897837996482849,0.9897837996482849,0.9897837996482849],\"yaxis\":\"y\",\"type\":\"scatter\"},{\"hovertemplate\":\"Subnet=28<br>Relative Dividend Rate=%{x}<br>Average Validator Trust=%{y}<extra></extra>\",\"legendgroup\":\"28\",\"line\":{\"color\":\"#19d3f3\",\"dash\":\"solid\"},\"marker\":{\"symbol\":\"circle\"},\"mode\":\"markers+lines\",\"name\":\"28\",\"orientation\":\"v\",\"showlegend\":true,\"x\":[1.027538198745673,1.03145427744629,1.0339524029936995,1.0414595331192904,1.0385108199000743],\"xaxis\":\"x\",\"y\":[0.9539499044418335,0.9539499044418335,0.9539499044418335,0.9539499044418335,0.9539499044418335],\"yaxis\":\"y\",\"type\":\"scatter\"},{\"hovertemplate\":\"Subnet=29<br>Relative Dividend Rate=%{x}<br>Average Validator Trust=%{y}<extra></extra>\",\"legendgroup\":\"29\",\"line\":{\"color\":\"#FF6692\",\"dash\":\"solid\"},\"marker\":{\"symbol\":\"circle\"},\"mode\":\"markers+lines\",\"name\":\"29\",\"orientation\":\"v\",\"showlegend\":true,\"x\":[1.0000058074754583,1.0000034194868523,1.0000082663945717,1.0002922055666432,1.0000012446193887],\"xaxis\":\"x\",\"y\":[0.9961089134216309,0.9961089134216309,0.9961089134216309,0.9961089134216309,0.9961089134216309],\"yaxis\":\"y\",\"type\":\"scatter\"},{\"hovertemplate\":\"Subnet=30<br>Relative Dividend Rate=%{x}<br>Average Validator Trust=%{y}<extra></extra>\",\"legendgroup\":\"30\",\"line\":{\"color\":\"#B6E880\",\"dash\":\"solid\"},\"marker\":{\"symbol\":\"circle\"},\"mode\":\"markers+lines\",\"name\":\"30\",\"orientation\":\"v\",\"showlegend\":true,\"x\":[0.9359168241520058,0.9532010874930613,1.007849010145192,1.1083447810188067,1.3167224422196344],\"xaxis\":\"x\",\"y\":[0.7796790838241577,0.7796790838241577,0.7796790838241577,0.7796790838241577,0.7796790838241577],\"yaxis\":\"y\",\"type\":\"scatter\"},{\"hovertemplate\":\"Subnet=31<br>Relative Dividend Rate=%{x}<br>Average Validator Trust=%{y}<extra></extra>\",\"legendgroup\":\"31\",\"line\":{\"color\":\"#FF97FF\",\"dash\":\"solid\"},\"marker\":{\"symbol\":\"circle\"},\"mode\":\"markers+lines\",\"name\":\"31\",\"orientation\":\"v\",\"showlegend\":true,\"x\":[0.9331309692340137,0.934213917816067,0.9293604159513671,0.9422458801297644,1.0035657158288527],\"xaxis\":\"x\",\"y\":[0.9890203237533569,0.9890203237533569,0.9890203237533569,0.9890203237533569,0.9890203237533569],\"yaxis\":\"y\",\"type\":\"scatter\"},{\"hovertemplate\":\"Subnet=32<br>Relative Dividend Rate=%{x}<br>Average Validator Trust=%{y}<extra></extra>\",\"legendgroup\":\"32\",\"line\":{\"color\":\"#FECB52\",\"dash\":\"solid\"},\"marker\":{\"symbol\":\"circle\"},\"mode\":\"markers+lines\",\"name\":\"32\",\"orientation\":\"v\",\"showlegend\":true,\"x\":[0.9621766146501313,0.9500738116781583,0.9562261325284475,0.9761293900327135,1.0104617327214713],\"xaxis\":\"x\",\"y\":[0.9898983597755432,0.9898983597755432,0.9898983597755432,0.9898983597755432,0.9898983597755432],\"yaxis\":\"y\",\"type\":\"scatter\"}],                        {\"template\":{\"data\":{\"barpolar\":[{\"marker\":{\"line\":{\"color\":\"white\",\"width\":0.5},\"pattern\":{\"fillmode\":\"overlay\",\"size\":10,\"solidity\":0.2}},\"type\":\"barpolar\"}],\"bar\":[{\"error_x\":{\"color\":\"#2a3f5f\"},\"error_y\":{\"color\":\"#2a3f5f\"},\"marker\":{\"line\":{\"color\":\"white\",\"width\":0.5},\"pattern\":{\"fillmode\":\"overlay\",\"size\":10,\"solidity\":0.2}},\"type\":\"bar\"}],\"carpet\":[{\"aaxis\":{\"endlinecolor\":\"#2a3f5f\",\"gridcolor\":\"#C8D4E3\",\"linecolor\":\"#C8D4E3\",\"minorgridcolor\":\"#C8D4E3\",\"startlinecolor\":\"#2a3f5f\"},\"baxis\":{\"endlinecolor\":\"#2a3f5f\",\"gridcolor\":\"#C8D4E3\",\"linecolor\":\"#C8D4E3\",\"minorgridcolor\":\"#C8D4E3\",\"startlinecolor\":\"#2a3f5f\"},\"type\":\"carpet\"}],\"choropleth\":[{\"colorbar\":{\"outlinewidth\":0,\"ticks\":\"\"},\"type\":\"choropleth\"}],\"contourcarpet\":[{\"colorbar\":{\"outlinewidth\":0,\"ticks\":\"\"},\"type\":\"contourcarpet\"}],\"contour\":[{\"colorbar\":{\"outlinewidth\":0,\"ticks\":\"\"},\"colorscale\":[[0.0,\"#0d0887\"],[0.1111111111111111,\"#46039f\"],[0.2222222222222222,\"#7201a8\"],[0.3333333333333333,\"#9c179e\"],[0.4444444444444444,\"#bd3786\"],[0.5555555555555556,\"#d8576b\"],[0.6666666666666666,\"#ed7953\"],[0.7777777777777778,\"#fb9f3a\"],[0.8888888888888888,\"#fdca26\"],[1.0,\"#f0f921\"]],\"type\":\"contour\"}],\"heatmapgl\":[{\"colorbar\":{\"outlinewidth\":0,\"ticks\":\"\"},\"colorscale\":[[0.0,\"#0d0887\"],[0.1111111111111111,\"#46039f\"],[0.2222222222222222,\"#7201a8\"],[0.3333333333333333,\"#9c179e\"],[0.4444444444444444,\"#bd3786\"],[0.5555555555555556,\"#d8576b\"],[0.6666666666666666,\"#ed7953\"],[0.7777777777777778,\"#fb9f3a\"],[0.8888888888888888,\"#fdca26\"],[1.0,\"#f0f921\"]],\"type\":\"heatmapgl\"}],\"heatmap\":[{\"colorbar\":{\"outlinewidth\":0,\"ticks\":\"\"},\"colorscale\":[[0.0,\"#0d0887\"],[0.1111111111111111,\"#46039f\"],[0.2222222222222222,\"#7201a8\"],[0.3333333333333333,\"#9c179e\"],[0.4444444444444444,\"#bd3786\"],[0.5555555555555556,\"#d8576b\"],[0.6666666666666666,\"#ed7953\"],[0.7777777777777778,\"#fb9f3a\"],[0.8888888888888888,\"#fdca26\"],[1.0,\"#f0f921\"]],\"type\":\"heatmap\"}],\"histogram2dcontour\":[{\"colorbar\":{\"outlinewidth\":0,\"ticks\":\"\"},\"colorscale\":[[0.0,\"#0d0887\"],[0.1111111111111111,\"#46039f\"],[0.2222222222222222,\"#7201a8\"],[0.3333333333333333,\"#9c179e\"],[0.4444444444444444,\"#bd3786\"],[0.5555555555555556,\"#d8576b\"],[0.6666666666666666,\"#ed7953\"],[0.7777777777777778,\"#fb9f3a\"],[0.8888888888888888,\"#fdca26\"],[1.0,\"#f0f921\"]],\"type\":\"histogram2dcontour\"}],\"histogram2d\":[{\"colorbar\":{\"outlinewidth\":0,\"ticks\":\"\"},\"colorscale\":[[0.0,\"#0d0887\"],[0.1111111111111111,\"#46039f\"],[0.2222222222222222,\"#7201a8\"],[0.3333333333333333,\"#9c179e\"],[0.4444444444444444,\"#bd3786\"],[0.5555555555555556,\"#d8576b\"],[0.6666666666666666,\"#ed7953\"],[0.7777777777777778,\"#fb9f3a\"],[0.8888888888888888,\"#fdca26\"],[1.0,\"#f0f921\"]],\"type\":\"histogram2d\"}],\"histogram\":[{\"marker\":{\"pattern\":{\"fillmode\":\"overlay\",\"size\":10,\"solidity\":0.2}},\"type\":\"histogram\"}],\"mesh3d\":[{\"colorbar\":{\"outlinewidth\":0,\"ticks\":\"\"},\"type\":\"mesh3d\"}],\"parcoords\":[{\"line\":{\"colorbar\":{\"outlinewidth\":0,\"ticks\":\"\"}},\"type\":\"parcoords\"}],\"pie\":[{\"automargin\":true,\"type\":\"pie\"}],\"scatter3d\":[{\"line\":{\"colorbar\":{\"outlinewidth\":0,\"ticks\":\"\"}},\"marker\":{\"colorbar\":{\"outlinewidth\":0,\"ticks\":\"\"}},\"type\":\"scatter3d\"}],\"scattercarpet\":[{\"marker\":{\"colorbar\":{\"outlinewidth\":0,\"ticks\":\"\"}},\"type\":\"scattercarpet\"}],\"scattergeo\":[{\"marker\":{\"colorbar\":{\"outlinewidth\":0,\"ticks\":\"\"}},\"type\":\"scattergeo\"}],\"scattergl\":[{\"marker\":{\"colorbar\":{\"outlinewidth\":0,\"ticks\":\"\"}},\"type\":\"scattergl\"}],\"scattermapbox\":[{\"marker\":{\"colorbar\":{\"outlinewidth\":0,\"ticks\":\"\"}},\"type\":\"scattermapbox\"}],\"scatterpolargl\":[{\"marker\":{\"colorbar\":{\"outlinewidth\":0,\"ticks\":\"\"}},\"type\":\"scatterpolargl\"}],\"scatterpolar\":[{\"marker\":{\"colorbar\":{\"outlinewidth\":0,\"ticks\":\"\"}},\"type\":\"scatterpolar\"}],\"scatter\":[{\"fillpattern\":{\"fillmode\":\"overlay\",\"size\":10,\"solidity\":0.2},\"type\":\"scatter\"}],\"scatterternary\":[{\"marker\":{\"colorbar\":{\"outlinewidth\":0,\"ticks\":\"\"}},\"type\":\"scatterternary\"}],\"surface\":[{\"colorbar\":{\"outlinewidth\":0,\"ticks\":\"\"},\"colorscale\":[[0.0,\"#0d0887\"],[0.1111111111111111,\"#46039f\"],[0.2222222222222222,\"#7201a8\"],[0.3333333333333333,\"#9c179e\"],[0.4444444444444444,\"#bd3786\"],[0.5555555555555556,\"#d8576b\"],[0.6666666666666666,\"#ed7953\"],[0.7777777777777778,\"#fb9f3a\"],[0.8888888888888888,\"#fdca26\"],[1.0,\"#f0f921\"]],\"type\":\"surface\"}],\"table\":[{\"cells\":{\"fill\":{\"color\":\"#EBF0F8\"},\"line\":{\"color\":\"white\"}},\"header\":{\"fill\":{\"color\":\"#C8D4E3\"},\"line\":{\"color\":\"white\"}},\"type\":\"table\"}]},\"layout\":{\"annotationdefaults\":{\"arrowcolor\":\"#2a3f5f\",\"arrowhead\":0,\"arrowwidth\":1},\"autotypenumbers\":\"strict\",\"coloraxis\":{\"colorbar\":{\"outlinewidth\":0,\"ticks\":\"\"}},\"colorscale\":{\"diverging\":[[0,\"#8e0152\"],[0.1,\"#c51b7d\"],[0.2,\"#de77ae\"],[0.3,\"#f1b6da\"],[0.4,\"#fde0ef\"],[0.5,\"#f7f7f7\"],[0.6,\"#e6f5d0\"],[0.7,\"#b8e186\"],[0.8,\"#7fbc41\"],[0.9,\"#4d9221\"],[1,\"#276419\"]],\"sequential\":[[0.0,\"#0d0887\"],[0.1111111111111111,\"#46039f\"],[0.2222222222222222,\"#7201a8\"],[0.3333333333333333,\"#9c179e\"],[0.4444444444444444,\"#bd3786\"],[0.5555555555555556,\"#d8576b\"],[0.6666666666666666,\"#ed7953\"],[0.7777777777777778,\"#fb9f3a\"],[0.8888888888888888,\"#fdca26\"],[1.0,\"#f0f921\"]],\"sequentialminus\":[[0.0,\"#0d0887\"],[0.1111111111111111,\"#46039f\"],[0.2222222222222222,\"#7201a8\"],[0.3333333333333333,\"#9c179e\"],[0.4444444444444444,\"#bd3786\"],[0.5555555555555556,\"#d8576b\"],[0.6666666666666666,\"#ed7953\"],[0.7777777777777778,\"#fb9f3a\"],[0.8888888888888888,\"#fdca26\"],[1.0,\"#f0f921\"]]},\"colorway\":[\"#636efa\",\"#EF553B\",\"#00cc96\",\"#ab63fa\",\"#FFA15A\",\"#19d3f3\",\"#FF6692\",\"#B6E880\",\"#FF97FF\",\"#FECB52\"],\"font\":{\"color\":\"#2a3f5f\"},\"geo\":{\"bgcolor\":\"white\",\"lakecolor\":\"white\",\"landcolor\":\"white\",\"showlakes\":true,\"showland\":true,\"subunitcolor\":\"#C8D4E3\"},\"hoverlabel\":{\"align\":\"left\"},\"hovermode\":\"closest\",\"mapbox\":{\"style\":\"light\"},\"paper_bgcolor\":\"white\",\"plot_bgcolor\":\"white\",\"polar\":{\"angularaxis\":{\"gridcolor\":\"#EBF0F8\",\"linecolor\":\"#EBF0F8\",\"ticks\":\"\"},\"bgcolor\":\"white\",\"radialaxis\":{\"gridcolor\":\"#EBF0F8\",\"linecolor\":\"#EBF0F8\",\"ticks\":\"\"}},\"scene\":{\"xaxis\":{\"backgroundcolor\":\"white\",\"gridcolor\":\"#DFE8F3\",\"gridwidth\":2,\"linecolor\":\"#EBF0F8\",\"showbackground\":true,\"ticks\":\"\",\"zerolinecolor\":\"#EBF0F8\"},\"yaxis\":{\"backgroundcolor\":\"white\",\"gridcolor\":\"#DFE8F3\",\"gridwidth\":2,\"linecolor\":\"#EBF0F8\",\"showbackground\":true,\"ticks\":\"\",\"zerolinecolor\":\"#EBF0F8\"},\"zaxis\":{\"backgroundcolor\":\"white\",\"gridcolor\":\"#DFE8F3\",\"gridwidth\":2,\"linecolor\":\"#EBF0F8\",\"showbackground\":true,\"ticks\":\"\",\"zerolinecolor\":\"#EBF0F8\"}},\"shapedefaults\":{\"line\":{\"color\":\"#2a3f5f\"}},\"ternary\":{\"aaxis\":{\"gridcolor\":\"#DFE8F3\",\"linecolor\":\"#A2B1C6\",\"ticks\":\"\"},\"baxis\":{\"gridcolor\":\"#DFE8F3\",\"linecolor\":\"#A2B1C6\",\"ticks\":\"\"},\"bgcolor\":\"white\",\"caxis\":{\"gridcolor\":\"#DFE8F3\",\"linecolor\":\"#A2B1C6\",\"ticks\":\"\"}},\"title\":{\"x\":0.05},\"xaxis\":{\"automargin\":true,\"gridcolor\":\"#EBF0F8\",\"linecolor\":\"#EBF0F8\",\"ticks\":\"\",\"title\":{\"standoff\":15},\"zerolinecolor\":\"#EBF0F8\",\"zerolinewidth\":2},\"yaxis\":{\"automargin\":true,\"gridcolor\":\"#EBF0F8\",\"linecolor\":\"#EBF0F8\",\"ticks\":\"\",\"title\":{\"standoff\":15},\"zerolinecolor\":\"#EBF0F8\",\"zerolinewidth\":2}}},\"xaxis\":{\"anchor\":\"y\",\"domain\":[0.0,1.0],\"title\":{\"text\":\"Relative Dividend Rate\"},\"range\":[0.85,1.32]},\"yaxis\":{\"anchor\":\"x\",\"domain\":[0.0,1.0],\"title\":{\"text\":\"Average Validator Trust\"}},\"legend\":{\"title\":{\"text\":\"Subnet\"},\"tracegroupgap\":0},\"title\":{\"text\":\"Change In Relative Dividend Rate Vs Validator Trust<Br><Sup>Commit Reveal Weight Interval (6120, 4680, 3240, 1800, 0)</Sup>\"},\"height\":1000,\"width\":1000},                        {\"responsive\": true}                    ).then(function(){\n",
       "                            \n",
       "var gd = document.getElementById('3a5b8f2b-311f-4fe1-8ee4-1eba713fc5a3');\n",
       "var x = new MutationObserver(function (mutations, observer) {{\n",
       "        var display = window.getComputedStyle(gd).display;\n",
       "        if (!display || display === 'none') {{\n",
       "            console.log([gd, 'removed!']);\n",
       "            Plotly.purge(gd);\n",
       "            observer.disconnect();\n",
       "        }}\n",
       "}});\n",
       "\n",
       "// Listen for the removal of the full notebook cells\n",
       "var notebookContainer = gd.closest('#notebook-container');\n",
       "if (notebookContainer) {{\n",
       "    x.observe(notebookContainer, {childList: true});\n",
       "}}\n",
       "\n",
       "// Listen for the clearing of the current output cell\n",
       "var outputEl = gd.closest('.output');\n",
       "if (outputEl) {{\n",
       "    x.observe(outputEl, {childList: true});\n",
       "}}\n",
       "\n",
       "                        })                };                });            </script>        </div>"
      ]
     },
     "metadata": {},
     "output_type": "display_data"
    }
   ],
   "source": [
    "df = {\n",
    "    'div_lost': [],\n",
    "    'validator_trust': [],\n",
    "    'div_lost': [],\n",
    "    'validator_trust': [],\n",
    "    'netuid': [],\n",
    "}\n",
    "for i in setup.netuids:\n",
    "    for conceal_period in [p * 360 for p in [17, 13, 9, 5, 0]]:    \n",
    "        df['netuid'] += [i]\n",
    "        df['div_lost'].append(div_losts[i][conceal_period])\n",
    "        df['validator_trust'].append(validator_trusts[i][conceal_period])\n",
    "\n",
    "div_lost_VS_validator_trust = pd.DataFrame(df)\n",
    "div_lost_VS_validator_trust = div_lost_VS_validator_trust.join(\n",
    "    div_lost_VS_validator_trust.groupby('netuid').validator_trust.mean(), \n",
    "    rsuffix = '_mean', \n",
    "    on = 'netuid'\n",
    ")\n",
    "\n",
    "fig = px.line(\n",
    "    div_lost_VS_validator_trust,\n",
    "    x = 'div_lost',\n",
    "    y = 'validator_trust_mean',\n",
    "    color = 'netuid',\n",
    "    labels={\n",
    "        \"div_lost\": \"Relative dividend rate\".title(),\n",
    "        \"validator_trust_mean\": \"Average Validator Trust\".title(),\n",
    "        \"netuid\": 'Subnet'\n",
    "    },\n",
    "    range_x = [0.85, 1.32],\n",
    "    width = 1000,\n",
    "    height = 1000,\n",
    "    markers = True,\n",
    "    title =\"Change in Relative dividend rate VS validator trust<br><sup>commit reveal weight interval (6120, 4680, 3240, 1800, 0)</sup>\".title(),\n",
    ")\n",
    "fig.update_layout(template='plotly_white')\n",
    "fig.show()"
   ]
  },
  {
   "cell_type": "code",
   "execution_count": null,
   "metadata": {},
   "outputs": [],
   "source": [
    "from utils import *\n",
    "import torch.nn as nn\n",
    "\n",
    "MSE = nn.MSELoss()\n",
    "\n",
    "dividend_per_stakes = []\n",
    "consensus_difference = []\n",
    "stakes = []\n",
    "\n",
    "for s in np.arange(0.1, 0.49, 0.05):\n",
    "    for a in np.arange(0, 1.001, 0.05):\n",
    "        W = torch.tensor([\n",
    "            [0, 1],\n",
    "            [a, 1-a],\n",
    "        ])\n",
    "        S = torch.tensor([1-s, s])\n",
    "        yuma_result = Yuma2(W, S)\n",
    "        dividend_per_stake = yuma_result['validator_reward_normalized'] / S\n",
    "        consensus_diff = MSE(yuma_result['server_consensus_weight'], W[1])\n",
    "        dividend_per_stakes.append(dividend_per_stake[1].item())\n",
    "        consensus_difference.append(consensus_diff.item())\n",
    "        stakes.append(s)\n",
    "\n",
    "dividend_VS_consensus = pd.DataFrame({'dividend_per_stakes': dividend_per_stakes, 'MSE_consensus': consensus_difference, 'stake': stakes})"
   ]
  },
  {
   "cell_type": "code",
   "execution_count": null,
   "metadata": {},
   "outputs": [],
   "source": [
    "dividend_VS_consensus.stake = dividend_VS_consensus.stake.map(lambda x : round(x, 2))"
   ]
  },
  {
   "cell_type": "code",
   "execution_count": null,
   "metadata": {},
   "outputs": [
    {
     "data": {
      "application/vnd.plotly.v1+json": {
       "config": {
        "plotlyServerURL": "https://plot.ly"
       },
       "data": [
        {
         "hovertemplate": "Stake_i=0.1<br>MSE(consensus, weight_i)=%{x}<br>Dividend_i per stake=%{y}<extra></extra>",
         "legendgroup": "0.1",
         "line": {
          "color": "#636efa",
          "dash": "solid"
         },
         "marker": {
          "symbol": "circle"
         },
         "mode": "lines",
         "name": "0.1",
         "orientation": "v",
         "showlegend": true,
         "type": "scatter",
         "x": [
          0,
          0.0025000000000000022,
          0.009999999999999998,
          0.022500000000000006,
          0.039999999999999994,
          0.0625,
          0.09000000000000002,
          0.12250000000000005,
          0.16000000000000003,
          0.20249999999999999,
          0.25,
          0.30250000000000005,
          0.3600000000000001,
          0.42250000000000004,
          0.4900000000000001,
          0.5625,
          0.6400000000000001,
          0.7225000000000001,
          0.81,
          0.9025000000000001,
          1
         ],
         "xaxis": "x",
         "y": [
          1,
          0.9547738693467336,
          0.9090909090909091,
          0.8629441624365483,
          0.816326530612245,
          0.7692307692307693,
          0.7216494845360824,
          0.6735751295336786,
          0.625,
          0.5759162303664921,
          0.5263157894736842,
          0.47619047619047616,
          0.42553191489361697,
          0.374331550802139,
          0.3225806451612902,
          0.2702702702702703,
          0.21739130434782603,
          0.1639344262295081,
          0.10989010989010987,
          0.055248618784530315,
          0
         ],
         "yaxis": "y"
        },
        {
         "hovertemplate": "Stake_i=0.15<br>MSE(consensus, weight_i)=%{x}<br>Dividend_i per stake=%{y}<extra></extra>",
         "legendgroup": "0.15",
         "line": {
          "color": "#EF553B",
          "dash": "solid"
         },
         "marker": {
          "symbol": "circle"
         },
         "mode": "lines",
         "name": "0.15",
         "orientation": "v",
         "showlegend": true,
         "type": "scatter",
         "x": [
          0,
          0.0025000000000000022,
          0.009999999999999998,
          0.022500000000000006,
          0.039999999999999994,
          0.0625,
          0.09000000000000002,
          0.12250000000000005,
          0.16000000000000003,
          0.20249999999999999,
          0.25,
          0.30250000000000005,
          0.3600000000000001,
          0.42250000000000004,
          0.4900000000000001,
          0.5625,
          0.6400000000000001,
          0.7225000000000001,
          0.81,
          0.9025000000000001,
          1
         ],
         "xaxis": "x",
         "y": [
          1,
          0.9571788413098239,
          0.9137055837563451,
          0.8695652173913042,
          0.8247422680412373,
          0.7792207792207793,
          0.7329842931937172,
          0.6860158311345645,
          0.6382978723404256,
          0.5898123324396783,
          0.5405405405405406,
          0.4904632152588556,
          0.4395604395604395,
          0.38781163434903043,
          0.33519553072625696,
          0.28169014084507044,
          0.22727272727272727,
          0.1719197707736389,
          0.11560693641618497,
          0.05830903790087457,
          0
         ],
         "yaxis": "y"
        },
        {
         "hovertemplate": "Stake_i=0.2<br>MSE(consensus, weight_i)=%{x}<br>Dividend_i per stake=%{y}<extra></extra>",
         "legendgroup": "0.2",
         "line": {
          "color": "#00cc96",
          "dash": "solid"
         },
         "marker": {
          "symbol": "circle"
         },
         "mode": "lines",
         "name": "0.2",
         "orientation": "v",
         "showlegend": true,
         "type": "scatter",
         "x": [
          0,
          0.0025000000000000022,
          0.009999999999999998,
          0.022500000000000006,
          0.039999999999999994,
          0.0625,
          0.09000000000000002,
          0.12250000000000005,
          0.16000000000000003,
          0.20249999999999999,
          0.25,
          0.30250000000000005,
          0.3600000000000001,
          0.42250000000000004,
          0.4900000000000001,
          0.5625,
          0.6400000000000001,
          0.7225000000000001,
          0.81,
          0.9025000000000001,
          1
         ],
         "xaxis": "x",
         "y": [
          1,
          0.9595959595959598,
          0.9183673469387755,
          0.8762886597938144,
          0.8333333333333336,
          0.7894736842105264,
          0.7446808510638299,
          0.6989247311827957,
          0.6521739130434783,
          0.6043956043956046,
          0.5555555555555556,
          0.5056179775280899,
          0.45454545454545453,
          0.4022988505747127,
          0.34883720930232553,
          0.2941176470588236,
          0.23809523809523808,
          0.18072289156626498,
          0.12195121951219512,
          0.061728395061728336,
          0
         ],
         "yaxis": "y"
        },
        {
         "hovertemplate": "Stake_i=0.25<br>MSE(consensus, weight_i)=%{x}<br>Dividend_i per stake=%{y}<extra></extra>",
         "legendgroup": "0.25",
         "line": {
          "color": "#ab63fa",
          "dash": "solid"
         },
         "marker": {
          "symbol": "circle"
         },
         "mode": "lines",
         "name": "0.25",
         "orientation": "v",
         "showlegend": true,
         "type": "scatter",
         "x": [
          0,
          0.0025000000000000022,
          0.009999999999999998,
          0.022500000000000006,
          0.039999999999999994,
          0.0625,
          0.09000000000000002,
          0.12250000000000005,
          0.16000000000000003,
          0.20249999999999999,
          0.25,
          0.30250000000000005,
          0.3600000000000001,
          0.42250000000000004,
          0.4900000000000001,
          0.5625,
          0.6400000000000001,
          0.7225000000000001,
          0.81,
          0.9025000000000001,
          1
         ],
         "xaxis": "x",
         "y": [
          1,
          0.9620253164556961,
          0.9230769230769231,
          0.883116883116883,
          0.8421052631578947,
          0.7999999999999998,
          0.7567567567567566,
          0.7123287671232876,
          0.6666666666666666,
          0.6197183098591549,
          0.5714285714285714,
          0.5217391304347826,
          0.47058823529411753,
          0.41791044776119396,
          0.36363636363636354,
          0.30769230769230765,
          0.25,
          0.19047619047619038,
          0.12903225806451613,
          0.0655737704918032,
          0
         ],
         "yaxis": "y"
        },
        {
         "hovertemplate": "Stake_i=0.3<br>MSE(consensus, weight_i)=%{x}<br>Dividend_i per stake=%{y}<extra></extra>",
         "legendgroup": "0.3",
         "line": {
          "color": "#FFA15A",
          "dash": "solid"
         },
         "marker": {
          "symbol": "circle"
         },
         "mode": "lines",
         "name": "0.3",
         "orientation": "v",
         "showlegend": true,
         "type": "scatter",
         "x": [
          0,
          0.0025000000000000022,
          0.009999999999999998,
          0.022500000000000006,
          0.039999999999999994,
          0.0625,
          0.09000000000000002,
          0.12250000000000005,
          0.16000000000000003,
          0.20249999999999999,
          0.25,
          0.30250000000000005,
          0.3600000000000001,
          0.42250000000000004,
          0.4900000000000001,
          0.5625,
          0.6400000000000001,
          0.7225000000000001,
          0.81,
          0.9025000000000001,
          1
         ],
         "xaxis": "x",
         "y": [
          1,
          0.9644670050761422,
          0.9278350515463918,
          0.8900523560209422,
          0.8510638297872343,
          0.8108108108108109,
          0.7692307692307692,
          0.7262569832402235,
          0.6818181818181819,
          0.6358381502890174,
          0.5882352941176471,
          0.5389221556886228,
          0.4878048780487805,
          0.4347826086956522,
          0.3797468354430379,
          0.32258064516129037,
          0.26315789473684204,
          0.20134228187919456,
          0.136986301369863,
          0.06993006993006985,
          0
         ],
         "yaxis": "y"
        },
        {
         "hovertemplate": "Stake_i=0.35<br>MSE(consensus, weight_i)=%{x}<br>Dividend_i per stake=%{y}<extra></extra>",
         "legendgroup": "0.35",
         "line": {
          "color": "#19d3f3",
          "dash": "solid"
         },
         "marker": {
          "symbol": "circle"
         },
         "mode": "lines",
         "name": "0.35",
         "orientation": "v",
         "showlegend": true,
         "type": "scatter",
         "x": [
          0,
          0.0025000000000000022,
          0.009999999999999998,
          0.022500000000000006,
          0.039999999999999994,
          0.0625,
          0.09000000000000002,
          0.12250000000000005,
          0.16000000000000003,
          0.20249999999999999,
          0.25,
          0.30250000000000005,
          0.3600000000000001,
          0.42250000000000004,
          0.4900000000000001,
          0.5625,
          0.6400000000000001,
          0.7225000000000001,
          0.81,
          0.9025000000000001,
          1
         ],
         "xaxis": "x",
         "y": [
          1.0000000000000002,
          0.9669211195928755,
          0.9326424870466322,
          0.8970976253298154,
          0.860215053763441,
          0.8219178082191781,
          0.782122905027933,
          0.7407407407407408,
          0.6976744186046513,
          0.652818991097923,
          0.6060606060606062,
          0.5572755417956656,
          0.5063291139240507,
          0.453074433656958,
          0.3973509933774835,
          0.3389830508474577,
          0.27777777777777785,
          0.2135231316725978,
          0.14598540145985403,
          0.07490636704119842,
          0
         ],
         "yaxis": "y"
        },
        {
         "hovertemplate": "Stake_i=0.4<br>MSE(consensus, weight_i)=%{x}<br>Dividend_i per stake=%{y}<extra></extra>",
         "legendgroup": "0.4",
         "line": {
          "color": "#FF6692",
          "dash": "solid"
         },
         "marker": {
          "symbol": "circle"
         },
         "mode": "lines",
         "name": "0.4",
         "orientation": "v",
         "showlegend": true,
         "type": "scatter",
         "x": [
          0,
          0.0025000000000000022,
          0.009999999999999998,
          0.022500000000000006,
          0.039999999999999994,
          0.0625,
          0.09000000000000002,
          0.12250000000000005,
          0.16000000000000003,
          0.20249999999999999,
          0.25,
          0.30250000000000005,
          0.3600000000000001,
          0.42250000000000004,
          0.4900000000000001,
          0.5625,
          0.6400000000000001,
          0.7225000000000001,
          0.81,
          0.9025000000000001,
          1
         ],
         "xaxis": "x",
         "y": [
          1,
          0.9693877551020409,
          0.9375000000000001,
          0.9042553191489361,
          0.8695652173913044,
          0.8333333333333334,
          0.7954545454545453,
          0.7558139534883722,
          0.7142857142857144,
          0.6707317073170732,
          0.6249999999999999,
          0.576923076923077,
          0.5263157894736842,
          0.47297297297297297,
          0.4166666666666666,
          0.35714285714285715,
          0.29411764705882354,
          0.22727272727272718,
          0.15625000000000003,
          0.0806451612903225,
          0
         ],
         "yaxis": "y"
        },
        {
         "hovertemplate": "Stake_i=0.45<br>MSE(consensus, weight_i)=%{x}<br>Dividend_i per stake=%{y}<extra></extra>",
         "legendgroup": "0.45",
         "line": {
          "color": "#B6E880",
          "dash": "solid"
         },
         "marker": {
          "symbol": "circle"
         },
         "mode": "lines",
         "name": "0.45",
         "orientation": "v",
         "showlegend": true,
         "type": "scatter",
         "x": [
          0,
          0.0025000000000000022,
          0.009999999999999998,
          0.022500000000000006,
          0.039999999999999994,
          0.0625,
          0.09000000000000002,
          0.12250000000000005,
          0.16000000000000003,
          0.20249999999999999,
          0.25,
          0.30250000000000005,
          0.3600000000000001,
          0.42250000000000004,
          0.4900000000000001,
          0.5625,
          0.6400000000000001,
          0.7225000000000001,
          0.81,
          0.9025000000000001,
          1
         ],
         "xaxis": "x",
         "y": [
          1,
          0.9718670076726343,
          0.9424083769633509,
          0.9115281501340483,
          0.8791208791208792,
          0.8450704225352114,
          0.8092485549132947,
          0.771513353115727,
          0.7317073170731708,
          0.6896551724137931,
          0.6451612903225807,
          0.5980066445182725,
          0.547945205479452,
          0.4946996466431096,
          0.43795620437956206,
          0.37735849056603776,
          0.31249999999999994,
          0.2429149797570849,
          0.1680672268907563,
          0.08733624454148463,
          0
         ],
         "yaxis": "y"
        }
       ],
       "layout": {
        "height": 800,
        "legend": {
         "title": {
          "text": "Stake_i"
         },
         "tracegroupgap": 0
        },
        "template": {
         "data": {
          "bar": [
           {
            "error_x": {
             "color": "#2a3f5f"
            },
            "error_y": {
             "color": "#2a3f5f"
            },
            "marker": {
             "line": {
              "color": "#E5ECF6",
              "width": 0.5
             },
             "pattern": {
              "fillmode": "overlay",
              "size": 10,
              "solidity": 0.2
             }
            },
            "type": "bar"
           }
          ],
          "barpolar": [
           {
            "marker": {
             "line": {
              "color": "#E5ECF6",
              "width": 0.5
             },
             "pattern": {
              "fillmode": "overlay",
              "size": 10,
              "solidity": 0.2
             }
            },
            "type": "barpolar"
           }
          ],
          "carpet": [
           {
            "aaxis": {
             "endlinecolor": "#2a3f5f",
             "gridcolor": "white",
             "linecolor": "white",
             "minorgridcolor": "white",
             "startlinecolor": "#2a3f5f"
            },
            "baxis": {
             "endlinecolor": "#2a3f5f",
             "gridcolor": "white",
             "linecolor": "white",
             "minorgridcolor": "white",
             "startlinecolor": "#2a3f5f"
            },
            "type": "carpet"
           }
          ],
          "choropleth": [
           {
            "colorbar": {
             "outlinewidth": 0,
             "ticks": ""
            },
            "type": "choropleth"
           }
          ],
          "contour": [
           {
            "colorbar": {
             "outlinewidth": 0,
             "ticks": ""
            },
            "colorscale": [
             [
              0,
              "#0d0887"
             ],
             [
              0.1111111111111111,
              "#46039f"
             ],
             [
              0.2222222222222222,
              "#7201a8"
             ],
             [
              0.3333333333333333,
              "#9c179e"
             ],
             [
              0.4444444444444444,
              "#bd3786"
             ],
             [
              0.5555555555555556,
              "#d8576b"
             ],
             [
              0.6666666666666666,
              "#ed7953"
             ],
             [
              0.7777777777777778,
              "#fb9f3a"
             ],
             [
              0.8888888888888888,
              "#fdca26"
             ],
             [
              1,
              "#f0f921"
             ]
            ],
            "type": "contour"
           }
          ],
          "contourcarpet": [
           {
            "colorbar": {
             "outlinewidth": 0,
             "ticks": ""
            },
            "type": "contourcarpet"
           }
          ],
          "heatmap": [
           {
            "colorbar": {
             "outlinewidth": 0,
             "ticks": ""
            },
            "colorscale": [
             [
              0,
              "#0d0887"
             ],
             [
              0.1111111111111111,
              "#46039f"
             ],
             [
              0.2222222222222222,
              "#7201a8"
             ],
             [
              0.3333333333333333,
              "#9c179e"
             ],
             [
              0.4444444444444444,
              "#bd3786"
             ],
             [
              0.5555555555555556,
              "#d8576b"
             ],
             [
              0.6666666666666666,
              "#ed7953"
             ],
             [
              0.7777777777777778,
              "#fb9f3a"
             ],
             [
              0.8888888888888888,
              "#fdca26"
             ],
             [
              1,
              "#f0f921"
             ]
            ],
            "type": "heatmap"
           }
          ],
          "heatmapgl": [
           {
            "colorbar": {
             "outlinewidth": 0,
             "ticks": ""
            },
            "colorscale": [
             [
              0,
              "#0d0887"
             ],
             [
              0.1111111111111111,
              "#46039f"
             ],
             [
              0.2222222222222222,
              "#7201a8"
             ],
             [
              0.3333333333333333,
              "#9c179e"
             ],
             [
              0.4444444444444444,
              "#bd3786"
             ],
             [
              0.5555555555555556,
              "#d8576b"
             ],
             [
              0.6666666666666666,
              "#ed7953"
             ],
             [
              0.7777777777777778,
              "#fb9f3a"
             ],
             [
              0.8888888888888888,
              "#fdca26"
             ],
             [
              1,
              "#f0f921"
             ]
            ],
            "type": "heatmapgl"
           }
          ],
          "histogram": [
           {
            "marker": {
             "pattern": {
              "fillmode": "overlay",
              "size": 10,
              "solidity": 0.2
             }
            },
            "type": "histogram"
           }
          ],
          "histogram2d": [
           {
            "colorbar": {
             "outlinewidth": 0,
             "ticks": ""
            },
            "colorscale": [
             [
              0,
              "#0d0887"
             ],
             [
              0.1111111111111111,
              "#46039f"
             ],
             [
              0.2222222222222222,
              "#7201a8"
             ],
             [
              0.3333333333333333,
              "#9c179e"
             ],
             [
              0.4444444444444444,
              "#bd3786"
             ],
             [
              0.5555555555555556,
              "#d8576b"
             ],
             [
              0.6666666666666666,
              "#ed7953"
             ],
             [
              0.7777777777777778,
              "#fb9f3a"
             ],
             [
              0.8888888888888888,
              "#fdca26"
             ],
             [
              1,
              "#f0f921"
             ]
            ],
            "type": "histogram2d"
           }
          ],
          "histogram2dcontour": [
           {
            "colorbar": {
             "outlinewidth": 0,
             "ticks": ""
            },
            "colorscale": [
             [
              0,
              "#0d0887"
             ],
             [
              0.1111111111111111,
              "#46039f"
             ],
             [
              0.2222222222222222,
              "#7201a8"
             ],
             [
              0.3333333333333333,
              "#9c179e"
             ],
             [
              0.4444444444444444,
              "#bd3786"
             ],
             [
              0.5555555555555556,
              "#d8576b"
             ],
             [
              0.6666666666666666,
              "#ed7953"
             ],
             [
              0.7777777777777778,
              "#fb9f3a"
             ],
             [
              0.8888888888888888,
              "#fdca26"
             ],
             [
              1,
              "#f0f921"
             ]
            ],
            "type": "histogram2dcontour"
           }
          ],
          "mesh3d": [
           {
            "colorbar": {
             "outlinewidth": 0,
             "ticks": ""
            },
            "type": "mesh3d"
           }
          ],
          "parcoords": [
           {
            "line": {
             "colorbar": {
              "outlinewidth": 0,
              "ticks": ""
             }
            },
            "type": "parcoords"
           }
          ],
          "pie": [
           {
            "automargin": true,
            "type": "pie"
           }
          ],
          "scatter": [
           {
            "fillpattern": {
             "fillmode": "overlay",
             "size": 10,
             "solidity": 0.2
            },
            "type": "scatter"
           }
          ],
          "scatter3d": [
           {
            "line": {
             "colorbar": {
              "outlinewidth": 0,
              "ticks": ""
             }
            },
            "marker": {
             "colorbar": {
              "outlinewidth": 0,
              "ticks": ""
             }
            },
            "type": "scatter3d"
           }
          ],
          "scattercarpet": [
           {
            "marker": {
             "colorbar": {
              "outlinewidth": 0,
              "ticks": ""
             }
            },
            "type": "scattercarpet"
           }
          ],
          "scattergeo": [
           {
            "marker": {
             "colorbar": {
              "outlinewidth": 0,
              "ticks": ""
             }
            },
            "type": "scattergeo"
           }
          ],
          "scattergl": [
           {
            "marker": {
             "colorbar": {
              "outlinewidth": 0,
              "ticks": ""
             }
            },
            "type": "scattergl"
           }
          ],
          "scattermapbox": [
           {
            "marker": {
             "colorbar": {
              "outlinewidth": 0,
              "ticks": ""
             }
            },
            "type": "scattermapbox"
           }
          ],
          "scatterpolar": [
           {
            "marker": {
             "colorbar": {
              "outlinewidth": 0,
              "ticks": ""
             }
            },
            "type": "scatterpolar"
           }
          ],
          "scatterpolargl": [
           {
            "marker": {
             "colorbar": {
              "outlinewidth": 0,
              "ticks": ""
             }
            },
            "type": "scatterpolargl"
           }
          ],
          "scatterternary": [
           {
            "marker": {
             "colorbar": {
              "outlinewidth": 0,
              "ticks": ""
             }
            },
            "type": "scatterternary"
           }
          ],
          "surface": [
           {
            "colorbar": {
             "outlinewidth": 0,
             "ticks": ""
            },
            "colorscale": [
             [
              0,
              "#0d0887"
             ],
             [
              0.1111111111111111,
              "#46039f"
             ],
             [
              0.2222222222222222,
              "#7201a8"
             ],
             [
              0.3333333333333333,
              "#9c179e"
             ],
             [
              0.4444444444444444,
              "#bd3786"
             ],
             [
              0.5555555555555556,
              "#d8576b"
             ],
             [
              0.6666666666666666,
              "#ed7953"
             ],
             [
              0.7777777777777778,
              "#fb9f3a"
             ],
             [
              0.8888888888888888,
              "#fdca26"
             ],
             [
              1,
              "#f0f921"
             ]
            ],
            "type": "surface"
           }
          ],
          "table": [
           {
            "cells": {
             "fill": {
              "color": "#EBF0F8"
             },
             "line": {
              "color": "white"
             }
            },
            "header": {
             "fill": {
              "color": "#C8D4E3"
             },
             "line": {
              "color": "white"
             }
            },
            "type": "table"
           }
          ]
         },
         "layout": {
          "annotationdefaults": {
           "arrowcolor": "#2a3f5f",
           "arrowhead": 0,
           "arrowwidth": 1
          },
          "autotypenumbers": "strict",
          "coloraxis": {
           "colorbar": {
            "outlinewidth": 0,
            "ticks": ""
           }
          },
          "colorscale": {
           "diverging": [
            [
             0,
             "#8e0152"
            ],
            [
             0.1,
             "#c51b7d"
            ],
            [
             0.2,
             "#de77ae"
            ],
            [
             0.3,
             "#f1b6da"
            ],
            [
             0.4,
             "#fde0ef"
            ],
            [
             0.5,
             "#f7f7f7"
            ],
            [
             0.6,
             "#e6f5d0"
            ],
            [
             0.7,
             "#b8e186"
            ],
            [
             0.8,
             "#7fbc41"
            ],
            [
             0.9,
             "#4d9221"
            ],
            [
             1,
             "#276419"
            ]
           ],
           "sequential": [
            [
             0,
             "#0d0887"
            ],
            [
             0.1111111111111111,
             "#46039f"
            ],
            [
             0.2222222222222222,
             "#7201a8"
            ],
            [
             0.3333333333333333,
             "#9c179e"
            ],
            [
             0.4444444444444444,
             "#bd3786"
            ],
            [
             0.5555555555555556,
             "#d8576b"
            ],
            [
             0.6666666666666666,
             "#ed7953"
            ],
            [
             0.7777777777777778,
             "#fb9f3a"
            ],
            [
             0.8888888888888888,
             "#fdca26"
            ],
            [
             1,
             "#f0f921"
            ]
           ],
           "sequentialminus": [
            [
             0,
             "#0d0887"
            ],
            [
             0.1111111111111111,
             "#46039f"
            ],
            [
             0.2222222222222222,
             "#7201a8"
            ],
            [
             0.3333333333333333,
             "#9c179e"
            ],
            [
             0.4444444444444444,
             "#bd3786"
            ],
            [
             0.5555555555555556,
             "#d8576b"
            ],
            [
             0.6666666666666666,
             "#ed7953"
            ],
            [
             0.7777777777777778,
             "#fb9f3a"
            ],
            [
             0.8888888888888888,
             "#fdca26"
            ],
            [
             1,
             "#f0f921"
            ]
           ]
          },
          "colorway": [
           "#636efa",
           "#EF553B",
           "#00cc96",
           "#ab63fa",
           "#FFA15A",
           "#19d3f3",
           "#FF6692",
           "#B6E880",
           "#FF97FF",
           "#FECB52"
          ],
          "font": {
           "color": "#2a3f5f"
          },
          "geo": {
           "bgcolor": "white",
           "lakecolor": "white",
           "landcolor": "#E5ECF6",
           "showlakes": true,
           "showland": true,
           "subunitcolor": "white"
          },
          "hoverlabel": {
           "align": "left"
          },
          "hovermode": "closest",
          "mapbox": {
           "style": "light"
          },
          "paper_bgcolor": "white",
          "plot_bgcolor": "#E5ECF6",
          "polar": {
           "angularaxis": {
            "gridcolor": "white",
            "linecolor": "white",
            "ticks": ""
           },
           "bgcolor": "#E5ECF6",
           "radialaxis": {
            "gridcolor": "white",
            "linecolor": "white",
            "ticks": ""
           }
          },
          "scene": {
           "xaxis": {
            "backgroundcolor": "#E5ECF6",
            "gridcolor": "white",
            "gridwidth": 2,
            "linecolor": "white",
            "showbackground": true,
            "ticks": "",
            "zerolinecolor": "white"
           },
           "yaxis": {
            "backgroundcolor": "#E5ECF6",
            "gridcolor": "white",
            "gridwidth": 2,
            "linecolor": "white",
            "showbackground": true,
            "ticks": "",
            "zerolinecolor": "white"
           },
           "zaxis": {
            "backgroundcolor": "#E5ECF6",
            "gridcolor": "white",
            "gridwidth": 2,
            "linecolor": "white",
            "showbackground": true,
            "ticks": "",
            "zerolinecolor": "white"
           }
          },
          "shapedefaults": {
           "line": {
            "color": "#2a3f5f"
           }
          },
          "ternary": {
           "aaxis": {
            "gridcolor": "white",
            "linecolor": "white",
            "ticks": ""
           },
           "baxis": {
            "gridcolor": "white",
            "linecolor": "white",
            "ticks": ""
           },
           "bgcolor": "#E5ECF6",
           "caxis": {
            "gridcolor": "white",
            "linecolor": "white",
            "ticks": ""
           }
          },
          "title": {
           "x": 0.05
          },
          "xaxis": {
           "automargin": true,
           "gridcolor": "white",
           "linecolor": "white",
           "ticks": "",
           "title": {
            "standoff": 15
           },
           "zerolinecolor": "white",
           "zerolinewidth": 2
          },
          "yaxis": {
           "automargin": true,
           "gridcolor": "white",
           "linecolor": "white",
           "ticks": "",
           "title": {
            "standoff": 15
           },
           "zerolinecolor": "white",
           "zerolinewidth": 2
          }
         }
        },
        "title": {
         "text": "Dividend Per Stake Versus Difference In Consensus And Weight"
        },
        "width": 800,
        "xaxis": {
         "anchor": "y",
         "domain": [
          0,
          1
         ],
         "title": {
          "text": "MSE(consensus, weight_i)"
         }
        },
        "yaxis": {
         "anchor": "x",
         "domain": [
          0,
          1
         ],
         "title": {
          "text": "Dividend_i per stake"
         }
        }
       }
      },
      "text/html": [
       "<div>                            <div id=\"8956c27a-8df4-4f8f-a5f2-e40447eef271\" class=\"plotly-graph-div\" style=\"height:800px; width:800px;\"></div>            <script type=\"text/javascript\">                require([\"plotly\"], function(Plotly) {                    window.PLOTLYENV=window.PLOTLYENV || {};                                    if (document.getElementById(\"8956c27a-8df4-4f8f-a5f2-e40447eef271\")) {                    Plotly.newPlot(                        \"8956c27a-8df4-4f8f-a5f2-e40447eef271\",                        [{\"hovertemplate\":\"Stake_i=0.1<br>MSE(consensus, weight_i)=%{x}<br>Dividend_i per stake=%{y}<extra></extra>\",\"legendgroup\":\"0.1\",\"line\":{\"color\":\"#636efa\",\"dash\":\"solid\"},\"marker\":{\"symbol\":\"circle\"},\"mode\":\"lines\",\"name\":\"0.1\",\"orientation\":\"v\",\"showlegend\":true,\"x\":[0.0,0.0025000000000000022,0.009999999999999998,0.022500000000000006,0.039999999999999994,0.0625,0.09000000000000002,0.12250000000000005,0.16000000000000003,0.20249999999999999,0.25,0.30250000000000005,0.3600000000000001,0.42250000000000004,0.4900000000000001,0.5625,0.6400000000000001,0.7225000000000001,0.81,0.9025000000000001,1.0],\"xaxis\":\"x\",\"y\":[1.0,0.9547738693467336,0.9090909090909091,0.8629441624365483,0.816326530612245,0.7692307692307693,0.7216494845360824,0.6735751295336786,0.625,0.5759162303664921,0.5263157894736842,0.47619047619047616,0.42553191489361697,0.374331550802139,0.3225806451612902,0.2702702702702703,0.21739130434782603,0.1639344262295081,0.10989010989010987,0.055248618784530315,0.0],\"yaxis\":\"y\",\"type\":\"scatter\"},{\"hovertemplate\":\"Stake_i=0.15<br>MSE(consensus, weight_i)=%{x}<br>Dividend_i per stake=%{y}<extra></extra>\",\"legendgroup\":\"0.15\",\"line\":{\"color\":\"#EF553B\",\"dash\":\"solid\"},\"marker\":{\"symbol\":\"circle\"},\"mode\":\"lines\",\"name\":\"0.15\",\"orientation\":\"v\",\"showlegend\":true,\"x\":[0.0,0.0025000000000000022,0.009999999999999998,0.022500000000000006,0.039999999999999994,0.0625,0.09000000000000002,0.12250000000000005,0.16000000000000003,0.20249999999999999,0.25,0.30250000000000005,0.3600000000000001,0.42250000000000004,0.4900000000000001,0.5625,0.6400000000000001,0.7225000000000001,0.81,0.9025000000000001,1.0],\"xaxis\":\"x\",\"y\":[1.0,0.9571788413098239,0.9137055837563451,0.8695652173913042,0.8247422680412373,0.7792207792207793,0.7329842931937172,0.6860158311345645,0.6382978723404256,0.5898123324396783,0.5405405405405406,0.4904632152588556,0.4395604395604395,0.38781163434903043,0.33519553072625696,0.28169014084507044,0.22727272727272727,0.1719197707736389,0.11560693641618497,0.05830903790087457,0.0],\"yaxis\":\"y\",\"type\":\"scatter\"},{\"hovertemplate\":\"Stake_i=0.2<br>MSE(consensus, weight_i)=%{x}<br>Dividend_i per stake=%{y}<extra></extra>\",\"legendgroup\":\"0.2\",\"line\":{\"color\":\"#00cc96\",\"dash\":\"solid\"},\"marker\":{\"symbol\":\"circle\"},\"mode\":\"lines\",\"name\":\"0.2\",\"orientation\":\"v\",\"showlegend\":true,\"x\":[0.0,0.0025000000000000022,0.009999999999999998,0.022500000000000006,0.039999999999999994,0.0625,0.09000000000000002,0.12250000000000005,0.16000000000000003,0.20249999999999999,0.25,0.30250000000000005,0.3600000000000001,0.42250000000000004,0.4900000000000001,0.5625,0.6400000000000001,0.7225000000000001,0.81,0.9025000000000001,1.0],\"xaxis\":\"x\",\"y\":[1.0,0.9595959595959598,0.9183673469387755,0.8762886597938144,0.8333333333333336,0.7894736842105264,0.7446808510638299,0.6989247311827957,0.6521739130434783,0.6043956043956046,0.5555555555555556,0.5056179775280899,0.45454545454545453,0.4022988505747127,0.34883720930232553,0.2941176470588236,0.23809523809523808,0.18072289156626498,0.12195121951219512,0.061728395061728336,0.0],\"yaxis\":\"y\",\"type\":\"scatter\"},{\"hovertemplate\":\"Stake_i=0.25<br>MSE(consensus, weight_i)=%{x}<br>Dividend_i per stake=%{y}<extra></extra>\",\"legendgroup\":\"0.25\",\"line\":{\"color\":\"#ab63fa\",\"dash\":\"solid\"},\"marker\":{\"symbol\":\"circle\"},\"mode\":\"lines\",\"name\":\"0.25\",\"orientation\":\"v\",\"showlegend\":true,\"x\":[0.0,0.0025000000000000022,0.009999999999999998,0.022500000000000006,0.039999999999999994,0.0625,0.09000000000000002,0.12250000000000005,0.16000000000000003,0.20249999999999999,0.25,0.30250000000000005,0.3600000000000001,0.42250000000000004,0.4900000000000001,0.5625,0.6400000000000001,0.7225000000000001,0.81,0.9025000000000001,1.0],\"xaxis\":\"x\",\"y\":[1.0,0.9620253164556961,0.9230769230769231,0.883116883116883,0.8421052631578947,0.7999999999999998,0.7567567567567566,0.7123287671232876,0.6666666666666666,0.6197183098591549,0.5714285714285714,0.5217391304347826,0.47058823529411753,0.41791044776119396,0.36363636363636354,0.30769230769230765,0.25,0.19047619047619038,0.12903225806451613,0.0655737704918032,0.0],\"yaxis\":\"y\",\"type\":\"scatter\"},{\"hovertemplate\":\"Stake_i=0.3<br>MSE(consensus, weight_i)=%{x}<br>Dividend_i per stake=%{y}<extra></extra>\",\"legendgroup\":\"0.3\",\"line\":{\"color\":\"#FFA15A\",\"dash\":\"solid\"},\"marker\":{\"symbol\":\"circle\"},\"mode\":\"lines\",\"name\":\"0.3\",\"orientation\":\"v\",\"showlegend\":true,\"x\":[0.0,0.0025000000000000022,0.009999999999999998,0.022500000000000006,0.039999999999999994,0.0625,0.09000000000000002,0.12250000000000005,0.16000000000000003,0.20249999999999999,0.25,0.30250000000000005,0.3600000000000001,0.42250000000000004,0.4900000000000001,0.5625,0.6400000000000001,0.7225000000000001,0.81,0.9025000000000001,1.0],\"xaxis\":\"x\",\"y\":[1.0,0.9644670050761422,0.9278350515463918,0.8900523560209422,0.8510638297872343,0.8108108108108109,0.7692307692307692,0.7262569832402235,0.6818181818181819,0.6358381502890174,0.5882352941176471,0.5389221556886228,0.4878048780487805,0.4347826086956522,0.3797468354430379,0.32258064516129037,0.26315789473684204,0.20134228187919456,0.136986301369863,0.06993006993006985,0.0],\"yaxis\":\"y\",\"type\":\"scatter\"},{\"hovertemplate\":\"Stake_i=0.35<br>MSE(consensus, weight_i)=%{x}<br>Dividend_i per stake=%{y}<extra></extra>\",\"legendgroup\":\"0.35\",\"line\":{\"color\":\"#19d3f3\",\"dash\":\"solid\"},\"marker\":{\"symbol\":\"circle\"},\"mode\":\"lines\",\"name\":\"0.35\",\"orientation\":\"v\",\"showlegend\":true,\"x\":[0.0,0.0025000000000000022,0.009999999999999998,0.022500000000000006,0.039999999999999994,0.0625,0.09000000000000002,0.12250000000000005,0.16000000000000003,0.20249999999999999,0.25,0.30250000000000005,0.3600000000000001,0.42250000000000004,0.4900000000000001,0.5625,0.6400000000000001,0.7225000000000001,0.81,0.9025000000000001,1.0],\"xaxis\":\"x\",\"y\":[1.0000000000000002,0.9669211195928755,0.9326424870466322,0.8970976253298154,0.860215053763441,0.8219178082191781,0.782122905027933,0.7407407407407408,0.6976744186046513,0.652818991097923,0.6060606060606062,0.5572755417956656,0.5063291139240507,0.453074433656958,0.3973509933774835,0.3389830508474577,0.27777777777777785,0.2135231316725978,0.14598540145985403,0.07490636704119842,0.0],\"yaxis\":\"y\",\"type\":\"scatter\"},{\"hovertemplate\":\"Stake_i=0.4<br>MSE(consensus, weight_i)=%{x}<br>Dividend_i per stake=%{y}<extra></extra>\",\"legendgroup\":\"0.4\",\"line\":{\"color\":\"#FF6692\",\"dash\":\"solid\"},\"marker\":{\"symbol\":\"circle\"},\"mode\":\"lines\",\"name\":\"0.4\",\"orientation\":\"v\",\"showlegend\":true,\"x\":[0.0,0.0025000000000000022,0.009999999999999998,0.022500000000000006,0.039999999999999994,0.0625,0.09000000000000002,0.12250000000000005,0.16000000000000003,0.20249999999999999,0.25,0.30250000000000005,0.3600000000000001,0.42250000000000004,0.4900000000000001,0.5625,0.6400000000000001,0.7225000000000001,0.81,0.9025000000000001,1.0],\"xaxis\":\"x\",\"y\":[1.0,0.9693877551020409,0.9375000000000001,0.9042553191489361,0.8695652173913044,0.8333333333333334,0.7954545454545453,0.7558139534883722,0.7142857142857144,0.6707317073170732,0.6249999999999999,0.576923076923077,0.5263157894736842,0.47297297297297297,0.4166666666666666,0.35714285714285715,0.29411764705882354,0.22727272727272718,0.15625000000000003,0.0806451612903225,0.0],\"yaxis\":\"y\",\"type\":\"scatter\"},{\"hovertemplate\":\"Stake_i=0.45<br>MSE(consensus, weight_i)=%{x}<br>Dividend_i per stake=%{y}<extra></extra>\",\"legendgroup\":\"0.45\",\"line\":{\"color\":\"#B6E880\",\"dash\":\"solid\"},\"marker\":{\"symbol\":\"circle\"},\"mode\":\"lines\",\"name\":\"0.45\",\"orientation\":\"v\",\"showlegend\":true,\"x\":[0.0,0.0025000000000000022,0.009999999999999998,0.022500000000000006,0.039999999999999994,0.0625,0.09000000000000002,0.12250000000000005,0.16000000000000003,0.20249999999999999,0.25,0.30250000000000005,0.3600000000000001,0.42250000000000004,0.4900000000000001,0.5625,0.6400000000000001,0.7225000000000001,0.81,0.9025000000000001,1.0],\"xaxis\":\"x\",\"y\":[1.0,0.9718670076726343,0.9424083769633509,0.9115281501340483,0.8791208791208792,0.8450704225352114,0.8092485549132947,0.771513353115727,0.7317073170731708,0.6896551724137931,0.6451612903225807,0.5980066445182725,0.547945205479452,0.4946996466431096,0.43795620437956206,0.37735849056603776,0.31249999999999994,0.2429149797570849,0.1680672268907563,0.08733624454148463,0.0],\"yaxis\":\"y\",\"type\":\"scatter\"}],                        {\"template\":{\"data\":{\"histogram2dcontour\":[{\"type\":\"histogram2dcontour\",\"colorbar\":{\"outlinewidth\":0,\"ticks\":\"\"},\"colorscale\":[[0.0,\"#0d0887\"],[0.1111111111111111,\"#46039f\"],[0.2222222222222222,\"#7201a8\"],[0.3333333333333333,\"#9c179e\"],[0.4444444444444444,\"#bd3786\"],[0.5555555555555556,\"#d8576b\"],[0.6666666666666666,\"#ed7953\"],[0.7777777777777778,\"#fb9f3a\"],[0.8888888888888888,\"#fdca26\"],[1.0,\"#f0f921\"]]}],\"choropleth\":[{\"type\":\"choropleth\",\"colorbar\":{\"outlinewidth\":0,\"ticks\":\"\"}}],\"histogram2d\":[{\"type\":\"histogram2d\",\"colorbar\":{\"outlinewidth\":0,\"ticks\":\"\"},\"colorscale\":[[0.0,\"#0d0887\"],[0.1111111111111111,\"#46039f\"],[0.2222222222222222,\"#7201a8\"],[0.3333333333333333,\"#9c179e\"],[0.4444444444444444,\"#bd3786\"],[0.5555555555555556,\"#d8576b\"],[0.6666666666666666,\"#ed7953\"],[0.7777777777777778,\"#fb9f3a\"],[0.8888888888888888,\"#fdca26\"],[1.0,\"#f0f921\"]]}],\"heatmap\":[{\"type\":\"heatmap\",\"colorbar\":{\"outlinewidth\":0,\"ticks\":\"\"},\"colorscale\":[[0.0,\"#0d0887\"],[0.1111111111111111,\"#46039f\"],[0.2222222222222222,\"#7201a8\"],[0.3333333333333333,\"#9c179e\"],[0.4444444444444444,\"#bd3786\"],[0.5555555555555556,\"#d8576b\"],[0.6666666666666666,\"#ed7953\"],[0.7777777777777778,\"#fb9f3a\"],[0.8888888888888888,\"#fdca26\"],[1.0,\"#f0f921\"]]}],\"heatmapgl\":[{\"type\":\"heatmapgl\",\"colorbar\":{\"outlinewidth\":0,\"ticks\":\"\"},\"colorscale\":[[0.0,\"#0d0887\"],[0.1111111111111111,\"#46039f\"],[0.2222222222222222,\"#7201a8\"],[0.3333333333333333,\"#9c179e\"],[0.4444444444444444,\"#bd3786\"],[0.5555555555555556,\"#d8576b\"],[0.6666666666666666,\"#ed7953\"],[0.7777777777777778,\"#fb9f3a\"],[0.8888888888888888,\"#fdca26\"],[1.0,\"#f0f921\"]]}],\"contourcarpet\":[{\"type\":\"contourcarpet\",\"colorbar\":{\"outlinewidth\":0,\"ticks\":\"\"}}],\"contour\":[{\"type\":\"contour\",\"colorbar\":{\"outlinewidth\":0,\"ticks\":\"\"},\"colorscale\":[[0.0,\"#0d0887\"],[0.1111111111111111,\"#46039f\"],[0.2222222222222222,\"#7201a8\"],[0.3333333333333333,\"#9c179e\"],[0.4444444444444444,\"#bd3786\"],[0.5555555555555556,\"#d8576b\"],[0.6666666666666666,\"#ed7953\"],[0.7777777777777778,\"#fb9f3a\"],[0.8888888888888888,\"#fdca26\"],[1.0,\"#f0f921\"]]}],\"surface\":[{\"type\":\"surface\",\"colorbar\":{\"outlinewidth\":0,\"ticks\":\"\"},\"colorscale\":[[0.0,\"#0d0887\"],[0.1111111111111111,\"#46039f\"],[0.2222222222222222,\"#7201a8\"],[0.3333333333333333,\"#9c179e\"],[0.4444444444444444,\"#bd3786\"],[0.5555555555555556,\"#d8576b\"],[0.6666666666666666,\"#ed7953\"],[0.7777777777777778,\"#fb9f3a\"],[0.8888888888888888,\"#fdca26\"],[1.0,\"#f0f921\"]]}],\"mesh3d\":[{\"type\":\"mesh3d\",\"colorbar\":{\"outlinewidth\":0,\"ticks\":\"\"}}],\"scatter\":[{\"fillpattern\":{\"fillmode\":\"overlay\",\"size\":10,\"solidity\":0.2},\"type\":\"scatter\"}],\"parcoords\":[{\"type\":\"parcoords\",\"line\":{\"colorbar\":{\"outlinewidth\":0,\"ticks\":\"\"}}}],\"scatterpolargl\":[{\"type\":\"scatterpolargl\",\"marker\":{\"colorbar\":{\"outlinewidth\":0,\"ticks\":\"\"}}}],\"bar\":[{\"error_x\":{\"color\":\"#2a3f5f\"},\"error_y\":{\"color\":\"#2a3f5f\"},\"marker\":{\"line\":{\"color\":\"#E5ECF6\",\"width\":0.5},\"pattern\":{\"fillmode\":\"overlay\",\"size\":10,\"solidity\":0.2}},\"type\":\"bar\"}],\"scattergeo\":[{\"type\":\"scattergeo\",\"marker\":{\"colorbar\":{\"outlinewidth\":0,\"ticks\":\"\"}}}],\"scatterpolar\":[{\"type\":\"scatterpolar\",\"marker\":{\"colorbar\":{\"outlinewidth\":0,\"ticks\":\"\"}}}],\"histogram\":[{\"marker\":{\"pattern\":{\"fillmode\":\"overlay\",\"size\":10,\"solidity\":0.2}},\"type\":\"histogram\"}],\"scattergl\":[{\"type\":\"scattergl\",\"marker\":{\"colorbar\":{\"outlinewidth\":0,\"ticks\":\"\"}}}],\"scatter3d\":[{\"type\":\"scatter3d\",\"line\":{\"colorbar\":{\"outlinewidth\":0,\"ticks\":\"\"}},\"marker\":{\"colorbar\":{\"outlinewidth\":0,\"ticks\":\"\"}}}],\"scattermapbox\":[{\"type\":\"scattermapbox\",\"marker\":{\"colorbar\":{\"outlinewidth\":0,\"ticks\":\"\"}}}],\"scatterternary\":[{\"type\":\"scatterternary\",\"marker\":{\"colorbar\":{\"outlinewidth\":0,\"ticks\":\"\"}}}],\"scattercarpet\":[{\"type\":\"scattercarpet\",\"marker\":{\"colorbar\":{\"outlinewidth\":0,\"ticks\":\"\"}}}],\"carpet\":[{\"aaxis\":{\"endlinecolor\":\"#2a3f5f\",\"gridcolor\":\"white\",\"linecolor\":\"white\",\"minorgridcolor\":\"white\",\"startlinecolor\":\"#2a3f5f\"},\"baxis\":{\"endlinecolor\":\"#2a3f5f\",\"gridcolor\":\"white\",\"linecolor\":\"white\",\"minorgridcolor\":\"white\",\"startlinecolor\":\"#2a3f5f\"},\"type\":\"carpet\"}],\"table\":[{\"cells\":{\"fill\":{\"color\":\"#EBF0F8\"},\"line\":{\"color\":\"white\"}},\"header\":{\"fill\":{\"color\":\"#C8D4E3\"},\"line\":{\"color\":\"white\"}},\"type\":\"table\"}],\"barpolar\":[{\"marker\":{\"line\":{\"color\":\"#E5ECF6\",\"width\":0.5},\"pattern\":{\"fillmode\":\"overlay\",\"size\":10,\"solidity\":0.2}},\"type\":\"barpolar\"}],\"pie\":[{\"automargin\":true,\"type\":\"pie\"}]},\"layout\":{\"autotypenumbers\":\"strict\",\"colorway\":[\"#636efa\",\"#EF553B\",\"#00cc96\",\"#ab63fa\",\"#FFA15A\",\"#19d3f3\",\"#FF6692\",\"#B6E880\",\"#FF97FF\",\"#FECB52\"],\"font\":{\"color\":\"#2a3f5f\"},\"hovermode\":\"closest\",\"hoverlabel\":{\"align\":\"left\"},\"paper_bgcolor\":\"white\",\"plot_bgcolor\":\"#E5ECF6\",\"polar\":{\"bgcolor\":\"#E5ECF6\",\"angularaxis\":{\"gridcolor\":\"white\",\"linecolor\":\"white\",\"ticks\":\"\"},\"radialaxis\":{\"gridcolor\":\"white\",\"linecolor\":\"white\",\"ticks\":\"\"}},\"ternary\":{\"bgcolor\":\"#E5ECF6\",\"aaxis\":{\"gridcolor\":\"white\",\"linecolor\":\"white\",\"ticks\":\"\"},\"baxis\":{\"gridcolor\":\"white\",\"linecolor\":\"white\",\"ticks\":\"\"},\"caxis\":{\"gridcolor\":\"white\",\"linecolor\":\"white\",\"ticks\":\"\"}},\"coloraxis\":{\"colorbar\":{\"outlinewidth\":0,\"ticks\":\"\"}},\"colorscale\":{\"sequential\":[[0.0,\"#0d0887\"],[0.1111111111111111,\"#46039f\"],[0.2222222222222222,\"#7201a8\"],[0.3333333333333333,\"#9c179e\"],[0.4444444444444444,\"#bd3786\"],[0.5555555555555556,\"#d8576b\"],[0.6666666666666666,\"#ed7953\"],[0.7777777777777778,\"#fb9f3a\"],[0.8888888888888888,\"#fdca26\"],[1.0,\"#f0f921\"]],\"sequentialminus\":[[0.0,\"#0d0887\"],[0.1111111111111111,\"#46039f\"],[0.2222222222222222,\"#7201a8\"],[0.3333333333333333,\"#9c179e\"],[0.4444444444444444,\"#bd3786\"],[0.5555555555555556,\"#d8576b\"],[0.6666666666666666,\"#ed7953\"],[0.7777777777777778,\"#fb9f3a\"],[0.8888888888888888,\"#fdca26\"],[1.0,\"#f0f921\"]],\"diverging\":[[0,\"#8e0152\"],[0.1,\"#c51b7d\"],[0.2,\"#de77ae\"],[0.3,\"#f1b6da\"],[0.4,\"#fde0ef\"],[0.5,\"#f7f7f7\"],[0.6,\"#e6f5d0\"],[0.7,\"#b8e186\"],[0.8,\"#7fbc41\"],[0.9,\"#4d9221\"],[1,\"#276419\"]]},\"xaxis\":{\"gridcolor\":\"white\",\"linecolor\":\"white\",\"ticks\":\"\",\"title\":{\"standoff\":15},\"zerolinecolor\":\"white\",\"automargin\":true,\"zerolinewidth\":2},\"yaxis\":{\"gridcolor\":\"white\",\"linecolor\":\"white\",\"ticks\":\"\",\"title\":{\"standoff\":15},\"zerolinecolor\":\"white\",\"automargin\":true,\"zerolinewidth\":2},\"scene\":{\"xaxis\":{\"backgroundcolor\":\"#E5ECF6\",\"gridcolor\":\"white\",\"linecolor\":\"white\",\"showbackground\":true,\"ticks\":\"\",\"zerolinecolor\":\"white\",\"gridwidth\":2},\"yaxis\":{\"backgroundcolor\":\"#E5ECF6\",\"gridcolor\":\"white\",\"linecolor\":\"white\",\"showbackground\":true,\"ticks\":\"\",\"zerolinecolor\":\"white\",\"gridwidth\":2},\"zaxis\":{\"backgroundcolor\":\"#E5ECF6\",\"gridcolor\":\"white\",\"linecolor\":\"white\",\"showbackground\":true,\"ticks\":\"\",\"zerolinecolor\":\"white\",\"gridwidth\":2}},\"shapedefaults\":{\"line\":{\"color\":\"#2a3f5f\"}},\"annotationdefaults\":{\"arrowcolor\":\"#2a3f5f\",\"arrowhead\":0,\"arrowwidth\":1},\"geo\":{\"bgcolor\":\"white\",\"landcolor\":\"#E5ECF6\",\"subunitcolor\":\"white\",\"showland\":true,\"showlakes\":true,\"lakecolor\":\"white\"},\"title\":{\"x\":0.05},\"mapbox\":{\"style\":\"light\"}}},\"xaxis\":{\"anchor\":\"y\",\"domain\":[0.0,1.0],\"title\":{\"text\":\"MSE(consensus, weight_i)\"}},\"yaxis\":{\"anchor\":\"x\",\"domain\":[0.0,1.0],\"title\":{\"text\":\"Dividend_i per stake\"}},\"legend\":{\"title\":{\"text\":\"Stake_i\"},\"tracegroupgap\":0},\"title\":{\"text\":\"Dividend Per Stake Versus Difference In Consensus And Weight\"},\"height\":800,\"width\":800},                        {\"responsive\": true}                    ).then(function(){\n",
       "                            \n",
       "var gd = document.getElementById('8956c27a-8df4-4f8f-a5f2-e40447eef271');\n",
       "var x = new MutationObserver(function (mutations, observer) {{\n",
       "        var display = window.getComputedStyle(gd).display;\n",
       "        if (!display || display === 'none') {{\n",
       "            console.log([gd, 'removed!']);\n",
       "            Plotly.purge(gd);\n",
       "            observer.disconnect();\n",
       "        }}\n",
       "}});\n",
       "\n",
       "// Listen for the removal of the full notebook cells\n",
       "var notebookContainer = gd.closest('#notebook-container');\n",
       "if (notebookContainer) {{\n",
       "    x.observe(notebookContainer, {childList: true});\n",
       "}}\n",
       "\n",
       "// Listen for the clearing of the current output cell\n",
       "var outputEl = gd.closest('.output');\n",
       "if (outputEl) {{\n",
       "    x.observe(outputEl, {childList: true});\n",
       "}}\n",
       "\n",
       "                        })                };                });            </script>        </div>"
      ]
     },
     "metadata": {},
     "output_type": "display_data"
    }
   ],
   "source": [
    "fig = px.line(\n",
    "    dividend_VS_consensus,\n",
    "    y = 'dividend_per_stakes', \n",
    "    x = 'MSE_consensus',\n",
    "    color = 'stake',\n",
    "    labels={\n",
    "        \"dividend_per_stakes\": \"Dividend_i per stake\",\n",
    "        \"MSE_consensus\": \"MSE(consensus, weight_i)\",\n",
    "        \"stake\": 'Stake_i'\n",
    "    },\n",
    "    title = \"Dividend per stake versus difference in consensus and weight\".title(),\n",
    "    width = 800,\n",
    "    height = 800,\n",
    "    # tickformat = '.3f'\n",
    ")\n",
    "fig.show()"
   ]
  },
  {
   "cell_type": "code",
   "execution_count": null,
   "metadata": {},
   "outputs": [
    {
     "data": {
      "text/plain": [
       "dict_keys([2987500, 2987860, 2988220, 2988580, 2988940, 2989300, 2989660, 2990020, 2990380, 2990740, 2991100, 2991460, 2991820, 2992180, 2992540, 2992900, 2993260, 2993620, 2993980, 2994340])"
      ]
     },
     "execution_count": 15,
     "metadata": {},
     "output_type": "execute_result"
    }
   ],
   "source": [
    "yuma_results[24][0].keys()"
   ]
  },
  {
   "cell_type": "code",
   "execution_count": null,
   "metadata": {},
   "outputs": [
    {
     "name": "stdout",
     "output_type": "stream",
     "text": [
      "0 tensor([1.0000])\n",
      "1 tensor([0.9984])\n",
      "3 tensor([0.9896])\n",
      "5 tensor([0.9850])\n",
      "7 tensor([0.9832])\n",
      "9 tensor([0.9814])\n",
      "11 tensor([0.9795])\n",
      "13 tensor([0.9741])\n",
      "15 tensor([0.9758])\n",
      "17 tensor([0.9679])\n",
      "19 tensor([0.9652])\n"
     ]
    }
   ],
   "source": [
    "for conceal_period in setup.conceal_periods:\n",
    "    y1 = list(yuma_results[24][0].items())[-1][1]\n",
    "    y2 = list(yuma_results[24][conceal_period].items())[-1][1]\n",
    "    sim = torch.cosine_similarity(y1['server_consensus_weight'].view(1, -1), y2['server_consensus_weight'].view(1, -1))\n",
    "    print(conceal_period, sim)"
   ]
  },
  {
   "cell_type": "code",
   "execution_count": null,
   "metadata": {},
   "outputs": [
    {
     "data": {
      "text/plain": [
       "(torch.Size([256]), torch.Size([256]))"
      ]
     },
     "execution_count": 17,
     "metadata": {},
     "output_type": "execute_result"
    }
   ],
   "source": [
    "y1['server_consensus_weight'].shape, y2['server_consensus_weight'].shape"
   ]
  },
  {
   "cell_type": "code",
   "execution_count": null,
   "metadata": {},
   "outputs": [
    {
     "data": {
      "text/plain": [
       "tensor(0.9858)"
      ]
     },
     "execution_count": 18,
     "metadata": {},
     "output_type": "execute_result"
    }
   ],
   "source": [
    "y = list(yuma_results[24][conceal_period].items())[-1][1]\n",
    "DS = y['validator_reward_normalized']/y['stake']\n",
    "\n",
    "DS[-1] / DS.median()"
   ]
  },
  {
   "cell_type": "code",
   "execution_count": null,
   "metadata": {},
   "outputs": [
    {
     "data": {
      "text/plain": [
       "{'weight': tensor([[0.0055, 0.0037, 0.0030,  ..., 0.0039, 0.0000, 0.0049],\n",
       "         [0.0052, 0.0056, 0.0035,  ..., 0.0037, 0.0000, 0.0027],\n",
       "         [0.0052, 0.0056, 0.0035,  ..., 0.0037, 0.0000, 0.0027],\n",
       "         ...,\n",
       "         [0.0050, 0.0057, 0.0036,  ..., 0.0039, 0.0000, 0.0033],\n",
       "         [0.0049, 0.0056, 0.0035,  ..., 0.0037, 0.0000, 0.0032],\n",
       "         [0.0052, 0.0057, 0.0034,  ..., 0.0038, 0.0000, 0.0029]]),\n",
       " 'stake': tensor([0.0311, 0.0490, 0.1118, 0.0962, 0.0206, 0.0050, 0.0527, 0.0678, 0.0048,\n",
       "         0.0207, 0.0438, 0.0180, 0.0045, 0.0462, 0.0469, 0.0057, 0.0068, 0.2246,\n",
       "         0.0865, 0.0196, 0.0083, 0.0085, 0.0207]),\n",
       " 'server_prerank': tensor([5.2637e-03, 5.5043e-03, 3.4367e-03, 5.5053e-03, 5.1228e-03, 5.0601e-03,\n",
       "         4.9615e-03, 0.0000e+00, 0.0000e+00, 4.3281e-03, 0.0000e+00, 1.0930e-03,\n",
       "         5.1467e-03, 4.9071e-03, 3.3759e-03, 5.0608e-03, 5.0241e-03, 4.3618e-03,\n",
       "         5.3055e-03, 5.5659e-03, 5.1459e-03, 4.7292e-03, 3.9691e-03, 5.3034e-03,\n",
       "         0.0000e+00, 4.5078e-03, 5.6872e-03, 1.2300e-03, 3.0610e-03, 4.4029e-03,\n",
       "         3.3926e-03, 0.0000e+00, 5.2750e-03, 3.4038e-03, 4.9837e-03, 0.0000e+00,\n",
       "         4.6489e-03, 3.6496e-03, 5.2157e-03, 0.0000e+00, 2.4349e-03, 3.1697e-03,\n",
       "         4.8019e-03, 4.7499e-03, 4.4801e-03, 5.3184e-03, 5.1911e-03, 4.6176e-03,\n",
       "         3.1846e-03, 5.2400e-03, 3.5333e-03, 3.8227e-03, 5.4536e-03, 4.3055e-03,\n",
       "         4.4781e-03, 4.5588e-03, 5.0042e-03, 4.6047e-03, 5.2111e-03, 4.0033e-03,\n",
       "         5.2924e-03, 5.3838e-03, 4.0137e-03, 2.8461e-03, 4.5970e-03, 5.0782e-03,\n",
       "         4.8749e-03, 3.1476e-03, 5.4966e-03, 5.3153e-03, 5.5705e-03, 3.8931e-03,\n",
       "         4.1794e-03, 5.2546e-03, 5.2407e-03, 5.2935e-03, 4.0673e-03, 5.1584e-03,\n",
       "         5.4170e-03, 4.9708e-03, 5.0926e-03, 5.3773e-03, 3.4480e-03, 3.8523e-03,\n",
       "         5.0212e-03, 5.1653e-03, 4.9808e-03, 0.0000e+00, 5.4119e-03, 5.4569e-03,\n",
       "         5.2728e-03, 3.7347e-03, 4.0955e-03, 2.9973e-03, 4.4344e-03, 0.0000e+00,\n",
       "         3.8046e-03, 5.3927e-03, 3.4739e-03, 5.5359e-03, 4.6430e-03, 4.2036e-03,\n",
       "         0.0000e+00, 2.9874e-03, 3.9694e-03, 1.3463e-03, 4.4617e-03, 3.7249e-03,\n",
       "         5.0457e-03, 5.0607e-03, 2.8224e-03, 3.8057e-03, 4.4845e-03, 3.2605e-03,\n",
       "         3.3137e-03, 4.6735e-03, 3.3427e-03, 0.0000e+00, 3.1798e-03, 3.5801e-03,\n",
       "         5.4490e-03, 5.1696e-03, 3.8457e-03, 5.2081e-03, 3.7182e-03, 4.8878e-03,\n",
       "         0.0000e+00, 5.4659e-03, 5.4307e-03, 0.0000e+00, 3.7089e-03, 4.8926e-03,\n",
       "         3.6657e-03, 5.0051e-03, 4.5331e-03, 3.3048e-03, 3.4598e-03, 4.5679e-03,\n",
       "         2.7034e-03, 4.6376e-03, 4.5125e-04, 0.0000e+00, 3.6948e-03, 4.7283e-03,\n",
       "         2.5099e-03, 4.3913e-03, 5.4318e-03, 3.0264e-03, 2.0848e-03, 5.3650e-03,\n",
       "         5.4571e-03, 8.6654e-04, 1.2208e-03, 4.9745e-03, 4.1554e-03, 3.3013e-03,\n",
       "         1.2281e-03, 5.4466e-03, 3.0374e-03, 3.5784e-03, 3.3609e-03, 4.9988e-03,\n",
       "         1.5538e-03, 4.1288e-03, 4.3336e-03, 3.6753e-03, 0.0000e+00, 4.3662e-03,\n",
       "         5.5856e-03, 5.2262e-03, 4.5677e-03, 4.9324e-03, 3.2921e-03, 4.2685e-03,\n",
       "         4.6747e-03, 4.0961e-03, 4.3207e-03, 4.3922e-03, 3.9121e-03, 5.0601e-03,\n",
       "         5.1138e-03, 4.8509e-03, 4.5845e-03, 4.6257e-03, 3.1347e-03, 2.0213e-06,\n",
       "         3.4614e-03, 3.7807e-03, 4.6649e-03, 5.3286e-03, 2.9753e-03, 5.1156e-03,\n",
       "         3.5295e-03, 5.4510e-03, 5.0825e-03, 5.3763e-03, 5.4701e-03, 0.0000e+00,\n",
       "         4.0622e-03, 0.0000e+00, 4.9745e-03, 4.8846e-03, 4.6936e-03, 5.1837e-03,\n",
       "         5.3830e-03, 3.4956e-04, 4.9186e-03, 4.6985e-03, 5.1407e-03, 5.0266e-03,\n",
       "         4.2586e-03, 2.7332e-03, 3.0602e-03, 4.8591e-03, 5.3297e-03, 5.5240e-03,\n",
       "         0.0000e+00, 3.6226e-03, 2.6524e-03, 3.2897e-03, 3.8213e-03, 4.5270e-03,\n",
       "         4.6131e-03, 4.4366e-03, 5.0651e-03, 5.2313e-03, 4.5953e-03, 4.7412e-03,\n",
       "         2.6388e-07, 4.6423e-03, 4.8511e-03, 7.2333e-04, 4.3492e-03, 1.9790e-03,\n",
       "         5.1966e-03, 4.4666e-03, 3.4042e-03, 3.4849e-03, 1.2541e-03, 3.9325e-03,\n",
       "         3.5897e-03, 5.3577e-03, 4.4635e-03, 5.3780e-03, 5.1491e-03, 3.6781e-03,\n",
       "         5.4541e-03, 0.0000e+00, 3.2794e-03, 5.4956e-03, 4.2268e-03, 3.8207e-03,\n",
       "         3.9119e-03, 3.7358e-03, 0.0000e+00, 3.2253e-03]),\n",
       " 'server_consensus_weight': tensor([0.0052, 0.0057, 0.0034, 0.0057, 0.0052, 0.0050, 0.0055, 0.0000, 0.0000,\n",
       "         0.0042, 0.0000, 0.0000, 0.0051, 0.0048, 0.0036, 0.0051, 0.0050, 0.0044,\n",
       "         0.0054, 0.0056, 0.0051, 0.0048, 0.0041, 0.0053, 0.0000, 0.0045, 0.0059,\n",
       "         0.0013, 0.0029, 0.0046, 0.0037, 0.0000, 0.0053, 0.0034, 0.0048, 0.0000,\n",
       "         0.0046, 0.0031, 0.0051, 0.0000, 0.0022, 0.0031, 0.0048, 0.0046, 0.0042,\n",
       "         0.0053, 0.0051, 0.0048, 0.0033, 0.0054, 0.0037, 0.0039, 0.0055, 0.0047,\n",
       "         0.0044, 0.0046, 0.0056, 0.0044, 0.0052, 0.0039, 0.0053, 0.0057, 0.0041,\n",
       "         0.0029, 0.0049, 0.0052, 0.0047, 0.0029, 0.0057, 0.0053, 0.0057, 0.0041,\n",
       "         0.0044, 0.0055, 0.0055, 0.0052, 0.0040, 0.0052, 0.0053, 0.0050, 0.0050,\n",
       "         0.0054, 0.0031, 0.0040, 0.0055, 0.0050, 0.0049, 0.0000, 0.0055, 0.0055,\n",
       "         0.0054, 0.0039, 0.0041, 0.0029, 0.0044, 0.0000, 0.0038, 0.0055, 0.0031,\n",
       "         0.0056, 0.0046, 0.0041, 0.0000, 0.0026, 0.0043, 0.0015, 0.0045, 0.0033,\n",
       "         0.0052, 0.0051, 0.0026, 0.0041, 0.0044, 0.0033, 0.0033, 0.0046, 0.0031,\n",
       "         0.0000, 0.0031, 0.0034, 0.0056, 0.0053, 0.0041, 0.0052, 0.0038, 0.0048,\n",
       "         0.0000, 0.0055, 0.0055, 0.0000, 0.0040, 0.0045, 0.0037, 0.0050, 0.0045,\n",
       "         0.0029, 0.0036, 0.0044, 0.0024, 0.0047, 0.0000, 0.0000, 0.0037, 0.0045,\n",
       "         0.0020, 0.0045, 0.0055, 0.0026, 0.0020, 0.0055, 0.0056, 0.0009, 0.0009,\n",
       "         0.0053, 0.0041, 0.0031, 0.0000, 0.0054, 0.0029, 0.0034, 0.0036, 0.0049,\n",
       "         0.0007, 0.0043, 0.0043, 0.0037, 0.0000, 0.0047, 0.0058, 0.0052, 0.0047,\n",
       "         0.0051, 0.0031, 0.0044, 0.0046, 0.0041, 0.0047, 0.0044, 0.0042, 0.0053,\n",
       "         0.0051, 0.0049, 0.0043, 0.0045, 0.0029, 0.0000, 0.0038, 0.0039, 0.0048,\n",
       "         0.0054, 0.0033, 0.0051, 0.0038, 0.0057, 0.0051, 0.0054, 0.0056, 0.0000,\n",
       "         0.0043, 0.0000, 0.0049, 0.0049, 0.0049, 0.0052, 0.0055, 0.0000, 0.0049,\n",
       "         0.0047, 0.0052, 0.0049, 0.0044, 0.0029, 0.0031, 0.0052, 0.0056, 0.0056,\n",
       "         0.0000, 0.0038, 0.0029, 0.0033, 0.0042, 0.0046, 0.0046, 0.0047, 0.0050,\n",
       "         0.0053, 0.0047, 0.0045, 0.0000, 0.0046, 0.0049, 0.0004, 0.0044, 0.0020,\n",
       "         0.0052, 0.0045, 0.0034, 0.0034, 0.0000, 0.0042, 0.0038, 0.0057, 0.0046,\n",
       "         0.0054, 0.0052, 0.0040, 0.0055, 0.0000, 0.0033, 0.0056, 0.0044, 0.0036,\n",
       "         0.0041, 0.0038, 0.0000, 0.0029]),\n",
       " 'consensus_clipped_weight': tensor([[0.0052, 0.0037, 0.0030,  ..., 0.0038, 0.0000, 0.0029],\n",
       "         [0.0052, 0.0056, 0.0034,  ..., 0.0037, 0.0000, 0.0027],\n",
       "         [0.0052, 0.0056, 0.0034,  ..., 0.0037, 0.0000, 0.0027],\n",
       "         ...,\n",
       "         [0.0050, 0.0057, 0.0034,  ..., 0.0038, 0.0000, 0.0029],\n",
       "         [0.0049, 0.0056, 0.0034,  ..., 0.0037, 0.0000, 0.0029],\n",
       "         [0.0052, 0.0057, 0.0034,  ..., 0.0038, 0.0000, 0.0029]]),\n",
       " 'server_rank': tensor([0.0052, 0.0055, 0.0033, 0.0055, 0.0050, 0.0049, 0.0049, 0.0000, 0.0000,\n",
       "         0.0041, 0.0000, 0.0000, 0.0050, 0.0043, 0.0033, 0.0049, 0.0049, 0.0042,\n",
       "         0.0052, 0.0055, 0.0050, 0.0047, 0.0039, 0.0052, 0.0000, 0.0044, 0.0057,\n",
       "         0.0010, 0.0029, 0.0043, 0.0034, 0.0000, 0.0052, 0.0033, 0.0047, 0.0000,\n",
       "         0.0045, 0.0030, 0.0050, 0.0000, 0.0022, 0.0030, 0.0047, 0.0045, 0.0041,\n",
       "         0.0052, 0.0051, 0.0046, 0.0031, 0.0052, 0.0035, 0.0037, 0.0054, 0.0043,\n",
       "         0.0043, 0.0045, 0.0048, 0.0043, 0.0051, 0.0038, 0.0052, 0.0052, 0.0039,\n",
       "         0.0027, 0.0046, 0.0050, 0.0046, 0.0029, 0.0055, 0.0050, 0.0055, 0.0038,\n",
       "         0.0041, 0.0052, 0.0052, 0.0051, 0.0039, 0.0051, 0.0051, 0.0049, 0.0049,\n",
       "         0.0051, 0.0030, 0.0038, 0.0048, 0.0047, 0.0045, 0.0000, 0.0053, 0.0054,\n",
       "         0.0052, 0.0037, 0.0040, 0.0029, 0.0043, 0.0000, 0.0037, 0.0054, 0.0031,\n",
       "         0.0055, 0.0045, 0.0040, 0.0000, 0.0026, 0.0038, 0.0012, 0.0044, 0.0032,\n",
       "         0.0050, 0.0050, 0.0026, 0.0037, 0.0043, 0.0031, 0.0032, 0.0045, 0.0031,\n",
       "         0.0000, 0.0030, 0.0033, 0.0054, 0.0051, 0.0038, 0.0051, 0.0037, 0.0047,\n",
       "         0.0000, 0.0054, 0.0053, 0.0000, 0.0037, 0.0042, 0.0035, 0.0046, 0.0044,\n",
       "         0.0029, 0.0034, 0.0043, 0.0024, 0.0041, 0.0000, 0.0000, 0.0036, 0.0044,\n",
       "         0.0020, 0.0044, 0.0054, 0.0026, 0.0018, 0.0054, 0.0054, 0.0008, 0.0009,\n",
       "         0.0049, 0.0040, 0.0031, 0.0000, 0.0053, 0.0029, 0.0034, 0.0033, 0.0048,\n",
       "         0.0007, 0.0041, 0.0042, 0.0036, 0.0000, 0.0043, 0.0055, 0.0051, 0.0045,\n",
       "         0.0045, 0.0031, 0.0042, 0.0045, 0.0040, 0.0042, 0.0042, 0.0039, 0.0050,\n",
       "         0.0050, 0.0047, 0.0042, 0.0044, 0.0028, 0.0000, 0.0034, 0.0037, 0.0046,\n",
       "         0.0052, 0.0030, 0.0049, 0.0035, 0.0054, 0.0049, 0.0053, 0.0054, 0.0000,\n",
       "         0.0040, 0.0000, 0.0049, 0.0048, 0.0046, 0.0051, 0.0053, 0.0000, 0.0048,\n",
       "         0.0046, 0.0051, 0.0048, 0.0042, 0.0027, 0.0029, 0.0048, 0.0053, 0.0055,\n",
       "         0.0000, 0.0036, 0.0026, 0.0032, 0.0038, 0.0045, 0.0045, 0.0044, 0.0049,\n",
       "         0.0052, 0.0046, 0.0044, 0.0000, 0.0045, 0.0048, 0.0003, 0.0043, 0.0018,\n",
       "         0.0051, 0.0044, 0.0032, 0.0034, 0.0000, 0.0039, 0.0035, 0.0053, 0.0044,\n",
       "         0.0053, 0.0050, 0.0037, 0.0054, 0.0000, 0.0031, 0.0054, 0.0042, 0.0035,\n",
       "         0.0039, 0.0036, 0.0000, 0.0028]),\n",
       " 'server_incentive': tensor([0.0054, 0.0057, 0.0035, 0.0057, 0.0052, 0.0051, 0.0051, 0.0000, 0.0000,\n",
       "         0.0043, 0.0000, 0.0000, 0.0052, 0.0045, 0.0034, 0.0051, 0.0051, 0.0044,\n",
       "         0.0054, 0.0057, 0.0052, 0.0049, 0.0041, 0.0054, 0.0000, 0.0046, 0.0059,\n",
       "         0.0011, 0.0030, 0.0044, 0.0035, 0.0000, 0.0054, 0.0034, 0.0049, 0.0000,\n",
       "         0.0047, 0.0031, 0.0052, 0.0000, 0.0023, 0.0031, 0.0048, 0.0047, 0.0042,\n",
       "         0.0054, 0.0053, 0.0048, 0.0032, 0.0054, 0.0036, 0.0039, 0.0056, 0.0045,\n",
       "         0.0045, 0.0047, 0.0050, 0.0045, 0.0053, 0.0040, 0.0054, 0.0054, 0.0041,\n",
       "         0.0028, 0.0047, 0.0052, 0.0048, 0.0030, 0.0057, 0.0052, 0.0057, 0.0040,\n",
       "         0.0043, 0.0054, 0.0054, 0.0053, 0.0041, 0.0053, 0.0053, 0.0051, 0.0051,\n",
       "         0.0053, 0.0031, 0.0039, 0.0050, 0.0049, 0.0047, 0.0000, 0.0055, 0.0056,\n",
       "         0.0054, 0.0038, 0.0041, 0.0030, 0.0045, 0.0000, 0.0038, 0.0056, 0.0032,\n",
       "         0.0057, 0.0047, 0.0042, 0.0000, 0.0027, 0.0040, 0.0012, 0.0046, 0.0033,\n",
       "         0.0052, 0.0052, 0.0027, 0.0039, 0.0044, 0.0033, 0.0033, 0.0047, 0.0032,\n",
       "         0.0000, 0.0031, 0.0034, 0.0056, 0.0053, 0.0040, 0.0052, 0.0038, 0.0049,\n",
       "         0.0000, 0.0056, 0.0055, 0.0000, 0.0038, 0.0044, 0.0036, 0.0048, 0.0046,\n",
       "         0.0030, 0.0035, 0.0045, 0.0025, 0.0042, 0.0000, 0.0000, 0.0037, 0.0046,\n",
       "         0.0021, 0.0045, 0.0056, 0.0027, 0.0019, 0.0056, 0.0056, 0.0008, 0.0009,\n",
       "         0.0051, 0.0042, 0.0032, 0.0000, 0.0055, 0.0030, 0.0035, 0.0034, 0.0050,\n",
       "         0.0007, 0.0042, 0.0044, 0.0037, 0.0000, 0.0045, 0.0058, 0.0053, 0.0046,\n",
       "         0.0047, 0.0032, 0.0044, 0.0047, 0.0041, 0.0044, 0.0044, 0.0040, 0.0052,\n",
       "         0.0052, 0.0049, 0.0044, 0.0046, 0.0029, 0.0000, 0.0035, 0.0039, 0.0048,\n",
       "         0.0054, 0.0031, 0.0051, 0.0036, 0.0056, 0.0051, 0.0055, 0.0056, 0.0000,\n",
       "         0.0042, 0.0000, 0.0051, 0.0050, 0.0048, 0.0053, 0.0055, 0.0000, 0.0050,\n",
       "         0.0048, 0.0053, 0.0050, 0.0044, 0.0028, 0.0031, 0.0050, 0.0055, 0.0057,\n",
       "         0.0000, 0.0037, 0.0027, 0.0033, 0.0040, 0.0047, 0.0047, 0.0046, 0.0051,\n",
       "         0.0054, 0.0047, 0.0046, 0.0000, 0.0047, 0.0050, 0.0003, 0.0044, 0.0018,\n",
       "         0.0053, 0.0046, 0.0034, 0.0035, 0.0000, 0.0040, 0.0037, 0.0055, 0.0046,\n",
       "         0.0055, 0.0052, 0.0038, 0.0056, 0.0000, 0.0033, 0.0057, 0.0043, 0.0037,\n",
       "         0.0040, 0.0038, 0.0000, 0.0029]),\n",
       " 'server_trust': tensor([0.9793, 0.9930, 0.9727, 0.9956, 0.9828, 0.9703, 0.9921, 0.0000, 0.0000,\n",
       "         0.9520, 0.0000, 0.0000, 0.9788, 0.8863, 0.9837, 0.9761, 0.9705, 0.9648,\n",
       "         0.9790, 0.9867, 0.9757, 0.9929, 0.9867, 0.9847, 0.0000, 0.9809, 0.9956,\n",
       "         0.8233, 0.9337, 0.9715, 0.9924, 0.0000, 0.9895, 0.9649, 0.9379, 0.0000,\n",
       "         0.9753, 0.8218, 0.9601, 0.0000, 0.8904, 0.9307, 0.9717, 0.9438, 0.9129,\n",
       "         0.9802, 0.9743, 0.9940, 0.9625, 0.9915, 0.9833, 0.9782, 0.9898, 0.9965,\n",
       "         0.9674, 0.9852, 0.9689, 0.9401, 0.9765, 0.9569, 0.9865, 0.9713, 0.9839,\n",
       "         0.9629, 0.9947, 0.9897, 0.9429, 0.9244, 0.9926, 0.9363, 0.9860, 0.9867,\n",
       "         0.9867, 0.9940, 0.9913, 0.9718, 0.9648, 0.9852, 0.9371, 0.9806, 0.9638,\n",
       "         0.9420, 0.8789, 0.9864, 0.9531, 0.9071, 0.9035, 0.0000, 0.9872, 0.9932,\n",
       "         0.9894, 0.9841, 0.9711, 0.9636, 0.9799, 0.0000, 0.9691, 0.9956, 0.8862,\n",
       "         0.9892, 0.9661, 0.9509, 0.0000, 0.8719, 0.9615, 0.8546, 0.9920, 0.8558,\n",
       "         0.9870, 0.9893, 0.9149, 0.9780, 0.9496, 0.9628, 0.9669, 0.9670, 0.9225,\n",
       "         0.0000, 0.9507, 0.9225, 0.9875, 0.9870, 0.9921, 0.9700, 0.9883, 0.9562,\n",
       "         0.0000, 0.9887, 0.9816, 0.0000, 0.9904, 0.8599, 0.9568, 0.9155, 0.9802,\n",
       "         0.8781, 0.9826, 0.9428, 0.8924, 0.8801, 0.0000, 0.0000, 0.9768, 0.9362,\n",
       "         0.7947, 0.9926, 0.9866, 0.8539, 0.8662, 0.9976, 0.9918, 0.8982, 0.7350,\n",
       "         0.9946, 0.9670, 0.9424, 0.0000, 0.9763, 0.9388, 0.9422, 0.9873, 0.9637,\n",
       "         0.4497, 0.9907, 0.9773, 0.9779, 0.0000, 0.9962, 0.9935, 0.9828, 0.9766,\n",
       "         0.9126, 0.9413, 0.9881, 0.9579, 0.9666, 0.9696, 0.9580, 0.9941, 0.9918,\n",
       "         0.9793, 0.9732, 0.9193, 0.9565, 0.8990, 0.0000, 0.9775, 0.9827, 0.9897,\n",
       "         0.9837, 0.9945, 0.9644, 0.9876, 0.9957, 0.9700, 0.9893, 0.9866, 0.0000,\n",
       "         0.9962, 0.0000, 0.9813, 0.9789, 0.9830, 0.9872, 0.9925, 0.0000, 0.9825,\n",
       "         0.9858, 0.9918, 0.9547, 0.9917, 0.9868, 0.9633, 0.9917, 0.9972, 0.9873,\n",
       "         0.0000, 0.9910, 0.9882, 0.9656, 0.9973, 0.9898, 0.9845, 0.9916, 0.9723,\n",
       "         0.9929, 0.9912, 0.9356, 0.0000, 0.9730, 0.9955, 0.4242, 0.9784, 0.8926,\n",
       "         0.9868, 0.9903, 0.9543, 0.9683, 0.0000, 0.9848, 0.9847, 0.9952, 0.9909,\n",
       "         0.9905, 0.9758, 0.9968, 0.9921, 0.0000, 0.9580, 0.9904, 0.9864, 0.9229,\n",
       "         0.9923, 0.9741, 0.0000, 0.8785]),\n",
       " 'validator_trust': tensor([0.9069, 0.9864, 0.9864, 0.9238, 0.9757, 0.9757, 0.9208, 0.9771, 0.9757,\n",
       "         0.9910, 0.9757, 0.9809, 0.9809, 0.9864, 0.9864, 0.7776, 0.9731, 0.9855,\n",
       "         0.9119, 0.8591, 0.9793, 0.9757, 1.0000]),\n",
       " 'weight_for_bond': tensor([[0.0052, 0.0037, 0.0030,  ..., 0.0038, 0.0000, 0.0029],\n",
       "         [0.0052, 0.0056, 0.0034,  ..., 0.0037, 0.0000, 0.0027],\n",
       "         [0.0052, 0.0056, 0.0034,  ..., 0.0037, 0.0000, 0.0027],\n",
       "         ...,\n",
       "         [0.0050, 0.0057, 0.0034,  ..., 0.0038, 0.0000, 0.0029],\n",
       "         [0.0049, 0.0056, 0.0034,  ..., 0.0037, 0.0000, 0.0029],\n",
       "         [0.0052, 0.0057, 0.0034,  ..., 0.0038, 0.0000, 0.0029]]),\n",
       " 'validator_bond': tensor([[0.0313, 0.0210, 0.0284,  ..., 0.0321, 0.0000, 0.0324],\n",
       "         [0.0493, 0.0505, 0.0506,  ..., 0.0499, 0.0000, 0.0469],\n",
       "         [0.1125, 0.1152, 0.1153,  ..., 0.1137, 0.0000, 0.1070],\n",
       "         ...,\n",
       "         [0.0081, 0.0086, 0.0085,  ..., 0.0085, 0.0000, 0.0086],\n",
       "         [0.0081, 0.0087, 0.0088,  ..., 0.0086, 0.0000, 0.0088],\n",
       "         [0.0208, 0.0216, 0.0214,  ..., 0.0214, 0.0000, 0.0215]]),\n",
       " 'validator_ema_bond': tensor([[3.1284e-02, 2.2122e-02, 2.8821e-02,  ..., 3.2069e-02, 4.1352e-14,\n",
       "          3.2523e-02],\n",
       "         [4.9122e-02, 5.0411e-02, 5.0724e-02,  ..., 4.9840e-02, 6.2473e-14,\n",
       "          4.7536e-02],\n",
       "         [1.1204e-01, 1.1497e-01, 1.1569e-01,  ..., 1.1367e-01, 1.4324e-13,\n",
       "          1.0841e-01],\n",
       "         ...,\n",
       "         [8.0935e-03, 8.5728e-03, 8.5252e-03,  ..., 8.5432e-03, 0.0000e+00,\n",
       "          8.6449e-03],\n",
       "         [8.1219e-03, 8.7307e-03, 8.7838e-03,  ..., 8.6143e-03, 1.1187e-14,\n",
       "          8.8676e-03],\n",
       "         [2.0882e-02, 2.1553e-02, 2.1442e-02,  ..., 2.1374e-02, 2.6908e-14,\n",
       "          2.1626e-02]]),\n",
       " 'validator_reward': tensor([0.0296, 0.0501, 0.1144, 0.0923, 0.0209, 0.0051, 0.0503, 0.0689, 0.0049,\n",
       "         0.0213, 0.0445, 0.0183, 0.0046, 0.0473, 0.0481, 0.0046, 0.0069, 0.2298,\n",
       "         0.0820, 0.0175, 0.0084, 0.0086, 0.0215]),\n",
       " 'validator_reward_normalized': tensor([0.0296, 0.0502, 0.1144, 0.0923, 0.0209, 0.0051, 0.0503, 0.0689, 0.0049,\n",
       "         0.0213, 0.0445, 0.0183, 0.0046, 0.0473, 0.0481, 0.0046, 0.0069, 0.2299,\n",
       "         0.0820, 0.0175, 0.0084, 0.0086, 0.0215])}"
      ]
     },
     "execution_count": 19,
     "metadata": {},
     "output_type": "execute_result"
    }
   ],
   "source": [
    "list(yuma_results[24][0].items())[-1][1]"
   ]
  }
 ],
 "metadata": {
  "kernelspec": {
   "display_name": "Python 3",
   "language": "python",
   "name": "python3"
  },
  "language_info": {
   "codemirror_mode": {
    "name": "ipython",
    "version": 3
   },
   "file_extension": ".py",
   "mimetype": "text/x-python",
   "name": "python",
   "nbconvert_exporter": "python",
   "pygments_lexer": "ipython3",
   "version": "3.8.10"
  }
 },
 "nbformat": 4,
 "nbformat_minor": 2
}
